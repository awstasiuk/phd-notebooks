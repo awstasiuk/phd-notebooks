{
 "cells": [
  {
   "cell_type": "code",
   "execution_count": 2,
   "id": "afb2cd6f-350b-4e28-b04f-76fb9e72ca1d",
   "metadata": {},
   "outputs": [],
   "source": [
    "import random\n",
    "\n",
    "def simulate_walk():\n",
    "    position = 0\n",
    "    visited = set()\n",
    "    while True:\n",
    "        move = random.choice([-1, 1])  # Clockwise or counterclockwise\n",
    "        position = (position + move) % 12\n",
    "        if position == 0:\n",
    "            return len(visited) == 11  # Check if all other states were visited\n",
    "        visited.add(position)\n"
   ]
  },
  {
   "cell_type": "code",
   "execution_count": 7,
   "id": "a1b77741-fb48-4aa1-947b-1e585731b88d",
   "metadata": {},
   "outputs": [
    {
     "name": "stdout",
     "output_type": "stream",
     "text": [
      "Estimated probability: 0.0895\n"
     ]
    }
   ],
   "source": [
    "num_simulations = 10000  # Run many simulations\n",
    "successes = 0\n",
    "for _ in range(num_simulations):\n",
    "    if simulate_walk():\n",
    "        successes += 1\n",
    "\n",
    "probability = successes / num_simulations\n",
    "print(f\"Estimated probability: {probability}\")"
   ]
  },
  {
   "cell_type": "code",
   "execution_count": 4,
   "id": "79f61d2c-0b4b-46c4-bdd2-925293fec922",
   "metadata": {},
   "outputs": [
    {
     "name": "stdout",
     "output_type": "stream",
     "text": [
      "Estimated probability: 0.091139\n"
     ]
    }
   ],
   "source": [
    "\n",
    "num_simulations = 1000000  # Run many simulations\n",
    "successes = 0\n",
    "for _ in range(num_simulations):\n",
    "    if simulate_walk():\n",
    "        successes += 1\n",
    "\n",
    "probability = successes / num_simulations\n",
    "print(f\"Estimated probability: {probability}\")"
   ]
  },
  {
   "cell_type": "code",
   "execution_count": 5,
   "id": "7190f9c8-a73f-46bb-b0c3-72d273a87d3b",
   "metadata": {},
   "outputs": [
    {
     "data": {
      "text/plain": [
       "0.08333333333333333"
      ]
     },
     "execution_count": 5,
     "metadata": {},
     "output_type": "execute_result"
    }
   ],
   "source": [
    "1/12"
   ]
  },
  {
   "cell_type": "code",
   "execution_count": 6,
   "id": "44c284d0-2ce6-4347-b8c6-3ee65209e76f",
   "metadata": {},
   "outputs": [
    {
     "name": "stdout",
     "output_type": "stream",
     "text": [
      "Estimated probability: 0.0910412\n"
     ]
    }
   ],
   "source": [
    "\n",
    "num_simulations = 10000000  # Run many simulations\n",
    "successes = 0\n",
    "for _ in range(num_simulations):\n",
    "    if simulate_walk():\n",
    "        successes += 1\n",
    "\n",
    "probability = successes / num_simulations\n",
    "print(f\"Estimated probability: {probability}\")"
   ]
  },
  {
   "cell_type": "code",
   "execution_count": 8,
   "id": "df2a0b7e-5f27-49ac-b404-50a05bfdbf97",
   "metadata": {},
   "outputs": [
    {
     "name": "stdout",
     "output_type": "stream",
     "text": [
      "Estimated probability: 0.09089182\n"
     ]
    }
   ],
   "source": [
    "num_simulations = 100000000  # Run many simulations\n",
    "successes = 0\n",
    "for _ in range(num_simulations):\n",
    "    if simulate_walk():\n",
    "        successes += 1\n",
    "\n",
    "probability = successes / num_simulations\n",
    "print(f\"Estimated probability: {probability}\")"
   ]
  },
  {
   "cell_type": "code",
   "execution_count": 10,
   "id": "bcc703d9-21ed-4baf-b267-389c28e5926a",
   "metadata": {},
   "outputs": [],
   "source": [
    "import numpy as np"
   ]
  },
  {
   "cell_type": "code",
   "execution_count": 15,
   "id": "a037b352-4d32-4892-b841-0db5f6a7dc3f",
   "metadata": {},
   "outputs": [
    {
     "data": {
      "text/plain": [
       "2.874552087840601e-05"
      ]
     },
     "execution_count": 15,
     "metadata": {},
     "output_type": "execute_result"
    }
   ],
   "source": [
    "np.sqrt(probability*(1-probability))/np.sqrt(num_simulations)"
   ]
  },
  {
   "cell_type": "code",
   "execution_count": 16,
   "id": "05ac835e-7926-4711-aa23-b4355a6bd36c",
   "metadata": {},
   "outputs": [],
   "source": [
    "mat = np.array([[.8,.2],[.2,.8]])"
   ]
  },
  {
   "cell_type": "code",
   "execution_count": 25,
   "id": "f7c147a9-29df-441b-8c73-7c1472fd6f5b",
   "metadata": {},
   "outputs": [
    {
     "data": {
      "text/plain": [
       "array([1., 1.])"
      ]
     },
     "execution_count": 25,
     "metadata": {},
     "output_type": "execute_result"
    }
   ],
   "source": [
    "mat @ np.array([1,1])"
   ]
  },
  {
   "cell_type": "code",
   "execution_count": 19,
   "id": "ee4adb5f-1c73-4ff0-9eda-a73e34b6c29a",
   "metadata": {},
   "outputs": [
    {
     "data": {
      "text/plain": [
       "array([[0.68, 0.32],\n",
       "       [0.32, 0.68]])"
      ]
     },
     "execution_count": 19,
     "metadata": {},
     "output_type": "execute_result"
    }
   ],
   "source": [
    "mat@mat"
   ]
  },
  {
   "cell_type": "code",
   "execution_count": 20,
   "id": "468e860a-334a-4100-b819-ebb723a1dcd9",
   "metadata": {},
   "outputs": [
    {
     "data": {
      "text/plain": [
       "array([[0.53888, 0.46112],\n",
       "       [0.46112, 0.53888]])"
      ]
     },
     "execution_count": 20,
     "metadata": {},
     "output_type": "execute_result"
    }
   ],
   "source": [
    "np.linalg.matrix_power(mat,5)"
   ]
  },
  {
   "cell_type": "code",
   "execution_count": 22,
   "id": "bd6be3b7-76f9-4073-88ad-78369f2f8109",
   "metadata": {},
   "outputs": [
    {
     "data": {
      "text/plain": [
       "array([[0.50302331, 0.49697669],\n",
       "       [0.49697669, 0.50302331]])"
      ]
     },
     "execution_count": 22,
     "metadata": {},
     "output_type": "execute_result"
    }
   ],
   "source": [
    "np.linalg.matrix_power(mat,10)"
   ]
  },
  {
   "cell_type": "code",
   "execution_count": 23,
   "id": "ca48050e-ed2f-4867-9d46-1241e3705bf1",
   "metadata": {},
   "outputs": [
    {
     "data": {
      "text/plain": [
       "array([[0.5, 0.5],\n",
       "       [0.5, 0.5]])"
      ]
     },
     "execution_count": 23,
     "metadata": {},
     "output_type": "execute_result"
    }
   ],
   "source": [
    "np.linalg.matrix_power(mat,100)"
   ]
  },
  {
   "cell_type": "code",
   "execution_count": 24,
   "id": "b8c5edf9-daf3-40f6-bfde-67608a7308cd",
   "metadata": {},
   "outputs": [
    {
     "data": {
      "text/plain": [
       "array([[0.5, 0.5],\n",
       "       [0.5, 0.5]])"
      ]
     },
     "execution_count": 24,
     "metadata": {},
     "output_type": "execute_result"
    }
   ],
   "source": [
    "np.linalg.matrix_power(mat,101)"
   ]
  },
  {
   "cell_type": "code",
   "execution_count": 26,
   "id": "ad6ec80a-6cd8-4e8f-974b-c3205c776107",
   "metadata": {},
   "outputs": [],
   "source": [
    "P = np.array(\n",
    "    [\n",
    "        [.1,.2,.7,0,0,0,0],\n",
    "        [.2,.1,0,0,0,.7,0],\n",
    "        [0,0,0,1,0,0,0],\n",
    "        [0,0,0,0,1,0,0],\n",
    "        [0,0,1,0,0,0,0],\n",
    "        [0,0,0,0,0,.8,.2],\n",
    "        [0,0,0,0,0,.2,.8],\n",
    "    ]\n",
    ")"
   ]
  },
  {
   "cell_type": "code",
   "execution_count": 54,
   "id": "cab8eded-1152-4491-8828-854636660588",
   "metadata": {},
   "outputs": [],
   "source": [
    "max_step=1000\n",
    "vals = [(np.identity(7)[0]) @ np.linalg.matrix_power(P,t) @ (np.identity(7)[6]) for t in range(max_step)]"
   ]
  },
  {
   "cell_type": "code",
   "execution_count": 55,
   "id": "e0011ffa-7d80-4108-9989-bd698a5488b2",
   "metadata": {},
   "outputs": [],
   "source": [
    "import matplotlib.pyplot as plt"
   ]
  },
  {
   "cell_type": "code",
   "execution_count": 56,
   "id": "5d7d6e72-9ba5-405c-88a0-9c1806c63d54",
   "metadata": {},
   "outputs": [
    {
     "data": {
      "image/png": "[encoded data removed]",
      "text/plain": [
       "<Figure size 640x480 with 1 Axes>"
      ]
     },
     "metadata": {},
     "output_type": "display_data"
    }
   ],
   "source": [
    "plt.scatter(list(range(max_step)), vals)\n",
    "plt.show()"
   ]
  },
  {
   "cell_type": "code",
   "execution_count": 57,
   "id": "3b844004-ad60-493d-9757-2db264a36888",
   "metadata": {},
   "outputs": [],
   "source": [
    "diff = [vals[i+1]-vals[i] for i in range(max_step-1)]"
   ]
  },
  {
   "cell_type": "code",
   "execution_count": 58,
   "id": "520521ac-af55-42bc-93ab-dae3448e0cd5",
   "metadata": {},
   "outputs": [
    {
     "data": {
      "text/plain": [
       "[<matplotlib.lines.Line2D at 0x1cd5fe22c80>]"
      ]
     },
     "execution_count": 58,
     "metadata": {},
     "output_type": "execute_result"
    },
    {
     "data": {
      "image/png": "[encoded data removed]",
      "text/plain": [
       "<Figure size 640x480 with 1 Axes>"
      ]
     },
     "metadata": {},
     "output_type": "display_data"
    }
   ],
   "source": [
    "plt.loglog(list(range(max_step-1)),diff)"
   ]
  },
  {
   "cell_type": "code",
   "execution_count": 49,
   "id": "31aef72c-5dcc-478e-92a4-42bbf1094da0",
   "metadata": {},
   "outputs": [
    {
     "data": {
      "text/plain": [
       "0.09090909090909148"
      ]
     },
     "execution_count": 49,
     "metadata": {},
     "output_type": "execute_result"
    }
   ],
   "source": [
    "vals[-1]"
   ]
  },
  {
   "cell_type": "code",
   "execution_count": 51,
   "id": "63ad066c-df76-4a71-b0fc-f00ba85393d8",
   "metadata": {},
   "outputs": [
    {
     "data": {
      "text/plain": [
       "array([2.57688760e-53, 2.57688760e-53, 7.09362580e-01, 3.58706042e-02,\n",
       "       7.29486341e-02, 9.09090909e-02, 9.09090909e-02])"
      ]
     },
     "execution_count": 51,
     "metadata": {},
     "output_type": "execute_result"
    }
   ],
   "source": [
    "np.linalg.matrix_power(P,100)[0]"
   ]
  },
  {
   "cell_type": "code",
   "execution_count": 52,
   "id": "6a8fed17-7fa4-4de6-8474-9f3129dbd847",
   "metadata": {},
   "outputs": [
    {
     "data": {
      "text/plain": [
       "array([7.73066281e-54, 7.73066281e-54, 7.29486341e-02, 7.09362580e-01,\n",
       "       3.58706042e-02, 9.09090909e-02, 9.09090909e-02])"
      ]
     },
     "execution_count": 52,
     "metadata": {},
     "output_type": "execute_result"
    }
   ],
   "source": [
    "np.linalg.matrix_power(P,101)[0]"
   ]
  },
  {
   "cell_type": "code",
   "execution_count": 53,
   "id": "53a077a1-b6f4-4a2f-8356-e978984e7ad4",
   "metadata": {},
   "outputs": [
    {
     "data": {
      "text/plain": [
       "array([2.31919884e-54, 2.31919884e-54, 3.58706042e-02, 7.29486341e-02,\n",
       "       7.09362580e-01, 9.09090909e-02, 9.09090909e-02])"
      ]
     },
     "execution_count": 53,
     "metadata": {},
     "output_type": "execute_result"
    }
   ],
   "source": [
    "np.linalg.matrix_power(P,102)[0]"
   ]
  },
  {
   "cell_type": "code",
   "execution_count": 60,
   "id": "e37074ae-b3d7-4490-b3bf-198c139216a9",
   "metadata": {},
   "outputs": [
    {
     "data": {
      "text/plain": [
       "0.18181818181818177"
      ]
     },
     "execution_count": 60,
     "metadata": {},
     "output_type": "execute_result"
    }
   ],
   "source": [
    "(.7*.2/(.9**2))/(1-(.2/.9)**2)"
   ]
  },
  {
   "cell_type": "code",
   "execution_count": 79,
   "id": "f13d05ee-dd97-4ede-a452-2b29d97d2222",
   "metadata": {},
   "outputs": [],
   "source": [
    "pa = np.linalg.matrix_power(P,100)[0]"
   ]
  },
  {
   "cell_type": "code",
   "execution_count": 80,
   "id": "0c1e8e3a-a1a2-41ef-ad03-ffed780dd8e7",
   "metadata": {},
   "outputs": [
    {
     "data": {
      "text/plain": [
       "0.818181818181818"
      ]
     },
     "execution_count": 80,
     "metadata": {},
     "output_type": "execute_result"
    }
   ],
   "source": [
    "pa[2]+pa[3]+pa[4]"
   ]
  },
  {
   "cell_type": "code",
   "execution_count": 81,
   "id": "69fdc8a4-bb18-4cbf-81eb-d9c555b46e34",
   "metadata": {},
   "outputs": [
    {
     "data": {
      "text/plain": [
       "0.8181818181818182"
      ]
     },
     "execution_count": 81,
     "metadata": {},
     "output_type": "execute_result"
    }
   ],
   "source": [
    "9/11"
   ]
  },
  {
   "cell_type": "code",
   "execution_count": 83,
   "id": "bfc979b5-9517-47bb-9a71-b0730c5774c4",
   "metadata": {},
   "outputs": [
    {
     "data": {
      "text/plain": [
       "0.8181818181818181"
      ]
     },
     "execution_count": 83,
     "metadata": {},
     "output_type": "execute_result"
    }
   ],
   "source": [
    ".7*.9/(.9**2-.2*.2)"
   ]
  },
  {
   "cell_type": "code",
   "execution_count": 64,
   "id": "34e43151-d4eb-4dc5-9a7f-ac5239c924cc",
   "metadata": {},
   "outputs": [],
   "source": [
    "mat = np.diag([.5 for _ in range(11)],-1)+np.diag([.5 for _ in range(11)],1)"
   ]
  },
  {
   "cell_type": "code",
   "execution_count": 66,
   "id": "05f9cc25-d3c6-44e6-a030-18c292ad4062",
   "metadata": {},
   "outputs": [],
   "source": [
    "mat[0,1]=0"
   ]
  },
  {
   "cell_type": "code",
   "execution_count": 68,
   "id": "6f5b2eca-e0cb-4662-9bb8-8e5ddbf03f03",
   "metadata": {},
   "outputs": [],
   "source": [
    "mat[11,10]=0"
   ]
  },
  {
   "cell_type": "code",
   "execution_count": 74,
   "id": "f45eaee7-51d1-49b0-aafb-923b391a9b86",
   "metadata": {},
   "outputs": [],
   "source": [
    "mat[0,0]=1\n",
    "mat[11,11]=1\n",
    "for i in range(1,11):\n",
    "    mat[i,i]=-1"
   ]
  },
  {
   "cell_type": "code",
   "execution_count": 75,
   "id": "dd796024-028a-4c91-9cda-4c0919f276e2",
   "metadata": {},
   "outputs": [
    {
     "data": {
      "text/plain": [
       "array([[ 1. ,  0. ,  0. ,  0. ,  0. ,  0. ,  0. ,  0. ,  0. ,  0. ,  0. ,\n",
       "         0. ],\n",
       "       [ 0.5, -1. ,  0.5,  0. ,  0. ,  0. ,  0. ,  0. ,  0. ,  0. ,  0. ,\n",
       "         0. ],\n",
       "       [ 0. ,  0.5, -1. ,  0.5,  0. ,  0. ,  0. ,  0. ,  0. ,  0. ,  0. ,\n",
       "         0. ],\n",
       "       [ 0. ,  0. ,  0.5, -1. ,  0.5,  0. ,  0. ,  0. ,  0. ,  0. ,  0. ,\n",
       "         0. ],\n",
       "       [ 0. ,  0. ,  0. ,  0.5, -1. ,  0.5,  0. ,  0. ,  0. ,  0. ,  0. ,\n",
       "         0. ],\n",
       "       [ 0. ,  0. ,  0. ,  0. ,  0.5, -1. ,  0.5,  0. ,  0. ,  0. ,  0. ,\n",
       "         0. ],\n",
       "       [ 0. ,  0. ,  0. ,  0. ,  0. ,  0.5, -1. ,  0.5,  0. ,  0. ,  0. ,\n",
       "         0. ],\n",
       "       [ 0. ,  0. ,  0. ,  0. ,  0. ,  0. ,  0.5, -1. ,  0.5,  0. ,  0. ,\n",
       "         0. ],\n",
       "       [ 0. ,  0. ,  0. ,  0. ,  0. ,  0. ,  0. ,  0.5, -1. ,  0.5,  0. ,\n",
       "         0. ],\n",
       "       [ 0. ,  0. ,  0. ,  0. ,  0. ,  0. ,  0. ,  0. ,  0.5, -1. ,  0.5,\n",
       "         0. ],\n",
       "       [ 0. ,  0. ,  0. ,  0. ,  0. ,  0. ,  0. ,  0. ,  0. ,  0.5, -1. ,\n",
       "         0.5],\n",
       "       [ 0. ,  0. ,  0. ,  0. ,  0. ,  0. ,  0. ,  0. ,  0. ,  0. ,  0. ,\n",
       "         1. ]])"
      ]
     },
     "execution_count": 75,
     "metadata": {},
     "output_type": "execute_result"
    }
   ],
   "source": [
    "mat"
   ]
  },
  {
   "cell_type": "code",
   "execution_count": 72,
   "id": "561d83ac-3467-43ac-97b1-26d47be90610",
   "metadata": {},
   "outputs": [],
   "source": [
    "vec=np.identity(12)[11]"
   ]
  },
  {
   "cell_type": "code",
   "execution_count": 76,
   "id": "4f75dff5-a59e-45eb-a072-89c09286ed76",
   "metadata": {},
   "outputs": [
    {
     "data": {
      "text/plain": [
       "array([0.        , 0.09090909, 0.18181818, 0.27272727, 0.36363636,\n",
       "       0.45454545, 0.54545455, 0.63636364, 0.72727273, 0.81818182,\n",
       "       0.90909091, 1.        ])"
      ]
     },
     "execution_count": 76,
     "metadata": {},
     "output_type": "execute_result"
    }
   ],
   "source": [
    "np.linalg.solve(mat,vec)"
   ]
  },
  {
   "cell_type": "code",
   "execution_count": null,
   "id": "71a4d39f-bf14-4026-8e87-b018b7d49403",
   "metadata": {},
   "outputs": [],
   "source": []
  }
 ],
 "metadata": {
  "kernelspec": {
   "display_name": "Python 3 (ipykernel)",
   "language": "python",
   "name": "python3"
  },
  "language_info": {
   "codemirror_mode": {
    "name": "ipython",
    "version": 3
   },
   "file_extension": ".py",
   "mimetype": "text/x-python",
   "name": "python",
   "nbconvert_exporter": "python",
   "pygments_lexer": "ipython3",
   "version": "3.10.0"
  }
 },
 "nbformat": 4,
 "nbformat_minor": 5
}
