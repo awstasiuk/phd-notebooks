{
 "cells": [
  {
   "cell_type": "code",
   "execution_count": 1,
   "metadata": {},
   "outputs": [],
   "source": [
    "import numpy as np\n",
    "import scipy as sp\n",
    "import matplotlib\n",
    "import matplotlib.pyplot as plt\n",
    "from numpy.random import rand"
   ]
  },
  {
   "cell_type": "code",
   "execution_count": 2,
   "metadata": {},
   "outputs": [],
   "source": [
    "class BaseProblem:\n",
    "    def __init__(self, initial_state):\n",
    "        self.state = initial_state\n",
    "\n",
    "    @staticmethod\n",
    "    def energy(state):\n",
    "        \"\"\"\n",
    "        Calculate the energy of the current state.\n",
    "        This function should be overridden by subclasses to define a specific energy function.\n",
    "        \"\"\"\n",
    "        raise NotImplementedError(\n",
    "            \"The energy function must be overridden by subclasses\"\n",
    "        )\n",
    "\n",
    "    def neighbor(self):\n",
    "        \"\"\"\n",
    "        Propose a random neighbor state.\n",
    "        This function should be overridden by subclasses to define how to generate a neighbor state.\n",
    "        \"\"\"\n",
    "        raise NotImplementedError(\n",
    "            \"The neighbor function must be overridden by subclasses\"\n",
    "        )"
   ]
  },
  {
   "cell_type": "code",
   "execution_count": 3,
   "metadata": {},
   "outputs": [],
   "source": [
    "%matplotlib qt"
   ]
  },
  {
   "cell_type": "code",
   "execution_count": 4,
   "metadata": {},
   "outputs": [],
   "source": [
    "class Sudoku(BaseProblem):\n",
    "    def __init__(self, constraint):\n",
    "\n",
    "        self.constraint = constraint\n",
    "        self.dim = constraint.shape[0]\n",
    "        assert np.all(self.constraint <= self.dim)\n",
    "        super().__init__(self.random_state())\n",
    "\n",
    "    def random_state(self):\n",
    "        return np.where(\n",
    "            self.constraint > 0,\n",
    "            self.constraint,\n",
    "            np.random.randint(1, self.dim, size=(self.dim, self.dim)),\n",
    "        )\n",
    "\n",
    "    @staticmethod\n",
    "    def energy(state):\n",
    "        repeats = 0\n",
    "        # Check rows for repeats\n",
    "        for row in state:\n",
    "            repeats += len(row) - len(set(row))\n",
    "        # Check columns for repeats\n",
    "        for col in state.T:\n",
    "            repeats += len(col) - len(set(col))\n",
    "\n",
    "        # Check doubly-square subgrids for repeats\n",
    "        dim = int(state.shape[0])\n",
    "        subdim = np.sqrt(dim)\n",
    "        if int(subdim) == subdim:\n",
    "            subdim = int(subdim)\n",
    "            for i in range(0, dim, subdim):\n",
    "                for j in range(0, dim, subdim):\n",
    "                    subgrid = state[i : i + subdim, j : j + subdim].flatten()\n",
    "                    repeats += len(subgrid) - len(set(subgrid))\n",
    "\n",
    "        return repeats\n",
    "\n",
    "    def random_neighbor(self):\n",
    "        new_state = self.state.copy()\n",
    "        while True:\n",
    "            i, j = np.random.randint(0, self.dim, size=2)\n",
    "            if not self.constraint[i, j]:\n",
    "                new_state[i, j] = np.random.randint(1, self.dim + 1)\n",
    "                return new_state\n",
    "\n",
    "    def update(self, new_state):\n",
    "        self.state = new_state\n",
    "\n",
    "    def copy(self):\n",
    "        new_instance = Sudoku(self.constraint.copy())\n",
    "        new_instance.state = self.state.copy()\n",
    "        return new_instance\n",
    "\n",
    "\n",
    "class Sudoku9(BaseProblem):\n",
    "    def __init__(self, constraint):\n",
    "        self.constraint = constraint\n",
    "        self.dim = constraint.shape[0]\n",
    "        assert self.dim == 9\n",
    "        assert np.all(self.constraint <= self.dim)\n",
    "        super().__init__(self.random_state())\n",
    "\n",
    "    def random_state(self):\n",
    "        state = np.zeros((self.dim, self.dim), dtype=int)\n",
    "        subdim = int(np.sqrt(self.dim))\n",
    "        for i in range(0, self.dim, subdim):\n",
    "            for j in range(0, self.dim, subdim):\n",
    "                loc_constr = self.constraint[i : i + subdim, j : j + subdim].flatten()\n",
    "                do_not_use = set(loc_constr)\n",
    "                use = list(set(range(1, self.dim + 1)) - do_not_use)\n",
    "                np.random.shuffle(use)\n",
    "                loc_constr[loc_constr == 0] = use[: np.sum(loc_constr == 0)]\n",
    "                state[i : i + subdim, j : j + subdim] = loc_constr.reshape(\n",
    "                    (subdim, subdim)\n",
    "                )\n",
    "\n",
    "        return state\n",
    "\n",
    "    @staticmethod\n",
    "    def energy(state):\n",
    "        repeats = 0\n",
    "        # Check rows for repeats\n",
    "        for row in state:\n",
    "            repeats += len(row) - len(set(row))\n",
    "\n",
    "        # Check columns for repeats\n",
    "        for col in state.T:\n",
    "            repeats += len(col) - len(set(col))\n",
    "\n",
    "        # Check doubly-square subgrids for repeats\n",
    "        dim = int(state.shape[0])\n",
    "        subdim = np.sqrt(dim)\n",
    "        if int(subdim) == subdim:\n",
    "            subdim = int(subdim)\n",
    "            for i in range(0, dim, subdim):\n",
    "                for j in range(0, dim, subdim):\n",
    "                    subgrid = state[i : i + subdim, j : j + subdim].flatten()\n",
    "                    repeats += len(subgrid) - len(set(subgrid))\n",
    "\n",
    "        return repeats\n",
    "\n",
    "    def random_neighbor(self):\n",
    "        new_state = self.state.copy()\n",
    "        subdim = int(np.sqrt(self.dim))\n",
    "\n",
    "        while True:\n",
    "            mu, nu, i0, j0, i1, j1 = np.random.randint(0, subdim, size=6)\n",
    "            if not (\n",
    "                self.constraint[i0 + mu * subdim, j0 + nu * subdim]\n",
    "                or self.constraint[i1 + mu * subdim, j1 + nu * subdim]\n",
    "            ):\n",
    "                temp = new_state[i0 + mu * subdim, j0 + nu * subdim]\n",
    "                new_state[i0 + mu * subdim, j0 + nu * subdim] = new_state[\n",
    "                    i1 + mu * subdim, j1 + nu * subdim\n",
    "                ]\n",
    "                new_state[i1 + mu * subdim, j1 + nu * subdim] = temp\n",
    "                return new_state\n",
    "\n",
    "    def update(self, new_state):\n",
    "        self.state = new_state\n",
    "\n",
    "    def copy(self):\n",
    "        new_instance = Sudoku9(self.constraint.copy())\n",
    "        new_instance.state = self.state.copy()\n",
    "        return new_instance"
   ]
  },
  {
   "cell_type": "code",
   "execution_count": 101,
   "metadata": {},
   "outputs": [],
   "source": [
    "constraint = np.zeros((5, 5), dtype=int)\n",
    "constraint[0, 0] = 1\n",
    "constraint[1, 1] = 2\n",
    "constraint[2, 2] = 3\n",
    "constraint[3, 3] = 4\n",
    "constraint[4, 4] = 5\n",
    "test = Sudoku(constraint)"
   ]
  },
  {
   "cell_type": "code",
   "execution_count": 5,
   "metadata": {},
   "outputs": [],
   "source": [
    "class Annealer:\n",
    "    def __init__(\n",
    "        self, problem, initial_temp, cooling_rate, min_temp, reheating_factor=10\n",
    "    ):\n",
    "        self.problem = problem\n",
    "        self.T0 = initial_temp\n",
    "        self.cooling_rate = cooling_rate\n",
    "        self.min_temp = min_temp\n",
    "        self.reheating_factor = reheating_factor\n",
    "\n",
    "    def cool_down(self, T):\n",
    "        return T * self.cooling_rate\n",
    "\n",
    "    def reheat(self, T):\n",
    "        return T * self.reheating_factor\n",
    "\n",
    "    def accept(self, energy_diff, T):\n",
    "        if energy_diff <= 0:\n",
    "            return True\n",
    "        else:\n",
    "            return np.random.rand() < np.exp(-energy_diff / T)\n",
    "\n",
    "    def anneal(self, steps_per_temp, max_cooling_steps):\n",
    "        problem = self.problem.copy()\n",
    "        current_state = problem.state\n",
    "        current_energy = problem.energy(current_state)\n",
    "        T = self.T0\n",
    "        energy_history = np.zeros(max_cooling_steps)\n",
    "        temp_history = np.zeros(max_cooling_steps)\n",
    "\n",
    "        for ostep in range(max_cooling_steps):\n",
    "            if T < self.min_temp:\n",
    "                print(f\"Temperature fell below minimum temperature ({T})\")\n",
    "                break\n",
    "\n",
    "            for istep in range(steps_per_temp):\n",
    "                new_state = problem.random_neighbor()\n",
    "                new_energy = problem.energy(new_state)\n",
    "                energy_diff = new_energy - current_energy\n",
    "\n",
    "                if self.accept(energy_diff, T):\n",
    "                    problem.update(new_state)\n",
    "                    current_energy = new_energy\n",
    "                    current_state = new_state\n",
    "                    if current_energy == 0:\n",
    "                        print(f\"Found solution in {(ostep+1)*(istep+1)} cooling steps\")\n",
    "                        print(f\"Final temperature: {T}\")\n",
    "                        return current_state, current_energy\n",
    "            energy_history[ostep] = current_energy\n",
    "            temp_history[ostep] = T\n",
    "\n",
    "            window = 25\n",
    "            if ostep % window == 0:\n",
    "                plt.clf()\n",
    "                plt.subplot(2, 1, 1)\n",
    "                plt.plot(energy_history[:ostep], label=\"Energy\")\n",
    "                plt.ylabel(\"Energy\")\n",
    "                # plt.ylim([0, 1.35 * energy_history[0]])\n",
    "                plt.legend()\n",
    "\n",
    "                plt.subplot(2, 1, 2)\n",
    "                plt.plot(temp_history[:ostep], label=\"Temperature\")\n",
    "                plt.yscale(\"log\")\n",
    "                plt.ylim([self.min_temp, 10 * self.T0])\n",
    "                plt.xlabel(\"Cooling Steps\")\n",
    "                plt.ylabel(\"Temperature (log scale)\")\n",
    "                plt.legend()\n",
    "                plt.pause(0.01)\n",
    "                if ostep >= window and np.all(\n",
    "                    energy_history[ostep - window : ostep] == energy_history[ostep - 1]\n",
    "                ):\n",
    "                    T = self.reheat(T)\n",
    "\n",
    "            T = self.cool_down(T)\n",
    "\n",
    "        print(\"Failed to cool to the ground state\")\n",
    "        return current_state, current_energy"
   ]
  },
  {
   "cell_type": "code",
   "execution_count": 48,
   "metadata": {},
   "outputs": [],
   "source": [
    "annealer = Annealer(problem=test, initial_temp=5, cooling_rate=0.99, min_temp=0.01)"
   ]
  },
  {
   "cell_type": "code",
   "execution_count": 49,
   "metadata": {},
   "outputs": [
    {
     "name": "stdout",
     "output_type": "stream",
     "text": [
      "Found solution in 6994 cooling steps\n",
      "Final temperature: 0.3382222361003227\n"
     ]
    }
   ],
   "source": [
    "energy, state = annealer.anneal(steps_per_temp=25 * 2, max_cooling_steps=1000)"
   ]
  },
  {
   "cell_type": "code",
   "execution_count": 50,
   "metadata": {},
   "outputs": [
    {
     "name": "stdout",
     "output_type": "stream",
     "text": [
      "[[1 5 4 2 3]\n",
      " [5 2 1 3 4]\n",
      " [4 1 3 5 2]\n",
      " [2 3 5 4 1]\n",
      " [3 4 2 1 5]]\n",
      "0\n"
     ]
    }
   ],
   "source": [
    "print(energy)\n",
    "print(state)"
   ]
  },
  {
   "cell_type": "code",
   "execution_count": null,
   "metadata": {},
   "outputs": [],
   "source": []
  },
  {
   "cell_type": "code",
   "execution_count": null,
   "metadata": {},
   "outputs": [],
   "source": [
    "annealer.problem.energy(annealer.problem.state)"
   ]
  },
  {
   "cell_type": "code",
   "execution_count": 6,
   "metadata": {},
   "outputs": [
    {
     "name": "stdout",
     "output_type": "stream",
     "text": [
      "[[0 0 0 8 6 0 0 0 0]\n",
      " [0 3 0 0 0 1 0 0 7]\n",
      " [0 0 0 4 7 0 0 9 0]\n",
      " [0 0 0 0 0 0 5 0 0]\n",
      " [2 4 9 0 0 5 0 3 0]\n",
      " [7 0 0 0 0 0 4 0 0]\n",
      " [0 7 0 0 0 2 0 1 0]\n",
      " [8 0 1 9 0 0 0 0 5]\n",
      " [0 0 0 0 0 0 0 0 6]]\n"
     ]
    }
   ],
   "source": [
    "nyt = np.zeros((9, 9), dtype=int)\n",
    "nyt[0, 3] = 8\n",
    "nyt[0, 4] = 6\n",
    "nyt[1, 1] = 3\n",
    "nyt[1, 5] = 1\n",
    "nyt[1, 8] = 7\n",
    "nyt[2, 3] = 4\n",
    "nyt[2, 4] = 7\n",
    "nyt[2, 7] = 9\n",
    "nyt[3, 6] = 5\n",
    "nyt[4, 0] = 2\n",
    "nyt[4, 1] = 4\n",
    "nyt[4, 2] = 9\n",
    "nyt[4, 5] = 5\n",
    "nyt[4, 7] = 3\n",
    "nyt[5, 0] = 7\n",
    "nyt[5, 6] = 4\n",
    "nyt[6, 1] = 7\n",
    "nyt[6, 5] = 2\n",
    "nyt[6, 7] = 1\n",
    "nyt[7, 0] = 8\n",
    "nyt[7, 2] = 1\n",
    "nyt[7, 3] = 9\n",
    "nyt[7, 8] = 5\n",
    "nyt[8, 8] = 6\n",
    "print(nyt)"
   ]
  },
  {
   "cell_type": "code",
   "execution_count": 7,
   "metadata": {},
   "outputs": [],
   "source": [
    "problem = Sudoku9(nyt)"
   ]
  },
  {
   "cell_type": "code",
   "execution_count": 8,
   "metadata": {},
   "outputs": [],
   "source": [
    "annealer = Annealer(\n",
    "    problem=problem,\n",
    "    initial_temp=15,\n",
    "    cooling_rate=0.995,\n",
    "    min_temp=0.01,\n",
    "    reheating_factor=2.5,\n",
    ")"
   ]
  },
  {
   "cell_type": "code",
   "execution_count": 9,
   "metadata": {},
   "outputs": [
    {
     "name": "stdout",
     "output_type": "stream",
     "text": [
      "Found solution in 59856 cooling steps\n",
      "Final temperature: 0.2955880675066096\n"
     ]
    },
    {
     "data": {
      "text/plain": [
       "(array([[1, 2, 7, 8, 6, 9, 3, 5, 4],\n",
       "        [9, 3, 4, 5, 2, 1, 8, 6, 7],\n",
       "        [5, 8, 6, 4, 7, 3, 1, 9, 2],\n",
       "        [6, 1, 3, 2, 4, 8, 5, 7, 9],\n",
       "        [2, 4, 9, 7, 1, 5, 6, 3, 8],\n",
       "        [7, 5, 8, 3, 9, 6, 4, 2, 1],\n",
       "        [4, 7, 5, 6, 8, 2, 9, 1, 3],\n",
       "        [8, 6, 1, 9, 3, 7, 2, 4, 5],\n",
       "        [3, 9, 2, 1, 5, 4, 7, 8, 6]]),\n",
       " 0)"
      ]
     },
     "execution_count": 9,
     "metadata": {},
     "output_type": "execute_result"
    }
   ],
   "source": [
    "annealer.anneal(81 * 4, 3000)"
   ]
  },
  {
   "cell_type": "code",
   "execution_count": null,
   "metadata": {},
   "outputs": [],
   "source": []
  }
 ],
 "metadata": {
  "kernelspec": {
   "display_name": "qeg-env",
   "language": "python",
   "name": "python3"
  },
  "language_info": {
   "codemirror_mode": {
    "name": "ipython",
    "version": 3
   },
   "file_extension": ".py",
   "mimetype": "text/x-python",
   "name": "python",
   "nbconvert_exporter": "python",
   "pygments_lexer": "ipython3",
   "version": "3.10.0"
  }
 },
 "nbformat": 4,
 "nbformat_minor": 2
}
