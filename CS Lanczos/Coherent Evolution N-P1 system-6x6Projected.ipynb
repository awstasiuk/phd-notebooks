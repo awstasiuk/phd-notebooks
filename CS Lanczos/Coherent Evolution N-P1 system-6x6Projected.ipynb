{
 "cells": [
  {
   "cell_type": "code",
   "execution_count": 1,
   "id": "03658e5c",
   "metadata": {},
   "outputs": [],
   "source": [
    "import matplotlib.pyplot as plt\n",
    "import numpy as np\n",
    "import math\n",
    "from scipy.linalg import expm\n",
    "from scipy.stats import norm \n",
    "from qutip import *\n",
    "import qutip as qt\n",
    "import random\n",
    "from sympy.physics.quantum import *\n",
    "from sympy.physics.quantum.density import *\n",
    "from tqdm import tqdm\n",
    "import time\n",
    "\n",
    "import numpy as np\n",
    "import matplotlib.pyplot as plt\n",
    "from scipy.optimize import curve_fit"
   ]
  },
  {
   "cell_type": "markdown",
   "id": "949fb768",
   "metadata": {},
   "source": [
    "## Introduction \n",
    "\n",
    "### Resources\n",
    "\n",
    "https://arxiv.org/pdf/2007.00473.pdf\n",
    "\n",
    "http://xuv.scs.illinois.edu/chem540/GroupProjects/Piehl_Torres_SourcePaper.pdf page 265!\n",
    "\n",
    "http://pound.med.utoronto.ca/lek-publications/477.pdf\n",
    "\n",
    "https://static-content.springer.com/esm/art%3A10.1038%2Fs41534-022-00605-4/MediaObjects/41534_2022_605_MOESM1_ESM.pdf\n",
    "\n",
    "\n",
    "Dipolar interaction formalism: https://groups.chem.ubc.ca/straus/l4.pdf\n",
    "\n",
    "Homonuclear Explicit Form: http://tinyurl.com/yruvraf5\n",
    "\n",
    "### Hamiltonians \n",
    "(without hyperfine interaction with nuclear spin)\n",
    "\n",
    "$S_{NV} = 1$\n",
    "$S_{P1} = 1/2$\n",
    "\n",
    "$H_{NV}$ = $DS_{NV,z}^2 + \\gamma_e \\vec{B} \\cdot \\vec{S_{NV}}$\n",
    "\n",
    "$H_{P1} = \\gamma_e \\vec{B}\\cdot\\vec{S_{P1}}$\n",
    "\n",
    "For multiple P1 centers bath, we have \n",
    "$H_{bath} = \\sum_i H_{P1, i} + \\sum_{i \\ne j} H_{P1,i - P1,j}$\n"
   ]
  },
  {
   "cell_type": "markdown",
   "id": "0a5b2f75",
   "metadata": {},
   "source": [
    "#### Dipolar Coupling\n",
    "$H_{int} = \\frac{\\gamma_{NV} \\gamma_{P1}}{|\\vec{r_k}|^3} ( \\vec{S_{NV}} \\cdot \\vec{I_{^{15}N}}- 3(\\vec{S_{NV}} \\cdot \\hat{n}_k)(\\vec{I_{^{15}N}} \\cdot \\hat{n}_k)) $\n",
    "\n",
    "\n",
    "This can be simplified in an external magnetic field:\n",
    "\n",
    "Homonuclear coupling (between P1s):\n",
    "$H_{P1, D} = \\frac{\\gamma_e^2}{2|\\vec{r_i}|^3}(1 - 3\\cos^2(\\theta))[3 S_{P1,i, z} S_{P1,j, z} - \\vec{S_{P1,i}}\\cdot \\vec{S_{P1,j}}]$\n",
    "\n",
    "Heternuclear coupling (NV-P1):\n",
    "$H_D = \\frac{\\gamma_e^2}{|\\vec{r_i}|^3}(1 - 3\\cos^2(\\theta))(S_{NV, z} S_{P1,i, z} $)\n",
    "\n",
    "$\\cos \\theta = r_z/|\\vec{r}|$ ($B = B_z$)\n",
    "\n",
    "\n",
    "### Our Sample:\n",
    "NV: 2.5 ppm\n",
    "\n",
    "N: 99.3 ppm\n",
    "\n",
    "P1/NV $\\approx$ 20-40\n",
    "\n",
    "### Total Hamiltonian in the Doubly Tilted Rotating Frame\n",
    "\n",
    "H = $\\Omega_{NV} S_z - \\delta_{NV} S_x + \\sum_i^N (\\Omega_{P1, i} I_z^i - \\delta_i I_x^i) + D_iS_{z} I_{z}^i + \\sum_{i \\ne j} \\frac{D_{ij}}{2}(3 I_{z}^i I_z^j - \\vec{I^{i}}\\cdot \\vec{I^{j}})$ \n"
   ]
  },
  {
   "cell_type": "markdown",
   "id": "2e5bef86",
   "metadata": {},
   "source": [
    "## Set Parameters"
   ]
  },
  {
   "cell_type": "code",
   "execution_count": 2,
   "id": "6fa48b3a",
   "metadata": {},
   "outputs": [],
   "source": [
    "# parameters \n",
    "MHz = 1e6\n",
    "kHz = 1e3\n",
    "G = 1\n",
    "ħ = 1\n",
    "\n",
    "D = 2870*MHz;\n",
    "\n",
    "# assume that B is along z for all future calculations\n",
    "B_x = 0*G\n",
    "B_y = 0*G\n",
    "B_z = 237*G\n",
    "\n",
    "γ_e = 2.8025*MHz/G"
   ]
  },
  {
   "cell_type": "code",
   "execution_count": 3,
   "id": "d8c0d6a0",
   "metadata": {},
   "outputs": [],
   "source": [
    "# compute the resonance frequency of the NV\n",
    "\n",
    "# NV hamiltonian (NV), N15\n",
    "Sx_NV, Sy_NV, Sz_NV = spin_Jx(1), spin_Jy(1), spin_Jz(1)\n",
    "S_NV = [Sx_NV, Sy_NV, Sz_NV]\n",
    "\n",
    "H_NV = (D*Sz_NV**2) # zero field splitting \n",
    "H_NV += γ_e*(B_x*Sx_NV + B_y*Sy_NV + B_z*Sz_NV) # NV Zeeman\n",
    "\n",
    "eigenvalues_NV = H_NV.eigenenergies()\n",
    "\n",
    "# resonance frequency (Hz)\n",
    "ω_NV = eigenvalues_NV[1] - eigenvalues_NV[0]"
   ]
  },
  {
   "cell_type": "code",
   "execution_count": 4,
   "id": "549447dc",
   "metadata": {},
   "outputs": [],
   "source": [
    "# compute the resonance frequency of the P1\n",
    "\n",
    "# NV hamiltonian (NV), N15\n",
    "Sx_P1, Sy_P1, Sz_P1 = spin_Jx(1/2), spin_Jy(1/2), spin_Jz(1/2)\n",
    "S_P1 = [Sx_P1, Sy_P1, Sz_P1]\n",
    "\n",
    "H_P1 = γ_e*tensor(B_x*Sx_P1 + B_y*Sy_P1 + B_z*Sz_P1) # P1 Zeeman \n",
    "\n",
    "eigenvalues_P1 = H_P1.eigenenergies()\n",
    "\n",
    "# resonance frequency(Hz)\n",
    "ω_P1 = eigenvalues_P1[1] - eigenvalues_P1[0]"
   ]
  },
  {
   "cell_type": "code",
   "execution_count": 5,
   "id": "8c49115a",
   "metadata": {},
   "outputs": [],
   "source": [
    "# define operator for P1 centers with index i and j\n",
    "def P1_P1_operator(N, i, j, op_i, op_j):\n",
    "    ''' Returns operator acting on P1 centers i and j\n",
    "    N: total number of P1 centers \n",
    "    i: P1 index (int); i<j; start at i=1\n",
    "    j: P1 index (int)\n",
    "    op_i: operator acting on P1 i\n",
    "    op_j: operator acting on P1 j\n",
    "    '''\n",
    "    # identity operator for all qubits \n",
    "    identity_ops = [identity(2) for _ in range(N + 1)]\n",
    "    \n",
    "    system_op = tensor(identity_ops[:i] + [op_i] + identity_ops[i + 1:j] + [op_j] + identity_ops[j+1:])\n",
    "    \n",
    "    return system_op\n",
    "\n",
    "\n",
    "# define operator for NV center and P1 center with index i\n",
    "def NV_P1_operator(N, i, op_i, op_NV):\n",
    "    ''' Returns operator acting on P1 centers i and NV center\n",
    "    N: total number of P1 centers \n",
    "    i: P1 index (int)\n",
    "    op_i: operator acting on P1 i\n",
    "    op_NV: operator acting on NV\n",
    "    '''\n",
    "    # identity operator for all qubits \n",
    "    identity_ops = [identity(2) for _ in range(N + 1)]\n",
    "    \n",
    "    system_op = tensor([op_NV] + identity_ops[1:i] + [op_i] + identity_ops[i+1:])\n",
    "    \n",
    "    return system_op\n",
    "\n",
    "# define operator for NV center \n",
    "def NV_operator(N, op_NV):\n",
    "    ''' Returns operator acting on P1 centers i and NV center\n",
    "    N: total number of P1 centers \n",
    "    op_NV: operator acting on NV\n",
    "    '''\n",
    "    # identity operator for all qubits \n",
    "    identity_ops = [identity(2) for _ in range(N + 1)]\n",
    "    \n",
    "    system_op = tensor([op_NV] + identity_ops[1:])\n",
    "    \n",
    "    return system_op\n",
    "\n",
    "\n",
    "# define operator for single P1 center\n",
    "def P1_operator(N, i, op_i):\n",
    "    ''' Returns operator acting on P1 center i\n",
    "    N: total number of P1 centers \n",
    "    i: P1 index (int); start at i=1\n",
    "    op_i: operator acting on P1 i\n",
    "    '''\n",
    "    # identity operator for all qubits \n",
    "    identity_ops = [identity(2) for _ in range(N + 1)]\n",
    "    system_op = tensor(identity_ops[:i] + [op_i] + identity_ops[i + 1:])\n",
    "    \n",
    "    return system_op"
   ]
  },
  {
   "cell_type": "code",
   "execution_count": 6,
   "id": "5ffd9dbb",
   "metadata": {},
   "outputs": [],
   "source": [
    "def homonuclear_dipole_TDR(N, i, j, r_i, r_j):\n",
    "    ''' Returns dipolar term between the P1 centers \n",
    "    \n",
    "    Args:\n",
    "        i: P1 center index (int)\n",
    "        j: P1 center index (int)\n",
    "        r_i: P1_i position (vector, double, 3 coordinates)\n",
    "        r_j: P1_j position\n",
    "        N: total number of P1 centers \n",
    "    '''\n",
    "    \n",
    "    r_vec = np.asarray(r_i) - np.asarray(r_j)\n",
    "    n = r_vec/np.linalg.norm(r_vec)\n",
    "    cos_theta = r_vec[2]/np.linalg.norm(r_vec)\n",
    "    \n",
    "    #return γ_e**2/(np.linalg.norm(r_vec))**3 * 1/2*(1 - 3*cos_theta**2)*(P1_P1_operator(N, i, j, np.sqrt(2)*sigmaz(), np.sqrt(2)*sigmaz()) - P1_P1_operator(N, i, j, sigmax(), sigmax()) - P1_P1_operator(N, i, j, sigmay(), sigmay()))\n",
    "    return γ_e**2/(np.linalg.norm(r_vec))**3 * 1/2*(1 - 3*cos_theta**2)*(P1_P1_operator(N, i, j, np.sqrt(2)*sigmaz(), np.sqrt(2)*sigmaz()) - P1_P1_operator(N, i, j, sigmax(), sigmax()) - P1_P1_operator(N, i, j, sigmay(), sigmay()))\n",
    "\n",
    "\n",
    "\n",
    "def NV_dipole_TDR(N, i, r_i, r_0):\n",
    "    \n",
    "    ''' Returns dipolar term between NV and P1 center with index i\n",
    "    \n",
    "    Args:\n",
    "        i: P1 center index (int)\n",
    "        r_i: P1_i position (vector, double, 3 coordinates)\n",
    "        r_0: NV position\n",
    "        N: total number of P1 centers \n",
    "    '''\n",
    "    \n",
    "    r_vec = np.asarray(r_i) - np.asarray(r_0)\n",
    "    n = r_vec/np.linalg.norm(r_vec)\n",
    "    cos_theta = r_vec[2]/np.linalg.norm(r_vec)\n",
    "    \n",
    "    return γ_e**2/(np.linalg.norm(r_vec))**3 *(1 - 3*cos_theta**2)*((NV_P1_operator(N, i, sigmax(), sigmax())) +NV_P1_operator(N, i, sigmay(), sigmay()))/2\n",
    "\n",
    "def NV_dipole_TDR_DQ(N, i, r_i, r_0):\n",
    "    \n",
    "    ''' Returns dipolar term between NV and P1 center with index i\n",
    "    \n",
    "    Args:\n",
    "        i: P1 center index (int)\n",
    "        r_i: P1_i position (vector, double, 3 coordinates)\n",
    "        r_0: NV position\n",
    "        N: total number of P1 centers \n",
    "    '''\n",
    "    \n",
    "    r_vec = np.asarray(r_i) - np.asarray(r_0)\n",
    "    n = r_vec/np.linalg.norm(r_vec)\n",
    "    cos_theta = r_vec[2]/np.linalg.norm(r_vec)\n",
    "    \n",
    "    return γ_e**2/(np.linalg.norm(r_vec))**3 *(1 - 3*cos_theta**2)*((NV_P1_operator(N, i, sigmax(), sigmax())) -NV_P1_operator(N, i, sigmay(), sigmay()))/2"
   ]
  },
  {
   "cell_type": "code",
   "execution_count": 7,
   "id": "832c5c56",
   "metadata": {},
   "outputs": [],
   "source": [
    "def NV_Hamiltonian(N, rabi_NV, det_NV=0):\n",
    "    ''' Returns total NV Hamiltonian in the ensemble\n",
    "    \n",
    "    Args:\n",
    "        N: number of P1 centers \n",
    "        rabi_NV: NV driving frequency\n",
    "        det_NV: detuning of driving\n",
    "        \n",
    "    '''\n",
    "    return NV_operator(N, rabi_NV*sigmaz() - det_NV*sigmax())\n",
    "\n",
    "\n",
    "def P1_Hamiltonian(N, rabi_P1, det_P1):\n",
    "    ''' Returns total P1 Hamiltonian in the ensemble\n",
    "    \n",
    "    Args:\n",
    "        N: number of P1 centers \n",
    "        rabi_NV: NV driving frequency\n",
    "        det_NV: detuning of driving\n",
    "        \n",
    "    '''\n",
    "    \n",
    "    op = 0;\n",
    "    \n",
    "    for i in range(N):\n",
    "        op += P1_operator(N, i + 1, rabi_P1[i]*sigmaz() - det_P1[i]*sigmax())\n",
    "        \n",
    "    return op\n",
    "\n",
    "def NV_P1_Dipole(N, r_0, P1_r_vec):\n",
    "    op = 0;\n",
    "    for i in range(N):\n",
    "        op += NV_dipole_TDR(N, i+1, P1_r_vec[i], r_0)\n",
    "        \n",
    "    return op\n",
    "\n",
    "def NV_P1_Dipole_DQ(N, r_0, P1_r_vec):\n",
    "    op = 0;\n",
    "    for i in range(N):\n",
    "        op += NV_dipole_TDR_DQ(N, i+1, P1_r_vec[i], r_0)\n",
    "        \n",
    "    return op\n",
    "\n",
    "def P1_P1_Dipole(N, P1_r_vec):\n",
    "    op = 0;\n",
    "    \n",
    "    for j in range(N):\n",
    "        for i in range(N):\n",
    "            if i < j:\n",
    "                op += homonuclear_dipole_TDR(N, i + 1, j + 1, P1_r_vec[i], P1_r_vec[j])\n",
    "                \n",
    "    return op\n",
    "\n",
    "def H_tot(N, r_0, P1_r_vec, rabi_NV, rabi_P1, det_NV, det_P1, option):\n",
    "    if option == 'DQ':\n",
    "        return NV_Hamiltonian(N, rabi_NV, det_NV) + P1_Hamiltonian(N, rabi_P1, det_P1) +NV_P1_Dipole_DQ(N, r_0, P1_r_vec) + P1_P1_Dipole(N, P1_r_vec)\n",
    "    elif option == 'SQ':\n",
    "        return NV_Hamiltonian(N, rabi_NV, det_NV) + P1_Hamiltonian(N, rabi_P1, det_P1) +NV_P1_Dipole(N, r_0, P1_r_vec) + P1_P1_Dipole(N, P1_r_vec)"
   ]
  },
  {
   "cell_type": "code",
   "execution_count": 8,
   "id": "273ef9bf",
   "metadata": {},
   "outputs": [],
   "source": [
    "n = 1\n",
    "\n",
    "Ω_NV = 1*MHz\n",
    "Ω_P1 = 1*MHz*np.ones(n)\n",
    "δ_NV = 0\n",
    "δ_P1 = np.zeros(n)\n",
    "NV_pos = [0.0, 0.0, 0.0]\n"
   ]
  },
  {
   "cell_type": "code",
   "execution_count": 9,
   "id": "3896786f",
   "metadata": {},
   "outputs": [],
   "source": [
    "P1_pos = []\n",
    "\n",
    "\n",
    "for i in range(n):\n",
    "    r = 50\n",
    "    theta = np.pi*0.3\n",
    "    phi = np.pi*1.3\n",
    "    v =np.asarray([r*np.cos(theta)*np.sin(phi), r*np.sin(theta)*np.sin(phi), r*np.cos(theta)]) \n",
    "    P1_pos.append(v)"
   ]
  },
  {
   "cell_type": "code",
   "execution_count": 10,
   "id": "3526bc80",
   "metadata": {},
   "outputs": [],
   "source": [
    "H = H_tot(n, NV_pos, P1_pos, Ω_NV, Ω_P1, δ_NV, δ_P1, 'SQ')\n",
    "\n"
   ]
  },
  {
   "cell_type": "code",
   "execution_count": 11,
   "id": "3b475a06",
   "metadata": {},
   "outputs": [],
   "source": [
    "psi0 = basis(2,1)\n",
    "\n",
    "for i in range(n):\n",
    "    psi0 = tensor(psi0, basis(2,0))\n",
    "    #psi0 = tensor(psi0, basis(2,1))"
   ]
  },
  {
   "cell_type": "code",
   "execution_count": 12,
   "id": "b22c53f6",
   "metadata": {},
   "outputs": [
    {
     "name": "stdout",
     "output_type": "stream",
     "text": [
      "true\n"
     ]
    }
   ],
   "source": [
    "c_ops = []\n",
    "\n",
    "for i in range(n):\n",
    "    α = 0.01\n",
    "    if np.linalg.norm(P1_pos[i])> 0:\n",
    "        print('true')\n",
    "        op = α*qt.basis(2, 0) * qt.basis(2, 1).dag()\n",
    "        c_ops.append(P1_operator(n, i, op))\n",
    "        \n",
    "        op2 = α*qt.basis(2, 1) * qt.basis(2, 0).dag()\n",
    "        c_ops.append(P1_operator(n, i, op2))"
   ]
  },
  {
   "cell_type": "code",
   "execution_count": 13,
   "id": "fc414da9",
   "metadata": {},
   "outputs": [],
   "source": [
    "times = np.linspace(0,6000e-9,3000)"
   ]
  },
  {
   "cell_type": "code",
   "execution_count": 14,
   "id": "898dff82",
   "metadata": {},
   "outputs": [
    {
     "name": "stdout",
     "output_type": "stream",
     "text": [
      "10.0%. Run time:   0.03s. Est. time left: 00:00:00:00\n",
      "20.0%. Run time:   0.06s. Est. time left: 00:00:00:00\n",
      "30.0%. Run time:   0.09s. Est. time left: 00:00:00:00\n",
      "40.0%. Run time:   0.11s. Est. time left: 00:00:00:00\n",
      "50.0%. Run time:   0.14s. Est. time left: 00:00:00:00\n",
      "60.0%. Run time:   0.16s. Est. time left: 00:00:00:00\n"
     ]
    },
    {
     "name": "stderr",
     "output_type": "stream",
     "text": [
      "C:\\Users\\awsta\\Documents\\qeg-workspace\\qeg-env\\lib\\site-packages\\qutip\\solver\\options.py:16: FutureWarning: Dedicated options class are no longer needed, options should be passed as dict to solvers.\n",
      "  warnings.warn(\n",
      "C:\\Users\\awsta\\Documents\\qeg-workspace\\qeg-env\\lib\\site-packages\\qutip\\solver\\solver_base.py:434: FutureWarning: \"progress_bar\" is now included in options:\n",
      " Use `options={\"progress_bar\": False / True / \"tqdm\" / \"enhanced\"}`\n",
      "  warnings.warn(\n"
     ]
    },
    {
     "name": "stdout",
     "output_type": "stream",
     "text": [
      "70.0%. Run time:   0.19s. Est. time left: 00:00:00:00\n",
      "80.0%. Run time:   0.21s. Est. time left: 00:00:00:00\n",
      "90.0%. Run time:   0.24s. Est. time left: 00:00:00:00\n",
      "100.0%. Run time:   0.27s. Est. time left: 00:00:00:00\n",
      "Total run time:   0.27s\n"
     ]
    }
   ],
   "source": [
    "result = mesolve(H, psi0, times, c_ops, [], options=Options(nsteps=20000, method='bdf' ), progress_bar = True)"
   ]
  },
  {
   "cell_type": "code",
   "execution_count": 15,
   "id": "ee7ffbf1",
   "metadata": {},
   "outputs": [
    {
     "ename": "IndexError",
     "evalue": "invalid index to scalar variable.",
     "output_type": "error",
     "traceback": [
      "\u001b[1;31m---------------------------------------------------------------------------\u001b[0m",
      "\u001b[1;31mIndexError\u001b[0m                                Traceback (most recent call last)",
      "Cell \u001b[1;32mIn[15], line 5\u001b[0m\n\u001b[0;32m      3\u001b[0m P1_unpol \u001b[38;5;241m=\u001b[39m np\u001b[38;5;241m.\u001b[39mzeros(\u001b[38;5;28mlen\u001b[39m(result\u001b[38;5;241m.\u001b[39mstates))\n\u001b[0;32m      4\u001b[0m \u001b[38;5;28;01mfor\u001b[39;00m kk \u001b[38;5;129;01min\u001b[39;00m \u001b[38;5;28mrange\u001b[39m(\u001b[38;5;28mlen\u001b[39m(result\u001b[38;5;241m.\u001b[39mstates)):\n\u001b[1;32m----> 5\u001b[0m     NV_pol[kk] \u001b[38;5;241m=\u001b[39m np\u001b[38;5;241m.\u001b[39mabs(\u001b[43mresult\u001b[49m\u001b[38;5;241;43m.\u001b[39;49m\u001b[43mstates\u001b[49m\u001b[43m[\u001b[49m\u001b[43mkk\u001b[49m\u001b[43m]\u001b[49m\u001b[38;5;241;43m.\u001b[39;49m\u001b[43mptrace\u001b[49m\u001b[43m(\u001b[49m\u001b[38;5;241;43m0\u001b[39;49m\u001b[43m)\u001b[49m\u001b[43m[\u001b[49m\u001b[38;5;241;43m0\u001b[39;49m\u001b[43m]\u001b[49m\u001b[43m[\u001b[49m\u001b[38;5;241;43m0\u001b[39;49m\u001b[43m]\u001b[49m\u001b[43m[\u001b[49m\u001b[38;5;241;43m0\u001b[39;49m\u001b[43m]\u001b[49m)\n\u001b[0;32m      6\u001b[0m     \u001b[38;5;28;01mfor\u001b[39;00m kkk \u001b[38;5;129;01min\u001b[39;00m \u001b[38;5;28mrange\u001b[39m(n):\n\u001b[0;32m      7\u001b[0m         P1_pol[kk] \u001b[38;5;241m+\u001b[39m\u001b[38;5;241m=\u001b[39m np\u001b[38;5;241m.\u001b[39mabs(result\u001b[38;5;241m.\u001b[39mstates[kk]\u001b[38;5;241m.\u001b[39mptrace(kkk \u001b[38;5;241m+\u001b[39m \u001b[38;5;241m1\u001b[39m)[\u001b[38;5;241m0\u001b[39m][\u001b[38;5;241m0\u001b[39m][\u001b[38;5;241m0\u001b[39m])\n",
      "\u001b[1;31mIndexError\u001b[0m: invalid index to scalar variable."
     ]
    }
   ],
   "source": [
    "NV_pol = np.zeros(len(result.states))\n",
    "P1_pol = np.zeros(len(result.states))\n",
    "P1_unpol = np.zeros(len(result.states))\n",
    "for kk in range(len(result.states)):\n",
    "    NV_pol[kk] = np.abs(result.states[kk].ptrace(0)[0][0][0])\n",
    "    for kkk in range(n):\n",
    "        P1_pol[kk] += np.abs(result.states[kk].ptrace(kkk + 1)[0][0][0])\n",
    "        P1_unpol[kk] += np.abs(result.states[kk].ptrace(kkk + 1)[1][0][1])"
   ]
  },
  {
   "cell_type": "code",
   "execution_count": null,
   "id": "b36ac222",
   "metadata": {},
   "outputs": [],
   "source": [
    "plt.plot(times*1e6, NV_pol)\n",
    "plt.plot(times*1e6, P1_pol/n)\n",
    "plt.title('Spin-locking: 1 NV + 1P1')\n",
    "plt.xlabel(r'time ($\\mu s$)')\n",
    "plt.ylabel('Probability')\n",
    "plt.legend()"
   ]
  },
  {
   "cell_type": "code",
   "execution_count": 16,
   "id": "ac472f96",
   "metadata": {},
   "outputs": [
    {
     "name": "stderr",
     "output_type": "stream",
     "text": [
      "  0%|                                                                                           | 0/50 [00:00<?, ?it/s]\n"
     ]
    },
    {
     "ename": "TypeError",
     "evalue": "H_tot() missing 1 required positional argument: 'option'",
     "output_type": "error",
     "traceback": [
      "\u001b[1;31m---------------------------------------------------------------------------\u001b[0m",
      "\u001b[1;31mTypeError\u001b[0m                                 Traceback (most recent call last)",
      "Cell \u001b[1;32mIn[16], line 28\u001b[0m\n\u001b[0;32m     25\u001b[0m     v \u001b[38;5;241m=\u001b[39mnp\u001b[38;5;241m.\u001b[39masarray([r\u001b[38;5;241m*\u001b[39mnp\u001b[38;5;241m.\u001b[39mcos(theta)\u001b[38;5;241m*\u001b[39mnp\u001b[38;5;241m.\u001b[39msin(phi), r\u001b[38;5;241m*\u001b[39mnp\u001b[38;5;241m.\u001b[39msin(theta)\u001b[38;5;241m*\u001b[39mnp\u001b[38;5;241m.\u001b[39msin(phi), r\u001b[38;5;241m*\u001b[39mnp\u001b[38;5;241m.\u001b[39mcos(theta)]) \n\u001b[0;32m     26\u001b[0m     P1_pos\u001b[38;5;241m.\u001b[39mappend(v)\n\u001b[1;32m---> 28\u001b[0m H \u001b[38;5;241m=\u001b[39m \u001b[43mH_tot\u001b[49m\u001b[43m(\u001b[49m\u001b[43mn\u001b[49m\u001b[43m,\u001b[49m\u001b[43m \u001b[49m\u001b[43mNV_pos\u001b[49m\u001b[43m,\u001b[49m\u001b[43m \u001b[49m\u001b[43mP1_pos\u001b[49m\u001b[43m,\u001b[49m\u001b[43m \u001b[49m\u001b[43mΩ_NV\u001b[49m\u001b[43m,\u001b[49m\u001b[43m \u001b[49m\u001b[43mΩ_P1\u001b[49m\u001b[43m,\u001b[49m\u001b[43m \u001b[49m\u001b[43mδ_NV\u001b[49m\u001b[43m,\u001b[49m\u001b[43m \u001b[49m\u001b[43mδ_P1\u001b[49m\u001b[43m)\u001b[49m\n\u001b[0;32m     30\u001b[0m psi0 \u001b[38;5;241m=\u001b[39m basis(\u001b[38;5;241m2\u001b[39m,\u001b[38;5;241m0\u001b[39m)\n\u001b[0;32m     31\u001b[0m \u001b[38;5;28;01mfor\u001b[39;00m i \u001b[38;5;129;01min\u001b[39;00m \u001b[38;5;28mrange\u001b[39m(n):\n",
      "\u001b[1;31mTypeError\u001b[0m: H_tot() missing 1 required positional argument: 'option'"
     ]
    }
   ],
   "source": [
    "n_reps = 50\n",
    "n = 1\n",
    "times = np.linspace(0,1000e-9,300)\n",
    "NV_pol_avg = np.zeros(len(times))\n",
    "P1_pol_avg = np.zeros(len(times))\n",
    "iterations = range(n_reps)\n",
    "\n",
    "\n",
    "with tqdm(total=len(iterations)) as pbar:\n",
    "    for ii in range(n_reps):\n",
    "        #print('Rep: ', ii, '\\n') \n",
    "\n",
    "        Ω_NV = 1*MHz\n",
    "        Ω_P1 = 1*MHz*np.ones(n)\n",
    "        δ_NV = 0\n",
    "        δ_P1 = np.zeros(n)\n",
    "        NV_pos = [0.0, 0.0, 0.0]\n",
    "\n",
    "        P1_pos = []\n",
    "\n",
    "        for i in range(n):\n",
    "            r = 50*np.random.rand() + 100\n",
    "            theta = np.random.rand()*np.pi*2\n",
    "            phi = np.random.rand()*np.pi*2\n",
    "            v =np.asarray([r*np.cos(theta)*np.sin(phi), r*np.sin(theta)*np.sin(phi), r*np.cos(theta)]) \n",
    "            P1_pos.append(v)\n",
    "\n",
    "        H = H_tot(n, NV_pos, P1_pos, Ω_NV, Ω_P1, δ_NV, δ_P1)\n",
    "\n",
    "        psi0 = basis(2,0)\n",
    "        for i in range(n):\n",
    "            psi0 = tensor(psi0, basis(2,random.randint(0, 1)))\n",
    "            #psi0 = tensor(psi0, basis(2,1))\n",
    "\n",
    "        result = mesolve(H, psi0, times, [], [], options=Options(nsteps=20000, method='bdf' ))\n",
    "\n",
    "        for kk in range(len(result.states)):\n",
    "            NV_pol_sum = NV_pol_avg[kk]*(ii)\n",
    "            NV_pol_avg[kk] = (NV_pol_sum + np.abs(result.states[kk].ptrace(0)[0][0][0]))/(ii + 1)\n",
    "\n",
    "            P1_pol_sum = P1_pol_avg[kk]*(ii)\n",
    "            P1_pol=0\n",
    "            for kkk in range(n):\n",
    "                P1_pol += np.abs(result.states[kk].ptrace(kkk + 1)[0][0][0])\n",
    "            P1_pol_avg[kk] = (P1_pol_sum + P1_pol/n)/(ii+1)\n",
    "            \n",
    "        pbar.update(1)"
   ]
  },
  {
   "cell_type": "code",
   "execution_count": 17,
   "id": "19dd1d32",
   "metadata": {},
   "outputs": [
    {
     "data": {
      "text/plain": [
       "<matplotlib.legend.Legend at 0x11fe370b640>"
      ]
     },
     "execution_count": 17,
     "metadata": {},
     "output_type": "execute_result"
    },
    {
     "data": {
      "image/png": "[encoded data removed]",
      "text/plain": [
       "<Figure size 640x480 with 1 Axes>"
      ]
     },
     "metadata": {},
     "output_type": "display_data"
    }
   ],
   "source": [
    "plt.plot(times, NV_pol_avg, label = 'NV polarization')\n",
    "plt.plot(times, P1_pol_avg, label = 'P1 polarization (avg)')\n",
    "plt.title('Spin-locking: 1 NV + 10 P1')\n",
    "plt.xlabel(r'time ($\\mu s$)')\n",
    "plt.ylabel('Probability')\n",
    "plt.legend()"
   ]
  },
  {
   "cell_type": "code",
   "execution_count": 18,
   "id": "3c41a3d4",
   "metadata": {},
   "outputs": [
    {
     "data": {
      "image/png": "[encoded data removed]",
      "text/plain": [
       "<Figure size 640x480 with 1 Axes>"
      ]
     },
     "metadata": {},
     "output_type": "display_data"
    },
    {
     "name": "stdout",
     "output_type": "stream",
     "text": [
      "[5.63608577e-05 1.22520114e+02 1.53605219e-01]\n"
     ]
    }
   ],
   "source": [
    "# fit stretched exponential \n",
    "\n",
    "# Define the stretched exponential function\n",
    "def stretched_exp(x, a, b, beta):\n",
    "    return a * np.exp(-b * x ** beta)\n",
    "\n",
    "# Fit the stretched exponential function to the data\n",
    "popt, pcov = curve_fit(stretched_exp, times, NV_pol_avg, bounds=(0, np.inf))\n",
    "\n",
    "# Plot the original data and the fitted curve\n",
    "plt.scatter(times, NV_pol_avg, label='Original data')\n",
    "plt.plot(times, stretched_exp(times, *popt), 'r-', label='Fitted curve')\n",
    "plt.xlabel('X')\n",
    "plt.ylabel('Y')\n",
    "plt.legend()\n",
    "plt.show()\n",
    "print(popt)"
   ]
  },
  {
   "cell_type": "code",
   "execution_count": 19,
   "id": "b57f8add",
   "metadata": {},
   "outputs": [],
   "source": [
    "n = 10\n",
    "n_reps = 15\n",
    "t_max = 1000e-9*6\n",
    "times = np.linspace(0,t_max,6000)\n",
    "# Divide the time list into 10 sublists\n",
    "n_repol = 10;\n",
    "sublist_length = len(times) // n_repol\n",
    "time_sublists = [times[i * sublist_length: (i + 1) * sublist_length] for i in range(n_repol)]\n",
    "\n",
    "NV_pol_avg = np.zeros(len(times))\n",
    "P1_pol_avg = np.zeros(len(times))\n",
    "\n",
    "NV_sublists = [NV_pol_avg[i * sublist_length: (i + 1) * sublist_length] for i in range(n_repol)]\n",
    "P1_sublists = [P1_pol_avg[i * sublist_length: (i + 1) * sublist_length] for i in range(n_repol)]\n",
    "list_P1 = [i for i in range(1, n+1)]\n",
    "\n",
    "NV_pos = [0.0, 0.0, 0.0]\n",
    "\n",
    "P1_pos = []\n",
    "\n",
    "for i in range(n):\n",
    "    r = 50*(np.random.rand()) + 70\n",
    "    theta = np.random.rand()*np.pi*2\n",
    "    phi = np.random.rand()*np.pi*2\n",
    "    v =np.asarray([r*np.cos(theta)*np.sin(phi), r*np.sin(theta)*np.sin(phi), r*np.cos(theta)]) \n",
    "    P1_pos.append(v)"
   ]
  },
  {
   "cell_type": "code",
   "execution_count": 20,
   "id": "0b84c436",
   "metadata": {},
   "outputs": [],
   "source": [
    "def reinitialize_NV(N, output):\n",
    "    list_P1 = [i for i in range(1, N+1)]\n",
    "    state = basis(2,0)\n",
    "    \n",
    "    for i in range(N):\n",
    "        state_i = np.sqrt(np.abs(output.states[-1].ptrace(i + 1)[0][0][0]))*basis(2,0) + np.sqrt(np.abs(output.states[-1].ptrace(i + 1)[1][0][1]))*basis(2,1)\n",
    "        \n",
    "        state = tensor(state, state_i)\n",
    "    return state"
   ]
  },
  {
   "cell_type": "code",
   "execution_count": 21,
   "id": "64b327b9",
   "metadata": {},
   "outputs": [
    {
     "ename": "TypeError",
     "evalue": "H_tot() missing 1 required positional argument: 'option'",
     "output_type": "error",
     "traceback": [
      "\u001b[1;31m---------------------------------------------------------------------------\u001b[0m",
      "\u001b[1;31mTypeError\u001b[0m                                 Traceback (most recent call last)",
      "Cell \u001b[1;32mIn[21], line 24\u001b[0m\n\u001b[0;32m     21\u001b[0m     v \u001b[38;5;241m=\u001b[39mnp\u001b[38;5;241m.\u001b[39masarray([r\u001b[38;5;241m*\u001b[39mnp\u001b[38;5;241m.\u001b[39mcos(theta)\u001b[38;5;241m*\u001b[39mnp\u001b[38;5;241m.\u001b[39msin(phi), r\u001b[38;5;241m*\u001b[39mnp\u001b[38;5;241m.\u001b[39msin(theta)\u001b[38;5;241m*\u001b[39mnp\u001b[38;5;241m.\u001b[39msin(phi), r\u001b[38;5;241m*\u001b[39mnp\u001b[38;5;241m.\u001b[39mcos(theta)]) \n\u001b[0;32m     22\u001b[0m     P1_pos\u001b[38;5;241m.\u001b[39mappend(v)\n\u001b[1;32m---> 24\u001b[0m H \u001b[38;5;241m=\u001b[39m \u001b[43mH_tot\u001b[49m\u001b[43m(\u001b[49m\u001b[43mn\u001b[49m\u001b[43m,\u001b[49m\u001b[43m \u001b[49m\u001b[43mNV_pos\u001b[49m\u001b[43m,\u001b[49m\u001b[43m \u001b[49m\u001b[43mP1_pos\u001b[49m\u001b[43m,\u001b[49m\u001b[43m \u001b[49m\u001b[43mΩ_NV\u001b[49m\u001b[43m,\u001b[49m\u001b[43m \u001b[49m\u001b[43mΩ_P1\u001b[49m\u001b[43m,\u001b[49m\u001b[43m \u001b[49m\u001b[43mδ_NV\u001b[49m\u001b[43m,\u001b[49m\u001b[43m \u001b[49m\u001b[43mδ_P1\u001b[49m\u001b[43m)\u001b[49m\n\u001b[0;32m     26\u001b[0m \u001b[38;5;28;01mwith\u001b[39;00m tqdm(total\u001b[38;5;241m=\u001b[39m\u001b[38;5;28mlen\u001b[39m(iterations_sub)) \u001b[38;5;28;01mas\u001b[39;00m pbar_sub:\n\u001b[0;32m     27\u001b[0m     \u001b[38;5;28;01mfor\u001b[39;00m jj \u001b[38;5;129;01min\u001b[39;00m \u001b[38;5;28mrange\u001b[39m(n_repol):\n",
      "\u001b[1;31mTypeError\u001b[0m: H_tot() missing 1 required positional argument: 'option'"
     ]
    }
   ],
   "source": [
    "iterations = range(n_reps)\n",
    "iterations_sub = range(n_repol)\n",
    "for ii in range(n_reps):\n",
    "    # part 1\n",
    "    psi0 = basis(2,0)\n",
    "    for i in range(n):\n",
    "        psi0 = tensor(psi0, basis(2,random.randint(0, 1)))\n",
    "\n",
    "    Ω_NV = 1*MHz\n",
    "    Ω_P1 = 1*MHz*np.ones(n)\n",
    "    δ_NV = 0\n",
    "    δ_P1 = np.zeros(n)\n",
    "    NV_pos = [0.0, 0.0, 0.0]\n",
    "\n",
    "    P1_pos = []\n",
    "\n",
    "    for i in range(n):\n",
    "        r = 50*(np.random.rand()) + 70\n",
    "        theta = np.random.rand()*np.pi*2\n",
    "        phi = np.random.rand()*np.pi*2\n",
    "        v =np.asarray([r*np.cos(theta)*np.sin(phi), r*np.sin(theta)*np.sin(phi), r*np.cos(theta)]) \n",
    "        P1_pos.append(v)\n",
    "\n",
    "    H = H_tot(n, NV_pos, P1_pos, Ω_NV, Ω_P1, δ_NV, δ_P1)\n",
    "\n",
    "    with tqdm(total=len(iterations_sub)) as pbar_sub:\n",
    "        for jj in range(n_repol):\n",
    "            t_list =  time_sublists[jj]\n",
    "            result = mesolve(H, psi0, t_list, [], [], options=Options(nsteps=20000, method='bdf' ))\n",
    "\n",
    "            for kk in range(len(result.states)):\n",
    "                NV_pol_sum = NV_sublists[jj][kk]*(ii)\n",
    "                NV_sublists[jj][kk] = (NV_pol_sum + np.abs(result.states[kk].ptrace(0)[0][0][0]))/(ii + 1)\n",
    "\n",
    "                P1_pol_sum = P1_sublists[jj][kk]*(ii)\n",
    "                P1_pol=0\n",
    "                for kkk in range(n):\n",
    "                    P1_pol += np.abs(result.states[kk].ptrace(kkk + 1)[0][0][0])\n",
    "                P1_sublists[jj][kk] = (P1_pol_sum + P1_pol/n)/(ii+1)\n",
    "\n",
    "            psi0 = reinitialize_NV(n, result)\n",
    "            pbar_sub.update(1)"
   ]
  },
  {
   "cell_type": "code",
   "execution_count": 22,
   "id": "9fe85017",
   "metadata": {},
   "outputs": [],
   "source": [
    "# Concatenate the sublists into a single list\n",
    "total_time = [item for sublist in time_sublists for item in sublist]\n",
    "NV_pol_avg = [item for sublist in NV_sublists for item in sublist]\n",
    "P1_pol_avg = [item for sublist in P1_sublists for item in sublist]"
   ]
  },
  {
   "cell_type": "code",
   "execution_count": 23,
   "id": "ebbd45c9",
   "metadata": {},
   "outputs": [
    {
     "data": {
      "text/plain": [
       "<matplotlib.legend.Legend at 0x11fe22b36d0>"
      ]
     },
     "execution_count": 23,
     "metadata": {},
     "output_type": "execute_result"
    },
    {
     "data": {
      "image/png": "[encoded data removed]",
      "text/plain": [
       "<Figure size 640x480 with 1 Axes>"
      ]
     },
     "metadata": {},
     "output_type": "display_data"
    }
   ],
   "source": [
    "plt.plot(times, NV_pol_avg, label = 'NV polarization')\n",
    "plt.plot(times, P1_pol_avg, label = 'P1 polarization (percentage)')\n",
    "plt.title('Spin-locking: 1 NV + 10 P1')\n",
    "plt.xlabel(r'time ($\\mu s$)')\n",
    "plt.ylabel('Probability')\n",
    "plt.legend()"
   ]
  },
  {
   "cell_type": "code",
   "execution_count": 24,
   "id": "e5bcc891",
   "metadata": {},
   "outputs": [
    {
     "data": {
      "text/plain": [
       "<matplotlib.legend.Legend at 0x11fe5dfb610>"
      ]
     },
     "execution_count": 24,
     "metadata": {},
     "output_type": "execute_result"
    },
    {
     "data": {
      "image/png": "[encoded data removed]",
      "text/plain": [
       "<Figure size 640x480 with 1 Axes>"
      ]
     },
     "metadata": {},
     "output_type": "display_data"
    }
   ],
   "source": [
    "plt.plot(times, P1_pol_avg, label = 'P1 polarization (percentage)')\n",
    "plt.title('Spin-locking: 1 NV + 10 P1')\n",
    "plt.xlabel(r'time ($\\mu s$)')\n",
    "plt.ylabel('Probability')\n",
    "plt.legend()"
   ]
  },
  {
   "cell_type": "markdown",
   "id": "41d1a14f",
   "metadata": {},
   "source": [
    "# Switch Spin Lock Dynamics \n"
   ]
  },
  {
   "cell_type": "code",
   "execution_count": 25,
   "id": "0a1df3ea",
   "metadata": {},
   "outputs": [
    {
     "name": "stderr",
     "output_type": "stream",
     "text": [
      "  0%|                                                                                           | 0/25 [00:02<?, ?it/s]\n"
     ]
    },
    {
     "ename": "IndexError",
     "evalue": "invalid index to scalar variable.",
     "output_type": "error",
     "traceback": [
      "\u001b[1;31m---------------------------------------------------------------------------\u001b[0m",
      "\u001b[1;31mIndexError\u001b[0m                                Traceback (most recent call last)",
      "Cell \u001b[1;32mIn[25], line 43\u001b[0m\n\u001b[0;32m     41\u001b[0m \u001b[38;5;28;01mfor\u001b[39;00m kk \u001b[38;5;129;01min\u001b[39;00m \u001b[38;5;28mrange\u001b[39m(\u001b[38;5;28mlen\u001b[39m(result\u001b[38;5;241m.\u001b[39mstates)):\n\u001b[0;32m     42\u001b[0m     NV_pol_sum \u001b[38;5;241m=\u001b[39m NV_pol_avg1[kk]\u001b[38;5;241m*\u001b[39m(ii)\n\u001b[1;32m---> 43\u001b[0m     NV_pol_avg1[kk] \u001b[38;5;241m=\u001b[39m (NV_pol_sum \u001b[38;5;241m+\u001b[39m np\u001b[38;5;241m.\u001b[39mabs(\u001b[43mresult\u001b[49m\u001b[38;5;241;43m.\u001b[39;49m\u001b[43mstates\u001b[49m\u001b[43m[\u001b[49m\u001b[43mkk\u001b[49m\u001b[43m]\u001b[49m\u001b[38;5;241;43m.\u001b[39;49m\u001b[43mptrace\u001b[49m\u001b[43m(\u001b[49m\u001b[38;5;241;43m0\u001b[39;49m\u001b[43m)\u001b[49m\u001b[43m[\u001b[49m\u001b[38;5;241;43m0\u001b[39;49m\u001b[43m]\u001b[49m\u001b[43m[\u001b[49m\u001b[38;5;241;43m0\u001b[39;49m\u001b[43m]\u001b[49m\u001b[43m[\u001b[49m\u001b[38;5;241;43m0\u001b[39;49m\u001b[43m]\u001b[49m))\u001b[38;5;241m/\u001b[39m(ii \u001b[38;5;241m+\u001b[39m \u001b[38;5;241m1\u001b[39m)\n\u001b[0;32m     45\u001b[0m     P1_pol_sum \u001b[38;5;241m=\u001b[39m P1_pol_avg1[kk]\u001b[38;5;241m*\u001b[39m(ii)\n\u001b[0;32m     46\u001b[0m     P1_pol\u001b[38;5;241m=\u001b[39m\u001b[38;5;241m0\u001b[39m\n",
      "\u001b[1;31mIndexError\u001b[0m: invalid index to scalar variable."
     ]
    }
   ],
   "source": [
    "n_reps = 25\n",
    "n = 10\n",
    "times1 = np.linspace(0,2000e-9,300)\n",
    "times2 = np.linspace(0,2000e-9,300)\n",
    "NV_pol_avg1 = np.zeros(len(times1))\n",
    "P1_pol_avg1 = np.zeros(len(times1))\n",
    "NV_pol_avg2 = np.zeros(len(times2))\n",
    "P1_pol_avg2 = np.zeros(len(times2))\n",
    "iterations = range(n_reps)\n",
    "\n",
    "\n",
    "with tqdm(total=len(iterations)) as pbar:\n",
    "    for ii in range(n_reps):\n",
    "        #print('Rep: ', ii, '\\n') \n",
    "\n",
    "        Ω_NV = 1*MHz\n",
    "        Ω_P1 = 1*MHz*np.ones(n)\n",
    "        δ_NV = 0\n",
    "        δ_P1 = np.zeros(n)\n",
    "        NV_pos = [0.0, 0.0, 0.0]\n",
    "\n",
    "        P1_pos = []\n",
    "\n",
    "        for i in range(n):\n",
    "            r = 50*np.random.rand() + 100\n",
    "            theta = np.random.rand()*np.pi*2\n",
    "            phi = np.random.rand()*np.pi*2\n",
    "            v =np.asarray([r*np.cos(theta)*np.sin(phi), r*np.sin(theta)*np.sin(phi), r*np.cos(theta)]) \n",
    "            P1_pos.append(v)\n",
    "\n",
    "\n",
    "        psi0 = basis(2,0)\n",
    "        for i in range(n):\n",
    "            psi0 = tensor(psi0, basis(2,random.randint(0, 1)))\n",
    "            #psi0 = tensor(psi0, basis(2,1))\n",
    "            \n",
    "        H = H_tot(n, NV_pos, P1_pos, Ω_NV, Ω_P1, δ_NV, δ_P1, 'SQ')\n",
    "\n",
    "        result = mesolve(H, psi0, times1, [], [], options=Options(nsteps=20000, method='bdf' ))\n",
    "\n",
    "        for kk in range(len(result.states)):\n",
    "            NV_pol_sum = NV_pol_avg1[kk]*(ii)\n",
    "            NV_pol_avg1[kk] = (NV_pol_sum + np.abs(result.states[kk].ptrace(0)[0][0][0]))/(ii + 1)\n",
    "\n",
    "            P1_pol_sum = P1_pol_avg1[kk]*(ii)\n",
    "            P1_pol=0\n",
    "            for kkk in range(n):\n",
    "                P1_pol += np.abs(result.states[kk].ptrace(kkk + 1)[0][0][0])\n",
    "            P1_pol_avg1[kk] = (P1_pol_sum + P1_pol/n)/(ii+1)\n",
    "            \n",
    "            \n",
    "        psi0 = result.states[-1]\n",
    "        \n",
    "        H = H_tot(n, NV_pos, P1_pos, Ω_NV, Ω_P1, δ_NV, δ_P1, 'DQ')\n",
    "\n",
    "        result = mesolve(H, psi0, times2, [], [], options=Options(nsteps=20000, method='bdf' ))\n",
    "\n",
    "        for kk in range(len(result.states)):\n",
    "            NV_pol_sum = NV_pol_avg2[kk]*(ii)\n",
    "            NV_pol_avg2[kk] = (NV_pol_sum + np.abs(result.states[kk].ptrace(0)[0][0][0]))/(ii + 1)\n",
    "\n",
    "            P1_pol_sum = P1_pol_avg2[kk]*(ii)\n",
    "            P1_pol=0\n",
    "            for kkk in range(n):\n",
    "                P1_pol += np.abs(result.states[kk].ptrace(kkk + 1)[0][0][0])\n",
    "            P1_pol_avg2[kk] = (P1_pol_sum + P1_pol/n)/(ii+1)\n",
    "\n",
    "            \n",
    "        pbar.update(1)"
   ]
  },
  {
   "cell_type": "code",
   "execution_count": null,
   "id": "acc451ad",
   "metadata": {},
   "outputs": [],
   "source": [
    "NV_pol_avg_A = NV_pol_avg\n",
    "P1_pol_avg_A = P1_pol_avg"
   ]
  },
  {
   "cell_type": "code",
   "execution_count": null,
   "id": "ff7a571d",
   "metadata": {},
   "outputs": [],
   "source": [
    "times_end = times2 + times1[-1]\n",
    "times = np.concatenate((np.asarray(times1), np.asarray(times_end)))\n",
    "NV_pol_avg = np.concatenate((NV_pol_avg1, NV_pol_avg2))\n",
    "P1_pol_avg = np.concatenate((P1_pol_avg1, P1_pol_avg2))"
   ]
  },
  {
   "cell_type": "code",
   "execution_count": null,
   "id": "d37e0201",
   "metadata": {},
   "outputs": [],
   "source": [
    "plt.plot(times, NV_pol_avg, label = 'NV polarization')\n",
    "plt.plot(times, P1_pol_avg, label = 'P1 polarization (avg)')\n",
    "plt.title('Spin-locking: 1 NV + 10 P1')\n",
    "plt.xlabel(r'time ($\\mu s$)')\n",
    "plt.ylabel('Probability')\n",
    "plt.legend()"
   ]
  },
  {
   "cell_type": "code",
   "execution_count": null,
   "id": "e1af8d16",
   "metadata": {},
   "outputs": [],
   "source": [
    "\n",
    "plt.plot(times, P1_pol_avg, label = 'P1 polarization (avg)')\n",
    "plt.title('Spin-locking: 1 NV + 10 P1')\n",
    "plt.xlabel(r'time ($\\mu s$)')\n",
    "plt.ylabel('Probability')\n",
    "plt.legend()"
   ]
  },
  {
   "cell_type": "code",
   "execution_count": null,
   "id": "23404c46",
   "metadata": {},
   "outputs": [],
   "source": [
    "# fit stretched exponential \n",
    "\n",
    "# Define the stretched exponential function\n",
    "def stretched_exp(x, a, b, beta):\n",
    "    return a * np.exp(-b * x ** beta)\n",
    "\n",
    "# Fit the stretched exponential function to the data\n",
    "popt, pcov = curve_fit(stretched_exp, times1, NV_pol_avg1, bounds=(0, np.inf))\n",
    "\n",
    "# Plot the original data and the fitted curve\n",
    "plt.scatter(times1, NV_pol_avg1, label='Original data')\n",
    "plt.plot(times1, stretched_exp(times1, *popt), 'r-', label='Fitted curve')\n",
    "plt.xlabel('t')\n",
    "plt.ylabel('Signal')\n",
    "plt.legend()\n",
    "plt.show()\n",
    "print(popt)"
   ]
  },
  {
   "cell_type": "code",
   "execution_count": null,
   "id": "b98638dc",
   "metadata": {},
   "outputs": [],
   "source": [
    "# fit stretched exponential \n",
    "\n",
    "# Define the stretched exponential function\n",
    "def stretched_exp(x, a, b, beta):\n",
    "    return a * np.exp(-b * x ** beta)\n",
    "\n",
    "# Fit the stretched exponential function to the data\n",
    "popt, pcov = curve_fit(stretched_exp, times2, NV_pol_avg2, bounds=(0, np.inf))\n",
    "\n",
    "# Plot the original data and the fitted curve\n",
    "plt.scatter(times2, NV_pol_avg2, label='Original data')\n",
    "plt.plot(times2, stretched_exp(times1, *popt), 'r-', label='Fitted curve')\n",
    "plt.xlabel('Signal')\n",
    "plt.ylabel('t')\n",
    "plt.legend()\n",
    "plt.show()\n",
    "print(popt)"
   ]
  },
  {
   "cell_type": "code",
   "execution_count": null,
   "id": "ebb45964",
   "metadata": {},
   "outputs": [],
   "source": [
    "n_reps = 25\n",
    "n = 10\n",
    "times1 = np.linspace(0,1000e-9,300)\n",
    "times2 = np.linspace(0,3000e-9,300)\n",
    "NV_pol_avg1 = np.zeros(len(times1))\n",
    "P1_pol_avg1 = np.zeros(len(times1))\n",
    "NV_pol_avg2 = np.zeros(len(times2))\n",
    "P1_pol_avg2 = np.zeros(len(times2))\n",
    "iterations = range(n_reps)\n",
    "\n",
    "\n",
    "with tqdm(total=len(iterations)) as pbar:\n",
    "    for ii in range(n_reps):\n",
    "        #print('Rep: ', ii, '\\n') \n",
    "\n",
    "        Ω_NV = 1*MHz\n",
    "        Ω_P1 = 1*MHz*np.ones(n)\n",
    "        δ_NV = 0\n",
    "        δ_P1 = np.zeros(n)\n",
    "        NV_pos = [0.0, 0.0, 0.0]\n",
    "\n",
    "        P1_pos = []\n",
    "\n",
    "        for i in range(n):\n",
    "            r = 50*np.random.rand() + 100\n",
    "            theta = np.random.rand()*np.pi*2\n",
    "            phi = np.random.rand()*np.pi*2\n",
    "            v =np.asarray([r*np.cos(theta)*np.sin(phi), r*np.sin(theta)*np.sin(phi), r*np.cos(theta)]) \n",
    "            P1_pos.append(v)\n",
    "\n",
    "\n",
    "        psi0 = basis(2,0)\n",
    "        for i in range(n):\n",
    "            psi0 = tensor(psi0, basis(2,random.randint(0, 1)))\n",
    "            #psi0 = tensor(psi0, basis(2,1))\n",
    "            \n",
    "        H = H_tot(n, NV_pos, P1_pos, Ω_NV, Ω_P1, δ_NV, δ_P1, 'SQ')\n",
    "\n",
    "        result = mesolve(H, psi0, times1, [], [], options=Options(nsteps=20000, method='bdf' ))\n",
    "\n",
    "        for kk in range(len(result.states)):\n",
    "            NV_pol_sum = NV_pol_avg1[kk]*(ii)\n",
    "            NV_pol_avg1[kk] = (NV_pol_sum + np.abs(result.states[kk].ptrace(0)[0][0][0]))/(ii + 1)\n",
    "\n",
    "            P1_pol_sum = P1_pol_avg1[kk]*(ii)\n",
    "            P1_pol=0\n",
    "            for kkk in range(n):\n",
    "                P1_pol += np.abs(result.states[kk].ptrace(kkk + 1)[0][0][0])\n",
    "            P1_pol_avg1[kk] = (P1_pol_sum + P1_pol/n)/(ii+1)\n",
    "            \n",
    "            \n",
    "        psi0 = result.states[-1]\n",
    "        \n",
    "        H = H_tot(n, NV_pos, P1_pos, Ω_NV, Ω_P1, δ_NV, δ_P1, 'DQ')\n",
    "\n",
    "        result = mesolve(H, psi0, times2, [], [], options=Options(nsteps=20000, method='bdf' ))\n",
    "\n",
    "        for kk in range(len(result.states)):\n",
    "            NV_pol_sum = NV_pol_avg2[kk]*(ii)\n",
    "            NV_pol_avg2[kk] = (NV_pol_sum + np.abs(result.states[kk].ptrace(0)[0][0][0]))/(ii + 1)\n",
    "\n",
    "            P1_pol_sum = P1_pol_avg2[kk]*(ii)\n",
    "            P1_pol=0\n",
    "            for kkk in range(n):\n",
    "                P1_pol += np.abs(result.states[kk].ptrace(kkk + 1)[0][0][0])\n",
    "            P1_pol_avg2[kk] = (P1_pol_sum + P1_pol/n)/(ii+1)\n",
    "\n",
    "            \n",
    "        pbar.update(1)"
   ]
  },
  {
   "cell_type": "code",
   "execution_count": null,
   "id": "5bb404a3",
   "metadata": {},
   "outputs": [],
   "source": [
    "times_end = times2 + times1[-1]\n",
    "times = np.concatenate((np.asarray(times1), np.asarray(times_end)))\n",
    "NV_pol_avg = np.concatenate((NV_pol_avg1, NV_pol_avg2))\n",
    "P1_pol_avg = np.concatenate((P1_pol_avg1, P1_pol_avg2))"
   ]
  },
  {
   "cell_type": "code",
   "execution_count": null,
   "id": "dd9479d2",
   "metadata": {},
   "outputs": [],
   "source": [
    "plt.plot(times, NV_pol_avg, label = 'NV polarization')\n",
    "plt.plot(times, P1_pol_avg, label = 'P1 polarization (avg)')\n",
    "plt.title('Spin-locking: 1 NV + 10 P1')\n",
    "plt.xlabel(r'time ($\\mu s$)')\n",
    "plt.ylabel('Probability')\n",
    "plt.legend()"
   ]
  },
  {
   "cell_type": "code",
   "execution_count": null,
   "id": "5ef3a9fb",
   "metadata": {},
   "outputs": [],
   "source": [
    "times1 = np.linspace(0,2000e-9,300)\n",
    "times2 = np.linspace(0,2000e-9,300)\n",
    "times_end = times2 + times1[-1]\n",
    "times_A = np.concatenate((np.asarray(times1), np.asarray(times_end)))"
   ]
  },
  {
   "cell_type": "code",
   "execution_count": null,
   "id": "3a7d6eb5",
   "metadata": {},
   "outputs": [],
   "source": [
    "plt.plot(times, P1_pol_avg - min(P1_pol_avg))\n",
    "plt.plot(times_A, P1_pol_avg_A - min(P1_pol_avg_A))\n",
    "plt.title('Spin-locking: 1 NV + 10 P1')\n",
    "plt.xlabel(r'time ($\\mu s$)')\n",
    "plt.ylabel('Probability')\n",
    "plt.legend()"
   ]
  },
  {
   "cell_type": "code",
   "execution_count": null,
   "id": "52bcf67d",
   "metadata": {},
   "outputs": [],
   "source": [
    "plt.plot(times, NV_pol_avg - min(NV_pol_avg))\n",
    "plt.plot(times_A, NV_pol_avg_A - min(NV_pol_avg_A))\n",
    "plt.title('Spin-locking: 1 NV + 10 P1')\n",
    "plt.xlabel(r'time ($\\mu s$)')\n",
    "plt.ylabel('Probability')\n",
    "plt.legend()"
   ]
  },
  {
   "cell_type": "code",
   "execution_count": null,
   "id": "4f85505f",
   "metadata": {},
   "outputs": [],
   "source": []
  },
  {
   "cell_type": "code",
   "execution_count": null,
   "id": "1afbeba6-ebaa-4a8b-b7d3-1c7b26f06355",
   "metadata": {},
   "outputs": [],
   "source": []
  },
  {
   "cell_type": "code",
   "execution_count": null,
   "id": "b25f497c-5676-414e-8f02-2d4e91817f26",
   "metadata": {},
   "outputs": [],
   "source": []
  }
 ],
 "metadata": {
  "kernelspec": {
   "display_name": "Python 3 (ipykernel)",
   "language": "python",
   "name": "python3"
  },
  "language_info": {
   "codemirror_mode": {
    "name": "ipython",
    "version": 3
   },
   "file_extension": ".py",
   "mimetype": "text/x-python",
   "name": "python",
   "nbconvert_exporter": "python",
   "pygments_lexer": "ipython3",
   "version": "3.10.0"
  }
 },
 "nbformat": 4,
 "nbformat_minor": 5
}
