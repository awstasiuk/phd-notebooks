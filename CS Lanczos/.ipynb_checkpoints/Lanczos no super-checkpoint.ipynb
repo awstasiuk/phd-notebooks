{
 "cells": [
  {
   "cell_type": "code",
   "execution_count": 1,
   "id": "52166979-726a-47f2-9471-a335aebb99d1",
   "metadata": {},
   "outputs": [
    {
     "name": "stdout",
     "output_type": "stream",
     "text": [
      "WARNING:tensorflow:From C:\\Users\\awsta\\Documents\\qeg-workspace\\qeg-env\\lib\\site-packages\\keras\\src\\losses.py:2976: The name tf.losses.sparse_softmax_cross_entropy is deprecated. Please use tf.compat.v1.losses.sparse_softmax_cross_entropy instead.\n",
      "\n"
     ]
    }
   ],
   "source": [
    "import nmresearch as nmr"
   ]
  },
  {
   "cell_type": "code",
   "execution_count": 2,
   "id": "5c6a28ca-0f13-4887-8b35-5660e83fd129",
   "metadata": {},
   "outputs": [],
   "source": [
    "N=10"
   ]
  },
  {
   "cell_type": "code",
   "execution_count": 79,
   "id": "3fb70b48-8075-4dfd-a888-2e78f7218992",
   "metadata": {},
   "outputs": [],
   "source": [
    "def no_super(ham, op, max_iter=50, tol=1e-10):\n",
    "    start = timer()\n",
    "    end = 0\n",
    "    \n",
    "    krylov_basis = []\n",
    "    lanczos_coef = []\n",
    "    O0 = op\n",
    "    #L = self.liouv\n",
    "    A1 = ham @ O0 - O0 @ ham\n",
    "    #b1 = sqrt((A1.T.conj() @ A1)[0, 0])\n",
    "    b1 = sqrt((A1 @ A1.T.conj()).trace())\n",
    "    O1 = (1 / b1) * A1\n",
    "    krylov_basis.append(O0)\n",
    "    krylov_basis.append(O1)\n",
    "    lanczos_coef.append(b1)\n",
    "    \n",
    "    for j in range(2, max_iter, 1):\n",
    "        Aj = (ham @ krylov_basis[j - 1] - krylov_basis[j - 1] @ ham) - lanczos_coef[j - 2] * krylov_basis[j - 2]\n",
    "        bj = round(sqrt((Aj @ Aj.T.conj()).trace()), 16)\n",
    "        if bj < tol:\n",
    "            print(\"Lanczos Algorithm terminated at a 0-vector\")\n",
    "            break\n",
    "    \n",
    "        Oj = (1 / bj) * Aj\n",
    "        krylov_basis.append(Oj)\n",
    "        lanczos_coef.append(bj)\n",
    "    \n",
    "    #self.lanczos_coef = lanczos_coef\n",
    "    #self.krylov_basis = krylov_basis\n",
    "    end = timer()\n",
    "    print(\"Computation took \" + str(end - start) + \" sec\")\n",
    "    return lanczos_coef, krylov_basis"
   ]
  },
  {
   "cell_type": "code",
   "execution_count": 93,
   "id": "9d6c8759-3bd3-46d9-a49f-f99685518442",
   "metadata": {},
   "outputs": [],
   "source": [
    "def no_super_vecd(ham, op, max_iter=50, tol=1e-10):\n",
    "    start = timer()\n",
    "    end = 0\n",
    "    \n",
    "    krylov_basis = []\n",
    "    lanczos_coef = []\n",
    "    O0 = op\n",
    "    #L = self.liouv\n",
    "    A1 = ham @ O0 - O0 @ ham\n",
    "    #b1 = sqrt((A1.T.conj() @ A1)[0, 0])\n",
    "    b1 = sqrt( (nmr.vec(A1).T.conj() @ nmr.vec(A1)).data[0] )\n",
    "    O1 = (1 / b1) * A1\n",
    "    krylov_basis.append(O0)\n",
    "    krylov_basis.append(O1)\n",
    "    lanczos_coef.append(b1)\n",
    "    \n",
    "    for j in range(2, max_iter, 1):\n",
    "        Aj = (ham @ krylov_basis[j - 1] - krylov_basis[j - 1] @ ham) - lanczos_coef[j - 2] * krylov_basis[j - 2]\n",
    "        bj = round(sqrt( (nmr.vec(Aj).T.conj() @ nmr.vec(Aj)).data[0] ), 16)\n",
    "        if bj < tol:\n",
    "            print(\"Lanczos Algorithm terminated at a 0-vector\")\n",
    "            break\n",
    "    \n",
    "        Oj = (1 / bj) * Aj\n",
    "        krylov_basis.append(Oj)\n",
    "        lanczos_coef.append(bj)\n",
    "    \n",
    "    #self.lanczos_coef = lanczos_coef\n",
    "    #self.krylov_basis = krylov_basis\n",
    "    end = timer()\n",
    "    print(\"Computation took \" + str(end - start) + \" sec\")\n",
    "    return lanczos_coef, krylov_basis"
   ]
  },
  {
   "cell_type": "code",
   "execution_count": 3,
   "id": "01a83879-be83-405e-b52e-e5daa6410826",
   "metadata": {},
   "outputs": [],
   "source": [
    "ham = nmr.Hamiltonian(N)"
   ]
  },
  {
   "cell_type": "code",
   "execution_count": 4,
   "id": "fe011c01-ab51-42c6-8d6d-97fecf328656",
   "metadata": {},
   "outputs": [],
   "source": [
    "ham.H_cs_scrambling()"
   ]
  },
  {
   "cell_type": "code",
   "execution_count": 5,
   "id": "537047d4-fe56-4f13-b644-66fca112d39c",
   "metadata": {},
   "outputs": [],
   "source": [
    "operator =  nmr.PauliMatrix(N)\n",
    "sigz = (1/2**(N/2)) * operator.sigmaZ(0).tocsr()"
   ]
  },
  {
   "cell_type": "code",
   "execution_count": 7,
   "id": "1e294ff4-635b-46f4-a66d-a1c235b53c99",
   "metadata": {},
   "outputs": [],
   "source": [
    "solver = nmr.Lanczos(ham.ham,sigz)"
   ]
  },
  {
   "cell_type": "code",
   "execution_count": 6,
   "id": "f9798927-9c29-4cd6-a135-c355ca543e21",
   "metadata": {},
   "outputs": [],
   "source": [
    "import cProfile"
   ]
  },
  {
   "cell_type": "code",
   "execution_count": 8,
   "id": "b0ef8261-8bfb-4cc9-84b0-8a19b1d2e96f",
   "metadata": {},
   "outputs": [
    {
     "name": "stdout",
     "output_type": "stream",
     "text": [
      "Computation took 9.356876599995303 sec\n",
      "         107361 function calls (107302 primitive calls) in 9.358 seconds\n",
      "\n",
      "   Ordered by: internal time\n",
      "\n",
      "   ncalls  tottime  percall  cumtime  percall filename:lineno(function)\n",
      "      147    3.599    0.024    3.599    0.024 {built-in method scipy.sparse._sparsetools.csr_matmat}\n",
      "       49    1.629    0.033    1.629    0.033 {built-in method scipy.sparse._sparsetools.csr_sort_indices}\n",
      "      147    1.296    0.009    1.296    0.009 {built-in method scipy.sparse._sparsetools.csr_matmat_maxnnz}\n",
      "       98    1.142    0.012    1.142    0.012 {built-in method scipy.sparse._sparsetools.coo_tocsr}\n",
      "       97    0.382    0.004    0.382    0.004 {built-in method scipy.sparse._sparsetools.csr_minus_csr}\n",
      "      196    0.171    0.001    0.171    0.001 {built-in method builtins.divmod}\n",
      "       97    0.164    0.002    0.210    0.002 _data.py:139(_mul_scalar)\n",
      "      390    0.160    0.000    0.160    0.000 {method 'copy' of 'numpy.ndarray' objects}\n",
      "        1    0.150    0.150    9.357    9.357 lanczos.py:32(_compute_lanczos_fast_ham)\n",
      "       98    0.114    0.001    0.328    0.003 _coo.py:101(reshape)\n",
      "     1176    0.107    0.000    0.107    0.000 {method 'reduce' of 'numpy.ufunc' objects}\n",
      "       49    0.083    0.002    0.083    0.002 {method 'conjugate' of 'numpy.ndarray' objects}\n",
      "       49    0.067    0.001    3.092    0.063 _base.py:650(_mul_sparse_matrix)\n",
      "       49    0.049    0.001    0.049    0.001 {built-in method scipy.sparse._sparsetools.csr_sum_duplicates}\n",
      "       98    0.042    0.000    0.042    0.000 {built-in method scipy.sparse._sparsetools.csr_has_canonical_format}\n",
      "       98    0.035    0.000    0.035    0.000 {built-in method scipy.sparse._sparsetools.expandptr}\n",
      "       97    0.022    0.000    0.509    0.005 _compressed.py:364(_sub_sparse)\n",
      "     1712    0.021    0.000    0.033    0.000 _sputils.py:148(get_index_dtype)\n",
      "       98    0.019    0.000    0.436    0.004 _base.py:120(reshape)\n",
      "     1712    0.008    0.000    0.043    0.000 _base.py:1289(_get_index_dtype)\n",
      "     3424    0.007    0.000    0.007    0.000 getlimits.py:685(__init__)\n",
      "      928    0.007    0.000    0.007    0.000 {built-in method numpy.empty}\n",
      "  781/732    0.007    0.000    1.169    0.002 _compressed.py:27(__init__)\n",
      "     1271    0.005    0.000    0.009    0.000 _sputils.py:295(check_shape)\n",
      "      927    0.005    0.000    0.099    0.000 _compressed.py:1172(prune)\n",
      "      781    0.004    0.000    0.102    0.000 _compressed.py:137(check_format)\n",
      "      147    0.004    0.000    5.968    0.041 _compressed.py:512(_mul_sparse_matrix)\n",
      "       98    0.004    0.000    2.884    0.029 _coo.py:278(tocsr)\n",
      "      294    0.003    0.000    0.130    0.000 _coo.py:25(__init__)\n",
      "      294    0.002    0.000    0.115    0.000 _coo.py:170(_check)\n",
      "     2006    0.002    0.000    0.003    0.000 <frozen importlib._bootstrap>:404(parent)\n",
      "     3902    0.002    0.000    0.002    0.000 _compressed.py:109(_getnnz)\n",
      "     4490    0.002    0.000    0.005    0.000 _base.py:285(nnz)\n",
      "    14857    0.002    0.000    0.002    0.000 {built-in method builtins.len}\n",
      "     5672    0.002    0.000    0.002    0.000 {built-in method builtins.isinstance}\n",
      "       48    0.002    0.000    0.002    0.000 {method 'round' of 'numpy.generic' objects}\n",
      "       97    0.002    0.000    0.487    0.005 _compressed.py:1242(_binopt)\n",
      "     3225    0.001    0.000    0.002    0.000 _sputils.py:308(<genexpr>)\n",
      "     1854    0.001    0.000    0.090    0.000 _util.py:210(_prune_array)\n",
      "     1712    0.001    0.000    0.001    0.000 getlimits.py:696(min)\n",
      "     5816    0.001    0.000    0.001    0.000 _matrix.py:64(get_shape)\n",
      "     1075    0.001    0.000    0.001    0.000 _base.py:107(__init__)\n",
      "      488    0.001    0.000    0.002    0.000 numeric.py:1855(isscalar)\n",
      "     6162    0.001    0.000    0.001    0.000 {built-in method numpy.asarray}\n",
      "      588    0.001    0.000    0.001    0.000 _coo.py:144(_getnnz)\n",
      "     1075    0.001    0.000    0.002    0.000 _data.py:20(__init__)\n",
      "     2493    0.001    0.000    0.001    0.000 {built-in method numpy.array}\n",
      "     1712    0.001    0.000    0.001    0.000 getlimits.py:709(max)\n",
      "      831    0.001    0.000    0.002    0.000 _sputils.py:239(isshape)\n",
      "     2006    0.001    0.000    0.001    0.000 {method 'rpartition' of 'str' objects}\n",
      "       98    0.001    0.000    0.001    0.000 _matrix.py:22(_csr_container)\n",
      "     1419    0.001    0.000    0.001    0.000 {built-in method builtins.max}\n",
      "       98    0.001    0.000    0.088    0.001 _compressed.py:1039(tocoo)\n",
      "     1075    0.001    0.000    0.001    0.000 {built-in method builtins.any}\n",
      "      147    0.001    0.000    7.883    0.054 _base.py:559(_mul_dispatch)\n",
      "      488    0.001    0.000    0.003    0.000 _sputils.py:212(isscalarlike)\n",
      "      294    0.001    0.000    0.001    0.000 _sputils.py:217(isintlike)\n",
      "       97    0.001    0.000    0.046    0.000 _compressed.py:1228(_with_data)\n",
      "      342    0.001    0.000    0.001    0.000 _sputils.py:23(upcast)\n",
      "       98    0.001    0.000    1.724    0.018 _compressed.py:1115(sum_duplicates)\n",
      "     4026    0.001    0.000    0.001    0.000 multiarray.py:503(can_cast)\n",
      "      294    0.001    0.000    0.001    0.000 _sputils.py:110(getdtype)\n",
      "       98    0.001    0.000    0.006    0.000 _csr.py:21(transpose)\n",
      "     3225    0.000    0.000    0.000    0.000 _sputils.py:313(<genexpr>)\n",
      "     1025    0.000    0.000    0.001    0.000 _base.py:1483(issparse)\n",
      "        1    0.000    0.000    9.357    9.357 lanczos.py:26(compute_lanczos_fast)\n",
      "      391    0.000    0.000    0.000    0.000 {built-in method _abc._abc_instancecheck}\n",
      "       98    0.000    0.000    0.043    0.000 _compressed.py:1086(has_canonical_format)\n",
      "      588    0.000    0.000    0.057    0.000 {method 'max' of 'numpy.ndarray' objects}\n",
      "      586    0.000    0.000    0.000    0.000 {built-in method builtins.getattr}\n",
      "       98    0.000    0.000    0.001    0.000 _matrix.py:17(_csc_container)\n",
      "      588    0.000    0.000    0.057    0.000 _methods.py:39(_amax)\n",
      "      244    0.000    0.000    0.002    0.000 _compressed.py:126(_set_self)\n",
      "      147    0.000    0.000    7.885    0.054 _base.py:674(__matmul__)\n",
      "       98    0.000    0.000    0.000    0.000 _matrix.py:12(_coo_container)\n",
      "     1464    0.000    0.000    0.000    0.000 _base.py:305(format)\n",
      "     2542    0.000    0.000    0.000    0.000 {built-in method _operator.index}\n",
      "      244    0.000    0.000    1.038    0.004 _base.py:398(asformat)\n",
      "       49    0.000    0.000    1.630    0.033 _compressed.py:1163(sort_indices)\n",
      "       98    0.000    0.000    0.443    0.005 op_basis.py:222(vec)\n",
      "       97    0.000    0.000    0.510    0.005 _base.py:531(__sub__)\n",
      "     2391    0.000    0.000    0.000    0.000 _csr.py:117(_swap)\n",
      "      588    0.000    0.000    0.051    0.000 {method 'min' of 'numpy.ndarray' objects}\n",
      "      294    0.000    0.000    0.001    0.000 _sputils.py:136(getdata)\n",
      "       49    0.000    0.000    0.058    0.001 _coo.py:417(_with_data)\n",
      "       49    0.000    0.000    0.142    0.003 _data.py:84(conjugate)\n",
      "      391    0.000    0.000    0.001    0.000 abc.py:117(__instancecheck__)\n",
      "      588    0.000    0.000    0.050    0.000 _methods.py:43(_amin)\n",
      "      733    0.000    0.000    0.000    0.000 _data.py:23(dtype)\n",
      "      343    0.000    0.000    0.000    0.000 {built-in method builtins.hash}\n",
      "      147    0.000    0.000    0.000    0.000 _compressed.py:1109(has_canonical_format)\n",
      "       97    0.000    0.000    0.210    0.002 _base.py:653(_rmul_dispatch)\n",
      "      440    0.000    0.000    0.000    0.000 {method 'astype' of 'numpy.ndarray' objects}\n",
      "      391    0.000    0.000    0.000    0.000 _sputils.py:268(isdense)\n",
      "      342    0.000    0.000    0.000    0.000 {method 'get' of 'dict' objects}\n",
      "      588    0.000    0.000    0.000    0.000 _sputils.py:306(<genexpr>)\n",
      "      196    0.000    0.000    0.000    0.000 _sputils.py:344(check_reshape_kwargs)\n",
      "      147    0.000    0.000    0.020    0.000 _base.py:325(T)\n",
      "      147    0.000    0.000    0.000    0.000 _compressed.py:1147(has_sorted_indices)\n",
      "      294    0.000    0.000    0.000    0.000 _sputils.py:94(to_native)\n",
      "      294    0.000    0.000    0.000    0.000 fromnumeric.py:3176(ndim)\n",
      "       97    0.000    0.000    0.211    0.002 _matrix.py:46(__rmul__)\n",
      "      392    0.000    0.000    0.000    0.000 {built-in method math.prod}\n",
      "       49    0.000    0.000    0.014    0.000 _coo.py:196(transpose)\n",
      "      490    0.000    0.000    0.000    0.000 _csc.py:142(_swap)\n",
      "       49    0.000    0.000    0.000    0.000 numerictypes.py:357(issubdtype)\n",
      "      196    0.000    0.000    0.000    0.000 _sputils.py:320(<listcomp>)\n",
      "       98    0.000    0.000    0.000    0.000 numerictypes.py:283(issubclass_)\n",
      "       48    0.000    0.000    0.002    0.000 fromnumeric.py:53(_wrapfunc)\n",
      "       48    0.000    0.000    0.002    0.000 fromnumeric.py:3269(round)\n",
      "      147    0.000    0.000    0.000    0.000 {built-in method builtins.issubclass}\n",
      "      392    0.000    0.000    0.000    0.000 {method 'pop' of 'dict' objects}\n",
      "      294    0.000    0.000    0.000    0.000 fromnumeric.py:3172(_ndim_dispatcher)\n",
      "       49    0.000    0.000    0.000    0.000 _compressed.py:1131(has_sorted_indices)\n",
      "       49    0.000    0.000    0.142    0.003 _base.py:819(conj)\n",
      "        1    0.000    0.000    0.000    0.000 socket.py:621(send)\n",
      "      148    0.000    0.000    0.000    0.000 {built-in method builtins.hasattr}\n",
      "       49    0.000    0.000    0.000    0.000 {built-in method scipy.sparse._sparsetools.csr_has_sorted_indices}\n",
      "      196    0.000    0.000    0.000    0.000 {built-in method builtins.iter}\n",
      "      196    0.000    0.000    0.000    0.000 multiarray.py:85(empty_like)\n",
      "        2    0.000    0.000    0.000    0.000 iostream.py:655(write)\n",
      "       48    0.000    0.000    0.000    0.000 fromnumeric.py:3265(_round_dispatcher)\n",
      "       99    0.000    0.000    0.000    0.000 {method 'append' of 'list' objects}\n",
      "      6/1    0.000    0.000    0.000    0.000 {built-in method _abc._abc_subclasscheck}\n",
      "        1    0.000    0.000    0.000    0.000 iostream.py:259(schedule)\n",
      "        1    0.000    0.000    0.000    0.000 {built-in method builtins.print}\n",
      "        1    0.000    0.000    0.000    0.000 cProfile.py:40(print_stats)\n",
      "        1    0.000    0.000    0.000    0.000 pstats.py:117(init)\n",
      "        2    0.000    0.000    0.000    0.000 iostream.py:505(parent_header)\n",
      "        2    0.000    0.000    0.000    0.000 iostream.py:550(_is_master_process)\n",
      "        1    0.000    0.000    0.000    0.000 pstats.py:107(__init__)\n",
      "      6/1    0.000    0.000    0.000    0.000 abc.py:121(__subclasscheck__)\n",
      "        1    0.000    0.000    0.000    0.000 iostream.py:138(_event_pipe)\n",
      "        1    0.000    0.000    0.000    0.000 threading.py:1149(is_alive)\n",
      "        2    0.000    0.000    0.000    0.000 iostream.py:577(_schedule_flush)\n",
      "        1    0.000    0.000    0.000    0.000 cProfile.py:50(create_stats)\n",
      "        1    0.000    0.000    0.000    0.000 threading.py:1095(_wait_for_tstate_lock)\n",
      "        1    0.000    0.000    0.000    0.000 pstats.py:136(load_stats)\n",
      "        2    0.000    0.000    0.000    0.000 {built-in method nt.getpid}\n",
      "        1    0.000    0.000    0.000    0.000 {method 'acquire' of '_thread.lock' objects}\n",
      "        2    0.000    0.000    0.000    0.000 {built-in method time.perf_counter}\n",
      "        2    0.000    0.000    0.000    0.000 {method 'write' of '_io.StringIO' objects}\n",
      "        1    0.000    0.000    0.000    0.000 tz.py:74(utcoffset)\n",
      "        2    0.000    0.000    0.000    0.000 {method '__exit__' of '_thread.RLock' objects}\n",
      "        2    0.000    0.000    0.000    0.000 {method 'items' of 'dict' objects}\n",
      "        1    0.000    0.000    0.000    0.000 {method 'append' of 'collections.deque' objects}\n",
      "        1    0.000    0.000    0.000    0.000 threading.py:546(is_set)\n",
      "        2    0.000    0.000    0.000    0.000 {method 'get' of '_contextvars.ContextVar' objects}\n",
      "        1    0.000    0.000    0.000    0.000 {method 'disable' of '_lsprof.Profiler' objects}\n",
      "        1    0.000    0.000    0.000    0.000 multiarray.py:669(result_type)\n",
      "\n",
      "\n"
     ]
    }
   ],
   "source": [
    "with cProfile.Profile() as pr:\n",
    "    solver.compute_lanczos_fast()\n",
    "    pr.print_stats(sort=1)"
   ]
  },
  {
   "cell_type": "code",
   "execution_count": 12,
   "id": "795192d3-8281-498f-af87-1edab6578626",
   "metadata": {},
   "outputs": [],
   "source": [
    "import numpy as np\n",
    "times = np.arange(0,5,0.05)"
   ]
  },
  {
   "cell_type": "code",
   "execution_count": 15,
   "id": "2e7a8e42-746e-4471-b61f-e43de0feeeb8",
   "metadata": {},
   "outputs": [
    {
     "name": "stderr",
     "output_type": "stream",
     "text": [
      "C:\\Users\\awsta\\Documents\\qeg-workspace\\qeg-env\\lib\\site-packages\\matplotlib\\cbook.py:1699: ComplexWarning: Casting complex values to real discards the imaginary part\n",
      "  return math.isfinite(val)\n",
      "C:\\Users\\awsta\\Documents\\qeg-workspace\\qeg-env\\lib\\site-packages\\matplotlib\\cbook.py:1345: ComplexWarning: Casting complex values to real discards the imaginary part\n",
      "  return np.asarray(x, float)\n"
     ]
    },
    {
     "data": {
      "text/plain": [
       "[<matplotlib.lines.Line2D at 0x2182b7755a0>]"
      ]
     },
     "execution_count": 15,
     "metadata": {},
     "output_type": "execute_result"
    },
    {
     "data": {
      "image/png": "[encoded data removed]",
      "text/plain": [
       "<Figure size 640x480 with 1 Axes>"
      ]
     },
     "metadata": {},
     "output_type": "display_data"
    }
   ],
   "source": [
    "import matplotlib.pyplot as plt\n",
    "plt.plot(times,solver.auto_correlation(times))"
   ]
  },
  {
   "cell_type": "code",
   "execution_count": null,
   "id": "d2ad3245-d87e-4bd5-81b2-f394ae1ed025",
   "metadata": {},
   "outputs": [],
   "source": []
  }
 ],
 "metadata": {
  "kernelspec": {
   "display_name": "Python 3 (ipykernel)",
   "language": "python",
   "name": "python3"
  },
  "language_info": {
   "codemirror_mode": {
    "name": "ipython",
    "version": 3
   },
   "file_extension": ".py",
   "mimetype": "text/x-python",
   "name": "python",
   "nbconvert_exporter": "python",
   "pygments_lexer": "ipython3",
   "version": "3.10.0"
  }
 },
 "nbformat": 4,
 "nbformat_minor": 5
}
