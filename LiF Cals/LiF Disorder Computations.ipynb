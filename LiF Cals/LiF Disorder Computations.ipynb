{
 "cells": [
  {
   "cell_type": "code",
   "execution_count": 1,
   "id": "a87c6378-ad31-4aa9-9790-1c14d4740c0a",
   "metadata": {},
   "outputs": [],
   "source": [
    "import nmresearch as nmr"
   ]
  },
  {
   "cell_type": "code",
   "execution_count": 2,
   "id": "7f5559dd-6b99-4557-b1a4-3ca645341e92",
   "metadata": {},
   "outputs": [],
   "source": [
    "import numpy as np\n",
    "\n",
    "import matplotlib.pyplot as plt\n",
    "\n",
    "from timeit import default_timer as timer\n",
    "\n",
    "from nmresearch import Crystal\n",
    "from nmresearch import Disorder\n",
    "from nmresearch import Atom, AtomPos"
   ]
  },
  {
   "cell_type": "code",
   "execution_count": 3,
   "id": "a93283df-96d3-4d23-a7c0-0b01a6ffc218",
   "metadata": {},
   "outputs": [],
   "source": [
    "fl = Atom(dim_s=2, gamma=2 * np.pi * 40.052 * 10**6, name=\"flourine\")"
   ]
  },
  {
   "cell_type": "code",
   "execution_count": 4,
   "id": "304f1299-9c03-41c7-814f-76d1e9c5cf2b",
   "metadata": {},
   "outputs": [],
   "source": [
    "li = Atom(dim_s=4, gamma=2 * np.pi * 16.546 * 10**6, name=\"lithium-7\")"
   ]
  },
  {
   "cell_type": "code",
   "execution_count": 5,
   "id": "1992467f-a08d-4435-967b-7649f3306907",
   "metadata": {},
   "outputs": [],
   "source": [
    "unit_cell = {\n",
    "    fl: np.array([[0, 0, 0]]),\n",
    "    li: np.array(\n",
    "        [\n",
    "            [0.5, 0.5, 0.5]\n",
    "        ]\n",
    "    ),\n",
    "}"
   ]
  },
  {
   "cell_type": "code",
   "execution_count": 6,
   "id": "5f935dbe-f782-4399-9773-55d2d68a8327",
   "metadata": {},
   "outputs": [],
   "source": [
    "a=4.08\n",
    "lattice = a*np.array(\n",
    "    [\n",
    "        [0.5, 0.5, 0],\n",
    "        [0, 0.5, 0.5],\n",
    "        [0.5, 0, 0.5],\n",
    "    ]\n",
    ")"
   ]
  },
  {
   "cell_type": "code",
   "execution_count": 7,
   "id": "bf210ada-b260-4724-bc89-5ca09adad0e5",
   "metadata": {},
   "outputs": [
    {
     "data": {
      "text/plain": [
       "array([[2.04, 2.04, 0.  ],\n",
       "       [0.  , 2.04, 2.04],\n",
       "       [2.04, 0.  , 2.04]])"
      ]
     },
     "execution_count": 7,
     "metadata": {},
     "output_type": "execute_result"
    }
   ],
   "source": [
    "lattice"
   ]
  },
  {
   "cell_type": "code",
   "execution_count": 8,
   "id": "75dfce68-3f26-4fb8-80fc-204c2ee604af",
   "metadata": {},
   "outputs": [],
   "source": [
    "# crystal object\n",
    "xtal = Crystal(unit_cell, lattice)\n",
    "# disorder computation vehicle, with 5 unitcell shells\n",
    "mycalc = Disorder(xtal, 8)"
   ]
  },
  {
   "cell_type": "code",
   "execution_count": 9,
   "id": "6765d0ce-7029-4b11-be39-4ae62641520d",
   "metadata": {},
   "outputs": [],
   "source": [
    "orig_atom = AtomPos.create_from_atom(atom=fl, position=[0, 0, 0])\n",
    "isqrt3 = 1/np.sqrt(3)\n",
    "bfield = np.array([isqrt3,isqrt3,isqrt3])"
   ]
  },
  {
   "cell_type": "code",
   "execution_count": 10,
   "id": "111c98eb-9a4c-4e88-b0e1-877a69e98043",
   "metadata": {},
   "outputs": [
    {
     "name": "stdout",
     "output_type": "stream",
     "text": [
      "computation time 0.008532400010153651\n"
     ]
    }
   ],
   "source": [
    "# Monte Carlo to generate the distribution\n",
    "start = timer()\n",
    "my_distro = mycalc.simulation(orig_atom, 10000, bdir=bfield, filename=\"final.dat\")\n",
    "end = timer()\n",
    "print(\"computation time \" + str(end - start))"
   ]
  },
  {
   "cell_type": "code",
   "execution_count": 11,
   "id": "6ef2d1bf-79dd-4e13-9bf5-d88234090e9c",
   "metadata": {},
   "outputs": [
    {
     "data": {
      "image/png": "[encoded data removed]",
      "text/plain": [
       "<Figure size 640x480 with 1 Axes>"
      ]
     },
     "metadata": {},
     "output_type": "display_data"
    }
   ],
   "source": [
    "plt.hist(\n",
    "    [y * 1e-3 for y in my_distro],\n",
    "    bins=50,\n",
    "    density=True,\n",
    "    label=\"Monte-Carlo \\n Simulation\",\n",
    ")\n",
    "plt.show()"
   ]
  },
  {
   "cell_type": "code",
   "execution_count": 12,
   "id": "ae14abed-f01a-46ec-9af4-38db2c735ccc",
   "metadata": {},
   "outputs": [
    {
     "data": {
      "text/plain": [
       "0.10909943543700698"
      ]
     },
     "execution_count": 12,
     "metadata": {},
     "output_type": "execute_result"
    }
   ],
   "source": [
    "np.mean(my_distro)/1e3"
   ]
  },
  {
   "cell_type": "code",
   "execution_count": 18,
   "id": "5be30703-10a3-4fd3-b2fd-5a47d533e7a8",
   "metadata": {},
   "outputs": [
    {
     "data": {
      "text/plain": [
       "10.148650158954514"
      ]
     },
     "execution_count": 18,
     "metadata": {},
     "output_type": "execute_result"
    }
   ],
   "source": [
    "np.std(my_distro)/(2*np.pi*1e3)"
   ]
  },
  {
   "cell_type": "code",
   "execution_count": 14,
   "id": "0f89362e-aa46-42a1-bbb3-51244d8d2b69",
   "metadata": {},
   "outputs": [
    {
     "data": {
      "text/plain": [
       "14.144191262910997"
      ]
     },
     "execution_count": 14,
     "metadata": {},
     "output_type": "execute_result"
    }
   ],
   "source": [
    "1e-3 *mycalc.variance_estimate(orig_atom,[1,1,1])**.5"
   ]
  },
  {
   "cell_type": "code",
   "execution_count": 15,
   "id": "5e006d46-4858-4a75-aaf2-5cb8d02fc4a1",
   "metadata": {},
   "outputs": [
    {
     "name": "stdout",
     "output_type": "stream",
     "text": [
      "computation time 0.009590000030584633\n"
     ]
    }
   ],
   "source": [
    "# crystal object\n",
    "xtal = Crystal(unit_cell, lattice)\n",
    "# disorder computation vehicle, with 5 unitcell shells\n",
    "mycalc = Disorder(xtal, 8)\n",
    "\n",
    "orig_atom = AtomPos.create_from_atom(atom=fl, position=[0, 0, 0])\n",
    "isqrt3 = 1/np.sqrt(3)\n",
    "bfield = np.array([0,0,1])\n",
    "\n",
    "# Monte Carlo to generate the distribution\n",
    "start = timer()\n",
    "my_distro = mycalc.simulation(orig_atom, 10000, bdir=bfield, filename=\"aligned.dat\")\n",
    "end = timer()\n",
    "print(\"computation time \" + str(end - start))"
   ]
  },
  {
   "cell_type": "code",
   "execution_count": 16,
   "id": "e183bf3a-49fe-4827-875f-cbf2026ebc50",
   "metadata": {},
   "outputs": [
    {
     "data": {
      "image/png": "[encoded data removed]",
      "text/plain": [
       "<Figure size 640x480 with 1 Axes>"
      ]
     },
     "metadata": {},
     "output_type": "display_data"
    }
   ],
   "source": [
    "plt.hist(\n",
    "    [y * 1e-3 for y in my_distro],\n",
    "    bins=50,\n",
    "    density=True,\n",
    "    label=\"Monte-Carlo \\n Simulation\",\n",
    ")\n",
    "plt.show()"
   ]
  },
  {
   "cell_type": "code",
   "execution_count": 17,
   "id": "7fe0b467-a928-4ef7-9b98-9afafb2f2a98",
   "metadata": {},
   "outputs": [
    {
     "data": {
      "text/plain": [
       "63.765849566448765"
      ]
     },
     "execution_count": 17,
     "metadata": {},
     "output_type": "execute_result"
    }
   ],
   "source": [
    "np.std(my_distro)/1e3"
   ]
  },
  {
   "cell_type": "code",
   "execution_count": null,
   "id": "5caf26e6-b153-4582-81ff-f06ddec7995e",
   "metadata": {},
   "outputs": [],
   "source": []
  }
 ],
 "metadata": {
  "kernelspec": {
   "display_name": "qeg-env",
   "language": "python",
   "name": "python3"
  },
  "language_info": {
   "codemirror_mode": {
    "name": "ipython",
    "version": 3
   },
   "file_extension": ".py",
   "mimetype": "text/x-python",
   "name": "python",
   "nbconvert_exporter": "python",
   "pygments_lexer": "ipython3",
   "version": "3.13.5"
  }
 },
 "nbformat": 4,
 "nbformat_minor": 5
}
