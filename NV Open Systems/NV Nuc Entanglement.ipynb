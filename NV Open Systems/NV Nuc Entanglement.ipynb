{
 "cells": [
  {
   "cell_type": "code",
   "execution_count": 1,
   "id": "eaee646c-7b29-47cf-8986-748d58814168",
   "metadata": {},
   "outputs": [],
   "source": [
    "import numpy as np\n",
    "from numpy import pi\n",
    "import qutip as qt\n",
    "from qutip import hinton, identity, to_super, sigmaz, tensor, tensor_contract, sigmax, projection, jmat, basis, propagator, coefficient\n",
    "import matplotlib.pyplot as plt\n",
    "from functools import lru_cache"
   ]
  },
  {
   "cell_type": "code",
   "execution_count": 2,
   "id": "4b1ca02d-2feb-46ab-aef3-d4e7374b0385",
   "metadata": {},
   "outputs": [],
   "source": [
    "sqrt2 = np.sqrt(2)\n",
    "isqrt2 = 1/np.sqrt(2)"
   ]
  },
  {
   "cell_type": "code",
   "execution_count": 3,
   "id": "87a7ab40-c3a4-4149-a644-9729d7801ec8",
   "metadata": {},
   "outputs": [],
   "source": [
    "# Hilbert space ordering is:\n",
    "# NV - N15 - X - H1 \n",
    "\n",
    "SzNV = tensor(jmat(1/2,'z'), identity([2,2,2]))\n",
    "SxNV = tensor(jmat(1/2,'x'),identity([2,2,2]))\n",
    "SyNV = tensor(jmat(1/2,'y'),identity([2,2,2]))\n",
    "\n",
    "IzNV = tensor(identity([2]), jmat(1/2,'z'),identity([2,2]))\n",
    "IxNV = tensor(identity([2]), jmat(1/2,'x'),identity([2,2]))\n",
    "IyNV = tensor(identity([2]), jmat(1/2,'y'),identity([2,2]))\n",
    "\n",
    "SzX = tensor(identity([2,2]), jmat(1/2,'z'), identity([2]))\n",
    "SxX = tensor(identity([2,2]), jmat(1/2,'x'), identity([2]))\n",
    "SyX = tensor(identity([2,2]), jmat(1/2,'y'), identity([2]))\n",
    "\n",
    "IzX = tensor(identity([2,2,2]), jmat(1/2,'z'))\n",
    "IxX = tensor(identity([2,2,2]), jmat(1/2,'x'))\n",
    "IyX = tensor(identity([2,2,2]), jmat(1/2,'y'))"
   ]
  },
  {
   "cell_type": "code",
   "execution_count": 4,
   "id": "27dc5a67-eea3-4322-a5f0-197f7a09d453",
   "metadata": {},
   "outputs": [],
   "source": [
    "GHz=1e3\n",
    "MHz=1\n",
    "kHz=1e-3\n",
    "\n",
    "ms=1e3\n",
    "us=1\n",
    "ns=1e-3\n",
    "\n",
    "T = 1e4\n",
    "G = 1\n",
    "\n",
    "B = 360\n",
    "\n",
    "gamma_e = -28024 * MHz / T\n",
    "gamma_p = 42.577 * MHz / T\n",
    "gamma_N = -4.316 * MHz / T\n",
    "\n",
    "omegaNV =  2.87 * GHz + gamma_e * B\n",
    "omegaX = gamma_e * B\n",
    "omegaN15 = gamma_N * B\n",
    "omegaP = gamma_p * B\n",
    "\n",
    "Anv = 3.06 * MHz\n",
    "D = 60 * kHz\n",
    "Omega = 1 * MHz\n",
    "Omega_e = 1 * MHz # formerly 1 MHz\n",
    "Omega_h = 40*kHz\n",
    "Omega_n = 20*kHz\n",
    "\n",
    "T1e = 1*ms\n",
    "T2e = 50*us\n",
    "T1n = 10*ms\n",
    "T2n = 500*us\n",
    "\n",
    "T1e_rho = 100*us # this is emergent, no need to add directly\n",
    "\n",
    "t_swap_nvx = 7.95*us\n",
    "t_cnot_xn_n = 12.5*us\n",
    "t_cnot_xn_e = 0.355*us\n",
    "t_cnot_nvn_e = 0.355*us\n",
    "t_cnot_nvn_n = 25*us\n",
    "\n",
    "deg = np.pi/180"
   ]
  },
  {
   "cell_type": "code",
   "execution_count": 5,
   "id": "d4427973-7ae9-4de4-9ddf-da407874419c",
   "metadata": {},
   "outputs": [],
   "source": [
    "zdir_nv = (1/np.sqrt(3))*np.array([1,1,1])\n",
    "theta_nv = np.arccos(1/np.sqrt(3))\n",
    "phi_nv = 45*deg\n",
    "\n",
    "def EulerMatrix(alpha, beta, gamma):\n",
    "    return Rz(alpha) @ Ry(beta) @ Rz(gamma)\n",
    "\n",
    "def Rz(alpha):\n",
    "    return np.array(\n",
    "        [\n",
    "            [np.cos(alpha), -np.sin(alpha),0],\n",
    "            [np.sin(alpha), np.cos(alpha),0],\n",
    "            [0,0,1]\n",
    "        ]\n",
    "    )\n",
    "\n",
    "def Ry(alpha):\n",
    "    return np.array(\n",
    "        [\n",
    "            [np.cos(alpha), 0, np.sin(alpha)],\n",
    "            [0,1, 0],\n",
    "            [-np.sin(alpha),0, np.cos(alpha)]\n",
    "        ]\n",
    "    )\n",
    "\n",
    "def Rx(alpha):\n",
    "    return np.array(\n",
    "        [\n",
    "            [1,0,0],\n",
    "            [0, np.cos(alpha), -np.sin(alpha),],\n",
    "            [0, np.sin(alpha), np.cos(alpha),]\n",
    "        ]\n",
    "    )"
   ]
  },
  {
   "cell_type": "code",
   "execution_count": 6,
   "id": "5aabd06a-c67b-4380-9755-8481d502eeca",
   "metadata": {},
   "outputs": [],
   "source": [
    "# magnetic field alignment in the lab frame\n",
    "theta = 0\n",
    "phi = phi_nv\n",
    "\n",
    "# some other relative angles \n",
    "alpha = 0*deg\n",
    "beta = 90*deg\n",
    "\n",
    "# principle components of uni-axial symm HF tensor\n",
    "Ax_perp = 17.2 * MHz\n",
    "Ax_para = 26 * MHz #29.4 * MHz\n",
    "\n",
    "# direction of B field in the lab frame\n",
    "Bdir = np.array([np.sin(theta)*np.sin(phi), np.sin(theta)*np.cos(phi), np.cos(theta)])\n",
    "\n",
    "# Hyperfine tensor in the principle axis frame\n",
    "Ax_principle = np.array([[Ax_perp, 0, 0], [0, Ax_perp, 0], [0, 0, Ax_para]])\n",
    "\n",
    "RB = EulerMatrix(phi, theta, 0)\n",
    "RA = EulerMatrix(beta, alpha, 0)\n",
    "\n",
    "# NV-frame hyperfine tensor\n",
    "Ax = RB @ RA.T @ Ax_principle @ RA @ RB.T\n",
    "\n"
   ]
  },
  {
   "cell_type": "code",
   "execution_count": 7,
   "id": "0cc13e22-806b-4318-a197-9447f4c85157",
   "metadata": {},
   "outputs": [],
   "source": [
    "NvPi2 = (-1j*(np.pi/2)*SyNV).expm()\n",
    "XPi2 = (-1j*(np.pi/2)*SyX).expm()\n",
    "\n",
    "NV_Pi_2_super = qt.to_super(NvPi2)\n",
    "X_Pi_2_super = qt.to_super(XPi2)\n",
    "\n",
    "NV_Pi_super = NV_Pi_2_super**2\n",
    "\n",
    "\"\"\"\n",
    "Hartman-Hahn Hamiltonian for dipolar coupled electron spins\n",
    "\"\"\"\n",
    "H_spin_lock =  2*np.pi*(Omega * (SxNV + SxX)  + 2 * D * SzNV * SzX)\n",
    "\n",
    "\n",
    "\"\"\"\n",
    "Hyperfine Hamiltonians for X-H\n",
    "HxHF_rE drives the electronic CNOT, RWA is taken judiciously\n",
    "HxHF_rN drives the nuclear CNOT, includes terms that may be oscillating slowly enough to matter\n",
    "\"\"\"\n",
    "HxHF = (omegaX * SzX + omegaP * IzX + Ax[2,2] * (SzX * IzX) + Ax[2,0] * (SzX * IxX) + Ax[2,1] * (SzX * IyX))\n",
    "energies = HxHF.eigenenergies()\n",
    "omega_cnot21_MEAS = energies[3*4]-energies[0*4]\n",
    "omega_cnot12_MEAS = energies[3*4]-energies[2*4]\n",
    "cost = coefficient(lambda t: np.cos(omega_cnot12_MEAS*t))\n",
    "sint = coefficient(lambda t: np.sin(omega_cnot12_MEAS*t))\n",
    "HxHF_rE = 2*np.pi* ((omegaX + omega_cnot21_MEAS) * SzX + omegaP * IzX + Ax[2,2] * (SzX * IzX) + Ax[2,0] * (SzX * IxX) + Ax[2,1] * (SzX * IyX) + Omega_e*SxX)\n",
    "HxHF_rN = 2*np.pi*( (omegaP+omega_cnot12_MEAS) * IzX + Ax[2,2] * (SzX * IzX) + Ax[2,0] * (SzX * (cost*IxX + sint*IyX)) + Ax[2,1] * (SzX * (cost*IyX - sint*IxX)) + Omega_h*IxX )\n",
    "\n",
    "\"\"\"\n",
    "Hyperfine Hamiltonians for NV-N\n",
    "HnvHF_rE drives the electronic CNOT, RWA is taken judiciously\n",
    "HnvHF_rN drives the nuclear CNOT, no perp components so no slow oscillators\n",
    "\"\"\"\n",
    "HnvHF =  (omegaNV * SzNV + omegaN15 * IzNV + Anv * (SzNV * IzNV))\n",
    "energies_nv = HnvHF.eigenenergies()\n",
    "omega_cnot21_MEAS_nv = energies_nv[1*4]-energies_nv[2*4]\n",
    "omega_cnot12_MEAS_nv = energies_nv[1*4]-energies_nv[0*4]\n",
    "\n",
    "HnvHF_rE = 2*np.pi* ((omegaNV + omega_cnot21_MEAS_nv) * SzNV + omegaN15 * IzNV + Anv * (SzNV * IzNV) + Omega_e*SxNV)\n",
    "HnvHF_rN = 2*np.pi*( (omegaN15 + omega_cnot12_MEAS_nv) * IzNV + Anv * (SzNV * IzNV) + Omega_n*IxNV )"
   ]
  },
  {
   "cell_type": "code",
   "execution_count": 8,
   "id": "71d77838-8ad2-49d7-b6fd-6e644bcaad01",
   "metadata": {},
   "outputs": [],
   "source": [
    "NV_c_ops = [1/(2*T1e) * SxNV, 1/(2*T1e) * SyNV, 1/(2*T2e) * SzNV]\n",
    "X_c_ops = [1/(2*T1e) * SxX, 1/(2*T1e) * SyX, 1/(2*T2e) * SzX]\n",
    "\n",
    "N15_c_ops = [1/(2*T1n) * IxNV, 1/(2*T1n) * IyNV, 1/(T2n) * IzNV]\n",
    "H_c_ops = [1/(2*T1n) * IxX, 1/(2*T1n) * IyX, 1/(T2n) * IzX]"
   ]
  },
  {
   "cell_type": "code",
   "execution_count": 9,
   "id": "3af9b2b3-add2-4d88-8a79-8009a1434247",
   "metadata": {},
   "outputs": [],
   "source": [
    "lindblad_ops = NV_c_ops + X_c_ops + N15_c_ops + H_c_ops"
   ]
  },
  {
   "cell_type": "code",
   "execution_count": 10,
   "id": "28bd6365-beb7-4e2a-946f-b34d2d70a9aa",
   "metadata": {},
   "outputs": [],
   "source": [
    "@lru_cache\n",
    "def hartman_hahn_NV_X(t):\n",
    "    # performs a hartman_hahn sequence on the electronic spins NV and X\n",
    "    # Pi/2)_y - (simul spin lock along X) - Pi/2)_-y\n",
    "    # variable time: iSWAP = 8.15us evolution time\n",
    "    spin_lock = propagator(H_spin_lock, t,c_ops=lindblad_ops)\n",
    "    simul_pulse = X_Pi_2_super * NV_Pi_2_super\n",
    "    return simul_pulse.conj().trans() * spin_lock * simul_pulse\n",
    "\n",
    "@lru_cache\n",
    "def noise(t):\n",
    "    # computes noise propegator for a time t while no \n",
    "    # other evolution is occuring, on all subspaces\n",
    "    return propagator(identity([2,2,2,2]), t, c_ops=lindblad_ops)\n",
    "    \n",
    "@lru_cache\n",
    "def partial_noise_nv(t):\n",
    "    # get noise operator for only the NV-comb tooth\n",
    "    # performs identity on other subspaces\n",
    "    return propagator(identity([2,2,2,2]), t, c_ops=(NV_c_ops+ N15_c_ops))\n",
    "\n",
    "@lru_cache\n",
    "def partial_noise_x(t):\n",
    "    # get noise operator for only the X-comb tooth\n",
    "    # performs identity on other subspaces\n",
    "    return propagator(identity([2,2,2,2]), t, c_ops=(X_c_ops+ H_c_ops))\n",
    "\n",
    "@lru_cache\n",
    "def cnot_x_nuc(t):\n",
    "    # perform noisy selective nuclear transition on X-H\n",
    "    # performs identity on other subspaces\n",
    "    return propagator(HxHF_rN, t, c_ops=(X_c_ops+ H_c_ops), options={'nsteps':1e6})\n",
    "\n",
    "@lru_cache\n",
    "def cnot_x_e(t):\n",
    "    # perform noisy selective electronic transition on X-H\n",
    "    # performs identity on other subspaces\n",
    "    return propagator(HxHF_rE, t, c_ops=(X_c_ops+ H_c_ops), options={'nsteps':1e6})\n",
    "\n",
    "@lru_cache\n",
    "def cnot_nv_nuc(t):\n",
    "    # perform noisy selective nuclear transition on NV-N\n",
    "    # performs identity on other subspaces\n",
    "    return propagator(HnvHF_rN, t, c_ops=(NV_c_ops+ N15_c_ops), options={'nsteps':1e6})\n",
    "\n",
    "@lru_cache\n",
    "def cnot_nv_e(t):\n",
    "    # perform noisy selective electronic transition on NV-N\n",
    "    # performs identity on other subspaces\n",
    "    return propagator(HnvHF_rE, t, c_ops=(NV_c_ops+ N15_c_ops), options={'nsteps':1e6})\n",
    "\n",
    "@lru_cache\n",
    "def partial_pol_state(pol):\n",
    "    # returns a state partially polarize along Z\n",
    "    # polarization must be a number between -1 and 1\n",
    "    assert abs(pol) <= 1\n",
    "    return (1+pol)/2*projection(2,0,0) + (1-pol)/2*projection(2,1,1)\n",
    "\n",
    "def nv_reset(rho, pol):\n",
    "    nrho = qt.vector_to_operator(noise(3*us)*qt.operator_to_vector(rho))\n",
    "    prho = nrho.ptrace([2,3])\n",
    "    return tensor(projection(2,0,0), partial_pol_state(pol), prho)"
   ]
  },
  {
   "cell_type": "code",
   "execution_count": 11,
   "id": "94526533-bb6d-45ea-8663-06927f1722fb",
   "metadata": {},
   "outputs": [
    {
     "data": {
      "text/latex": [
       "Quantum object: dims=[[2, 2, 2, 2], [2, 2, 2, 2]], shape=(16, 16), type='oper', dtype=CSR, isherm=True$$\\left(\\begin{array}{cc}0.225 & 0 & 0 & 0 & 0 & \\cdots & 0 & 0 & 0 & 0 & 0\\\\0 & 0.225 & 0 & 0 & 0 & \\cdots & 0 & 0 & 0 & 0 & 0\\\\0 & 0 & 0.225 & 0 & 0 & \\cdots & 0 & 0 & 0 & 0 & 0\\\\0 & 0 & 0 & 0.225 & 0 & \\cdots & 0 & 0 & 0 & 0 & 0\\\\0 & 0 & 0 & 0 & 0.025 & \\cdots & 0 & 0 & 0 & 0 & 0\\\\\\vdots & \\vdots & \\vdots & \\vdots & \\vdots & \\ddots & \\vdots & \\vdots & \\vdots & \\vdots & \\vdots\\\\0 & 0 & 0 & 0 & 0 & \\cdots & 0 & 0 & 0 & 0 & 0\\\\0 & 0 & 0 & 0 & 0 & \\cdots & 0 & 0 & 0 & 0 & 0\\\\0 & 0 & 0 & 0 & 0 & \\cdots & 0 & 0 & 0 & 0 & 0\\\\0 & 0 & 0 & 0 & 0 & \\cdots & 0 & 0 & 0 & 0 & 0\\\\0 & 0 & 0 & 0 & 0 & \\cdots & 0 & 0 & 0 & 0 & 0\\end{array}\\right)$$"
      ],
      "text/plain": [
       "Quantum object: dims=[[2, 2, 2, 2], [2, 2, 2, 2]], shape=(16, 16), type='oper', dtype=CSR, isherm=True\n",
       "Qobj data =\n",
       "[[0.225 0.    0.    0.    0.    0.    0.    0.    0.    0.    0.    0.\n",
       "  0.    0.    0.    0.   ]\n",
       " [0.    0.225 0.    0.    0.    0.    0.    0.    0.    0.    0.    0.\n",
       "  0.    0.    0.    0.   ]\n",
       " [0.    0.    0.225 0.    0.    0.    0.    0.    0.    0.    0.    0.\n",
       "  0.    0.    0.    0.   ]\n",
       " [0.    0.    0.    0.225 0.    0.    0.    0.    0.    0.    0.    0.\n",
       "  0.    0.    0.    0.   ]\n",
       " [0.    0.    0.    0.    0.025 0.    0.    0.    0.    0.    0.    0.\n",
       "  0.    0.    0.    0.   ]\n",
       " [0.    0.    0.    0.    0.    0.025 0.    0.    0.    0.    0.    0.\n",
       "  0.    0.    0.    0.   ]\n",
       " [0.    0.    0.    0.    0.    0.    0.025 0.    0.    0.    0.    0.\n",
       "  0.    0.    0.    0.   ]\n",
       " [0.    0.    0.    0.    0.    0.    0.    0.025 0.    0.    0.    0.\n",
       "  0.    0.    0.    0.   ]\n",
       " [0.    0.    0.    0.    0.    0.    0.    0.    0.    0.    0.    0.\n",
       "  0.    0.    0.    0.   ]\n",
       " [0.    0.    0.    0.    0.    0.    0.    0.    0.    0.    0.    0.\n",
       "  0.    0.    0.    0.   ]\n",
       " [0.    0.    0.    0.    0.    0.    0.    0.    0.    0.    0.    0.\n",
       "  0.    0.    0.    0.   ]\n",
       " [0.    0.    0.    0.    0.    0.    0.    0.    0.    0.    0.    0.\n",
       "  0.    0.    0.    0.   ]\n",
       " [0.    0.    0.    0.    0.    0.    0.    0.    0.    0.    0.    0.\n",
       "  0.    0.    0.    0.   ]\n",
       " [0.    0.    0.    0.    0.    0.    0.    0.    0.    0.    0.    0.\n",
       "  0.    0.    0.    0.   ]\n",
       " [0.    0.    0.    0.    0.    0.    0.    0.    0.    0.    0.    0.\n",
       "  0.    0.    0.    0.   ]\n",
       " [0.    0.    0.    0.    0.    0.    0.    0.    0.    0.    0.    0.\n",
       "  0.    0.    0.    0.   ]]"
      ]
     },
     "execution_count": 11,
     "metadata": {},
     "output_type": "execute_result"
    }
   ],
   "source": [
    "pol=0.8\n",
    "rho0 = tensor(projection(2,0,0), partial_pol_state(pol),0.25*identity([2,2]))\n",
    "rho0"
   ]
  },
  {
   "cell_type": "code",
   "execution_count": 12,
   "id": "2fc8babb-c9f3-43b4-b357-92899d58c58c",
   "metadata": {},
   "outputs": [],
   "source": [
    "def NV_X_entanglement(rho):\n",
    "    rho1 = hartman_hahn_NV_X(t_swap_nvx) * qt.operator_to_vector(rho)\n",
    "    rho2 = nv_reset(qt.vector_to_operator(rho1),pol)\n",
    "    return qt.vector_to_operator(hartman_hahn_NV_X(t_swap_nvx/2) * NV_Pi_super * qt.operator_to_vector(rho2))"
   ]
  },
  {
   "cell_type": "code",
   "execution_count": 13,
   "id": "be310a7d-c9d5-4d26-8660-85ff8bf76a36",
   "metadata": {},
   "outputs": [],
   "source": [
    "rhoEnt = NV_X_entanglement(rho0)"
   ]
  },
  {
   "cell_type": "code",
   "execution_count": 14,
   "id": "2fc42914-6baa-4f40-8484-aa8e792a1773",
   "metadata": {},
   "outputs": [
    {
     "data": {
      "text/plain": [
       "0.9932762640706683"
      ]
     },
     "execution_count": 14,
     "metadata": {},
     "output_type": "execute_result"
    }
   ],
   "source": [
    "qt.concurrence(rhoEnt.ptrace([0,2]))"
   ]
  },
  {
   "cell_type": "code",
   "execution_count": 15,
   "id": "0a9c44fa-d1c1-4394-bde3-2d42cdeeb01c",
   "metadata": {},
   "outputs": [
    {
     "data": {
      "text/latex": [
       "Quantum object: dims=[[2, 2], [2, 2]], shape=(4, 4), type='oper', dtype=Dense, isherm=True$$\\left(\\begin{array}{cc}9.937\\times10^{ -5 } & -1.022\\times10^{ -16 } & 1.438\\times10^{ -16 } & -1.809\\times10^{ -6 }\\\\1.787\\times10^{ -16 } & 0.462 & -0.497j & -1.118\\times10^{ -16 }\\\\2.344\\times10^{ -16 } & 0.497j & 0.534 & 7.160\\times10^{ -17 }\\\\-1.809\\times10^{ -6 } & 2.671\\times10^{ -16 } & -2.401\\times10^{ -17 } & 0.003\\end{array}\\right)$$"
      ],
      "text/plain": [
       "Quantum object: dims=[[2, 2], [2, 2]], shape=(4, 4), type='oper', dtype=Dense, isherm=True\n",
       "Qobj data =\n",
       "[[ 9.93748042e-05-7.96058576e-17j -1.02215683e-16-1.75134861e-17j\n",
       "   1.43786235e-16+9.13976393e-17j -1.80850812e-06+1.22406639e-05j]\n",
       " [ 1.78745170e-16-4.42178243e-16j  4.62492699e-01+2.88765173e-16j\n",
       "  -8.49071190e-09-4.97178714e-01j -1.11835728e-16+7.69095185e-17j]\n",
       " [ 2.34445212e-16-8.14140751e-17j -8.49071234e-09+4.97178714e-01j\n",
       "   5.34467250e-01+1.00787031e-16j  7.16030301e-17-3.12153293e-17j]\n",
       " [-1.80850812e-06-1.22406639e-05j  2.67139448e-16+3.18929187e-17j\n",
       "  -2.40127206e-17-2.19793112e-16j  2.94067612e-03-1.82454688e-16j]]"
      ]
     },
     "execution_count": 15,
     "metadata": {},
     "output_type": "execute_result"
    }
   ],
   "source": [
    "rhoEnt.ptrace([0,2])"
   ]
  },
  {
   "cell_type": "code",
   "execution_count": 16,
   "id": "4c6a4ee1-19b0-41dd-bfc2-4d43997198c4",
   "metadata": {},
   "outputs": [],
   "source": [
    "swap_x = cnot_x_e(t_cnot_xn_e) * cnot_x_nuc(t_cnot_xn_n) * cnot_x_e(t_cnot_xn_e)\n",
    "t_swap_x = 2*t_cnot_xn_e + t_cnot_xn_n"
   ]
  },
  {
   "cell_type": "code",
   "execution_count": 17,
   "id": "d9272a62-fd31-4c1a-9120-c8e022d26be8",
   "metadata": {},
   "outputs": [],
   "source": [
    "swap_nv = cnot_nv_e(t_cnot_nvn_e) * cnot_nv_nuc(t_cnot_nvn_n) * cnot_nv_e(t_cnot_nvn_e)\n",
    "t_swap_nv = 2*t_cnot_nvn_e + t_cnot_nvn_n"
   ]
  },
  {
   "cell_type": "code",
   "execution_count": 18,
   "id": "f130a051-6e09-4b28-8b6f-f7086168c7c4",
   "metadata": {},
   "outputs": [
    {
     "data": {
      "text/plain": [
       "12.5"
      ]
     },
     "execution_count": 18,
     "metadata": {},
     "output_type": "execute_result"
    }
   ],
   "source": [
    "t_swap_nv-t_swap_x"
   ]
  },
  {
   "cell_type": "code",
   "execution_count": 19,
   "id": "a8f13db7-0c26-4b89-934a-f3c4d87115ce",
   "metadata": {},
   "outputs": [],
   "source": [
    "noise_x = partial_noise_x(t_swap_nv-t_swap_x)"
   ]
  },
  {
   "cell_type": "code",
   "execution_count": 20,
   "id": "d66b04fe-23b0-406f-9c31-f035a60420df",
   "metadata": {},
   "outputs": [],
   "source": [
    "rhoNucEnt = qt.vector_to_operator(noise_x*swap_x*swap_nv*qt.operator_to_vector(rhoEnt))"
   ]
  },
  {
   "cell_type": "code",
   "execution_count": 21,
   "id": "71a8fce0-e47f-49ff-91f9-674e6d7bdc10",
   "metadata": {},
   "outputs": [
    {
     "data": {
      "text/latex": [
       "Quantum object: dims=[[2, 2], [2, 2]], shape=(4, 4), type='oper', dtype=Dense, isherm=True$$\\left(\\begin{array}{cc}0.071 & (0.013-0.096j) & (-0.112-0.019j) & (0.026-0.032j)\\\\(0.013+0.096j) & 0.395 & (-0.002-0.284j) & (0.103+0.021j)\\\\(-0.112+0.019j) & (-0.002+0.284j) & 0.457 & (-0.017+0.107j)\\\\(0.026+0.032j) & (0.103-0.021j) & (-0.017-0.107j) & 0.078\\end{array}\\right)$$"
      ],
      "text/plain": [
       "Quantum object: dims=[[2, 2], [2, 2]], shape=(4, 4), type='oper', dtype=Dense, isherm=True\n",
       "Qobj data =\n",
       "[[ 0.07060688+3.15613266e-17j  0.01252944-9.63322530e-02j\n",
       "  -0.11210465-1.91676165e-02j  0.02620558-3.19914019e-02j]\n",
       " [ 0.01252944+9.63322530e-02j  0.39464657+1.53651067e-16j\n",
       "  -0.00239705-2.83612256e-01j  0.10267375+2.12996463e-02j]\n",
       " [-0.11210465+1.91676165e-02j -0.00239705+2.83612256e-01j\n",
       "   0.45724568+3.65024827e-17j -0.017255  +1.06934081e-01j]\n",
       " [ 0.02620558+3.19914019e-02j  0.10267375-2.12996463e-02j\n",
       "  -0.017255  -1.06934081e-01j  0.07750087-9.89750625e-17j]]"
      ]
     },
     "execution_count": 21,
     "metadata": {},
     "output_type": "execute_result"
    }
   ],
   "source": [
    "rhoNucEnt.ptrace([1,3])"
   ]
  },
  {
   "cell_type": "code",
   "execution_count": 22,
   "id": "b0fa2909-dafb-4697-810a-a0c88dfc25f0",
   "metadata": {},
   "outputs": [
    {
     "data": {
      "text/plain": [
       "0.5546329695904562"
      ]
     },
     "execution_count": 22,
     "metadata": {},
     "output_type": "execute_result"
    }
   ],
   "source": [
    "qt.concurrence(rhoNucEnt.ptrace([1,3]))"
   ]
  },
  {
   "cell_type": "code",
   "execution_count": null,
   "id": "2d3fc701-772f-4ede-a44d-69aaa1db3543",
   "metadata": {},
   "outputs": [],
   "source": []
  },
  {
   "cell_type": "code",
   "execution_count": 45,
   "id": "063687dd-68a3-4142-b158-513642ab9a1c",
   "metadata": {},
   "outputs": [],
   "source": [
    "swap_back_rho = noise_x*swap_x*swap_nv*qt.operator_to_vector(rhoNucEnt)"
   ]
  },
  {
   "cell_type": "code",
   "execution_count": 43,
   "id": "2c70fd73-a96c-4559-bec7-6d646f8c6b9b",
   "metadata": {},
   "outputs": [
    {
     "data": {
      "text/latex": [
       "Quantum object: dims=[[2, 2], [2, 2]], shape=(4, 4), type='oper', dtype=Dense, isherm=True$$\\left(\\begin{array}{cc}0.167 & (-0.007+0.087j) & (0.045+0.122j) & (0.066-0.002j)\\\\(-0.007-0.087j) & 0.344 & (0.012-0.084j) & (-0.025+0.002j)\\\\(0.045-0.122j) & (0.012+0.084j) & 0.353 & (0.014-0.100j)\\\\(0.066+0.002j) & (-0.025-0.002j) & (0.014+0.100j) & 0.137\\end{array}\\right)$$"
      ],
      "text/plain": [
       "Quantum object: dims=[[2, 2], [2, 2]], shape=(4, 4), type='oper', dtype=Dense, isherm=True\n",
       "Qobj data =\n",
       "[[ 0.16653835-1.67735721e-16j -0.00744386+8.71653776e-02j\n",
       "   0.04523242+1.21968164e-01j  0.06568734-1.58472134e-03j]\n",
       " [-0.00744386-8.71653776e-02j  0.34359613+3.33789903e-16j\n",
       "   0.01248708-8.44183870e-02j -0.02541243+1.54007940e-03j]\n",
       " [ 0.04523242-1.21968164e-01j  0.01248708+8.44183870e-02j\n",
       "   0.35250031+1.91969853e-16j  0.01378565-9.96829409e-02j]\n",
       " [ 0.06568734+1.58472134e-03j -0.02541243-1.54007940e-03j\n",
       "   0.01378565+9.96829409e-02j  0.13736521-2.42340877e-16j]]"
      ]
     },
     "execution_count": 43,
     "metadata": {},
     "output_type": "execute_result"
    }
   ],
   "source": [
    "qt.vector_to_operator(swap_back_rho.ptrace([0,2]))"
   ]
  },
  {
   "cell_type": "code",
   "execution_count": 44,
   "id": "5121d7a7-4476-43f8-a90e-1c5724d02d1b",
   "metadata": {},
   "outputs": [
    {
     "data": {
      "text/plain": [
       "0.04770395350024491"
      ]
     },
     "execution_count": 44,
     "metadata": {},
     "output_type": "execute_result"
    }
   ],
   "source": [
    "qt.concurrence(qt.vector_to_operator(swap_back_rho.ptrace([0,2])))"
   ]
  },
  {
   "cell_type": "code",
   "execution_count": 33,
   "id": "9b9b9957-2328-4390-a4c5-3c744fb786c9",
   "metadata": {},
   "outputs": [
    {
     "data": {
      "text/latex": [
       "Quantum object: dims=[[2], [2]], shape=(2, 2), type='oper', dtype=Dense, isherm=True$$\\left(\\begin{array}{cc}0.510 & (0.020+0.124j)\\\\(0.020-0.124j) & 0.490\\end{array}\\right)$$"
      ],
      "text/plain": [
       "Quantum object: dims=[[2], [2]], shape=(2, 2), type='oper', dtype=Dense, isherm=True\n",
       "Qobj data =\n",
       "[[0.51013448+1.63875538e-16j 0.01981999+1.23508243e-01j]\n",
       " [0.01981999-1.23508243e-01j 0.48986552-4.92901003e-17j]]"
      ]
     },
     "execution_count": 33,
     "metadata": {},
     "output_type": "execute_result"
    }
   ],
   "source": [
    "qt.vector_to_operator(swap_back_rho.ptrace([0]))"
   ]
  },
  {
   "cell_type": "code",
   "execution_count": 39,
   "id": "840d121b-0ddb-4ff5-80e4-d285cf406e54",
   "metadata": {},
   "outputs": [
    {
     "data": {
      "text/plain": [
       "0.010134483706843174"
      ]
     },
     "execution_count": 39,
     "metadata": {},
     "output_type": "execute_result"
    }
   ],
   "source": [
    "nv_recurrence = qt.vector_to_operator(swap_back_rho)\n",
    "qt.expect(nv_recurrence,SzNV)"
   ]
  },
  {
   "cell_type": "code",
   "execution_count": null,
   "id": "87d3cc4a-ec1c-4fe3-9c56-1cd9496c8cc3",
   "metadata": {},
   "outputs": [],
   "source": []
  }
 ],
 "metadata": {
  "kernelspec": {
   "display_name": "Python 3 (ipykernel)",
   "language": "python",
   "name": "python3"
  },
  "language_info": {
   "codemirror_mode": {
    "name": "ipython",
    "version": 3
   },
   "file_extension": ".py",
   "mimetype": "text/x-python",
   "name": "python",
   "nbconvert_exporter": "python",
   "pygments_lexer": "ipython3",
   "version": "3.10.0"
  }
 },
 "nbformat": 4,
 "nbformat_minor": 5
}
