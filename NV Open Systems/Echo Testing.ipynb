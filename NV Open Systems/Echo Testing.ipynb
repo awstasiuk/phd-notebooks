{
 "cells": [
  {
   "cell_type": "code",
   "execution_count": 1,
   "id": "5fa16700-0c9d-4dac-bc7a-8b33e215ecd3",
   "metadata": {},
   "outputs": [],
   "source": [
    "import scipy as sp\n",
    "import numpy as np\n",
    "from numpy import pi, sqrt\n",
    "import matplotlib.pyplot as plt\n",
    "import qutip as qt\n",
    "from qutip import hinton, identity, to_super, sigmaz, tensor, tensor_contract, sigmax, projection, jmat, basis, propagator, coefficient"
   ]
  },
  {
   "cell_type": "code",
   "execution_count": 2,
   "id": "b016170f-9563-4280-b5c1-479de2d867ed",
   "metadata": {},
   "outputs": [],
   "source": [
    "Sz = tensor(jmat(1/2,'z'), identity([2]))\n",
    "Sx = tensor(jmat(1/2,'x'),identity([2]))\n",
    "Sy = tensor(jmat(1/2,'y'),identity([2]))\n",
    "\n",
    "Iz = tensor(identity(2), jmat(1/2,'z'))\n",
    "Ix = tensor(identity(2), jmat(1/2,'x'))\n",
    "Iy = tensor(identity(2), jmat(1/2,'y'))"
   ]
  },
  {
   "cell_type": "code",
   "execution_count": 30,
   "id": "8ae8bb52-e5e4-4852-93cc-a3992583c012",
   "metadata": {},
   "outputs": [],
   "source": [
    "sqrt2 = np.sqrt(2)\n",
    "isqrt2 = 1/np.sqrt(2)\n",
    "\n",
    "GHz=1e3\n",
    "MHz=1\n",
    "kHz=1e-3\n",
    "\n",
    "ms=1e3\n",
    "us=1\n",
    "ns=1e-3\n",
    "\n",
    "T = 1e4\n",
    "G = 1\n",
    "\n",
    "B = 360\n",
    "\n",
    "gamma_e = -28024 * MHz / T\n",
    "gamma_p = 42.577 * MHz / T\n",
    "gamma_N = -4.316 * MHz / T\n",
    "\n",
    "omegaNV =  2.87 * GHz + gamma_e * B\n",
    "omegaX = gamma_e * B\n",
    "omegaN15 = gamma_N * B\n",
    "omegaP = gamma_p * B\n",
    "\n",
    "D = 60 * kHz\n",
    "Omega = 1 * MHz\n",
    "Omega_p = 40*kHz\n",
    "\n",
    "T1e = 1*ms\n",
    "T2e = 4*us\n",
    "T2e_star = 50*us\n",
    "T1n = 10*ms\n",
    "T2n = 500*us\n",
    "\n",
    "T1e_rho = 100*us # this is emergent, no need to add directly\n",
    "\n",
    "t_swap_nvx = 7.95*us\n",
    "\n",
    "deg = np.pi/180"
   ]
  },
  {
   "cell_type": "code",
   "execution_count": 4,
   "id": "8956caf8-c700-4082-9898-5f24511503f8",
   "metadata": {},
   "outputs": [],
   "source": [
    "e0 = basis(2,0)\n",
    "e1 = basis(2,1)\n",
    "n0 = basis(2,0)\n",
    "n1 = basis(2,1)\n",
    "\n",
    "ket00 = tensor(e0,n0)\n",
    "ket01 = tensor(e0,n1)\n",
    "ket10 = tensor(e1,n0)\n",
    "ket11 = tensor(e1,n1)\n",
    "\n",
    "rho00 = tensor(projection(2,0,0), projection(2,0,0))\n",
    "rho01 = tensor(projection(2,0,0), projection(2,1,1))\n",
    "rho10 = tensor(projection(2,1,1), projection(2,0,0))\n",
    "rho11 = tensor(projection(2,1,1), projection(2,1,1))"
   ]
  },
  {
   "cell_type": "code",
   "execution_count": 64,
   "id": "f92c4f75-751b-449a-90f5-faa424f024d4",
   "metadata": {},
   "outputs": [],
   "source": [
    "e_c_ops = [1/(2*T1e) * Sx, 1/(2*T1e) * Sy, 1/(2*T2e) * Sz]\n",
    "\n",
    "estar_c_ops = [1/(2*T1e) * Sx, 1/(2*T1e) * Sy, 1/(2*T2e_star) * Sz]\n",
    "\n",
    "n_c_ops = [1/(2*T1n) * Ix, 1/(2*T1n) * Iy, 1/(2*T2n) * Iz]\n",
    "\n",
    "lindblad_ops = estar_c_ops + n_c_ops "
   ]
  },
  {
   "cell_type": "code",
   "execution_count": 65,
   "id": "c4e92326-d842-456d-b0a5-6338717153dd",
   "metadata": {},
   "outputs": [],
   "source": [
    "def noise(t):\n",
    "    # computes noise propegator for a time t while no \n",
    "    # other evolution is occuring\n",
    "    return propagator(identity([2,2]), t, c_ops=lindblad_ops)\n",
    "\n",
    "def partial_pol_state(pol):\n",
    "    # returns a state partially polarize along Z\n",
    "    # polarization must be a number between -1 and 1\n",
    "    assert abs(pol) <= 1\n",
    "    return (1+pol)/2*projection(2,0,0) + (1-pol)/2*projection(2,1,1)\n",
    "\n",
    "def nv_reset(pol):\n",
    "    return tensor(projection(2,0,0), partial_pol_state(pol), prho)\n",
    "\n",
    "XPi = qt.to_super((-1j*(np.pi)*Sy).expm())\n",
    "\n"
   ]
  },
  {
   "cell_type": "code",
   "execution_count": 66,
   "id": "18a17b96-b155-4540-b742-02bc0b5249da",
   "metadata": {},
   "outputs": [],
   "source": [
    "zdir_nv = (1/np.sqrt(3))*np.array([1,1,1])\n",
    "theta_nv = np.arccos(1/np.sqrt(3))\n",
    "phi_nv = 45*deg\n",
    "\n",
    "def EulerMatrix(alpha, beta, gamma):\n",
    "    return Rz(alpha) @ Ry(beta) @ Rz(gamma)\n",
    "\n",
    "def Rz(alpha):\n",
    "    return np.array(\n",
    "        [\n",
    "            [np.cos(alpha), -np.sin(alpha),0],\n",
    "            [np.sin(alpha), np.cos(alpha),0],\n",
    "            [0,0,1]\n",
    "        ]\n",
    "    )\n",
    "\n",
    "def Ry(alpha):\n",
    "    return np.array(\n",
    "        [\n",
    "            [np.cos(alpha), 0, np.sin(alpha)],\n",
    "            [0,1, 0],\n",
    "            [-np.sin(alpha),0, np.cos(alpha)]\n",
    "        ]\n",
    "    )\n",
    "\n",
    "def Rx(alpha):\n",
    "    return np.array(\n",
    "        [\n",
    "            [1,0,0],\n",
    "            [0, np.cos(alpha), -np.sin(alpha),],\n",
    "            [0, np.sin(alpha), np.cos(alpha),]\n",
    "        ]\n",
    "    )\n",
    "\n",
    "\n",
    "# magnetic field alignment in the lab frame\n",
    "theta = 0\n",
    "phi = phi_nv\n",
    "\n",
    "# some other relative angles \n",
    "alpha = 0*deg\n",
    "beta = 90*deg\n",
    "\n",
    "# principle components of uni-axial symm HF tensor\n",
    "A_perp = 17.2 * MHz\n",
    "A_para = 29.4 * MHz\n",
    "\n",
    "# direction of B field in the lab frame\n",
    "Bdir = np.array([np.sin(theta)*np.sin(phi), np.sin(theta)*np.cos(phi), np.cos(theta)])\n",
    "\n",
    "# Hyperfine tensor in the principle axis frame\n",
    "A_principle = np.array([[A_perp, 0, 0], [0, A_perp, 0], [0, 0, A_para]])\n",
    "\n",
    "RB = EulerMatrix(phi, theta, 0)\n",
    "RA = EulerMatrix(beta, alpha, 0)\n",
    "\n",
    "# NV-frame hyperfine tensor\n",
    "A = RB @ RA.T @ A_principle @ RA @ RB.T"
   ]
  },
  {
   "cell_type": "code",
   "execution_count": 67,
   "id": "0b3f1cfe-5330-4727-bcd2-2a0c8cd3144f",
   "metadata": {},
   "outputs": [
    {
     "data": {
      "text/latex": [
       "Quantum object: dims=[[2, 2], [2, 2]], shape=(4, 4), type='oper', dtype=CSR, isherm=True$$\\left(\\begin{array}{cc}-496.316 & 0 & 0 & 0\\\\0 & -512.548 & 0 & 0\\\\0 & 0 & 497.848 & 0\\\\0 & 0 & 0 & 511.016\\end{array}\\right)$$"
      ],
      "text/plain": [
       "Quantum object: dims=[[2, 2], [2, 2]], shape=(4, 4), type='oper', dtype=CSR, isherm=True\n",
       "Qobj data =\n",
       "[[-496.315614    0.          0.          0.      ]\n",
       " [   0.       -512.548386    0.          0.      ]\n",
       " [   0.          0.        497.848386    0.      ]\n",
       " [   0.          0.          0.        511.015614]]"
      ]
     },
     "execution_count": 67,
     "metadata": {},
     "output_type": "execute_result"
    }
   ],
   "source": [
    "H = (omegaX * Sz + omegaP * Iz + A[2,2] * (Sz * Iz) + A[2,0] * (Sz * Ix) + A[2,1] * (Sz * Iy))\n",
    "energies = H.eigenenergies()\n",
    "H"
   ]
  },
  {
   "cell_type": "code",
   "execution_count": 68,
   "id": "c93f7278-1b80-4125-b954-bca735898b99",
   "metadata": {},
   "outputs": [],
   "source": [
    "omega_cnot_right = (energies[3]-energies[0])\n",
    "\n",
    "omega_cnot_upper = (energies[3]-energies[2])\n",
    "omega_cnot_lower = (energies[1]-energies[0])"
   ]
  },
  {
   "cell_type": "code",
   "execution_count": 69,
   "id": "28c30dd1-f017-4b9e-ae79-c104ff785c2a",
   "metadata": {},
   "outputs": [
    {
     "data": {
      "text/plain": [
       "1023.5640000000001"
      ]
     },
     "execution_count": 69,
     "metadata": {},
     "output_type": "execute_result"
    }
   ],
   "source": [
    "omega_cnot_right"
   ]
  },
  {
   "cell_type": "code",
   "execution_count": 70,
   "id": "e584f31a-789b-4278-8b14-ed8989d401ff",
   "metadata": {},
   "outputs": [],
   "source": [
    "rho0 = 0.5*tensor(projection(2,0,0), identity([2]))"
   ]
  },
  {
   "cell_type": "code",
   "execution_count": 156,
   "id": "068278d8-2824-4168-911a-860b89e68239",
   "metadata": {},
   "outputs": [
    {
     "data": {
      "image/png": "[encoded data removed]",
      "text/plain": [
       "<Figure size 640x480 with 1 Axes>"
      ]
     },
     "metadata": {},
     "output_type": "display_data"
    }
   ],
   "source": [
    "HrE = 2*pi* ((omegaX + omega_cnot_right) * Sz + A[2,2] * (Sz * Iz) + Omega * Sx)\n",
    "\n",
    "times = np.arange(0,1,.005)\n",
    "resE = qt.mesolve(HrE,rho01,times,c_ops=lindblad_ops)\n",
    "signal = [qt.expect(rho11, state) for state in resE.states]\n",
    "t_cnot_e = times[np.argmax(signal)]\n",
    "plt.plot(times,signal,label=\"Transition: 01->11\")\n",
    "plt.scatter(t_cnot_e, np.max(signal),label=f\"t-max = {t_cnot_e}\")\n",
    "plt.xlabel(\"Driving time, (us)\")\n",
    "plt.ylabel(\"Transition Probability\")\n",
    "plt.title(\"CNOT Calibration, Control: p, Target: e\")\n",
    "plt.legend()\n",
    "plt.show()"
   ]
  },
  {
   "cell_type": "code",
   "execution_count": 160,
   "id": "99cab980-51c9-43e0-9fa5-0a896b4fc16b",
   "metadata": {},
   "outputs": [
    {
     "data": {
      "text/latex": [
       "Quantum object: dims=[[2, 2], [2, 2]], shape=(4, 4), type='oper', dtype=CSR, isherm=True$$\\left(\\begin{array}{cc}14.700 & 0 & 0.500 & 0\\\\0 & 2.309\\times10^{ -14 } & 0 & 0.500\\\\0.500 & 0 & -14.700 & 0\\\\0 & 0.500 & 0 & -2.309\\times10^{ -14 }\\end{array}\\right)$$"
      ],
      "text/plain": [
       "Quantum object: dims=[[2, 2], [2, 2]], shape=(4, 4), type='oper', dtype=CSR, isherm=True\n",
       "Qobj data =\n",
       "[[ 1.47000000e+01  0.00000000e+00  5.00000000e-01  0.00000000e+00]\n",
       " [ 0.00000000e+00  2.30926389e-14  0.00000000e+00  5.00000000e-01]\n",
       " [ 5.00000000e-01  0.00000000e+00 -1.47000000e+01  0.00000000e+00]\n",
       " [ 0.00000000e+00  5.00000000e-01  0.00000000e+00 -2.30926389e-14]]"
      ]
     },
     "execution_count": 160,
     "metadata": {},
     "output_type": "execute_result"
    }
   ],
   "source": [
    "(omegaX + omega_cnot_right) * Sz + A[2,2] * (Sz * Iz) + Omega * Sx"
   ]
  },
  {
   "cell_type": "code",
   "execution_count": 162,
   "id": "fda02043-20cc-424f-833b-51405c8b08a1",
   "metadata": {},
   "outputs": [
    {
     "data": {
      "text/plain": [
       "-1008.864"
      ]
     },
     "execution_count": 162,
     "metadata": {},
     "output_type": "execute_result"
    }
   ],
   "source": [
    "omegaX"
   ]
  },
  {
   "cell_type": "code",
   "execution_count": 163,
   "id": "f8dbec8d-f184-4bd4-8660-b17d833c7ef8",
   "metadata": {},
   "outputs": [
    {
     "data": {
      "text/plain": [
       "1023.5640000000001"
      ]
     },
     "execution_count": 163,
     "metadata": {},
     "output_type": "execute_result"
    }
   ],
   "source": [
    "omega_cnot_right"
   ]
  },
  {
   "cell_type": "code",
   "execution_count": 161,
   "id": "aa814eb6-484a-4635-9662-e3dbd5fd91b4",
   "metadata": {},
   "outputs": [
    {
     "data": {
      "text/plain": [
       "14.700000000000045"
      ]
     },
     "execution_count": 161,
     "metadata": {},
     "output_type": "execute_result"
    }
   ],
   "source": [
    "(omegaX + omega_cnot_right)"
   ]
  },
  {
   "cell_type": "code",
   "execution_count": 157,
   "id": "26aceb8f-7add-4daf-a88f-abfeac66e8ee",
   "metadata": {},
   "outputs": [
    {
     "data": {
      "text/latex": [
       "Quantum object: dims=[[2, 2], [2, 2]], shape=(4, 4), type='oper', dtype=CSR, isherm=True$$\\left(\\begin{array}{cc}92.363 & 0 & 3.142 & 0\\\\0 & 1.451\\times10^{ -13 } & 0 & 3.142\\\\3.142 & 0 & -92.363 & 0\\\\0 & 3.142 & 0 & -1.451\\times10^{ -13 }\\end{array}\\right)$$"
      ],
      "text/plain": [
       "Quantum object: dims=[[2, 2], [2, 2]], shape=(4, 4), type='oper', dtype=CSR, isherm=True\n",
       "Qobj data =\n",
       "[[ 9.23628240e+01  0.00000000e+00  3.14159265e+00  0.00000000e+00]\n",
       " [ 0.00000000e+00  1.45095330e-13  0.00000000e+00  3.14159265e+00]\n",
       " [ 3.14159265e+00  0.00000000e+00 -9.23628240e+01  0.00000000e+00]\n",
       " [ 0.00000000e+00  3.14159265e+00  0.00000000e+00 -1.45095330e-13]]"
      ]
     },
     "execution_count": 157,
     "metadata": {},
     "output_type": "execute_result"
    }
   ],
   "source": [
    "HrE"
   ]
  },
  {
   "cell_type": "code",
   "execution_count": 168,
   "id": "1109f314-c36d-4806-b7b7-b9a9be4e675d",
   "metadata": {},
   "outputs": [],
   "source": [
    "cnot_e = propagator(HrE, 0.50*us)"
   ]
  },
  {
   "cell_type": "code",
   "execution_count": 169,
   "id": "11bab419-6924-4770-ae94-c25924bb591b",
   "metadata": {},
   "outputs": [
    {
     "data": {
      "text/latex": [
       "Quantum object: dims=[[2, 2], [2, 2]], shape=(4, 4), type='oper', dtype=Dense, isherm=False$$\\left(\\begin{array}{cc}(-0.609-0.793j) & 0 & -0.027j & 0\\\\0 & 3.468\\times10^{ -12 } & 0 & -1j\\\\-0.027j & 0 & (-0.609+0.793j) & 0\\\\0 & -1j & 0 & 3.468\\times10^{ -12 }\\end{array}\\right)$$"
      ],
      "text/plain": [
       "Quantum object: dims=[[2, 2], [2, 2]], shape=(4, 4), type='oper', dtype=Dense, isherm=False\n",
       "Qobj data =\n",
       "[[-6.09185161e-01-7.92538433e-01j  0.00000000e+00+0.00000000e+00j\n",
       "  -1.58171546e-18-2.69570895e-02j  0.00000000e+00+0.00000000e+00j]\n",
       " [ 0.00000000e+00+0.00000000e+00j  3.46837316e-12-4.61852778e-14j\n",
       "   0.00000000e+00+0.00000000e+00j  7.70443789e-30-1.00000000e+00j]\n",
       " [ 1.58171546e-18-2.69570895e-02j  0.00000000e+00+0.00000000e+00j\n",
       "  -6.09185161e-01+7.92538433e-01j  0.00000000e+00+0.00000000e+00j]\n",
       " [ 0.00000000e+00+0.00000000e+00j -7.70443789e-30-1.00000000e+00j\n",
       "   0.00000000e+00+0.00000000e+00j  3.46837316e-12+4.61852778e-14j]]"
      ]
     },
     "execution_count": 169,
     "metadata": {},
     "output_type": "execute_result"
    }
   ],
   "source": [
    "cnot_e"
   ]
  },
  {
   "cell_type": "code",
   "execution_count": 138,
   "id": "7b155aea-e1f8-4aea-8b7e-5291caf757f5",
   "metadata": {},
   "outputs": [],
   "source": [
    "cost_up = coefficient(lambda t: np.cos(omega_cnot_upper*t))\n",
    "sint_up = coefficient(lambda t: np.sin(omega_cnot_upper*t))\n",
    "\n",
    "cost_low = coefficient(lambda t: np.cos(omega_cnot_lower*t))\n",
    "sint_low = coefficient(lambda t: np.sin(omega_cnot_lower*t))"
   ]
  },
  {
   "cell_type": "code",
   "execution_count": 139,
   "id": "f9215267-a680-4735-a7e5-626a51523fcd",
   "metadata": {},
   "outputs": [],
   "source": [
    "HrN_up = 2*np.pi*( (omegaP+omega_cnot_upper) * Iz + A[2,2] * (Sz * Iz) + A[2,0] * (Sz * (cost_up*Ix + sint_up*Iy)) + A[2,1] * (Sz * (cost_up*Iy - sint_up*Ix)) + Omega_p*Ix)\n",
    "HrN_low = 2*np.pi*( (omegaP-omega_cnot_lower) * Iz + A[2,2] * (Sz * Iz) + A[2,0] * (Sz * (cost_low*Ix + sint_low*Iy)) + A[2,1] * (Sz * (cost_low*Iy - sint_low*Ix)) + Omega_p*Ix)\n",
    "\n",
    "def selective_upper(t):\n",
    "    # perform noisy selective nuclear transition on NV-N\n",
    "    # performs identity on other subspaces\n",
    "    return propagator(HrN_up, t, c_ops=lindblad_ops, options={'nsteps':1e6})\n",
    "\n",
    "def selective_lower(t):\n",
    "    # perform noisy selective nuclear transition on NV-N\n",
    "    # performs identity on other subspaces\n",
    "    return propagator(HrN_low, t, c_ops=lindblad_ops, options={'nsteps':1e6})\n",
    "\n",
    "def experiment(t, rho):\n",
    "    return qt.vector_to_operator(XPi * selective_lower(t) * XPi * selective_upper(t) * qt.operator_to_vector(rho))\n",
    "\n"
   ]
  },
  {
   "cell_type": "code",
   "execution_count": 132,
   "id": "611267ce-6c05-4f04-906f-07e36dcfa060",
   "metadata": {},
   "outputs": [
    {
     "data": {
      "text/latex": [
       "Quantum object: dims=[[[2, 2], [2, 2]], [[2, 2], [2, 2]]], shape=(16, 16), type='super', dtype=Dense, isherm=True$$\\left(\\begin{array}{cc}0 & 0 & 0 & 0 & 0 & \\cdots & 0 & 0 & 0 & 0 & 0\\\\0 & 0 & 0 & 0 & 0 & \\cdots & 1 & 0 & 0 & 0 & 0\\\\0 & 0 & 0 & 0 & 0 & \\cdots & 0 & 0 & 0 & 0 & 0\\\\0 & 0 & 0 & 0 & 0 & \\cdots & 0 & 0 & 0 & 0 & 0\\\\0 & 0 & 0 & 0 & 0 & \\cdots & 0 & 0 & 0 & 1 & 0\\\\\\vdots & \\vdots & \\vdots & \\vdots & \\vdots & \\ddots & \\vdots & \\vdots & \\vdots & \\vdots & \\vdots\\\\0 & 1 & 0 & 0 & 0 & \\cdots & 0 & 0 & 0 & 0 & 0\\\\0 & 0 & 0 & 0 & 0 & \\cdots & 0 & 0 & 0 & 0 & 0\\\\0 & 0 & 0 & 0 & 0 & \\cdots & 0 & 0 & 0 & 0 & 0\\\\0 & 0 & 0 & 0 & 1 & \\cdots & 0 & 0 & 0 & 0 & 0\\\\0 & 0 & 0 & 0 & 0 & \\cdots & 0 & 0 & 0 & 0 & 0\\end{array}\\right)$$"
      ],
      "text/plain": [
       "Quantum object: dims=[[[2, 2], [2, 2]], [[2, 2], [2, 2]]], shape=(16, 16), type='super', dtype=Dense, isherm=True\n",
       "Qobj data =\n",
       "[[ 0.  0.  0.  0.  0.  0.  0.  0.  0.  0.  1.  0.  0.  0.  0.  0.]\n",
       " [ 0.  0.  0.  0.  0.  0.  0.  0.  0.  0.  0.  1.  0.  0.  0.  0.]\n",
       " [ 0.  0.  0.  0.  0.  0.  0.  0. -1.  0.  0.  0.  0.  0.  0.  0.]\n",
       " [ 0.  0.  0.  0.  0.  0.  0.  0.  0. -1.  0.  0.  0.  0.  0.  0.]\n",
       " [ 0.  0.  0.  0.  0.  0.  0.  0.  0.  0.  0.  0.  0.  0.  1.  0.]\n",
       " [ 0.  0.  0.  0.  0.  0.  0.  0.  0.  0.  0.  0.  0.  0.  0.  1.]\n",
       " [ 0.  0.  0.  0.  0.  0.  0.  0.  0.  0.  0.  0. -1.  0.  0.  0.]\n",
       " [ 0.  0.  0.  0.  0.  0.  0.  0.  0.  0.  0.  0.  0. -1.  0.  0.]\n",
       " [ 0.  0. -1.  0.  0.  0.  0.  0.  0.  0.  0.  0.  0.  0.  0.  0.]\n",
       " [ 0.  0.  0. -1.  0.  0.  0.  0.  0.  0.  0.  0.  0.  0.  0.  0.]\n",
       " [ 1.  0.  0.  0.  0.  0.  0.  0.  0.  0.  0.  0.  0.  0.  0.  0.]\n",
       " [ 0.  1.  0.  0.  0.  0.  0.  0.  0.  0.  0.  0.  0.  0.  0.  0.]\n",
       " [ 0.  0.  0.  0.  0.  0. -1.  0.  0.  0.  0.  0.  0.  0.  0.  0.]\n",
       " [ 0.  0.  0.  0.  0.  0.  0. -1.  0.  0.  0.  0.  0.  0.  0.  0.]\n",
       " [ 0.  0.  0.  0.  1.  0.  0.  0.  0.  0.  0.  0.  0.  0.  0.  0.]\n",
       " [ 0.  0.  0.  0.  0.  1.  0.  0.  0.  0.  0.  0.  0.  0.  0.  0.]]"
      ]
     },
     "execution_count": 132,
     "metadata": {},
     "output_type": "execute_result"
    }
   ],
   "source": [
    "XPi"
   ]
  },
  {
   "cell_type": "code",
   "execution_count": 112,
   "id": "1b2777b4-f20e-4b0b-a80b-7643e14418be",
   "metadata": {},
   "outputs": [],
   "source": [
    "times = np.arange(0,1/(40*kHz),0.1)\n",
    "rhof_list = [qt.expect(experiment(t, rho10),rho11) for t in times]"
   ]
  },
  {
   "cell_type": "code",
   "execution_count": 113,
   "id": "5f4486cf-b025-47d0-af92-809ef44fc18d",
   "metadata": {},
   "outputs": [
    {
     "data": {
      "image/png": "[encoded data removed]",
      "text/plain": [
       "<Figure size 640x480 with 1 Axes>"
      ]
     },
     "metadata": {},
     "output_type": "display_data"
    }
   ],
   "source": [
    "plt.plot(times, rhof_list)\n",
    "t_cnot_nuc = times[np.argmax(rhof_list)]\n",
    "plt.scatter(t_cnot_nuc, np.max(rhof_list),label=f\"tau-max = {t_cnot_nuc}\")\n",
    "plt.xlabel(\"Half-Driving time, (us)\")\n",
    "plt.ylabel(\"Transition Probability\")\n",
    "plt.title(\"CNOT-echo Calibration, Control: e, Target: p\")\n",
    "plt.legend()\n",
    "plt.show()"
   ]
  },
  {
   "cell_type": "code",
   "execution_count": 114,
   "id": "285f6d70-43d2-48c4-8ff6-98fecbd7ab02",
   "metadata": {},
   "outputs": [],
   "source": [
    "cnot_n = XPi * selective_lower(6.25 * us) * XPi * selective_upper(6.25 * us)"
   ]
  },
  {
   "cell_type": "code",
   "execution_count": 115,
   "id": "0e2d5feb-a376-463b-9378-d3dbcdf552bc",
   "metadata": {},
   "outputs": [
    {
     "data": {
      "text/plain": [
       "0.9715896608402294"
      ]
     },
     "execution_count": 115,
     "metadata": {},
     "output_type": "execute_result"
    }
   ],
   "source": [
    "qt.unitarity(cnot_n)"
   ]
  },
  {
   "cell_type": "code",
   "execution_count": 129,
   "id": "6f428dda-f2fa-497c-b8a7-90898f7fb96f",
   "metadata": {},
   "outputs": [
    {
     "data": {
      "text/latex": [
       "Quantum object: dims=[[[2, 2], [2, 2]], [[2, 2], [2, 2]]], shape=(16, 16), type='super', dtype=Dense, isherm=False$$\\left(\\begin{array}{cc}1.000 & (0.001+0.001j) & 0 & 0 & (0.001-0.001j) & \\cdots & -2.500\\times10^{ -16 } & 0 & 0 & -2.500\\times10^{ -16 } & 7.812\\times10^{ -7 }\\\\(-0.001+0.001j) & 0.896 & 0 & 0 & 1.288\\times10^{ -8 } & \\cdots & 4.459\\times10^{ -14 } & 0 & 0 & -1.281\\times10^{ -9 } & -4.098\\times10^{ -11 }\\\\0 & 0 & -1.093\\times10^{ -6 } & -0.998j & 0 & \\cdots & 0 & 0 & 0 & 0 & 0\\\\0 & 0 & -0.998j & -5.063\\times10^{ -6 } & 0 & \\cdots & 0 & 0 & 0 & 0 & 0\\\\(-0.001-0.001j) & 1.288\\times10^{ -8 } & 0 & 0 & 0.896 & \\cdots & -1.281\\times10^{ -9 } & 0 & 0 & 4.459\\times10^{ -14 } & -4.098\\times10^{ -11 }\\\\\\vdots & \\vdots & \\vdots & \\vdots & \\vdots & \\ddots & \\vdots & \\vdots & \\vdots & \\vdots & \\vdots\\\\2.491\\times10^{ -16 } & 4.459\\times10^{ -14 } & 0 & 0 & -1.281\\times10^{ -9 } & \\cdots & -1.559\\times10^{ -6 } & 0 & 0 & 1.000 & 5.773\\times10^{ -13 }\\\\0 & 0 & 0 & 0 & 0 & \\cdots & 0 & -5.063\\times10^{ -6 } & 1.250\\times10^{ -8 } & 0 & 0\\\\0 & 0 & 0 & 0 & 0 & \\cdots & 0 & -1.250\\times10^{ -8 } & -1.093\\times10^{ -6 } & 0 & 0\\\\2.491\\times10^{ -16 } & -1.281\\times10^{ -9 } & 0 & 0 & 4.459\\times10^{ -14 } & \\cdots & 1.000 & 0 & 0 & -1.559\\times10^{ -6 } & 5.773\\times10^{ -13 }\\\\7.812\\times10^{ -7 } & 4.098\\times10^{ -11 } & 0 & 0 & 4.098\\times10^{ -11 } & \\cdots & 5.773\\times10^{ -13 } & 0 & 0 & 5.773\\times10^{ -13 } & 1.574\\times10^{ -6 }\\end{array}\\right)$$"
      ],
      "text/plain": [
       "Quantum object: dims=[[[2, 2], [2, 2]], [[2, 2], [2, 2]]], shape=(16, 16), type='super', dtype=Dense, isherm=False\n",
       "Qobj data =\n",
       "[[ 9.99994928e-01-1.53683343e-21j  1.24892109e-03+1.28753178e-03j\n",
       "   0.00000000e+00+0.00000000e+00j  0.00000000e+00+0.00000000e+00j\n",
       "   1.24892109e-03-1.28753178e-03j  3.50987445e-06+1.60488520e-21j\n",
       "   0.00000000e+00+0.00000000e+00j  0.00000000e+00+0.00000000e+00j\n",
       "   0.00000000e+00+0.00000000e+00j  0.00000000e+00+0.00000000e+00j\n",
       "   7.81247978e-07+1.41117939e-25j -2.50044689e-16-4.97355740e-07j\n",
       "   0.00000000e+00+0.00000000e+00j  0.00000000e+00+0.00000000e+00j\n",
       "  -2.50044690e-16+4.97355740e-07j  7.81249580e-07-1.13704321e-25j]\n",
       " [-1.24892109e-03+1.28753178e-03j  8.96471186e-01+2.01933372e-11j\n",
       "   0.00000000e+00+0.00000000e+00j  0.00000000e+00+0.00000000e+00j\n",
       "   1.28807510e-08+3.39741584e-06j  1.24892109e-03-1.28753178e-03j\n",
       "   0.00000000e+00+0.00000000e+00j  0.00000000e+00+0.00000000e+00j\n",
       "   0.00000000e+00+0.00000000e+00j  0.00000000e+00+0.00000000e+00j\n",
       "   4.09753548e-11+1.28247910e-09j  4.45929963e-14+7.14208338e-11j\n",
       "   0.00000000e+00+0.00000000e+00j  0.00000000e+00+0.00000000e+00j\n",
       "  -1.28068680e-09-1.31100454e-09j -4.09753548e-11-1.28247910e-09j]\n",
       " [ 0.00000000e+00+0.00000000e+00j  0.00000000e+00+0.00000000e+00j\n",
       "  -1.09257040e-06+5.67318852e-13j  2.57177478e-11-9.97905711e-01j\n",
       "   0.00000000e+00+0.00000000e+00j  0.00000000e+00+0.00000000e+00j\n",
       "   1.24971743e-08+4.17135178e-09j -1.35769753e-03-1.35583032e-03j\n",
       "   0.00000000e+00+0.00000000e+00j  0.00000000e+00+0.00000000e+00j\n",
       "   0.00000000e+00+0.00000000e+00j  0.00000000e+00+0.00000000e+00j\n",
       "   0.00000000e+00+0.00000000e+00j  0.00000000e+00+0.00000000e+00j\n",
       "   0.00000000e+00+0.00000000e+00j  0.00000000e+00+0.00000000e+00j]\n",
       " [ 0.00000000e+00+0.00000000e+00j  0.00000000e+00+0.00000000e+00j\n",
       "   1.60859157e-11-9.97905711e-01j -5.06311106e-06-5.60172931e-13j\n",
       "   0.00000000e+00+0.00000000e+00j  0.00000000e+00+0.00000000e+00j\n",
       "  -1.35769211e-03-1.35583032e-03j  1.24971728e-08+4.17135025e-09j\n",
       "   0.00000000e+00+0.00000000e+00j  0.00000000e+00+0.00000000e+00j\n",
       "   0.00000000e+00+0.00000000e+00j  0.00000000e+00+0.00000000e+00j\n",
       "   0.00000000e+00+0.00000000e+00j  0.00000000e+00+0.00000000e+00j\n",
       "   0.00000000e+00+0.00000000e+00j  0.00000000e+00+0.00000000e+00j]\n",
       " [-1.24892109e-03-1.28753178e-03j  1.28807510e-08-3.39741584e-06j\n",
       "   0.00000000e+00+0.00000000e+00j  0.00000000e+00+0.00000000e+00j\n",
       "   8.96471186e-01-2.01904661e-11j  1.24892109e-03+1.28753178e-03j\n",
       "   0.00000000e+00+0.00000000e+00j  0.00000000e+00+0.00000000e+00j\n",
       "   0.00000000e+00+0.00000000e+00j  0.00000000e+00+0.00000000e+00j\n",
       "   4.09753548e-11-1.28247910e-09j -1.28068680e-09+1.31100454e-09j\n",
       "   0.00000000e+00+0.00000000e+00j  0.00000000e+00+0.00000000e+00j\n",
       "   4.45929963e-14-7.14208338e-11j -4.09753548e-11+1.28247910e-09j]\n",
       " [ 3.50987445e-06-4.73095799e-22j -1.24892109e-03-1.28753178e-03j\n",
       "   0.00000000e+00+0.00000000e+00j  0.00000000e+00+0.00000000e+00j\n",
       "  -1.24892109e-03+1.28753178e-03j  9.99994928e-01+4.57983593e-22j\n",
       "   0.00000000e+00+0.00000000e+00j  0.00000000e+00+0.00000000e+00j\n",
       "   0.00000000e+00+0.00000000e+00j  0.00000000e+00+0.00000000e+00j\n",
       "   7.81249580e-07-8.94191509e-26j  2.50044689e-16+4.97355740e-07j\n",
       "   0.00000000e+00+0.00000000e+00j  0.00000000e+00+0.00000000e+00j\n",
       "   2.50044689e-16-4.97355740e-07j  7.81247978e-07+5.92282080e-26j]\n",
       " [ 0.00000000e+00+0.00000000e+00j  0.00000000e+00+0.00000000e+00j\n",
       "  -1.24971728e-08+4.17135025e-09j -1.35769211e-03+1.35583032e-03j\n",
       "   0.00000000e+00+0.00000000e+00j  0.00000000e+00+0.00000000e+00j\n",
       "  -5.06311105e-06+5.61502090e-13j -1.60879998e-11-9.97905711e-01j\n",
       "   0.00000000e+00+0.00000000e+00j  0.00000000e+00+0.00000000e+00j\n",
       "   0.00000000e+00+0.00000000e+00j  0.00000000e+00+0.00000000e+00j\n",
       "   0.00000000e+00+0.00000000e+00j  0.00000000e+00+0.00000000e+00j\n",
       "   0.00000000e+00+0.00000000e+00j  0.00000000e+00+0.00000000e+00j]\n",
       " [ 0.00000000e+00+0.00000000e+00j  0.00000000e+00+0.00000000e+00j\n",
       "  -1.35769753e-03+1.35583032e-03j -1.24971743e-08+4.17135178e-09j\n",
       "   0.00000000e+00+0.00000000e+00j  0.00000000e+00+0.00000000e+00j\n",
       "  -2.57200373e-11-9.97905711e-01j -1.09257040e-06-5.68188490e-13j\n",
       "   0.00000000e+00+0.00000000e+00j  0.00000000e+00+0.00000000e+00j\n",
       "   0.00000000e+00+0.00000000e+00j  0.00000000e+00+0.00000000e+00j\n",
       "   0.00000000e+00+0.00000000e+00j  0.00000000e+00+0.00000000e+00j\n",
       "   0.00000000e+00+0.00000000e+00j  0.00000000e+00+0.00000000e+00j]\n",
       " [ 0.00000000e+00+0.00000000e+00j  0.00000000e+00+0.00000000e+00j\n",
       "   0.00000000e+00+0.00000000e+00j  0.00000000e+00+0.00000000e+00j\n",
       "   0.00000000e+00+0.00000000e+00j  0.00000000e+00+0.00000000e+00j\n",
       "   0.00000000e+00+0.00000000e+00j  0.00000000e+00+0.00000000e+00j\n",
       "  -1.09257040e-06-5.67319783e-13j  1.24971743e-08-4.17135178e-09j\n",
       "   0.00000000e+00+0.00000000e+00j  0.00000000e+00+0.00000000e+00j\n",
       "   2.57251949e-11+9.97905711e-01j -1.35769753e-03+1.35583032e-03j\n",
       "   0.00000000e+00+0.00000000e+00j  0.00000000e+00+0.00000000e+00j]\n",
       " [ 0.00000000e+00+0.00000000e+00j  0.00000000e+00+0.00000000e+00j\n",
       "   0.00000000e+00+0.00000000e+00j  0.00000000e+00+0.00000000e+00j\n",
       "   0.00000000e+00+0.00000000e+00j  0.00000000e+00+0.00000000e+00j\n",
       "   0.00000000e+00+0.00000000e+00j  0.00000000e+00+0.00000000e+00j\n",
       "  -1.24971728e-08-4.17135025e-09j -5.06311106e-06-5.62112129e-13j\n",
       "   0.00000000e+00+0.00000000e+00j  0.00000000e+00+0.00000000e+00j\n",
       "  -1.35769211e-03-1.35583032e-03j -1.60875327e-11+9.97905711e-01j\n",
       "   0.00000000e+00+0.00000000e+00j  0.00000000e+00+0.00000000e+00j]\n",
       " [ 7.81247978e-07+1.98261830e-26j -4.09753548e-11+1.28247910e-09j\n",
       "   0.00000000e+00+0.00000000e+00j  0.00000000e+00+0.00000000e+00j\n",
       "  -4.09753548e-11-1.28247910e-09j  7.81249580e-07-1.98260612e-26j\n",
       "   0.00000000e+00+0.00000000e+00j  0.00000000e+00+0.00000000e+00j\n",
       "   0.00000000e+00+0.00000000e+00j  0.00000000e+00+0.00000000e+00j\n",
       "   1.57421748e-06+3.83494581e-29j -5.77310833e-13-1.06752235e-12j\n",
       "   0.00000000e+00+0.00000000e+00j  0.00000000e+00+0.00000000e+00j\n",
       "  -5.77310833e-13+1.06737129e-12j  9.99996863e-01-1.88826835e-29j]\n",
       " [ 2.49142742e-16-4.97355740e-07j  4.45929676e-14-7.14208338e-11j\n",
       "   0.00000000e+00+0.00000000e+00j  0.00000000e+00+0.00000000e+00j\n",
       "  -1.28068680e-09-1.31100454e-09j -2.49142742e-16+4.97355740e-07j\n",
       "   0.00000000e+00+0.00000000e+00j  0.00000000e+00+0.00000000e+00j\n",
       "   0.00000000e+00+0.00000000e+00j  0.00000000e+00+0.00000000e+00j\n",
       "  -5.77313874e-13-1.06891016e-12j -1.55858116e-06+2.29130945e-18j\n",
       "   0.00000000e+00+0.00000000e+00j  0.00000000e+00+0.00000000e+00j\n",
       "   9.99993730e-01-2.31059735e-12j  5.77313874e-13+1.06897314e-12j]\n",
       " [ 0.00000000e+00+0.00000000e+00j  0.00000000e+00+0.00000000e+00j\n",
       "   0.00000000e+00+0.00000000e+00j  0.00000000e+00+0.00000000e+00j\n",
       "   0.00000000e+00+0.00000000e+00j  0.00000000e+00+0.00000000e+00j\n",
       "   0.00000000e+00+0.00000000e+00j  0.00000000e+00+0.00000000e+00j\n",
       "   1.60916175e-11+9.97905711e-01j -1.35769211e-03+1.35583032e-03j\n",
       "   0.00000000e+00+0.00000000e+00j  0.00000000e+00+0.00000000e+00j\n",
       "  -5.06311106e-06+5.61606317e-13j  1.24971728e-08-4.17135025e-09j\n",
       "   0.00000000e+00+0.00000000e+00j  0.00000000e+00+0.00000000e+00j]\n",
       " [ 0.00000000e+00+0.00000000e+00j  0.00000000e+00+0.00000000e+00j\n",
       "   0.00000000e+00+0.00000000e+00j  0.00000000e+00+0.00000000e+00j\n",
       "   0.00000000e+00+0.00000000e+00j  0.00000000e+00+0.00000000e+00j\n",
       "   0.00000000e+00+0.00000000e+00j  0.00000000e+00+0.00000000e+00j\n",
       "  -1.35769753e-03-1.35583032e-03j -2.57204258e-11+9.97905711e-01j\n",
       "   0.00000000e+00+0.00000000e+00j  0.00000000e+00+0.00000000e+00j\n",
       "  -1.24971743e-08-4.17135178e-09j -1.09257040e-06+5.68600722e-13j\n",
       "   0.00000000e+00+0.00000000e+00j  0.00000000e+00+0.00000000e+00j]\n",
       " [ 2.49142742e-16+4.97355740e-07j -1.28068680e-09+1.31100454e-09j\n",
       "   0.00000000e+00+0.00000000e+00j  0.00000000e+00+0.00000000e+00j\n",
       "   4.45929676e-14+7.14208338e-11j -2.49142742e-16-4.97355740e-07j\n",
       "   0.00000000e+00+0.00000000e+00j  0.00000000e+00+0.00000000e+00j\n",
       "   0.00000000e+00+0.00000000e+00j  0.00000000e+00+0.00000000e+00j\n",
       "  -5.77313874e-13+1.06885465e-12j  9.99993730e-01+2.31059735e-12j\n",
       "   0.00000000e+00+0.00000000e+00j  0.00000000e+00+0.00000000e+00j\n",
       "  -1.55858116e-06-2.29130945e-18j  5.77313874e-13-1.06890465e-12j]\n",
       " [ 7.81249580e-07-1.24726556e-26j  4.09753548e-11-1.28247910e-09j\n",
       "   0.00000000e+00+0.00000000e+00j  0.00000000e+00+0.00000000e+00j\n",
       "   4.09753548e-11+1.28247910e-09j  7.81247978e-07+1.24725339e-26j\n",
       "   0.00000000e+00+0.00000000e+00j  0.00000000e+00+0.00000000e+00j\n",
       "   0.00000000e+00+0.00000000e+00j  0.00000000e+00+0.00000000e+00j\n",
       "   9.99996863e-01+1.13111598e-28j  5.77310833e-13+1.06769569e-12j\n",
       "   0.00000000e+00+0.00000000e+00j  0.00000000e+00+0.00000000e+00j\n",
       "   5.77310833e-13-1.06757239e-12j  1.57421748e-06-1.14176020e-28j]]"
      ]
     },
     "execution_count": 129,
     "metadata": {},
     "output_type": "execute_result"
    }
   ],
   "source": [
    "cnot_n"
   ]
  },
  {
   "cell_type": "code",
   "execution_count": 106,
   "id": "e95595eb-7bc3-4fea-8fae-e1ca53930db7",
   "metadata": {},
   "outputs": [
    {
     "data": {
      "text/latex": [
       "Quantum object: dims=[[[2, 2], [2, 2]], [[2, 2], [2, 2]]], shape=(16, 16), type='super', dtype=CSR, isherm=True$$\\left(\\begin{array}{cc}1 & 0 & 0 & 0 & 0 & \\cdots & 0 & 0 & 0 & 0 & 0\\\\0 & 1 & 0 & 0 & 0 & \\cdots & 0 & 0 & 0 & 0 & 0\\\\0 & 0 & 0 & 1 & 0 & \\cdots & 0 & 0 & 0 & 0 & 0\\\\0 & 0 & 1 & 0 & 0 & \\cdots & 0 & 0 & 0 & 0 & 0\\\\0 & 0 & 0 & 0 & 1 & \\cdots & 0 & 0 & 0 & 0 & 0\\\\\\vdots & \\vdots & \\vdots & \\vdots & \\vdots & \\ddots & \\vdots & \\vdots & \\vdots & \\vdots & \\vdots\\\\0 & 0 & 0 & 0 & 0 & \\cdots & 0 & 0 & 0 & 1 & 0\\\\0 & 0 & 0 & 0 & 0 & \\cdots & 0 & 0 & 0 & 0 & 0\\\\0 & 0 & 0 & 0 & 0 & \\cdots & 0 & 0 & 0 & 0 & 0\\\\0 & 0 & 0 & 0 & 0 & \\cdots & 1 & 0 & 0 & 0 & 0\\\\0 & 0 & 0 & 0 & 0 & \\cdots & 0 & 0 & 0 & 0 & 0\\end{array}\\right)$$"
      ],
      "text/plain": [
       "Quantum object: dims=[[[2, 2], [2, 2]], [[2, 2], [2, 2]]], shape=(16, 16), type='super', dtype=CSR, isherm=True\n",
       "Qobj data =\n",
       "[[1. 0. 0. 0. 0. 0. 0. 0. 0. 0. 0. 0. 0. 0. 0. 0.]\n",
       " [0. 1. 0. 0. 0. 0. 0. 0. 0. 0. 0. 0. 0. 0. 0. 0.]\n",
       " [0. 0. 0. 1. 0. 0. 0. 0. 0. 0. 0. 0. 0. 0. 0. 0.]\n",
       " [0. 0. 1. 0. 0. 0. 0. 0. 0. 0. 0. 0. 0. 0. 0. 0.]\n",
       " [0. 0. 0. 0. 1. 0. 0. 0. 0. 0. 0. 0. 0. 0. 0. 0.]\n",
       " [0. 0. 0. 0. 0. 1. 0. 0. 0. 0. 0. 0. 0. 0. 0. 0.]\n",
       " [0. 0. 0. 0. 0. 0. 0. 1. 0. 0. 0. 0. 0. 0. 0. 0.]\n",
       " [0. 0. 0. 0. 0. 0. 1. 0. 0. 0. 0. 0. 0. 0. 0. 0.]\n",
       " [0. 0. 0. 0. 0. 0. 0. 0. 0. 0. 0. 0. 1. 0. 0. 0.]\n",
       " [0. 0. 0. 0. 0. 0. 0. 0. 0. 0. 0. 0. 0. 1. 0. 0.]\n",
       " [0. 0. 0. 0. 0. 0. 0. 0. 0. 0. 0. 0. 0. 0. 0. 1.]\n",
       " [0. 0. 0. 0. 0. 0. 0. 0. 0. 0. 0. 0. 0. 0. 1. 0.]\n",
       " [0. 0. 0. 0. 0. 0. 0. 0. 1. 0. 0. 0. 0. 0. 0. 0.]\n",
       " [0. 0. 0. 0. 0. 0. 0. 0. 0. 1. 0. 0. 0. 0. 0. 0.]\n",
       " [0. 0. 0. 0. 0. 0. 0. 0. 0. 0. 0. 1. 0. 0. 0. 0.]\n",
       " [0. 0. 0. 0. 0. 0. 0. 0. 0. 0. 1. 0. 0. 0. 0. 0.]]"
      ]
     },
     "execution_count": 106,
     "metadata": {},
     "output_type": "execute_result"
    }
   ],
   "source": [
    "qt.to_super(qt.gates.cnot())"
   ]
  },
  {
   "cell_type": "code",
   "execution_count": 121,
   "id": "e92b52c1-1d58-4cdf-b19e-8bc3882b4e1d",
   "metadata": {},
   "outputs": [
    {
     "data": {
      "text/latex": [
       "Quantum object: dims=[[2, 2], [2, 2]], shape=(4, 4), type='oper', dtype=Dense, isherm=False$$\\left(\\begin{array}{cc}1j & 0 & 0 & 0\\\\0 & -1j & 0 & 0\\\\0 & 0 & 1j & 0\\\\0 & 0 & 0 & -1j\\end{array}\\right)$$"
      ],
      "text/plain": [
       "Quantum object: dims=[[2, 2], [2, 2]], shape=(4, 4), type='oper', dtype=Dense, isherm=False\n",
       "Qobj data =\n",
       "[[0.+1.j 0.+0.j 0.+0.j 0.+0.j]\n",
       " [0.+0.j 0.-1.j 0.+0.j 0.+0.j]\n",
       " [0.+0.j 0.+0.j 0.+1.j 0.+0.j]\n",
       " [0.+0.j 0.+0.j 0.+0.j 0.-1.j]]"
      ]
     },
     "execution_count": 121,
     "metadata": {},
     "output_type": "execute_result"
    }
   ],
   "source": [
    "(1j*np.pi*(Iz)).expm()"
   ]
  },
  {
   "cell_type": "code",
   "execution_count": 146,
   "id": "d6d3973a-9f9e-4d51-a43b-4f2a1ee3b6b1",
   "metadata": {},
   "outputs": [
    {
     "data": {
      "text/latex": [
       "Quantum object: dims=[[[2, 2], [2, 2]], [[2, 2], [2, 2]]], shape=(16, 16), type='super', dtype=Dense, isherm=False$$\\left(\\begin{array}{cc}0.999 & 0 & (0.016-0.021j) & 0 & 0 & \\cdots & 0 & 0 & -1.986\\times10^{ -10 } & 0 & 3.125\\times10^{ -10 }\\\\0 & -3.708\\times10^{ -6 } & 0 & (0.609-0.793j) & 0 & \\cdots & 0.027 & 0 & 0 & 0 & 0\\\\(-0.016+0.021j) & 0 & (-0.257-0.965j) & 0 & 0 & \\cdots & 0 & 0 & -3.725\\times10^{ -13 } & 0 & 1.709\\times10^{ -13 }\\\\0 & (-0.609+0.793j) & 0 & 5.976\\times10^{ -6 } & 0 & \\cdots & 4.408\\times10^{ -9 } & 0 & 0 & 0 & 0\\\\0 & 0 & 0 & 0 & -3.708\\times10^{ -6 } & \\cdots & 0 & (0.609+0.793j) & 0 & 0.027 & 0\\\\\\vdots & \\vdots & \\vdots & \\vdots & \\vdots & \\ddots & \\vdots & \\vdots & \\vdots & \\vdots & \\vdots\\\\0 & 0.027 & 0 & -4.408\\times10^{ -9 } & 0 & \\cdots & -3.708\\times10^{ -6 } & 0 & 0 & 0 & 0\\\\0 & 0 & 0 & 0 & (-0.609-0.793j) & \\cdots & 0 & 5.976\\times10^{ -6 } & 0 & 4.408\\times10^{ -9 } & 0\\\\1.986\\times10^{ -10 } & 0 & -3.725\\times10^{ -13 } & 0 & 0 & \\cdots & 0 & 0 & -6.234\\times10^{ -6 } & 0 & -1.555\\times10^{ -11 }\\\\0 & 0 & 0 & 0 & 0.027 & \\cdots & 0 & -4.408\\times10^{ -9 } & 0 & -3.708\\times10^{ -6 } & 0\\\\3.125\\times10^{ -10 } & 0 & -1.709\\times10^{ -13 } & 0 & 0 & \\cdots & 0 & 0 & 1.555\\times10^{ -11 } & 0 & 6.297\\times10^{ -6 }\\end{array}\\right)$$"
      ],
      "text/plain": [
       "Quantum object: dims=[[[2, 2], [2, 2]], [[2, 2], [2, 2]]], shape=(16, 16), type='super', dtype=Dense, isherm=False\n",
       "Qobj data =\n",
       "[[ 9.99273375e-01+0.00000000e+00j  0.00000000e+00+0.00000000e+00j\n",
       "   1.64196766e-02-2.13604796e-02j  0.00000000e+00+0.00000000e+00j\n",
       "   0.00000000e+00+0.00000000e+00j  3.12494015e-10-9.13105689e-29j\n",
       "   0.00000000e+00+0.00000000e+00j -1.98626964e-10-1.07278149e-11j\n",
       "   1.64196766e-02+2.13604796e-02j  0.00000000e+00+0.00000000e+00j\n",
       "   7.26623986e-04+5.13810485e-20j  0.00000000e+00+0.00000000e+00j\n",
       "   0.00000000e+00+0.00000000e+00j -1.98626964e-10+1.07278149e-11j\n",
       "   0.00000000e+00+0.00000000e+00j  3.12505985e-10+8.61863374e-29j]\n",
       " [ 0.00000000e+00+0.00000000e+00j -3.70839861e-06+6.19314493e-06j\n",
       "   0.00000000e+00+0.00000000e+00j  6.09171481e-01-7.92558472e-01j\n",
       "   0.00000000e+00+0.00000000e+00j  0.00000000e+00+0.00000000e+00j\n",
       "   0.00000000e+00+0.00000000e+00j  0.00000000e+00+0.00000000e+00j\n",
       "   0.00000000e+00+0.00000000e+00j  4.40829243e-09-1.65297674e-07j\n",
       "   0.00000000e+00+0.00000000e+00j  2.69577768e-02-1.80898319e-17j\n",
       "   0.00000000e+00+0.00000000e+00j  0.00000000e+00+0.00000000e+00j\n",
       "   0.00000000e+00+0.00000000e+00j  0.00000000e+00+0.00000000e+00j]\n",
       " [-1.64196766e-02+2.13604796e-02j  0.00000000e+00+0.00000000e+00j\n",
       "  -2.56722643e-01-9.65477320e-01j  0.00000000e+00+0.00000000e+00j\n",
       "   0.00000000e+00+0.00000000e+00j -1.70904723e-13+2.22270740e-13j\n",
       "   0.00000000e+00+0.00000000e+00j -6.17585258e-12-5.02468578e-12j\n",
       "  -7.26546926e-04-4.00432639e-20j  0.00000000e+00+0.00000000e+00j\n",
       "   1.64196766e-02-2.13604796e-02j  0.00000000e+00+0.00000000e+00j\n",
       "   0.00000000e+00+0.00000000e+00j -3.72451894e-13-1.35235803e-11j\n",
       "   0.00000000e+00+0.00000000e+00j  1.70904723e-13-2.22270740e-13j]\n",
       " [ 0.00000000e+00+0.00000000e+00j -6.09171481e-01+7.92558472e-01j\n",
       "   0.00000000e+00+0.00000000e+00j  5.97562181e-06-6.42081499e-06j\n",
       "   0.00000000e+00+0.00000000e+00j  0.00000000e+00+0.00000000e+00j\n",
       "   0.00000000e+00+0.00000000e+00j  0.00000000e+00+0.00000000e+00j\n",
       "   0.00000000e+00+0.00000000e+00j -2.69577656e-02+2.51537036e-17j\n",
       "   0.00000000e+00+0.00000000e+00j  4.40829242e-09+1.65297674e-07j\n",
       "   0.00000000e+00+0.00000000e+00j  0.00000000e+00+0.00000000e+00j\n",
       "   0.00000000e+00+0.00000000e+00j  0.00000000e+00+0.00000000e+00j]\n",
       " [ 0.00000000e+00+0.00000000e+00j  0.00000000e+00+0.00000000e+00j\n",
       "   0.00000000e+00+0.00000000e+00j  0.00000000e+00+0.00000000e+00j\n",
       "  -3.70839861e-06-6.19314493e-06j  0.00000000e+00+0.00000000e+00j\n",
       "   4.40829241e-09+1.65297674e-07j  0.00000000e+00+0.00000000e+00j\n",
       "   0.00000000e+00+0.00000000e+00j  0.00000000e+00+0.00000000e+00j\n",
       "   0.00000000e+00+0.00000000e+00j  0.00000000e+00+0.00000000e+00j\n",
       "   6.09171481e-01+7.92558472e-01j  0.00000000e+00+0.00000000e+00j\n",
       "   2.69577768e-02-4.57673285e-17j  0.00000000e+00+0.00000000e+00j]\n",
       " [ 3.12494015e-10+0.00000000e+00j  0.00000000e+00+0.00000000e+00j\n",
       "   1.70904723e-13-2.22270740e-13j  0.00000000e+00+0.00000000e+00j\n",
       "   0.00000000e+00+0.00000000e+00j  6.29683964e-06+0.00000000e+00j\n",
       "   0.00000000e+00+0.00000000e+00j -1.55493940e-11-4.61844109e-14j\n",
       "   1.70904723e-13+2.22270740e-13j  0.00000000e+00+0.00000000e+00j\n",
       "   3.12505985e-10+0.00000000e+00j  0.00000000e+00+0.00000000e+00j\n",
       "   0.00000000e+00+0.00000000e+00j -1.55498919e-11+4.61844109e-14j\n",
       "   0.00000000e+00+0.00000000e+00j  9.99993703e-01+0.00000000e+00j]\n",
       " [ 0.00000000e+00+0.00000000e+00j  0.00000000e+00+0.00000000e+00j\n",
       "   0.00000000e+00+0.00000000e+00j  0.00000000e+00+0.00000000e+00j\n",
       "  -4.40829246e-09-1.65297674e-07j  0.00000000e+00+0.00000000e+00j\n",
       "   5.97562181e-06-6.42081499e-06j  0.00000000e+00+0.00000000e+00j\n",
       "   0.00000000e+00+0.00000000e+00j  0.00000000e+00+0.00000000e+00j\n",
       "   0.00000000e+00+0.00000000e+00j  0.00000000e+00+0.00000000e+00j\n",
       "  -2.69577656e-02+6.99091659e-18j  0.00000000e+00+0.00000000e+00j\n",
       "   6.09171481e-01-7.92558472e-01j  0.00000000e+00+0.00000000e+00j]\n",
       " [ 1.98626964e-10+1.07278149e-11j  0.00000000e+00+0.00000000e+00j\n",
       "  -6.17585258e-12-5.02468578e-12j  0.00000000e+00+0.00000000e+00j\n",
       "   0.00000000e+00+0.00000000e+00j  1.55499385e-11+4.61844109e-14j\n",
       "   0.00000000e+00+0.00000000e+00j -6.23425332e-06-7.37388697e-19j\n",
       "  -3.72451894e-13+1.35235803e-11j  0.00000000e+00+0.00000000e+00j\n",
       "  -1.98626964e-10-1.07278149e-11j  0.00000000e+00+0.00000000e+00j\n",
       "   0.00000000e+00+0.00000000e+00j -9.99981171e-01+6.27885425e-30j\n",
       "   0.00000000e+00+0.00000000e+00j -1.55497479e-11-4.61844109e-14j]\n",
       " [-1.64196766e-02-2.13604796e-02j  0.00000000e+00+0.00000000e+00j\n",
       "  -7.26546926e-04+3.23154745e-18j  0.00000000e+00+0.00000000e+00j\n",
       "   0.00000000e+00+0.00000000e+00j -1.70904723e-13-2.22270740e-13j\n",
       "   0.00000000e+00+0.00000000e+00j -3.72451894e-13+1.35235803e-11j\n",
       "  -2.56722643e-01+9.65477320e-01j  0.00000000e+00+0.00000000e+00j\n",
       "   1.64196766e-02+2.13604796e-02j  0.00000000e+00+0.00000000e+00j\n",
       "   0.00000000e+00+0.00000000e+00j -6.17585258e-12+5.02468578e-12j\n",
       "   0.00000000e+00+0.00000000e+00j  1.70904723e-13+2.22270740e-13j]\n",
       " [ 0.00000000e+00+0.00000000e+00j -4.40829241e-09+1.65297674e-07j\n",
       "   0.00000000e+00+0.00000000e+00j -2.69577656e-02-1.92560668e-17j\n",
       "   0.00000000e+00+0.00000000e+00j  0.00000000e+00+0.00000000e+00j\n",
       "   0.00000000e+00+0.00000000e+00j  0.00000000e+00+0.00000000e+00j\n",
       "   0.00000000e+00+0.00000000e+00j  5.97562181e-06+6.42081499e-06j\n",
       "   0.00000000e+00+0.00000000e+00j  6.09171481e-01+7.92558472e-01j\n",
       "   0.00000000e+00+0.00000000e+00j  0.00000000e+00+0.00000000e+00j\n",
       "   0.00000000e+00+0.00000000e+00j  0.00000000e+00+0.00000000e+00j]\n",
       " [ 7.26623986e-04+0.00000000e+00j  0.00000000e+00+0.00000000e+00j\n",
       "  -1.64196766e-02+2.13604796e-02j  0.00000000e+00+0.00000000e+00j\n",
       "   0.00000000e+00+0.00000000e+00j  3.12505985e-10+9.13105689e-29j\n",
       "   0.00000000e+00+0.00000000e+00j  1.98626964e-10+1.07278149e-11j\n",
       "  -1.64196766e-02-2.13604796e-02j  0.00000000e+00+0.00000000e+00j\n",
       "   9.99273375e-01-5.13810485e-20j  0.00000000e+00+0.00000000e+00j\n",
       "   0.00000000e+00+0.00000000e+00j  1.98626964e-10-1.07278149e-11j\n",
       "   0.00000000e+00+0.00000000e+00j  3.12494015e-10-8.61863374e-29j]\n",
       " [ 0.00000000e+00+0.00000000e+00j  2.69577768e-02-1.39972617e-17j\n",
       "   0.00000000e+00+0.00000000e+00j -4.40829241e-09-1.65297674e-07j\n",
       "   0.00000000e+00+0.00000000e+00j  0.00000000e+00+0.00000000e+00j\n",
       "   0.00000000e+00+0.00000000e+00j  0.00000000e+00+0.00000000e+00j\n",
       "   0.00000000e+00+0.00000000e+00j -6.09171481e-01-7.92558472e-01j\n",
       "   0.00000000e+00+0.00000000e+00j -3.70839861e-06-6.19314493e-06j\n",
       "   0.00000000e+00+0.00000000e+00j  0.00000000e+00+0.00000000e+00j\n",
       "   0.00000000e+00+0.00000000e+00j  0.00000000e+00+0.00000000e+00j]\n",
       " [ 0.00000000e+00+0.00000000e+00j  0.00000000e+00+0.00000000e+00j\n",
       "   0.00000000e+00+0.00000000e+00j  0.00000000e+00+0.00000000e+00j\n",
       "  -6.09171481e-01-7.92558472e-01j  0.00000000e+00+0.00000000e+00j\n",
       "  -2.69577656e-02-2.00030358e-17j  0.00000000e+00+0.00000000e+00j\n",
       "   0.00000000e+00+0.00000000e+00j  0.00000000e+00+0.00000000e+00j\n",
       "   0.00000000e+00+0.00000000e+00j  0.00000000e+00+0.00000000e+00j\n",
       "   5.97562181e-06+6.42081499e-06j  0.00000000e+00+0.00000000e+00j\n",
       "   4.40829242e-09-1.65297675e-07j  0.00000000e+00+0.00000000e+00j]\n",
       " [ 1.98626964e-10-1.07278149e-11j  0.00000000e+00+0.00000000e+00j\n",
       "  -3.72451894e-13-1.35235803e-11j  0.00000000e+00+0.00000000e+00j\n",
       "   0.00000000e+00+0.00000000e+00j  1.55499385e-11-4.61844109e-14j\n",
       "   0.00000000e+00+0.00000000e+00j -9.99981171e-01-2.89115557e-29j\n",
       "  -6.17585258e-12+5.02468578e-12j  0.00000000e+00+0.00000000e+00j\n",
       "  -1.98626964e-10+1.07278149e-11j  0.00000000e+00+0.00000000e+00j\n",
       "   0.00000000e+00+0.00000000e+00j -6.23425332e-06+7.37388697e-19j\n",
       "   0.00000000e+00+0.00000000e+00j -1.55497479e-11+4.61844109e-14j]\n",
       " [ 0.00000000e+00+0.00000000e+00j  0.00000000e+00+0.00000000e+00j\n",
       "   0.00000000e+00+0.00000000e+00j  0.00000000e+00+0.00000000e+00j\n",
       "   2.69577768e-02+3.37830915e-17j  0.00000000e+00+0.00000000e+00j\n",
       "  -6.09171481e-01+7.92558472e-01j  0.00000000e+00+0.00000000e+00j\n",
       "   0.00000000e+00+0.00000000e+00j  0.00000000e+00+0.00000000e+00j\n",
       "   0.00000000e+00+0.00000000e+00j  0.00000000e+00+0.00000000e+00j\n",
       "  -4.40829245e-09+1.65297674e-07j  0.00000000e+00+0.00000000e+00j\n",
       "  -3.70839861e-06+6.19314493e-06j  0.00000000e+00+0.00000000e+00j]\n",
       " [ 3.12505985e-10+0.00000000e+00j  0.00000000e+00+0.00000000e+00j\n",
       "  -1.70904723e-13+2.22270740e-13j  0.00000000e+00+0.00000000e+00j\n",
       "   0.00000000e+00+0.00000000e+00j  9.99993703e-01+0.00000000e+00j\n",
       "   0.00000000e+00+0.00000000e+00j  1.55497000e-11+4.61844109e-14j\n",
       "  -1.70904723e-13-2.22270740e-13j  0.00000000e+00+0.00000000e+00j\n",
       "   3.12494015e-10+0.00000000e+00j  0.00000000e+00+0.00000000e+00j\n",
       "   0.00000000e+00+0.00000000e+00j  1.55496150e-11-4.61844109e-14j\n",
       "   0.00000000e+00+0.00000000e+00j  6.29683964e-06+0.00000000e+00j]]"
      ]
     },
     "execution_count": 146,
     "metadata": {},
     "output_type": "execute_result"
    }
   ],
   "source": [
    "cnot_e"
   ]
  },
  {
   "cell_type": "code",
   "execution_count": 148,
   "id": "7081d39e-264d-4d73-8473-f2a2819c27ab",
   "metadata": {},
   "outputs": [
    {
     "data": {
      "text/plain": [
       "52.47682811737924"
      ]
     },
     "execution_count": 148,
     "metadata": {},
     "output_type": "execute_result"
    }
   ],
   "source": [
    "np.arctan(0.793/0.609)/deg"
   ]
  },
  {
   "cell_type": "code",
   "execution_count": null,
   "id": "8ee93b99-cf57-4b0d-b983-2712d61ac19c",
   "metadata": {},
   "outputs": [],
   "source": []
  },
  {
   "cell_type": "code",
   "execution_count": null,
   "id": "d4dbb22a-e5c5-49c2-b3d4-a039f8599485",
   "metadata": {},
   "outputs": [],
   "source": []
  },
  {
   "cell_type": "code",
   "execution_count": 82,
   "id": "0a430772-23d1-4c3a-aa99-f43bb581312b",
   "metadata": {},
   "outputs": [],
   "source": [
    "swap = cnot_e*cnot_n*cnot_e"
   ]
  },
  {
   "cell_type": "code",
   "execution_count": 83,
   "id": "b6abd648-cd08-43b7-abfd-59b2e9e6960f",
   "metadata": {},
   "outputs": [
    {
     "data": {
      "text/plain": [
       "0.9711590964601092"
      ]
     },
     "execution_count": 83,
     "metadata": {},
     "output_type": "execute_result"
    }
   ],
   "source": [
    "qt.unitarity(swap)"
   ]
  },
  {
   "cell_type": "code",
   "execution_count": 84,
   "id": "940c332a-61ba-45fa-8445-271f41b19cf5",
   "metadata": {},
   "outputs": [
    {
     "data": {
      "text/latex": [
       "Quantum object: dims=[[2, 2], [2, 2]], shape=(4, 4), type='oper', dtype=Dense, isherm=True$$\\left(\\begin{array}{cc}7.274\\times10^{ -4 } & 1.546\\times10^{ -13 } & (-0.021+0.016j) & -1.437\\times10^{ -9 }\\\\1.546\\times10^{ -13 } & 1.575\\times10^{ -6 } & -3.276\\times10^{ -12 } & -1.073\\times10^{ -11 }\\\\(-0.021-0.016j) & -3.276\\times10^{ -12 } & 0.999 & -2.383\\times10^{ -10 }\\\\-1.437\\times10^{ -9 } & -1.073\\times10^{ -11 } & -2.383\\times10^{ -10 } & 7.078\\times10^{ -6 }\\end{array}\\right)$$"
      ],
      "text/plain": [
       "Quantum object: dims=[[2, 2], [2, 2]], shape=(4, 4), type='oper', dtype=Dense, isherm=True\n",
       "Qobj data =\n",
       "[[ 7.27370443e-04-2.74427726e-19j  1.54563376e-13+3.29655354e-13j\n",
       "  -2.13594471e-02+1.64118374e-02j -1.43700560e-09+1.21312359e-08j]\n",
       " [ 1.54565212e-13-3.29655164e-13j  1.57487215e-06-9.81549409e-29j\n",
       "  -3.27593155e-12+2.69019399e-12j -1.07281866e-11-1.98624758e-10j]\n",
       " [-2.13594471e-02-1.64118374e-02j -3.27587327e-12-2.69015807e-12j\n",
       "   9.99263976e-01+2.74427623e-19j -2.38295536e-10+2.48983996e-10j]\n",
       " [-1.43700560e-09-1.21312359e-08j -1.07281866e-11+1.98624758e-10j\n",
       "  -2.38295536e-10-2.48983996e-10j  7.07832874e-06+6.21931683e-26j]]"
      ]
     },
     "execution_count": 84,
     "metadata": {},
     "output_type": "execute_result"
    }
   ],
   "source": [
    "qt.vector_to_operator(swap * qt.operator_to_vector(rho01))"
   ]
  },
  {
   "cell_type": "code",
   "execution_count": 86,
   "id": "ea756684-770f-439c-8f3a-bdc1508de533",
   "metadata": {},
   "outputs": [
    {
     "data": {
      "text/latex": [
       "Quantum object: dims=[[2, 2], [2, 2]], shape=(4, 4), type='oper', dtype=CSR, isherm=True$$\\left(\\begin{array}{cc}1 & 0 & 0 & 0\\\\0 & 0 & 1 & 0\\\\0 & 1 & 0 & 0\\\\0 & 0 & 0 & 1\\end{array}\\right)$$"
      ],
      "text/plain": [
       "Quantum object: dims=[[2, 2], [2, 2]], shape=(4, 4), type='oper', dtype=CSR, isherm=True\n",
       "Qobj data =\n",
       "[[1. 0. 0. 0.]\n",
       " [0. 0. 1. 0.]\n",
       " [0. 1. 0. 0.]\n",
       " [0. 0. 0. 1.]]"
      ]
     },
     "execution_count": 86,
     "metadata": {},
     "output_type": "execute_result"
    }
   ],
   "source": [
    "qt.gates.swap()"
   ]
  },
  {
   "cell_type": "code",
   "execution_count": 90,
   "id": "1aef4ffb-ff48-47fd-8396-8376ce46cb01",
   "metadata": {},
   "outputs": [
    {
     "data": {
      "text/latex": [
       "Quantum object: dims=[[[2, 2], [2, 2]], [[2, 2], [2, 2]]], shape=(16, 16), type='super', dtype=Dense, isherm=False$$\\left(\\begin{array}{cc}0.999 & (-0.004-0.027j) & (0.021+0.016j) & 0.002 & (-0.004+0.027j) & \\cdots & 3.795\\times10^{ -5 } & 0.002 & -6.748\\times10^{ -6 } & 3.795\\times10^{ -5 } & 3.513\\times10^{ -6 }\\\\(-0.004-0.027j) & 2.756\\times10^{ -7 } & (-0.476+0.875j) & 6.377\\times10^{ -6 } & 7.267\\times10^{ -4 } & \\cdots & 8.311\\times10^{ -8 } & -6.737\\times10^{ -6 } & 1.163\\times10^{ -8 } & 0.002j & 2.618\\times10^{ -8 }\\\\(0.021+0.016j) & (-0.476+0.875j) & 1.878\\times10^{ -4 } & 4.464\\times10^{ -5 } & -5.262\\times10^{ -4 } & \\cdots & 1.301\\times10^{ -6 } & 3.794\\times10^{ -5 } & 0.002j & 3.094\\times10^{ -7 } & -7.621\\times10^{ -8 }\\\\0.002j & 6.377\\times10^{ -6 } & -2.178\\times10^{ -5 } & (-0.049-0.894j) & -5.127\\times10^{ -5 } & \\cdots & (-0.016-0.018j) & 1.230\\times10^{ -8 } & -1.668\\times10^{ -7 } & -4.434\\times10^{ -8 } & -0.002j\\\\(-0.004+0.027j) & 7.267\\times10^{ -4 } & -5.262\\times10^{ -4 } & -6.737\\times10^{ -6 } & 2.756\\times10^{ -7 } & \\cdots & -0.002j & 6.377\\times10^{ -6 } & -1.343\\times10^{ -7 } & 8.311\\times10^{ -8 } & 2.618\\times10^{ -8 }\\\\\\vdots & \\vdots & \\vdots & \\vdots & \\vdots & \\ddots & \\vdots & \\vdots & \\vdots & \\vdots & \\vdots\\\\3.104\\times10^{ -5 } & 8.311\\times10^{ -8 } & 5.378\\times10^{ -8 } & (-0.016-0.018j) & 0.002 & \\cdots & -6.354\\times10^{ -4 } & 6.967\\times10^{ -8 } & 5.294\\times10^{ -6 } & 4.438\\times10^{ -10 } & -3.106\\times10^{ -5 }\\\\-0.002j & -5.127\\times10^{ -5 } & 3.102\\times10^{ -5 } & 1.230\\times10^{ -8 } & 6.377\\times10^{ -6 } & \\cdots & -4.434\\times10^{ -8 } & (-0.049+0.894j) & (0.027-0.003j) & (-0.016+0.018j) & 0.002j\\\\-5.125\\times10^{ -5 } & -5.553\\times10^{ -9 } & 0.002 & -1.668\\times10^{ -7 } & -1.343\\times10^{ -7 } & \\cdots & 5.294\\times10^{ -6 } & (0.027-0.003j) & -1.093\\times10^{ -6 } & (-0.849-0.523j) & 4.757\\times10^{ -14 }\\\\3.104\\times10^{ -5 } & 0.002 & 1.285\\times10^{ -6 } & 6.967\\times10^{ -8 } & 8.311\\times10^{ -8 } & \\cdots & 4.438\\times10^{ -10 } & (-0.016+0.018j) & (-0.849-0.523j) & -6.354\\times10^{ -4 } & -3.106\\times10^{ -5 }\\\\3.513\\times10^{ -6 } & 7.397\\times10^{ -9 } & -7.621\\times10^{ -8 } & -0.002 & 7.397\\times10^{ -9 } & \\cdots & -3.798\\times10^{ -5 } & -0.002 & 4.710\\times10^{ -14 } & -3.798\\times10^{ -5 } & 1.000\\end{array}\\right)$$"
      ],
      "text/plain": [
       "Quantum object: dims=[[[2, 2], [2, 2]], [[2, 2], [2, 2]]], shape=(16, 16), type='super', dtype=Dense, isherm=False\n",
       "Qobj data =\n",
       "[[ 9.98542270e-01+9.95714679e-19j -4.21137967e-03-2.65376785e-02j\n",
       "   2.13440091e-02+1.64000113e-02j  1.79137311e-03-2.13943073e-05j\n",
       "  -4.21137967e-03+2.65376785e-02j  7.27370443e-04-2.74427726e-19j\n",
       "  -5.25761084e-04+4.98476959e-04j -6.74789084e-06+5.12417767e-05j\n",
       "   2.13440091e-02-1.64000113e-02j -5.25761084e-04-4.98476959e-04j\n",
       "   7.26846638e-04-1.27148029e-18j  3.79544912e-05-2.99053523e-05j\n",
       "   1.79137311e-03+2.13943073e-05j -6.74789084e-06-5.12417767e-05j\n",
       "   3.79544912e-05+2.99053523e-05j  3.51307468e-06+1.60176659e-21j]\n",
       " [-4.21139844e-03-2.65376852e-02j  2.75571455e-07+5.05194676e-06j\n",
       "  -4.76070954e-01+8.74963064e-01j  6.37730009e-06-3.24032262e-06j\n",
       "   7.26709711e-04+2.28937682e-10j  1.54565212e-13-3.29655164e-13j\n",
       "  -2.13654779e-02-1.64215820e-02j -1.34334290e-07+1.92749366e-08j\n",
       "  -5.26164227e-04-4.98356526e-04j  5.10602590e-08+1.21751520e-07j\n",
       "   4.21137226e-03+2.65376902e-02j  8.31057939e-08-1.74092457e-07j\n",
       "  -6.73704217e-06-5.12639993e-05j  1.16274110e-08-6.21246920e-09j\n",
       "  -9.60278985e-04+1.65969239e-03j  2.61780736e-08-4.95540423e-09j]\n",
       " [ 2.13440091e-02+1.64000113e-02j -4.76070954e-01+8.74963064e-01j\n",
       "   1.87825946e-04+7.00565068e-04j  4.46429837e-05+3.58797308e-05j\n",
       "  -5.26163716e-04+4.98356691e-04j -2.13594471e-02-1.64118374e-02j\n",
       "  -1.94359696e-05+2.02108755e-06j -9.80386625e-07+9.74676079e-07j\n",
       "   7.25585948e-04+3.56353997e-14j  4.20033574e-03+2.65324912e-02j\n",
       "   1.55141612e-05+1.18846856e-05j  1.30087048e-06+1.84954254e-07j\n",
       "   3.79398900e-05+2.98786982e-05j -9.59907106e-04+1.65818990e-03j\n",
       "   3.09375037e-07+1.25501211e-06j -7.62088451e-08-5.85561539e-08j]\n",
       " [ 7.56258376e-05+1.79008605e-03j  6.37730301e-06-3.24032513e-06j\n",
       "  -2.17830958e-05+4.64211517e-05j -4.85884573e-02-8.94447037e-01j\n",
       "  -5.12669416e-05-6.67112071e-06j -1.43700560e-09-1.21312359e-08j\n",
       "  -1.12491706e-06-1.13093873e-06j  2.67582218e-02+2.76460469e-03j\n",
       "   3.10164678e-05+3.70211415e-05j  9.94698419e-08+7.04648190e-08j\n",
       "   2.97988292e-07+1.35162572e-06j -1.57389271e-02-1.83264767e-02j\n",
       "   1.23003808e-08+3.39417305e-06j -1.66821013e-07-1.72356570e-08j\n",
       "  -4.43366891e-08+8.63926346e-08j -7.59223889e-05-1.79142555e-03j]\n",
       " [-4.21139844e-03+2.65376852e-02j  7.26709711e-04-2.28937683e-10j\n",
       "  -5.26164227e-04+4.98356526e-04j -6.73704217e-06+5.12639993e-05j\n",
       "   2.75571453e-07-5.05194676e-06j  1.54563376e-13+3.29655354e-13j\n",
       "   5.10602590e-08-1.21751520e-07j  1.16274110e-08+6.21246919e-09j\n",
       "  -4.76070954e-01-8.74963064e-01j -2.13654779e-02+1.64215820e-02j\n",
       "   4.21137226e-03-2.65376902e-02j -9.60278985e-04-1.65969239e-03j\n",
       "   6.37730009e-06+3.24032262e-06j -1.34334290e-07-1.92749366e-08j\n",
       "   8.31057940e-08+1.74092457e-07j  2.61780736e-08+4.95540423e-09j]\n",
       " [ 7.27370443e-04+1.28914771e-21j  3.68894116e-14-3.71593119e-13j\n",
       "  -2.13594471e-02-1.64118374e-02j -1.21917786e-08-7.76381805e-10j\n",
       "   3.68861054e-14+3.71593460e-13j  1.57487215e-06-9.81549409e-29j\n",
       "  -3.27504323e-12-2.68735050e-12j -1.07277232e-11+1.98625360e-10j\n",
       "  -2.13594471e-02+1.64118374e-02j -3.27514816e-12+2.68741517e-12j\n",
       "   9.99263976e-01+2.73138245e-19j -2.81641421e-10+1.70556189e-10j\n",
       "  -1.21917786e-08+7.76381805e-10j -1.07277232e-11-1.98625360e-10j\n",
       "  -2.81641434e-10-1.70556168e-10j  7.07832874e-06+1.52004186e-26j]\n",
       " [-5.25761132e-04+4.98477295e-04j -2.13654751e-02-1.64215599e-02j\n",
       "  -1.94359763e-05+2.02109413e-06j -1.12238579e-06+8.38988099e-07j\n",
       "   5.10602602e-08-1.21751520e-07j -3.27587327e-12-2.69015807e-12j\n",
       "   7.03501520e-07+1.39051141e-06j  1.14130987e-10+3.63407297e-10j\n",
       "   4.20033574e-03-2.65324912e-02j  9.99231702e-01+4.28354196e-10j\n",
       "   5.26184170e-04-4.98216293e-04j  5.63601747e-06-4.34989109e-05j\n",
       "   9.94990250e-08-7.03251033e-08j  5.19232932e-06-6.33534384e-06j\n",
       "   3.25399539e-09+1.38070426e-10j -4.23034740e-07-2.60998862e-07j]\n",
       " [-5.12505636e-05-6.67765735e-06j -1.34334183e-07+1.92748235e-08j\n",
       "  -9.96700566e-07-9.91021284e-07j  2.67582218e-02+2.76460469e-03j\n",
       "  -5.55315973e-09-1.19267232e-08j -1.07281866e-11+1.98624758e-10j\n",
       "   4.48865212e-11-3.06800598e-10j -1.09252926e-06+6.05300393e-13j\n",
       "   1.65686729e-03-9.62188251e-04j  5.19232932e-06+6.33534383e-06j\n",
       "   5.12505743e-05+6.67747430e-06j -8.49171907e-01+5.23379943e-01j\n",
       "  -1.66820562e-07+1.72351559e-08j  1.36392258e-11+1.67382105e-14j\n",
       "   5.29405234e-06+3.26294450e-06j  4.75658845e-14-1.55733294e-11j]\n",
       " [ 2.13440091e-02-1.64000113e-02j -5.26163716e-04-4.98356691e-04j\n",
       "   7.25585948e-04-3.56386952e-14j  3.79398900e-05-2.98786982e-05j\n",
       "  -4.76070954e-01-8.74963064e-01j -2.13594471e-02+1.64118374e-02j\n",
       "   4.20033574e-03-2.65324912e-02j -9.59907106e-04-1.65818990e-03j\n",
       "   1.87825946e-04-7.00565068e-04j -1.94359696e-05-2.02108755e-06j\n",
       "   1.55141612e-05-1.18846856e-05j  3.09375037e-07-1.25501211e-06j\n",
       "   4.46429837e-05-3.58797308e-05j -9.80386625e-07-9.74676079e-07j\n",
       "   1.30087048e-06-1.84954254e-07j -7.62088451e-08+5.85561539e-08j]\n",
       " [-5.25761132e-04-4.98477295e-04j  5.10602602e-08+1.21751520e-07j\n",
       "   4.20033574e-03+2.65324912e-02j  9.94990250e-08+7.03251033e-08j\n",
       "  -2.13654751e-02+1.64215599e-02j -3.27593155e-12+2.69019399e-12j\n",
       "   9.99231702e-01-4.28353898e-10j  5.19232932e-06+6.33534384e-06j\n",
       "  -1.94359763e-05-2.02109413e-06j  7.03501520e-07-1.39051141e-06j\n",
       "   5.26184170e-04+4.98216293e-04j  3.25399539e-09-1.38070426e-10j\n",
       "  -1.12238579e-06-8.38988099e-07j  1.14130987e-10-3.63407297e-10j\n",
       "   5.63601747e-06+4.34989109e-05j -4.23034740e-07+2.60998862e-07j]\n",
       " [ 7.26846638e-04-9.97251129e-19j  4.21137227e-03+2.65376902e-02j\n",
       "   1.55141614e-05+1.18846861e-05j  1.54550306e-06+3.45292221e-08j\n",
       "   4.21137227e-03-2.65376902e-02j  9.99263976e-01+2.74427623e-19j\n",
       "   5.26184170e-04-4.98216293e-04j  6.74790152e-06-5.12419597e-05j\n",
       "   1.55141614e-05-1.18846861e-05j  5.26184170e-04+4.98216293e-04j\n",
       "   2.10122079e-06+9.97051719e-19j  3.06598026e-08-1.72718381e-08j\n",
       "   1.54550306e-06-3.45292221e-08j  6.74790152e-06+5.12419597e-05j\n",
       "   3.06598026e-08+1.72718381e-08j  7.07578478e-06+3.08882847e-24j]\n",
       " [ 3.10387184e-05+3.70251170e-05j  8.31058152e-08-1.74092559e-07j\n",
       "   5.37825049e-08+1.50202199e-06j -1.57389271e-02-1.83264767e-02j\n",
       "   1.65808510e-03-9.62635575e-04j -2.38295536e-10-2.48983996e-10j\n",
       "   5.01659666e-05+1.44373761e-05j -8.49171907e-01+5.23379943e-01j\n",
       "   1.28471874e-06+2.82027445e-07j  3.25566757e-09-1.34603409e-10j\n",
       "   2.62609436e-08+3.16320697e-08j -6.35442906e-04-1.37716536e-04j\n",
       "   6.96742860e-08+8.35353369e-08j  5.29405232e-06-3.26294450e-06j\n",
       "   4.43824626e-10+2.84133803e-09j -3.10647410e-05-3.70565001e-05j]\n",
       " [ 7.56258376e-05-1.79008605e-03j -5.12669416e-05+6.67112071e-06j\n",
       "   3.10164678e-05-3.70211415e-05j  1.23003808e-08-3.39417305e-06j\n",
       "   6.37730301e-06+3.24032513e-06j -1.43700560e-09+1.21312359e-08j\n",
       "   9.94698419e-08-7.04648190e-08j -1.66821013e-07+1.72356570e-08j\n",
       "  -2.17830958e-05-4.64211517e-05j -1.12491706e-06+1.13093873e-06j\n",
       "   2.97988292e-07-1.35162572e-06j -4.43366891e-08-8.63926346e-08j\n",
       "  -4.85884573e-02+8.94447037e-01j  2.67582218e-02-2.76460469e-03j\n",
       "  -1.57389271e-02+1.83264767e-02j -7.59223889e-05+1.79142555e-03j]\n",
       " [-5.12505636e-05+6.67765735e-06j -5.55315972e-09+1.19267232e-08j\n",
       "   1.65686729e-03+9.62188251e-04j -1.66820562e-07-1.72351559e-08j\n",
       "  -1.34334183e-07-1.92748235e-08j -1.07281866e-11-1.98624758e-10j\n",
       "   5.19232932e-06-6.33534383e-06j  1.36392258e-11-1.67382156e-14j\n",
       "  -9.96700566e-07+9.91021284e-07j  4.48865213e-11+3.06800598e-10j\n",
       "   5.12505743e-05-6.67747430e-06j  5.29405234e-06-3.26294450e-06j\n",
       "   2.67582218e-02-2.76460469e-03j -1.09252926e-06-6.04888177e-13j\n",
       "  -8.49171907e-01-5.23379943e-01j  4.75658845e-14+1.55733294e-11j]\n",
       " [ 3.10387184e-05-3.70251170e-05j  1.65808510e-03+9.62635575e-04j\n",
       "   1.28471874e-06-2.82027445e-07j  6.96742860e-08-8.35353369e-08j\n",
       "   8.31058152e-08+1.74092559e-07j -2.38295536e-10+2.48983996e-10j\n",
       "   3.25566756e-09+1.34603410e-10j  5.29405232e-06+3.26294450e-06j\n",
       "   5.37825049e-08-1.50202199e-06j  5.01659665e-05-1.44373761e-05j\n",
       "   2.62609436e-08-3.16320697e-08j  4.43824626e-10-2.84133803e-09j\n",
       "  -1.57389271e-02+1.83264767e-02j -8.49171907e-01-5.23379943e-01j\n",
       "  -6.35442906e-04+1.37716536e-04j -3.10647410e-05+3.70565001e-05j]\n",
       " [ 3.51307468e-06+7.57340700e-21j  7.39672654e-09-1.16502291e-08j\n",
       "  -7.62088344e-08-5.85561132e-08j -1.79290642e-03+2.13605544e-05j\n",
       "   7.39672654e-09+1.16502291e-08j  7.07832874e-06+6.21931683e-26j\n",
       "  -4.23082967e-07-2.60662606e-07j  4.71024306e-14-1.55737150e-11j\n",
       "  -7.62088344e-08+5.85561132e-08j -4.23082967e-07+2.60662606e-07j\n",
       "   7.07578478e-06-8.04561018e-21j -3.79848694e-05+2.99224536e-05j\n",
       "  -1.79290642e-03-2.13605544e-05j  4.71024306e-14+1.55736899e-11j\n",
       "  -3.79848694e-05-2.99224536e-05j  9.99982333e-01+4.57977825e-22j]]"
      ]
     },
     "execution_count": 90,
     "metadata": {},
     "output_type": "execute_result"
    }
   ],
   "source": [
    "swap"
   ]
  },
  {
   "cell_type": "code",
   "execution_count": 128,
   "id": "e391aa8c-2b18-4f49-8c01-9474950e0b9c",
   "metadata": {},
   "outputs": [
    {
     "data": {
      "text/latex": [
       "Quantum object: dims=[[[2, 2], [2, 2]], [[2, 2], [2, 2]]], shape=(16, 16), type='super', dtype=CSR, isherm=False$$\\left(\\begin{array}{cc}1 & 0 & 0 & 0 & 0 & \\cdots & 0 & 0 & 0 & 0 & 0\\\\0 & 0 & 1j & 0 & 0 & \\cdots & 0 & 0 & 0 & 0 & 0\\\\0 & 1j & 0 & 0 & 0 & \\cdots & 0 & 0 & 0 & 0 & 0\\\\0 & 0 & 0 & 1 & 0 & \\cdots & 0 & 0 & 0 & 0 & 0\\\\0 & 0 & 0 & 0 & 0 & \\cdots & 0 & 0 & 0 & 0 & 0\\\\\\vdots & \\vdots & \\vdots & \\vdots & \\vdots & \\ddots & \\vdots & \\vdots & \\vdots & \\vdots & \\vdots\\\\0 & 0 & 0 & 0 & 0 & \\cdots & 0 & 0 & 0 & 0 & 0\\\\0 & 0 & 0 & 0 & 0 & \\cdots & 0 & 1 & 0 & 0 & 0\\\\0 & 0 & 0 & 0 & 0 & \\cdots & 0 & 0 & 0 & 1j & 0\\\\0 & 0 & 0 & 0 & 0 & \\cdots & 0 & 0 & 1j & 0 & 0\\\\0 & 0 & 0 & 0 & 0 & \\cdots & 0 & 0 & 0 & 0 & 1\\end{array}\\right)$$"
      ],
      "text/plain": [
       "Quantum object: dims=[[[2, 2], [2, 2]], [[2, 2], [2, 2]]], shape=(16, 16), type='super', dtype=CSR, isherm=False\n",
       "Qobj data =\n",
       "[[1.+0.j 0.+0.j 0.+0.j 0.+0.j 0.+0.j 0.+0.j 0.+0.j 0.+0.j 0.+0.j 0.+0.j\n",
       "  0.+0.j 0.+0.j 0.+0.j 0.+0.j 0.+0.j 0.+0.j]\n",
       " [0.+0.j 0.+0.j 0.+1.j 0.+0.j 0.+0.j 0.+0.j 0.+0.j 0.+0.j 0.+0.j 0.+0.j\n",
       "  0.+0.j 0.+0.j 0.+0.j 0.+0.j 0.+0.j 0.+0.j]\n",
       " [0.+0.j 0.+1.j 0.+0.j 0.+0.j 0.+0.j 0.+0.j 0.+0.j 0.+0.j 0.+0.j 0.+0.j\n",
       "  0.+0.j 0.+0.j 0.+0.j 0.+0.j 0.+0.j 0.+0.j]\n",
       " [0.+0.j 0.+0.j 0.+0.j 1.+0.j 0.+0.j 0.+0.j 0.+0.j 0.+0.j 0.+0.j 0.+0.j\n",
       "  0.+0.j 0.+0.j 0.+0.j 0.+0.j 0.+0.j 0.+0.j]\n",
       " [0.+0.j 0.+0.j 0.+0.j 0.+0.j 0.+0.j 0.+0.j 0.+0.j 0.+0.j 0.-1.j 0.+0.j\n",
       "  0.+0.j 0.+0.j 0.+0.j 0.+0.j 0.+0.j 0.+0.j]\n",
       " [0.+0.j 0.+0.j 0.+0.j 0.+0.j 0.+0.j 0.+0.j 0.+0.j 0.+0.j 0.+0.j 0.+0.j\n",
       "  1.+0.j 0.+0.j 0.+0.j 0.+0.j 0.+0.j 0.+0.j]\n",
       " [0.+0.j 0.+0.j 0.+0.j 0.+0.j 0.+0.j 0.+0.j 0.+0.j 0.+0.j 0.+0.j 1.+0.j\n",
       "  0.+0.j 0.+0.j 0.+0.j 0.+0.j 0.+0.j 0.+0.j]\n",
       " [0.+0.j 0.+0.j 0.+0.j 0.+0.j 0.+0.j 0.+0.j 0.+0.j 0.+0.j 0.+0.j 0.+0.j\n",
       "  0.+0.j 0.-1.j 0.+0.j 0.+0.j 0.+0.j 0.+0.j]\n",
       " [0.+0.j 0.+0.j 0.+0.j 0.+0.j 0.-1.j 0.+0.j 0.+0.j 0.+0.j 0.+0.j 0.+0.j\n",
       "  0.+0.j 0.+0.j 0.+0.j 0.+0.j 0.+0.j 0.+0.j]\n",
       " [0.+0.j 0.+0.j 0.+0.j 0.+0.j 0.+0.j 0.+0.j 1.+0.j 0.+0.j 0.+0.j 0.+0.j\n",
       "  0.+0.j 0.+0.j 0.+0.j 0.+0.j 0.+0.j 0.+0.j]\n",
       " [0.+0.j 0.+0.j 0.+0.j 0.+0.j 0.+0.j 1.+0.j 0.+0.j 0.+0.j 0.+0.j 0.+0.j\n",
       "  0.+0.j 0.+0.j 0.+0.j 0.+0.j 0.+0.j 0.+0.j]\n",
       " [0.+0.j 0.+0.j 0.+0.j 0.+0.j 0.+0.j 0.+0.j 0.+0.j 0.-1.j 0.+0.j 0.+0.j\n",
       "  0.+0.j 0.+0.j 0.+0.j 0.+0.j 0.+0.j 0.+0.j]\n",
       " [0.+0.j 0.+0.j 0.+0.j 0.+0.j 0.+0.j 0.+0.j 0.+0.j 0.+0.j 0.+0.j 0.+0.j\n",
       "  0.+0.j 0.+0.j 1.+0.j 0.+0.j 0.+0.j 0.+0.j]\n",
       " [0.+0.j 0.+0.j 0.+0.j 0.+0.j 0.+0.j 0.+0.j 0.+0.j 0.+0.j 0.+0.j 0.+0.j\n",
       "  0.+0.j 0.+0.j 0.+0.j 0.+0.j 0.+1.j 0.+0.j]\n",
       " [0.+0.j 0.+0.j 0.+0.j 0.+0.j 0.+0.j 0.+0.j 0.+0.j 0.+0.j 0.+0.j 0.+0.j\n",
       "  0.+0.j 0.+0.j 0.+0.j 0.+1.j 0.+0.j 0.+0.j]\n",
       " [0.+0.j 0.+0.j 0.+0.j 0.+0.j 0.+0.j 0.+0.j 0.+0.j 0.+0.j 0.+0.j 0.+0.j\n",
       "  0.+0.j 0.+0.j 0.+0.j 0.+0.j 0.+0.j 1.+0.j]]"
      ]
     },
     "execution_count": 128,
     "metadata": {},
     "output_type": "execute_result"
    }
   ],
   "source": [
    "qt.to_super(qt.gates.iswap())"
   ]
  },
  {
   "cell_type": "code",
   "execution_count": 123,
   "id": "726bdbb9-351a-4fe6-b51c-04f69fc3337c",
   "metadata": {},
   "outputs": [
    {
     "data": {
      "text/plain": [
       "(-0.476+0.875j)"
      ]
     },
     "execution_count": 123,
     "metadata": {},
     "output_type": "execute_result"
    }
   ],
   "source": [
    "-0.476+0.875j"
   ]
  },
  {
   "cell_type": "code",
   "execution_count": 126,
   "id": "b301a320-6e80-40f6-b061-9e8340e472d9",
   "metadata": {},
   "outputs": [
    {
     "data": {
      "text/plain": [
       "-61.45380926895664"
      ]
     },
     "execution_count": 126,
     "metadata": {},
     "output_type": "execute_result"
    }
   ],
   "source": [
    "np.arctan(0.875/-0.476)/deg"
   ]
  },
  {
   "cell_type": "code",
   "execution_count": 124,
   "id": "7844554e-098a-46f4-9cb1-345a7d493e7e",
   "metadata": {},
   "outputs": [
    {
     "data": {
      "text/plain": [
       "(-0.849-0.523j)"
      ]
     },
     "execution_count": 124,
     "metadata": {},
     "output_type": "execute_result"
    }
   ],
   "source": [
    "-0.849-0.523j"
   ]
  },
  {
   "cell_type": "code",
   "execution_count": 127,
   "id": "28b9254a-aa5d-448c-83ce-2207d3e5cc8a",
   "metadata": {},
   "outputs": [
    {
     "data": {
      "text/plain": [
       "31.63385205429806"
      ]
     },
     "execution_count": 127,
     "metadata": {},
     "output_type": "execute_result"
    }
   ],
   "source": [
    "np.arctan(-0.523/-0.849)/deg"
   ]
  },
  {
   "cell_type": "code",
   "execution_count": null,
   "id": "605366c0-de37-4840-b4e7-a59c642ee7d4",
   "metadata": {},
   "outputs": [],
   "source": []
  }
 ],
 "metadata": {
  "kernelspec": {
   "display_name": "Python 3 (ipykernel)",
   "language": "python",
   "name": "python3"
  },
  "language_info": {
   "codemirror_mode": {
    "name": "ipython",
    "version": 3
   },
   "file_extension": ".py",
   "mimetype": "text/x-python",
   "name": "python",
   "nbconvert_exporter": "python",
   "pygments_lexer": "ipython3",
   "version": "3.10.0"
  }
 },
 "nbformat": 4,
 "nbformat_minor": 5
}
