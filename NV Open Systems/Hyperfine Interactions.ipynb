{
 "cells": [
  {
   "cell_type": "code",
   "execution_count": 1,
   "id": "751198c5-46bf-4ada-a678-5a144dbeadae",
   "metadata": {},
   "outputs": [],
   "source": [
    "#import nmresearch as nmr\n",
    "import scipy as sp\n",
    "import numpy as np\n",
    "from numpy import pi, sqrt\n",
    "import matplotlib.pyplot as plt\n",
    "import qutip as qt\n",
    "from qutip import hinton, identity, to_super, sigmaz, tensor, tensor_contract, sigmax, projection, jmat, basis, propagator, coefficient"
   ]
  },
  {
   "cell_type": "code",
   "execution_count": 2,
   "id": "6f412038-8383-47b1-9a0c-887bf89636f8",
   "metadata": {},
   "outputs": [],
   "source": [
    "Sz = tensor(jmat(1/2,'z'), identity([2]))\n",
    "Sx = tensor(jmat(1/2,'x'),identity([2]))\n",
    "Sy = tensor(jmat(1/2,'y'),identity([2]))\n",
    "\n",
    "Iz = tensor(identity(2), jmat(1/2,'z'))\n",
    "Ix = tensor(identity(2), jmat(1/2,'x'))\n",
    "Iy = tensor(identity(2), jmat(1/2,'y'))"
   ]
  },
  {
   "cell_type": "code",
   "execution_count": 3,
   "id": "ea25b139-772d-4516-b426-b440502cf0de",
   "metadata": {},
   "outputs": [],
   "source": [
    "sqrt2 = np.sqrt(2)\n",
    "isqrt2 = 1/np.sqrt(2)\n",
    "\n",
    "GHz=1e3\n",
    "MHz=1\n",
    "kHz=1e-3\n",
    "\n",
    "ms=1e3\n",
    "us=1\n",
    "ns=1e-3\n",
    "\n",
    "T = 1e4\n",
    "G = 1\n",
    "\n",
    "B = 360\n",
    "\n",
    "gamma_e = -28024 * MHz / T\n",
    "gamma_p = 42.577 * MHz / T\n",
    "gamma_N = -4.316 * MHz / T\n",
    "\n",
    "omegaNV =  2.87 * GHz + gamma_e * B\n",
    "omegaX = gamma_e * B\n",
    "omegaN15 = gamma_N * B\n",
    "omegaP = gamma_p * B\n",
    "\n",
    "D = 60 * kHz\n",
    "Omega = 1 * MHz\n",
    "\n",
    "T1e = 1*ms\n",
    "T2e = 4*us\n",
    "T1n = 10*ms\n",
    "T2n = 500*us\n",
    "\n",
    "T1e_rho = 100*us # this is emergent, no need to add directly\n",
    "\n",
    "t_swap_nvx = 7.95*us\n",
    "\n",
    "deg = np.pi/180"
   ]
  },
  {
   "cell_type": "code",
   "execution_count": 5,
   "id": "b29ca901-a272-478e-9c91-78f9679aed05",
   "metadata": {},
   "outputs": [
    {
     "data": {
      "text/plain": [
       "-1008.864"
      ]
     },
     "execution_count": 5,
     "metadata": {},
     "output_type": "execute_result"
    }
   ],
   "source": [
    "omegaX"
   ]
  },
  {
   "cell_type": "code",
   "execution_count": 6,
   "id": "bb3ff5c6-9ec3-41bf-9053-a8297c319246",
   "metadata": {},
   "outputs": [
    {
     "data": {
      "text/plain": [
       "1.5327719999999998"
      ]
     },
     "execution_count": 6,
     "metadata": {},
     "output_type": "execute_result"
    }
   ],
   "source": [
    "omegaP"
   ]
  },
  {
   "cell_type": "code",
   "execution_count": 4,
   "id": "5154d982-c71a-43b8-9e54-e726fceab6d1",
   "metadata": {},
   "outputs": [],
   "source": [
    "e0 = basis(2,0)\n",
    "e1 = basis(2,1)\n",
    "n0 = basis(2,0)\n",
    "n1 = basis(2,1)\n",
    "\n",
    "ket00 = tensor(e0,n0)\n",
    "ket01 = tensor(e0,n1)\n",
    "ket10 = tensor(e1,n0)\n",
    "ket11 = tensor(e1,n1)\n",
    "\n",
    "rho00 = tensor(projection(2,0,0), projection(2,0,0))\n",
    "rho01 = tensor(projection(2,0,0), projection(2,1,1))\n",
    "rho10 = tensor(projection(2,1,1), projection(2,0,0))\n",
    "rho11 = tensor(projection(2,1,1), projection(2,1,1))"
   ]
  },
  {
   "cell_type": "code",
   "execution_count": 5,
   "id": "810004b6-8522-464b-8769-44c4aceacff0",
   "metadata": {},
   "outputs": [],
   "source": [
    "e_c_ops = [1/(2*T1e) * Sx, 1/(2*T1e) * Sy, 1/(2*T2e) * Sz]\n",
    "\n",
    "n_c_ops = [1/(2*T1n) * Ix, 1/(2*T1n) * Iy, 1/(2*T2n) * Iz]\n",
    "\n",
    "lindblad_ops = e_c_ops + n_c_ops "
   ]
  },
  {
   "cell_type": "code",
   "execution_count": 6,
   "id": "5a1fb64f-6334-4ca3-967c-fd48b8d687f4",
   "metadata": {},
   "outputs": [],
   "source": [
    "def noise(t):\n",
    "    # computes noise propegator for a time t while no \n",
    "    # other evolution is occuring\n",
    "    return propagator(identity([2,2]), t, c_ops=lindblad_ops)\n",
    "\n",
    "def partial_pol_state(pol):\n",
    "    # returns a state partially polarize along Z\n",
    "    # polarization must be a number between -1 and 1\n",
    "    assert abs(pol) <= 1\n",
    "    return (1+pol)/2*projection(2,0,0) + (1-pol)/2*projection(2,1,1)\n",
    "\n",
    "def nv_reset(pol):\n",
    "    return tensor(projection(2,0,0), partial_pol_state(pol), prho)"
   ]
  },
  {
   "cell_type": "code",
   "execution_count": 7,
   "id": "be226915-df16-40bb-9e50-4b5c35f14615",
   "metadata": {},
   "outputs": [],
   "source": [
    "zdir_nv = (1/np.sqrt(3))*np.array([1,1,1])\n",
    "theta_nv = np.arccos(1/np.sqrt(3))\n",
    "phi_nv = 45*deg\n",
    "\n",
    "def EulerMatrix(alpha, beta, gamma):\n",
    "    return Rz(alpha) @ Ry(beta) @ Rz(gamma)\n",
    "\n",
    "def Rz(alpha):\n",
    "    return np.array(\n",
    "        [\n",
    "            [np.cos(alpha), -np.sin(alpha),0],\n",
    "            [np.sin(alpha), np.cos(alpha),0],\n",
    "            [0,0,1]\n",
    "        ]\n",
    "    )\n",
    "\n",
    "def Ry(alpha):\n",
    "    return np.array(\n",
    "        [\n",
    "            [np.cos(alpha), 0, np.sin(alpha)],\n",
    "            [0,1, 0],\n",
    "            [-np.sin(alpha),0, np.cos(alpha)]\n",
    "        ]\n",
    "    )\n",
    "\n",
    "def Rx(alpha):\n",
    "    return np.array(\n",
    "        [\n",
    "            [1,0,0],\n",
    "            [0, np.cos(alpha), -np.sin(alpha),],\n",
    "            [0, np.sin(alpha), np.cos(alpha),]\n",
    "        ]\n",
    "    )"
   ]
  },
  {
   "cell_type": "code",
   "execution_count": 8,
   "id": "8ea49429-771f-4d2b-8e84-a5ebb44123c7",
   "metadata": {},
   "outputs": [
    {
     "data": {
      "text/plain": [
       "1.0000000000000002"
      ]
     },
     "execution_count": 8,
     "metadata": {},
     "output_type": "execute_result"
    }
   ],
   "source": [
    "# check that R properly rotates into the NV frame\n",
    "R = EulerMatrix(phi_nv, theta_nv, 0)\n",
    "(R.T @ zdir_nv) @ np.array([0,0,1])"
   ]
  },
  {
   "cell_type": "code",
   "execution_count": 9,
   "id": "a21f859b-6dde-4901-b694-8ac1b4a9ceb1",
   "metadata": {},
   "outputs": [],
   "source": [
    "# magnetic field alignment in the lab frame\n",
    "theta = 0\n",
    "phi = phi_nv\n",
    "\n",
    "# some other relative angles \n",
    "alpha = 0*deg\n",
    "beta = 90*deg\n",
    "\n",
    "# principle components of uni-axial symm HF tensor\n",
    "A_perp = 17.2 * MHz\n",
    "A_para = 29.4 * MHz\n",
    "\n",
    "# direction of B field in the lab frame\n",
    "Bdir = np.array([np.sin(theta)*np.sin(phi), np.sin(theta)*np.cos(phi), np.cos(theta)])\n",
    "\n",
    "# Hyperfine tensor in the principle axis frame\n",
    "A_principle = np.array([[A_perp, 0, 0], [0, A_perp, 0], [0, 0, A_para]])\n",
    "\n",
    "RB = EulerMatrix(phi, theta, 0)\n",
    "RA = EulerMatrix(beta, alpha, 0)\n",
    "\n",
    "# NV-frame hyperfine tensor\n",
    "A = RB @ RA.T @ A_principle @ RA @ RB.T"
   ]
  },
  {
   "cell_type": "code",
   "execution_count": 10,
   "id": "b6c03277-64ed-4c31-b77f-c668cd567275",
   "metadata": {},
   "outputs": [
    {
     "data": {
      "text/plain": [
       "array([[1.72000000e+01, 2.13924533e-16, 0.00000000e+00],\n",
       "       [2.13924533e-16, 1.72000000e+01, 0.00000000e+00],\n",
       "       [0.00000000e+00, 0.00000000e+00, 2.94000000e+01]])"
      ]
     },
     "execution_count": 10,
     "metadata": {},
     "output_type": "execute_result"
    }
   ],
   "source": [
    "A"
   ]
  },
  {
   "cell_type": "code",
   "execution_count": 11,
   "id": "27e97db2-f043-4192-b40b-22aa221486f3",
   "metadata": {},
   "outputs": [
    {
     "data": {
      "text/latex": [
       "Quantum object: dims=[[2, 2], [2, 2]], shape=(4, 4), type='oper', dtype=CSR, isherm=True$$\\left(\\begin{array}{cc}-3.118\\times10^{ 3 } & 0 & 0 & 0\\\\0 & -3.220\\times10^{ 3 } & 0 & 0\\\\0 & 0 & 3.128\\times10^{ 3 } & 0\\\\0 & 0 & 0 & 3.211\\times10^{ 3 }\\end{array}\\right)$$"
      ],
      "text/plain": [
       "Quantum object: dims=[[2, 2], [2, 2]], shape=(4, 4), type='oper', dtype=CSR, isherm=True\n",
       "Qobj data =\n",
       "[[-3118.44297361     0.             0.             0.        ]\n",
       " [    0.         -3220.43648813     0.             0.        ]\n",
       " [    0.             0.          3128.07366412     0.        ]\n",
       " [    0.             0.             0.          3210.80579762]]"
      ]
     },
     "execution_count": 11,
     "metadata": {},
     "output_type": "execute_result"
    }
   ],
   "source": [
    "H = 2*pi*(omegaX * Sz + omegaP * Iz + A[2,2] * (Sz * Iz) + A[2,0] * (Sz * Ix) + A[2,1] * (Sz * Iy))\n",
    "\n",
    "H"
   ]
  },
  {
   "cell_type": "code",
   "execution_count": 12,
   "id": "fde75cc9-3235-46ab-899c-e2ef3e99b4fe",
   "metadata": {},
   "outputs": [],
   "source": [
    "energies = H.eigenenergies()"
   ]
  },
  {
   "cell_type": "code",
   "execution_count": 13,
   "id": "565b7b5e-4b60-48f0-bf86-e29578ae43f7",
   "metadata": {},
   "outputs": [
    {
     "data": {
      "text/plain": [
       "array([-3220.43648813, -3118.44297361,  3128.07366412,  3210.80579762])"
      ]
     },
     "execution_count": 13,
     "metadata": {},
     "output_type": "execute_result"
    }
   ],
   "source": [
    "energies"
   ]
  },
  {
   "cell_type": "code",
   "execution_count": 14,
   "id": "7d6fd4fc-32f1-4f39-a91d-d0013074f9e2",
   "metadata": {},
   "outputs": [],
   "source": [
    "omega_bar = abs(omegaX + omegaP)\n",
    "delta_omega = abs(omegaX - omegaP)"
   ]
  },
  {
   "cell_type": "code",
   "execution_count": 15,
   "id": "f676c524-2065-4d37-9edc-aa44e5feca0a",
   "metadata": {},
   "outputs": [
    {
     "data": {
      "text/plain": [
       "-3118.442973608615"
      ]
     },
     "execution_count": 15,
     "metadata": {},
     "output_type": "execute_result"
    }
   ],
   "source": [
    "2*pi*(-omega_bar/2 + A[2,2]/4)"
   ]
  },
  {
   "cell_type": "code",
   "execution_count": 16,
   "id": "70cd3636-dd1d-43f3-9e22-97a580c0c276",
   "metadata": {},
   "outputs": [
    {
     "data": {
      "text/plain": [
       "-512.548386"
      ]
     },
     "execution_count": 16,
     "metadata": {},
     "output_type": "execute_result"
    }
   ],
   "source": [
    "-delta_omega/2 - A[2,2]/4"
   ]
  },
  {
   "cell_type": "code",
   "execution_count": 17,
   "id": "21c0ec06-f8b5-45de-806b-7520f438076a",
   "metadata": {},
   "outputs": [
    {
     "data": {
      "text/plain": [
       "497.848386"
      ]
     },
     "execution_count": 17,
     "metadata": {},
     "output_type": "execute_result"
    }
   ],
   "source": [
    "delta_omega/2 - A[2,2]/4"
   ]
  },
  {
   "cell_type": "code",
   "execution_count": 18,
   "id": "96be8d90-8912-4db0-a861-6c1fc27c3646",
   "metadata": {},
   "outputs": [
    {
     "data": {
      "text/plain": [
       "511.015614"
      ]
     },
     "execution_count": 18,
     "metadata": {},
     "output_type": "execute_result"
    }
   ],
   "source": [
    "omega_bar/2 + A[2,2]/4"
   ]
  },
  {
   "cell_type": "code",
   "execution_count": 19,
   "id": "fb080d3a-a204-4ea6-92dc-7063b6caf8fc",
   "metadata": {},
   "outputs": [],
   "source": [
    "omega_cnot21_IDEAL = ((omega_bar/2 + A[2,2]/4) - (-delta_omega/2 - A[2,2]/4))\n",
    "omega_cnot21_MEAS = (energies[3]-energies[0])/(2*pi)\n",
    "omega_cnot12_IDEAL = ((omega_bar/2 + A[2,2]/4) - (delta_omega/2 - A[2,2]/4))\n",
    "omega_cnot12_MEAS = (energies[3]-energies[2])/(2*pi)"
   ]
  },
  {
   "cell_type": "code",
   "execution_count": 20,
   "id": "dac3387b-1fda-4c6e-8fc9-5c11719704b3",
   "metadata": {},
   "outputs": [
    {
     "data": {
      "text/plain": [
       "82.73213350588367"
      ]
     },
     "execution_count": 20,
     "metadata": {},
     "output_type": "execute_result"
    }
   ],
   "source": [
    "energies[3]-energies[2]"
   ]
  },
  {
   "cell_type": "code",
   "execution_count": 21,
   "id": "9c35f9db-de26-46a3-ba5b-5387ecc0cc88",
   "metadata": {},
   "outputs": [
    {
     "data": {
      "text/plain": [
       "13.167228000000003"
      ]
     },
     "execution_count": 21,
     "metadata": {},
     "output_type": "execute_result"
    }
   ],
   "source": [
    "omega_cnot12_MEAS"
   ]
  },
  {
   "cell_type": "code",
   "execution_count": 22,
   "id": "01082189-1e3c-4f03-96b4-cbc1521381d4",
   "metadata": {},
   "outputs": [
    {
     "data": {
      "text/plain": [
       "13.167228000000023"
      ]
     },
     "execution_count": 22,
     "metadata": {},
     "output_type": "execute_result"
    }
   ],
   "source": [
    "omega_cnot12_IDEAL"
   ]
  },
  {
   "cell_type": "code",
   "execution_count": 23,
   "id": "78f62528-c2ee-47de-a343-24b7ca127acf",
   "metadata": {},
   "outputs": [
    {
     "data": {
      "text/plain": [
       "6431.242285757966"
      ]
     },
     "execution_count": 23,
     "metadata": {},
     "output_type": "execute_result"
    }
   ],
   "source": [
    "energies[3]-energies[0]"
   ]
  },
  {
   "cell_type": "code",
   "execution_count": 24,
   "id": "81e94365-9272-48fd-a78f-c1807ff9017c",
   "metadata": {},
   "outputs": [
    {
     "data": {
      "text/plain": [
       "1023.564"
      ]
     },
     "execution_count": 24,
     "metadata": {},
     "output_type": "execute_result"
    }
   ],
   "source": [
    "omega_cnot21_MEAS"
   ]
  },
  {
   "cell_type": "code",
   "execution_count": 25,
   "id": "f88f4ecf-8fe2-4681-8663-2eef5c311f28",
   "metadata": {},
   "outputs": [],
   "source": [
    "rho0 = 0.5*tensor(projection(2,0,0), identity([2]))"
   ]
  },
  {
   "cell_type": "code",
   "execution_count": 26,
   "id": "814d8b10-076f-4de5-bf11-7772a819a1d6",
   "metadata": {},
   "outputs": [
    {
     "data": {
      "text/latex": [
       "Quantum object: dims=[[2, 2], [2, 2]], shape=(4, 4), type='oper', dtype=CSR, isherm=True$$\\left(\\begin{array}{cc}97.178 & 0 & 4.398 & 0\\\\0 & -4.815 & 0 & 4.398\\\\4.398 & 0 & -87.547 & 0\\\\0 & 4.398 & 0 & -4.815\\end{array}\\right)$$"
      ],
      "text/plain": [
       "Quantum object: dims=[[2, 2], [2, 2]], shape=(4, 4), type='oper', dtype=CSR, isherm=True\n",
       "Qobj data =\n",
       "[[ 97.17816927   0.           4.39822972   0.        ]\n",
       " [  0.          -4.81534525   0.           4.39822972]\n",
       " [  4.39822972   0.         -87.54747876   0.        ]\n",
       " [  0.           4.39822972   0.          -4.81534525]]"
      ]
     },
     "execution_count": 26,
     "metadata": {},
     "output_type": "execute_result"
    }
   ],
   "source": [
    "HrE = 2*pi* ((omegaX + omega_cnot21_MEAS) * Sz + omegaP * Iz + A[2,2] * (Sz * Iz) + A[2,0] * (Sz * Ix) + A[2,1] * (Sz * Iy) + 1.4*MHz*Sx)\n",
    "\n",
    "HrE"
   ]
  },
  {
   "cell_type": "code",
   "execution_count": 27,
   "id": "f9aa3c46-959e-4d6c-b8d1-461ad15aca5a",
   "metadata": {},
   "outputs": [],
   "source": [
    "times = np.arange(0,1,.005)\n",
    "\n",
    "\n",
    "resE = qt.mesolve(HrE,rho01,times,c_ops=lindblad_ops)\n",
    "signal = [qt.expect(rho11, state) for state in resE.states]\n",
    "#signal = [ abs(ket11.trans() * (-1j * t * HrE).expm() * ket01)**2 for t in times]\n",
    "#signal_other = [ abs(ket10.trans() * (-1j * t * HrE).expm() * ket00)**2 for t in times]\n",
    "t_cnot_e = times[np.argmax(signal)]"
   ]
  },
  {
   "cell_type": "code",
   "execution_count": 28,
   "id": "02d8cf67-4350-41f4-8a9c-c6e70355acbe",
   "metadata": {},
   "outputs": [
    {
     "data": {
      "image/png": "[encoded data removed]",
      "text/plain": [
       "<Figure size 640x480 with 1 Axes>"
      ]
     },
     "metadata": {},
     "output_type": "display_data"
    }
   ],
   "source": [
    "plt.plot(times,signal,label=\"Transition: 01->11\")\n",
    "#plt.plot(times,signal_other,label=\"Leakage\")\n",
    "plt.scatter(t_cnot_e, np.max(signal),label=f\"t-max = {t_cnot_e}\")\n",
    "plt.xlabel(\"Driving time, (us)\")\n",
    "plt.ylabel(\"Transition Probability\")\n",
    "plt.title(\"CNOT Calibration, Control: p, Target: e\")\n",
    "plt.legend()\n",
    "plt.show()"
   ]
  },
  {
   "cell_type": "code",
   "execution_count": 29,
   "id": "3c744e66-62a1-4310-b8c2-916f5bdc0fe3",
   "metadata": {},
   "outputs": [
    {
     "data": {
      "text/plain": [
       "2.142857142857143"
      ]
     },
     "execution_count": 29,
     "metadata": {},
     "output_type": "execute_result"
    }
   ],
   "source": [
    "3/(1.4*MHz)"
   ]
  },
  {
   "cell_type": "code",
   "execution_count": 30,
   "id": "07249198-ae18-4f12-9787-9fbfdd7b7b05",
   "metadata": {},
   "outputs": [],
   "source": [
    "cnot_e = propagator(HrE, t_cnot_e, c_ops=lindblad_ops)"
   ]
  },
  {
   "cell_type": "code",
   "execution_count": 31,
   "id": "2e095503-21e0-4768-bf4b-e3acb994e7e9",
   "metadata": {},
   "outputs": [
    {
     "data": {
      "text/plain": [
       "0.9969487199555616"
      ]
     },
     "execution_count": 31,
     "metadata": {},
     "output_type": "execute_result"
    }
   ],
   "source": [
    "qt.unitarity(cnot_e)"
   ]
  },
  {
   "cell_type": "code",
   "execution_count": 33,
   "id": "2db22860-0b54-47a2-8f41-054df949f5f2",
   "metadata": {},
   "outputs": [],
   "source": [
    "cost = coefficient(lambda t: np.cos(omega_cnot12_MEAS*t))\n",
    "sint = coefficient(lambda t: np.sin(omega_cnot12_MEAS*t))"
   ]
  },
  {
   "cell_type": "code",
   "execution_count": 34,
   "id": "db1bf9d7-eb5f-407c-ad16-0102b5042aaf",
   "metadata": {},
   "outputs": [
    {
     "data": {
      "text/plain": [
       "QobjEvo: dims = [[2, 2], [2, 2]], shape = (4, 4), type = oper, superrep = None, isconstant = False, num_elements = 6"
      ]
     },
     "execution_count": 34,
     "metadata": {},
     "output_type": "execute_result"
    }
   ],
   "source": [
    "# this is a time dependent hamiltonian with slow terms that might matter\n",
    "\n",
    "HrN =  (omegaP+omega_cnot12_MEAS) * Iz + A[2,2] * (Sz * Iz) + A[2,0] * (Sz * (cost*Ix + sint*Iy)) + A[2,1] * (Sz * (cost*Iy - sint*Ix)) + 40 * kHz*Ix\n",
    "\n",
    "HrN"
   ]
  },
  {
   "cell_type": "code",
   "execution_count": 35,
   "id": "e3ca9c30-998f-4301-905d-5327126e0398",
   "metadata": {},
   "outputs": [],
   "source": [
    "times = np.arange(0,1/(40*kHz),.1)\n",
    "res = qt.mesolve(2*np.pi*HrN, rho10, times, c_ops=lindblad_ops)\n",
    "res_leak = qt.mesolve(2*np.pi*HrN, rho00, times, c_ops=lindblad_ops)"
   ]
  },
  {
   "cell_type": "code",
   "execution_count": 36,
   "id": "8371404d-c29f-4684-b4a9-1ebb274b8701",
   "metadata": {},
   "outputs": [],
   "source": [
    "nuc_signal = [qt.expect(rho11, state) for state in res.states]\n",
    "nuc_signal_other = [qt.expect(rho01, state) for state in res_leak.states]"
   ]
  },
  {
   "cell_type": "code",
   "execution_count": 37,
   "id": "70714681-797a-4c77-b5ed-47a1291f34e4",
   "metadata": {},
   "outputs": [],
   "source": [
    "#nuc_signal = [ abs(ket11.trans() * (-1j * t * HrN).expm() * ket10)**2 for t in times]\n",
    "#nuc_signal_other = [ abs(ket01.trans() * (-1j * t * HrN).expm() * ket00)**2 for t in times]\n",
    "t_cnot_nuc = times[np.argmax(nuc_signal)]"
   ]
  },
  {
   "cell_type": "code",
   "execution_count": 38,
   "id": "b5cdb5b6-e1e7-49b5-90be-92cb6f235cd0",
   "metadata": {},
   "outputs": [
    {
     "data": {
      "image/png": "[encoded data removed]",
      "text/plain": [
       "<Figure size 640x480 with 1 Axes>"
      ]
     },
     "metadata": {},
     "output_type": "display_data"
    }
   ],
   "source": [
    "plt.plot(times,nuc_signal,label=\"Transition\")\n",
    "plt.plot(times,nuc_signal_other,label=\"Leakage\")\n",
    "plt.scatter(t_cnot_nuc, np.max(nuc_signal),label=f\"t-max = {t_cnot_nuc}\")\n",
    "plt.xlabel(\"Driving time, (us)\")\n",
    "plt.ylabel(\"Transition Probability\")\n",
    "plt.title(\"CNOT Calibration, Control: e, Target: p\")\n",
    "plt.legend()\n",
    "plt.show()"
   ]
  },
  {
   "cell_type": "code",
   "execution_count": 39,
   "id": "b2de590e-3b71-4f51-a8a6-b9af7357a1e1",
   "metadata": {},
   "outputs": [
    {
     "data": {
      "text/plain": [
       "0.9997741783808988"
      ]
     },
     "execution_count": 39,
     "metadata": {},
     "output_type": "execute_result"
    }
   ],
   "source": [
    "np.max(nuc_signal)"
   ]
  },
  {
   "cell_type": "code",
   "execution_count": 40,
   "id": "038e59bf-0ad6-442e-8592-2b811b25ef54",
   "metadata": {},
   "outputs": [
    {
     "data": {
      "text/plain": [
       "12.5"
      ]
     },
     "execution_count": 40,
     "metadata": {},
     "output_type": "execute_result"
    }
   ],
   "source": [
    "t_cnot_nuc"
   ]
  },
  {
   "cell_type": "code",
   "execution_count": 58,
   "id": "ff56b6c5-4290-4fbe-b408-9452545c16ea",
   "metadata": {},
   "outputs": [],
   "source": [
    "cnot_n = propagator(2*np.pi*HrN, t_cnot_nuc, c_ops=lindblad_ops,options={'nsteps':1e7})"
   ]
  },
  {
   "cell_type": "code",
   "execution_count": 59,
   "id": "022b3aea-734c-458d-89d1-aa36092788a2",
   "metadata": {},
   "outputs": [
    {
     "data": {
      "text/plain": [
       "0.8778730013070205"
      ]
     },
     "execution_count": 59,
     "metadata": {},
     "output_type": "execute_result"
    }
   ],
   "source": [
    "qt.unitarity(cnot_n)"
   ]
  },
  {
   "cell_type": "code",
   "execution_count": 60,
   "id": "5777d94d-b801-4257-9611-6d4aba1033d9",
   "metadata": {},
   "outputs": [
    {
     "data": {
      "text/latex": [
       "Quantum object: dims=[[2, 2], [2, 2]], shape=(4, 4), type='oper', dtype=CSR, isherm=True$$\\left(\\begin{array}{cc}1 & 0 & 0 & 0\\\\0 & 1 & 0 & 0\\\\0 & 0 & 0 & 1\\\\0 & 0 & 1 & 0\\end{array}\\right)$$"
      ],
      "text/plain": [
       "Quantum object: dims=[[2, 2], [2, 2]], shape=(4, 4), type='oper', dtype=CSR, isherm=True\n",
       "Qobj data =\n",
       "[[1. 0. 0. 0.]\n",
       " [0. 1. 0. 0.]\n",
       " [0. 0. 0. 1.]\n",
       " [0. 0. 1. 0.]]"
      ]
     },
     "execution_count": 60,
     "metadata": {},
     "output_type": "execute_result"
    }
   ],
   "source": [
    "qt.gates.cnot()"
   ]
  },
  {
   "cell_type": "code",
   "execution_count": 61,
   "id": "4145beb0-bbea-422a-bd7b-abc6b3bf92b0",
   "metadata": {},
   "outputs": [],
   "source": [
    "swap = cnot_e*cnot_n*cnot_e"
   ]
  },
  {
   "cell_type": "code",
   "execution_count": 62,
   "id": "3ff0b3ee-b2d5-436d-8b1b-b0ffabf0a073",
   "metadata": {},
   "outputs": [
    {
     "data": {
      "text/plain": [
       "0.8726889272143858"
      ]
     },
     "execution_count": 62,
     "metadata": {},
     "output_type": "execute_result"
    }
   ],
   "source": [
    "qt.unitarity(swap)"
   ]
  },
  {
   "cell_type": "code",
   "execution_count": 63,
   "id": "1ce773a7-8924-4945-87fe-25105e6509d1",
   "metadata": {},
   "outputs": [
    {
     "data": {
      "text/latex": [
       "Quantum object: dims=[[2, 2], [2, 2]], shape=(4, 4), type='oper', dtype=CSR, isherm=True$$\\left(\\begin{array}{cc}0 & 0 & 0 & 0\\\\0 & 0 & 0 & 0\\\\0 & 0 & 1 & 0\\\\0 & 0 & 0 & 0\\end{array}\\right)$$"
      ],
      "text/plain": [
       "Quantum object: dims=[[2, 2], [2, 2]], shape=(4, 4), type='oper', dtype=CSR, isherm=True\n",
       "Qobj data =\n",
       "[[0. 0. 0. 0.]\n",
       " [0. 0. 0. 0.]\n",
       " [0. 0. 1. 0.]\n",
       " [0. 0. 0. 0.]]"
      ]
     },
     "execution_count": 63,
     "metadata": {},
     "output_type": "execute_result"
    }
   ],
   "source": [
    "rho10"
   ]
  },
  {
   "cell_type": "code",
   "execution_count": 64,
   "id": "2e80e035-c50e-49c2-9ef5-772c2bd596a7",
   "metadata": {},
   "outputs": [
    {
     "data": {
      "text/latex": [
       "Quantum object: dims=[[2, 2], [2, 2]], shape=(4, 4), type='oper', dtype=CSR, isherm=True$$\\left(\\begin{array}{cc}0 & 0 & 0 & 0\\\\0 & 1 & 0 & 0\\\\0 & 0 & 0 & 0\\\\0 & 0 & 0 & 0\\end{array}\\right)$$"
      ],
      "text/plain": [
       "Quantum object: dims=[[2, 2], [2, 2]], shape=(4, 4), type='oper', dtype=CSR, isherm=True\n",
       "Qobj data =\n",
       "[[0. 0. 0. 0.]\n",
       " [0. 1. 0. 0.]\n",
       " [0. 0. 0. 0.]\n",
       " [0. 0. 0. 0.]]"
      ]
     },
     "execution_count": 64,
     "metadata": {},
     "output_type": "execute_result"
    }
   ],
   "source": [
    "rho01"
   ]
  },
  {
   "cell_type": "code",
   "execution_count": 65,
   "id": "8af216c4-0a9e-4111-a7b0-e3e2ada6aea6",
   "metadata": {},
   "outputs": [
    {
     "data": {
      "text/latex": [
       "Quantum object: dims=[[2, 2], [2, 2]], shape=(4, 4), type='oper', dtype=Dense, isherm=True$$\\left(\\begin{array}{cc}0.002 & 3.635\\times10^{ -6 } & (-0.046-0.007j) & 1.109\\times10^{ -4 }\\\\3.635\\times10^{ -6 } & 2.193\\times10^{ -6 } & -6.568\\times10^{ -5 } & -9.154\\times10^{ -9 }\\\\(-0.046+0.007j) & -6.568\\times10^{ -5 } & 0.997 & (-0.004-0.008j)\\\\1.109\\times10^{ -4 } & -9.154\\times10^{ -9 } & (-0.004+0.008j) & 7.860\\times10^{ -4 }\\end{array}\\right)$$"
      ],
      "text/plain": [
       "Quantum object: dims=[[2, 2], [2, 2]], shape=(4, 4), type='oper', dtype=Dense, isherm=True\n",
       "Qobj data =\n",
       "[[ 2.20352558e-03-2.54259357e-21j  3.63533321e-06-9.90803129e-07j\n",
       "  -4.61911623e-02-7.47497836e-03j  1.10924377e-04+3.84040324e-04j]\n",
       " [ 3.63533321e-06+9.90803129e-07j  2.19285650e-06+3.53348811e-19j\n",
       "  -6.56761930e-05-3.08983474e-05j -9.15392244e-09+7.49247787e-06j]\n",
       " [-4.61911623e-02+7.47497836e-03j -6.56761930e-05+3.08983474e-05j\n",
       "   9.97008327e-01+2.98900839e-21j -3.61817167e-03-7.69316911e-03j]\n",
       " [ 1.10924377e-04-3.84040324e-04j -9.15392240e-09-7.49247787e-06j\n",
       "  -3.61817167e-03+7.69316911e-03j  7.85954342e-04-3.53348227e-19j]]"
      ]
     },
     "execution_count": 65,
     "metadata": {},
     "output_type": "execute_result"
    }
   ],
   "source": [
    "qt.vector_to_operator(swap * qt.operator_to_vector(rho01))"
   ]
  },
  {
   "cell_type": "code",
   "execution_count": null,
   "id": "731f7ec1-57f9-42eb-9041-256a935bedd8",
   "metadata": {},
   "outputs": [],
   "source": []
  },
  {
   "cell_type": "code",
   "execution_count": null,
   "id": "49de546f-d890-4f32-bf55-30aaa84d4f88",
   "metadata": {},
   "outputs": [],
   "source": []
  }
 ],
 "metadata": {
  "kernelspec": {
   "display_name": "Python 3 (ipykernel)",
   "language": "python",
   "name": "python3"
  },
  "language_info": {
   "codemirror_mode": {
    "name": "ipython",
    "version": 3
   },
   "file_extension": ".py",
   "mimetype": "text/x-python",
   "name": "python",
   "nbconvert_exporter": "python",
   "pygments_lexer": "ipython3",
   "version": "3.10.0"
  }
 },
 "nbformat": 4,
 "nbformat_minor": 5
}
