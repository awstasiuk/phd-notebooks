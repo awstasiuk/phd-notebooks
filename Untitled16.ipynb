{
 "cells": [
  {
   "cell_type": "code",
   "execution_count": 48,
   "id": "29c173bc",
   "metadata": {},
   "outputs": [],
   "source": [
    "import numpy as np\n",
    "import matplotlib.pyplot as plt\n",
    "from scipy import *\n",
    "from scipy.linalg import expm\n",
    "from scipy.integrate import solve_ivp, odeint\n",
    "from scipy.linalg import eigvalsh\n",
    "from qutip import tensor, identity, sigmax, sigmay, sigmaz"
   ]
  },
  {
   "cell_type": "code",
   "execution_count": 13,
   "id": "50e5f783",
   "metadata": {},
   "outputs": [],
   "source": [
    "# Define Pauli operators\n",
    "sigma_x = sigmax()\n",
    "sigma_y = sigmay()\n",
    "sigma_z = sigmaz()\n"
   ]
  },
  {
   "cell_type": "code",
   "execution_count": 16,
   "id": "e042da94",
   "metadata": {},
   "outputs": [],
   "source": [
    "# Define the number of qubits\n",
    "N = 14\n",
    "\n",
    "g = 0.9045\n",
    "h = 0.809\n",
    "h1 = 0.25\n",
    "hL = -0.25"
   ]
  },
  {
   "cell_type": "code",
   "execution_count": 17,
   "id": "bdded65d",
   "metadata": {},
   "outputs": [],
   "source": [
    "op_z = 0\n",
    "for i in range(N):\n",
    "    op_z += tensor([identity(2)] * i + [sigma_z] + [identity(2)] * (N - i - 1))\n",
    "\n",
    "op_x = 0\n",
    "for i in range(N):\n",
    "    op_x += tensor([identity(2)] * i + [sigma_x] + [identity(2)] * (N - i - 1))\n",
    "    \n",
    "op_zz = 0\n",
    "for i in range(N-1):\n",
    "    op_zz += tensor([identity(2)] * i + [sigma_z] + [sigma_z] + [identity(2)] * (N - i - 2))\n",
    "\n",
    "op_z1 = tensor([sigma_z] + [identity(2)] * (N - 1))\n",
    "op_zL = tensor([identity(2)] * (N - 1) + [sigma_z] )\n"
   ]
  },
  {
   "cell_type": "code",
   "execution_count": 18,
   "id": "6a6cb082",
   "metadata": {},
   "outputs": [],
   "source": [
    "H = op_zz + g*op_x + h*op_z + h1*op_z1 + hL*op_zL"
   ]
  },
  {
   "cell_type": "code",
   "execution_count": 19,
   "id": "c817784b",
   "metadata": {},
   "outputs": [],
   "source": [
    "eigenvalues, eigenvectors = H.eigenstates()"
   ]
  },
  {
   "cell_type": "code",
   "execution_count": 33,
   "id": "7bc960f7",
   "metadata": {},
   "outputs": [],
   "source": [
    "def shannon_entropy(state, n_qubits):\n",
    "    # Partition qubits into two subsets\n",
    "    subset_size = n_qubits // 2\n",
    "    subset1 = range(subset_size)\n",
    "    subset2 = range(subset_size, n_qubits)\n",
    "\n",
    "    # Compute reduced density matrices\n",
    "    rho1 = state.ptrace(subset1)\n",
    "    rho2 = state.ptrace(subset2)\n",
    "\n",
    "    # Calculate von Neumann entropies\n",
    "    entropy1 = -np.sum(np.nan_to_num(np.diag(rho1.full()) * np.log2(np.diag(rho1.full()))))\n",
    "    entropy2 = -np.sum(np.nan_to_num(np.diag(rho2.full()) * np.log2(np.diag(rho2.full()))))\n",
    "\n",
    "    # Compute Shannon entropy\n",
    "    shannon_entropy = entropy1 + entropy2\n",
    "\n",
    "    return shannon_entropy\n",
    "\n",
    "def indices_near_value(lst, target_value, tolerance):\n",
    "    indices = []\n",
    "    for i, value in enumerate(lst):\n",
    "        if abs(value - target_value) < tolerance:\n",
    "            indices.append(i)\n",
    "    return indices\n"
   ]
  },
  {
   "cell_type": "code",
   "execution_count": 92,
   "id": "2cffe08b",
   "metadata": {},
   "outputs": [],
   "source": [
    "# Sort eigenvalues and eigenvectors\n",
    "sorted_indices = np.argsort(eigenvalues)\n",
    "sorted_eigenvalues = eigenvalues[sorted_indices]\n",
    "sorted_eigenvectors = eigenvectors[sorted_indices]"
   ]
  },
  {
   "cell_type": "code",
   "execution_count": 93,
   "id": "a79d95f2",
   "metadata": {},
   "outputs": [
    {
     "name": "stdout",
     "output_type": "stream",
     "text": [
      "100\n"
     ]
    }
   ],
   "source": [
    "target_value = 0\n",
    "tolerance = 0.044\n",
    "\n",
    "nearby_indices = indices_near_value(sorted_eigenvalues, target_value, tolerance)\n",
    "\n",
    "print(len(nearby_indices))"
   ]
  },
  {
   "cell_type": "code",
   "execution_count": 94,
   "id": "ea5f3fc4",
   "metadata": {},
   "outputs": [
    {
     "name": "stdout",
     "output_type": "stream",
     "text": [
      "[-4.37389830e-02 -4.30800893e-02 -4.27395100e-02 -4.21047016e-02\n",
      " -4.10571734e-02 -4.00793934e-02 -3.93396339e-02 -3.89313548e-02\n",
      " -3.83274313e-02 -3.73840113e-02 -3.57250483e-02 -3.46807586e-02\n",
      " -3.40705589e-02 -3.29381163e-02 -3.15394890e-02 -3.13738890e-02\n",
      " -2.98278440e-02 -2.90115104e-02 -2.88373897e-02 -2.72665937e-02\n",
      " -2.61798160e-02 -2.54618886e-02 -2.43699545e-02 -2.41336224e-02\n",
      " -2.29109554e-02 -2.24011476e-02 -2.08553129e-02 -2.05740548e-02\n",
      " -2.00647281e-02 -1.95732481e-02 -1.82575413e-02 -1.79750711e-02\n",
      " -1.63898566e-02 -1.51683819e-02 -1.46617905e-02 -1.39300626e-02\n",
      " -1.34873430e-02 -1.20461756e-02 -1.09417600e-02 -9.83027586e-03\n",
      " -9.42612135e-03 -6.84921266e-03 -6.44291159e-03 -6.09946543e-03\n",
      " -5.18365650e-03 -4.36615362e-03 -3.77407391e-03 -2.98924129e-03\n",
      " -2.36528653e-03 -1.83253072e-03 -1.02430621e-03 -6.82221237e-05\n",
      "  4.42036744e-04  7.28506817e-04  1.80535403e-03  2.97328946e-03\n",
      "  4.55714172e-03  4.78129393e-03  5.95236899e-03  6.34509109e-03\n",
      "  6.97839977e-03  7.60407367e-03  8.39247754e-03  9.36943644e-03\n",
      "  1.03275306e-02  1.17463713e-02  1.22685967e-02  1.30126360e-02\n",
      "  1.41099385e-02  1.57936485e-02  1.64110786e-02  1.68847240e-02\n",
      "  1.82062423e-02  1.90751075e-02  2.09677026e-02  2.16938682e-02\n",
      "  2.27121977e-02  2.32696607e-02  2.41949622e-02  2.55421958e-02\n",
      "  2.62233543e-02  2.68455552e-02  2.76389449e-02  2.79663687e-02\n",
      "  2.88770549e-02  3.04835723e-02  3.09372223e-02  3.12278052e-02\n",
      "  3.23678500e-02  3.34165471e-02  3.39468436e-02  3.62699369e-02\n",
      "  3.66848139e-02  3.73395341e-02  3.86096216e-02  3.87755333e-02\n",
      "  3.98882754e-02  4.09414104e-02  4.17896158e-02  4.31360762e-02]\n"
     ]
    }
   ],
   "source": [
    "print(sorted_eigenvalues[nearby_indices])"
   ]
  },
  {
   "cell_type": "code",
   "execution_count": 43,
   "id": "163a57a8",
   "metadata": {},
   "outputs": [],
   "source": [
    "eigenvectors_histogram = sorted_eigenvectors[nearby_indices]"
   ]
  },
  {
   "cell_type": "code",
   "execution_count": 44,
   "id": "3cce3121",
   "metadata": {},
   "outputs": [],
   "source": [
    "def schmidt(ρ_0):\n",
    "    U, S, Vt = np.linalg.svd(ρ_0) #SVD of ρ\n",
    "    sorted_indices = np.argsort(S)[::-1]\n",
    "    U = U[:, sorted_indices]\n",
    "    S = S[sorted_indices]\n",
    "    Vt = Vt[sorted_indices, :]\n",
    "    \n",
    "    # Schmidt coefficients \n",
    "    schmidt_coeffs = np.diag(np.sqrt(S))\n",
    "    # Calculate the Schmidt bases\n",
    "    schmidt_bases_A = U.dot(schmidt_coeffs)\n",
    "    schmidt_bases_B = Vt.T\n",
    "\n",
    "    return schmidt_coeffs, schmidt_bases_A, schmidt_bases_B\n",
    "\n",
    "\n",
    "\n",
    "def half_chain_entropy(ψ_vec, N):\n",
    "    ψ_vec_normalized = ψ_vec/np.linalg.norm(ψ_vec)\n",
    "    ρ = np.outer(ψ_vec_normalized, ψ_vec_normalized.conj())\n",
    "    ρ_reshape = ρ.reshape([2**int(N/2), 2**int(N/2) , 2**int(N/2), 2**int(N/2)])\n",
    "    partial_ρ = np.trace(ρ_reshape, axis1=1, axis2=3) \n",
    "    \n",
    "    λ, ϕ_A, ϕ_B = schmidt(partial_ρ)\n",
    "    \n",
    "    squared_coeffs = np.square(λ)\n",
    "    non_zero_coeffs = squared_coeffs[squared_coeffs > 0]\n",
    "    \n",
    "    return -np.sum(non_zero_coeffs * np.log(non_zero_coeffs))"
   ]
  },
  {
   "cell_type": "code",
   "execution_count": 45,
   "id": "3ec3792d",
   "metadata": {},
   "outputs": [
    {
     "data": {
      "text/plain": [
       "4.091282066626837"
      ]
     },
     "execution_count": 45,
     "metadata": {},
     "output_type": "execute_result"
    }
   ],
   "source": [
    "half_chain_entropy(eigenvectors_histogram[1], 14)"
   ]
  },
  {
   "cell_type": "code",
   "execution_count": 99,
   "id": "b216e641",
   "metadata": {},
   "outputs": [],
   "source": [
    "difference = np.zeros(100)\n",
    "eigvals = sorted_eigenvalues[nearby_indices]\n",
    "\n",
    "for i in range(99):\n",
    "    difference[i] = eigvals[i + 1] - eigvals[i]"
   ]
  },
  {
   "cell_type": "code",
   "execution_count": 114,
   "id": "ee4c53a5",
   "metadata": {},
   "outputs": [
    {
     "data": {
      "image/png": "[encoded data removed]",
      "text/plain": [
       "<Figure size 640x480 with 1 Axes>"
      ]
     },
     "metadata": {},
     "output_type": "display_data"
    }
   ],
   "source": [
    "# Plot histogram\n",
    "\n",
    "plt.hist(eigvals , bins=10\n",
    "         , alpha=0.3, color='blue')  # Density=True for normalized histogram\n",
    "plt.xlabel(r'$\\Delta E$')\n",
    "plt.ylabel('Frequency')\n",
    "plt.title(r'$\\Delta E$ Histogram')\n",
    "plt.grid(True)\n",
    "plt.show()"
   ]
  },
  {
   "cell_type": "code",
   "execution_count": 107,
   "id": "97c25659",
   "metadata": {},
   "outputs": [
    {
     "ename": "KeyboardInterrupt",
     "evalue": "",
     "output_type": "error",
     "traceback": [
      "\u001b[0;31m---------------------------------------------------------------------------\u001b[0m",
      "\u001b[0;31mKeyboardInterrupt\u001b[0m                         Traceback (most recent call last)",
      "\u001b[0;32m/var/folders/xn/4yv17_nn4cqdndy9d3d250kw0000gn/T/ipykernel_99905/2898503752.py\u001b[0m in \u001b[0;36m<module>\u001b[0;34m\u001b[0m\n\u001b[1;32m      3\u001b[0m \u001b[0;34m\u001b[0m\u001b[0m\n\u001b[1;32m      4\u001b[0m \u001b[0;32mfor\u001b[0m \u001b[0mi\u001b[0m \u001b[0;32min\u001b[0m \u001b[0mrange\u001b[0m\u001b[0;34m(\u001b[0m\u001b[0mm\u001b[0m\u001b[0;34m)\u001b[0m\u001b[0;34m:\u001b[0m\u001b[0;34m\u001b[0m\u001b[0;34m\u001b[0m\u001b[0m\n\u001b[0;32m----> 5\u001b[0;31m     \u001b[0mentropy_vec\u001b[0m\u001b[0;34m[\u001b[0m\u001b[0mi\u001b[0m\u001b[0;34m]\u001b[0m \u001b[0;34m=\u001b[0m \u001b[0mhalf_chain_entropy\u001b[0m\u001b[0;34m(\u001b[0m\u001b[0meigenvectors_histogram\u001b[0m\u001b[0;34m[\u001b[0m\u001b[0mi\u001b[0m\u001b[0;34m]\u001b[0m\u001b[0;34m,\u001b[0m \u001b[0;36m14\u001b[0m\u001b[0;34m)\u001b[0m\u001b[0;34m\u001b[0m\u001b[0;34m\u001b[0m\u001b[0m\n\u001b[0m",
      "\u001b[0;32m/var/folders/xn/4yv17_nn4cqdndy9d3d250kw0000gn/T/ipykernel_99905/2293908946.py\u001b[0m in \u001b[0;36mhalf_chain_entropy\u001b[0;34m(ψ_vec, N)\u001b[0m\n\u001b[1;32m     21\u001b[0m     \u001b[0mρ\u001b[0m \u001b[0;34m=\u001b[0m \u001b[0mnp\u001b[0m\u001b[0;34m.\u001b[0m\u001b[0mouter\u001b[0m\u001b[0;34m(\u001b[0m\u001b[0mψ_vec_normalized\u001b[0m\u001b[0;34m,\u001b[0m \u001b[0mψ_vec_normalized\u001b[0m\u001b[0;34m.\u001b[0m\u001b[0mconj\u001b[0m\u001b[0;34m(\u001b[0m\u001b[0;34m)\u001b[0m\u001b[0;34m)\u001b[0m\u001b[0;34m\u001b[0m\u001b[0;34m\u001b[0m\u001b[0m\n\u001b[1;32m     22\u001b[0m     \u001b[0mρ_reshape\u001b[0m \u001b[0;34m=\u001b[0m \u001b[0mρ\u001b[0m\u001b[0;34m.\u001b[0m\u001b[0mreshape\u001b[0m\u001b[0;34m(\u001b[0m\u001b[0;34m[\u001b[0m\u001b[0;36m2\u001b[0m\u001b[0;34m**\u001b[0m\u001b[0mint\u001b[0m\u001b[0;34m(\u001b[0m\u001b[0mN\u001b[0m\u001b[0;34m/\u001b[0m\u001b[0;36m2\u001b[0m\u001b[0;34m)\u001b[0m\u001b[0;34m,\u001b[0m \u001b[0;36m2\u001b[0m\u001b[0;34m**\u001b[0m\u001b[0mint\u001b[0m\u001b[0;34m(\u001b[0m\u001b[0mN\u001b[0m\u001b[0;34m/\u001b[0m\u001b[0;36m2\u001b[0m\u001b[0;34m)\u001b[0m \u001b[0;34m,\u001b[0m \u001b[0;36m2\u001b[0m\u001b[0;34m**\u001b[0m\u001b[0mint\u001b[0m\u001b[0;34m(\u001b[0m\u001b[0mN\u001b[0m\u001b[0;34m/\u001b[0m\u001b[0;36m2\u001b[0m\u001b[0;34m)\u001b[0m\u001b[0;34m,\u001b[0m \u001b[0;36m2\u001b[0m\u001b[0;34m**\u001b[0m\u001b[0mint\u001b[0m\u001b[0;34m(\u001b[0m\u001b[0mN\u001b[0m\u001b[0;34m/\u001b[0m\u001b[0;36m2\u001b[0m\u001b[0;34m)\u001b[0m\u001b[0;34m]\u001b[0m\u001b[0;34m)\u001b[0m\u001b[0;34m\u001b[0m\u001b[0;34m\u001b[0m\u001b[0m\n\u001b[0;32m---> 23\u001b[0;31m     \u001b[0mpartial_ρ\u001b[0m \u001b[0;34m=\u001b[0m \u001b[0mnp\u001b[0m\u001b[0;34m.\u001b[0m\u001b[0mtrace\u001b[0m\u001b[0;34m(\u001b[0m\u001b[0mρ_reshape\u001b[0m\u001b[0;34m,\u001b[0m \u001b[0maxis1\u001b[0m\u001b[0;34m=\u001b[0m\u001b[0;36m1\u001b[0m\u001b[0;34m,\u001b[0m \u001b[0maxis2\u001b[0m\u001b[0;34m=\u001b[0m\u001b[0;36m3\u001b[0m\u001b[0;34m)\u001b[0m\u001b[0;34m\u001b[0m\u001b[0;34m\u001b[0m\u001b[0m\n\u001b[0m\u001b[1;32m     24\u001b[0m \u001b[0;34m\u001b[0m\u001b[0m\n\u001b[1;32m     25\u001b[0m     \u001b[0mλ\u001b[0m\u001b[0;34m,\u001b[0m \u001b[0mϕ_A\u001b[0m\u001b[0;34m,\u001b[0m \u001b[0mϕ_B\u001b[0m \u001b[0;34m=\u001b[0m \u001b[0mschmidt\u001b[0m\u001b[0;34m(\u001b[0m\u001b[0mpartial_ρ\u001b[0m\u001b[0;34m)\u001b[0m\u001b[0;34m\u001b[0m\u001b[0;34m\u001b[0m\u001b[0m\n",
      "\u001b[0;32m<__array_function__ internals>\u001b[0m in \u001b[0;36mtrace\u001b[0;34m(*args, **kwargs)\u001b[0m\n",
      "\u001b[0;32m~/opt/anaconda3/lib/python3.9/site-packages/numpy/core/fromnumeric.py\u001b[0m in \u001b[0;36mtrace\u001b[0;34m(a, offset, axis1, axis2, dtype, out)\u001b[0m\n\u001b[1;32m   1709\u001b[0m         \u001b[0;32mreturn\u001b[0m \u001b[0masarray\u001b[0m\u001b[0;34m(\u001b[0m\u001b[0ma\u001b[0m\u001b[0;34m)\u001b[0m\u001b[0;34m.\u001b[0m\u001b[0mtrace\u001b[0m\u001b[0;34m(\u001b[0m\u001b[0moffset\u001b[0m\u001b[0;34m=\u001b[0m\u001b[0moffset\u001b[0m\u001b[0;34m,\u001b[0m \u001b[0maxis1\u001b[0m\u001b[0;34m=\u001b[0m\u001b[0maxis1\u001b[0m\u001b[0;34m,\u001b[0m \u001b[0maxis2\u001b[0m\u001b[0;34m=\u001b[0m\u001b[0maxis2\u001b[0m\u001b[0;34m,\u001b[0m \u001b[0mdtype\u001b[0m\u001b[0;34m=\u001b[0m\u001b[0mdtype\u001b[0m\u001b[0;34m,\u001b[0m \u001b[0mout\u001b[0m\u001b[0;34m=\u001b[0m\u001b[0mout\u001b[0m\u001b[0;34m)\u001b[0m\u001b[0;34m\u001b[0m\u001b[0;34m\u001b[0m\u001b[0m\n\u001b[1;32m   1710\u001b[0m     \u001b[0;32melse\u001b[0m\u001b[0;34m:\u001b[0m\u001b[0;34m\u001b[0m\u001b[0;34m\u001b[0m\u001b[0m\n\u001b[0;32m-> 1711\u001b[0;31m         \u001b[0;32mreturn\u001b[0m \u001b[0masanyarray\u001b[0m\u001b[0;34m(\u001b[0m\u001b[0ma\u001b[0m\u001b[0;34m)\u001b[0m\u001b[0;34m.\u001b[0m\u001b[0mtrace\u001b[0m\u001b[0;34m(\u001b[0m\u001b[0moffset\u001b[0m\u001b[0;34m=\u001b[0m\u001b[0moffset\u001b[0m\u001b[0;34m,\u001b[0m \u001b[0maxis1\u001b[0m\u001b[0;34m=\u001b[0m\u001b[0maxis1\u001b[0m\u001b[0;34m,\u001b[0m \u001b[0maxis2\u001b[0m\u001b[0;34m=\u001b[0m\u001b[0maxis2\u001b[0m\u001b[0;34m,\u001b[0m \u001b[0mdtype\u001b[0m\u001b[0;34m=\u001b[0m\u001b[0mdtype\u001b[0m\u001b[0;34m,\u001b[0m \u001b[0mout\u001b[0m\u001b[0;34m=\u001b[0m\u001b[0mout\u001b[0m\u001b[0;34m)\u001b[0m\u001b[0;34m\u001b[0m\u001b[0;34m\u001b[0m\u001b[0m\n\u001b[0m\u001b[1;32m   1712\u001b[0m \u001b[0;34m\u001b[0m\u001b[0m\n\u001b[1;32m   1713\u001b[0m \u001b[0;34m\u001b[0m\u001b[0m\n",
      "\u001b[0;31mKeyboardInterrupt\u001b[0m: "
     ]
    }
   ],
   "source": [
    "m = 100\n",
    "entropy_vec = np.zeros(m)\n",
    "\n",
    "for i in range(m):\n",
    "    entropy_vec[i] = half_chain_entropy(eigenvectors_histogram[i], 14)"
   ]
  },
  {
   "cell_type": "code",
   "execution_count": 66,
   "id": "7eaf7e33",
   "metadata": {},
   "outputs": [
    {
     "data": {
      "image/png": "[encoded data removed]",
      "text/plain": [
       "<Figure size 640x480 with 1 Axes>"
      ]
     },
     "metadata": {},
     "output_type": "display_data"
    }
   ],
   "source": [
    "# Plot histogram\n",
    "plt.hist(entropy_vec[entropy_vec>0], bins=50, alpha=0.4, color='blue')  # Density=True for normalized histogram\n",
    "plt.title(r'Histogram of $S_{N/2}(\\rho$)')\n",
    "plt.xlabel(r'$S_{N/2}(\\rho$)')\n",
    "plt.ylabel('Frequency')\n",
    "plt.grid(True)\n",
    "plt.show()"
   ]
  },
  {
   "cell_type": "code",
   "execution_count": 82,
   "id": "2db2f997",
   "metadata": {},
   "outputs": [],
   "source": [
    "def generate_random_matrix(N):\n",
    "    D = 2**N \n",
    "    N_A = N/2\n",
    "    N_B = N/2\n",
    "\n",
    "    a_vec = np.random.normal(loc=0, scale=1, size=D)\n",
    "    b_vec = np.random.normal(loc=0, scale=1, size=D)\n",
    "    ψ_vec = a_vec + 1j*b_vec\n",
    "\n",
    "    # normalize \n",
    "    ψ_vec_normalized = ψ_vec/np.linalg.norm(ψ_vec)\n",
    "    \n",
    "    # density matrix \n",
    "    ρ = np.outer(ψ_vec_normalized, ψ_vec_normalized.conj())\n",
    "    ρ_reshape = ρ.reshape([2**int(N/2), 2**int(N/2) , 2**int(N/2), 2**int(N/2)])\n",
    "    partial_ρ = np.trace(ρ_reshape, axis1=1, axis2=3) \n",
    "    return ψ_vec_normalized, partial_ρ\n",
    "\n",
    "def schmidt(ρ_0):\n",
    "    U, S, Vt = np.linalg.svd(ρ_0) #SVD of ρ\n",
    "    sorted_indices = np.argsort(S)[::-1]\n",
    "    U = U[:, sorted_indices]\n",
    "    S = S[sorted_indices]\n",
    "    Vt = Vt[sorted_indices, :]\n",
    "    \n",
    "    # Schmidt coefficients \n",
    "    schmidt_coeffs = np.diag(np.sqrt(S))\n",
    "    # Calculate the Schmidt bases\n",
    "    schmidt_bases_A = U.dot(schmidt_coeffs)\n",
    "    schmidt_bases_B = Vt.T\n",
    "\n",
    "    return schmidt_coeffs, schmidt_bases_A, schmidt_bases_B\n",
    "\n",
    "def von_neumann_entropy(N):\n",
    "    ψ_vec_normalized_random, ρ_random = generate_random_matrix(N)\n",
    "    λ, ϕ_A, ϕ_B = schmidt(ρ_random)\n",
    "    \n",
    "    squared_coeffs = np.square(λ)\n",
    "    non_zero_coeffs = squared_coeffs[squared_coeffs > 0]\n",
    "\n",
    "    return -np.sum(non_zero_coeffs * np.log(non_zero_coeffs))"
   ]
  },
  {
   "cell_type": "code",
   "execution_count": 83,
   "id": "52d407ac",
   "metadata": {},
   "outputs": [],
   "source": [
    "n = 100\n",
    "entropy_vec_Haar = np.zeros(n)\n",
    "\n",
    "m = 14\n",
    "\n",
    "for i in range(n):\n",
    "    entropy_vec_Haar[i] = von_neumann_entropy(m)"
   ]
  },
  {
   "cell_type": "code",
   "execution_count": 98,
   "id": "8088d9ed",
   "metadata": {},
   "outputs": [
    {
     "data": {
      "image/png": "[encoded data removed]",
      "text/plain": [
       "<Figure size 640x480 with 1 Axes>"
      ]
     },
     "metadata": {},
     "output_type": "display_data"
    }
   ],
   "source": [
    "# Plot histogram\n",
    "plt.hist(entropy_vec_Haar[entropy_vec_Haar>0], bins=15, alpha=0.3, color='blue')  # Density=True for normalized histogram\n",
    "plt.title(r'Histogram of $S_A(\\rho$)')\n",
    "plt.xlabel(r'$S_A(\\rho$)')\n",
    "plt.ylabel('Frequency')\n",
    "plt.grid(True)\n",
    "plt.show()"
   ]
  },
  {
   "cell_type": "code",
   "execution_count": 91,
   "id": "b4c4f1ba",
   "metadata": {},
   "outputs": [
    {
     "data": {
      "image/png": "[encoded data removed]",
      "text/plain": [
       "<Figure size 640x480 with 1 Axes>"
      ]
     },
     "metadata": {},
     "output_type": "display_data"
    }
   ],
   "source": [
    "# Plot histogram\n",
    "plt.hist(entropy_vec[entropy_vec>0], bins=40, alpha=0.3, color='red')  # Density=True for normalized histogram\n",
    "plt.hist(entropy_vec_Haar[entropy_vec_Haar>0], bins=10, alpha=0.3, color='blue')  # Density=True for normalized histogram\n",
    "\n",
    "\n",
    "plt.title(r'Histogram of $S_1(\\rho$)')\n",
    "plt.xlabel(r'$S_1(\\rho$)')\n",
    "plt.ylabel('Frequency')\n",
    "plt.grid(True)\n",
    "plt.show()"
   ]
  },
  {
   "cell_type": "code",
   "execution_count": null,
   "id": "9d546ddf",
   "metadata": {},
   "outputs": [],
   "source": []
  }
 ],
 "metadata": {
  "kernelspec": {
   "display_name": "Python 3 (ipykernel)",
   "language": "python",
   "name": "python3"
  },
  "language_info": {
   "codemirror_mode": {
    "name": "ipython",
    "version": 3
   },
   "file_extension": ".py",
   "mimetype": "text/x-python",
   "name": "python",
   "nbconvert_exporter": "python",
   "pygments_lexer": "ipython3",
   "version": "3.9.13"
  }
 },
 "nbformat": 4,
 "nbformat_minor": 5
}
