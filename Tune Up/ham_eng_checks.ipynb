{
 "cells": [
  {
   "cell_type": "code",
   "execution_count": 2,
   "id": "90c10562",
   "metadata": {},
   "outputs": [],
   "source": [
    "import nmresearch as nmr\n",
    "import numpy as np\n",
    "import matplotlib.pyplot as plt"
   ]
  },
  {
   "cell_type": "code",
   "execution_count": 3,
   "id": "4d1ce7dd",
   "metadata": {},
   "outputs": [],
   "source": [
    "from nmresearch.interface.engineering import PulseProgram"
   ]
  },
  {
   "cell_type": "code",
   "execution_count": 4,
   "id": "6b106306",
   "metadata": {},
   "outputs": [],
   "source": [
    "c1 = .05\n",
    "c2 = 0.01\n",
    "d3 = 4\n",
    "p1 = 1.1\n",
    "\n",
    "t1 = d3*(1+c1+2*c2) - p1/2\n",
    "t1p = 2*d3*(1-c1+2*c2) - p1\n",
    "t2 = d3*(1-c2) - p1\n",
    "t3 = 2*d3*(1-c2) - p1\n",
    "\n",
    "\n",
    "wei16Time = [\n",
    "    t1,\n",
    "    t2,\n",
    "    t3,\n",
    "    t2,\n",
    "    t1p,\n",
    "    t2,\n",
    "    t3,\n",
    "    t2,\n",
    "    2*t1,\n",
    "    t2,\n",
    "    t3,\n",
    "    t2,\n",
    "    t1p,\n",
    "    t2,\n",
    "    t3,\n",
    "    t2,\n",
    "    t1,\n",
    "]\n",
    "wei16 = PulseProgram(\"0110011023322332\", wei16Time)"
   ]
  },
  {
   "cell_type": "code",
   "execution_count": 5,
   "id": "7e0aa28f",
   "metadata": {},
   "outputs": [
    {
     "data": {
      "text/html": [
       "<style type=\"text/css\">\n",
       "#T_912a0_row0_col0, #T_912a0_row0_col1, #T_912a0_row0_col3, #T_912a0_row0_col4, #T_912a0_row0_col5, #T_912a0_row0_col7, #T_912a0_row0_col8, #T_912a0_row0_col9, #T_912a0_row0_col11, #T_912a0_row0_col12, #T_912a0_row0_col13, #T_912a0_row0_col15, #T_912a0_row0_col16, #T_912a0_row1_col0, #T_912a0_row1_col2, #T_912a0_row1_col4, #T_912a0_row1_col6, #T_912a0_row1_col8, #T_912a0_row1_col10, #T_912a0_row1_col12, #T_912a0_row1_col14, #T_912a0_row1_col16, #T_912a0_row2_col1, #T_912a0_row2_col2, #T_912a0_row2_col3, #T_912a0_row2_col5, #T_912a0_row2_col6, #T_912a0_row2_col7, #T_912a0_row2_col9, #T_912a0_row2_col10, #T_912a0_row2_col11, #T_912a0_row2_col13, #T_912a0_row2_col14, #T_912a0_row2_col15 {\n",
       "  width: 10em;\n",
       "  width: 15px;\n",
       "  border: 1.5px solid black;\n",
       "}\n",
       "#T_912a0_row0_col2, #T_912a0_row0_col14, #T_912a0_row1_col3, #T_912a0_row1_col7, #T_912a0_row1_col9, #T_912a0_row1_col13, #T_912a0_row2_col4, #T_912a0_row2_col12 {\n",
       "  width: 10em;\n",
       "  background: linear-gradient(90deg, salmon 100.0%, transparent 100.0%);\n",
       "  width: 15px;\n",
       "  border: 1.5px solid black;\n",
       "}\n",
       "#T_912a0_row0_col6, #T_912a0_row0_col10, #T_912a0_row1_col1, #T_912a0_row1_col5, #T_912a0_row1_col11, #T_912a0_row1_col15, #T_912a0_row2_col0, #T_912a0_row2_col8, #T_912a0_row2_col16 {\n",
       "  width: 10em;\n",
       "  background: linear-gradient(90deg, lightgreen 100.0%, transparent 100.0%);\n",
       "  width: 15px;\n",
       "  border: 1.5px solid black;\n",
       "}\n",
       "</style>\n",
       "<table id=\"T_912a0\">\n",
       "  <thead>\n",
       "    <tr>\n",
       "      <th class=\"blank level0\" >&nbsp;</th>\n",
       "      <th id=\"T_912a0_level0_col0\" class=\"col_heading level0 col0\" >0</th>\n",
       "      <th id=\"T_912a0_level0_col1\" class=\"col_heading level0 col1\" >1</th>\n",
       "      <th id=\"T_912a0_level0_col2\" class=\"col_heading level0 col2\" >2</th>\n",
       "      <th id=\"T_912a0_level0_col3\" class=\"col_heading level0 col3\" >3</th>\n",
       "      <th id=\"T_912a0_level0_col4\" class=\"col_heading level0 col4\" >4</th>\n",
       "      <th id=\"T_912a0_level0_col5\" class=\"col_heading level0 col5\" >5</th>\n",
       "      <th id=\"T_912a0_level0_col6\" class=\"col_heading level0 col6\" >6</th>\n",
       "      <th id=\"T_912a0_level0_col7\" class=\"col_heading level0 col7\" >7</th>\n",
       "      <th id=\"T_912a0_level0_col8\" class=\"col_heading level0 col8\" >8</th>\n",
       "      <th id=\"T_912a0_level0_col9\" class=\"col_heading level0 col9\" >9</th>\n",
       "      <th id=\"T_912a0_level0_col10\" class=\"col_heading level0 col10\" >10</th>\n",
       "      <th id=\"T_912a0_level0_col11\" class=\"col_heading level0 col11\" >11</th>\n",
       "      <th id=\"T_912a0_level0_col12\" class=\"col_heading level0 col12\" >12</th>\n",
       "      <th id=\"T_912a0_level0_col13\" class=\"col_heading level0 col13\" >13</th>\n",
       "      <th id=\"T_912a0_level0_col14\" class=\"col_heading level0 col14\" >14</th>\n",
       "      <th id=\"T_912a0_level0_col15\" class=\"col_heading level0 col15\" >15</th>\n",
       "      <th id=\"T_912a0_level0_col16\" class=\"col_heading level0 col16\" >16</th>\n",
       "    </tr>\n",
       "  </thead>\n",
       "  <tbody>\n",
       "    <tr>\n",
       "      <th id=\"T_912a0_level0_row0\" class=\"row_heading level0 row0\" >X</th>\n",
       "      <td id=\"T_912a0_row0_col0\" class=\"data row0 col0\" >0</td>\n",
       "      <td id=\"T_912a0_row0_col1\" class=\"data row0 col1\" >0</td>\n",
       "      <td id=\"T_912a0_row0_col2\" class=\"data row0 col2\" >-1</td>\n",
       "      <td id=\"T_912a0_row0_col3\" class=\"data row0 col3\" >0</td>\n",
       "      <td id=\"T_912a0_row0_col4\" class=\"data row0 col4\" >0</td>\n",
       "      <td id=\"T_912a0_row0_col5\" class=\"data row0 col5\" >0</td>\n",
       "      <td id=\"T_912a0_row0_col6\" class=\"data row0 col6\" >1</td>\n",
       "      <td id=\"T_912a0_row0_col7\" class=\"data row0 col7\" >0</td>\n",
       "      <td id=\"T_912a0_row0_col8\" class=\"data row0 col8\" >0</td>\n",
       "      <td id=\"T_912a0_row0_col9\" class=\"data row0 col9\" >0</td>\n",
       "      <td id=\"T_912a0_row0_col10\" class=\"data row0 col10\" >1</td>\n",
       "      <td id=\"T_912a0_row0_col11\" class=\"data row0 col11\" >0</td>\n",
       "      <td id=\"T_912a0_row0_col12\" class=\"data row0 col12\" >0</td>\n",
       "      <td id=\"T_912a0_row0_col13\" class=\"data row0 col13\" >0</td>\n",
       "      <td id=\"T_912a0_row0_col14\" class=\"data row0 col14\" >-1</td>\n",
       "      <td id=\"T_912a0_row0_col15\" class=\"data row0 col15\" >0</td>\n",
       "      <td id=\"T_912a0_row0_col16\" class=\"data row0 col16\" >0</td>\n",
       "    </tr>\n",
       "    <tr>\n",
       "      <th id=\"T_912a0_level0_row1\" class=\"row_heading level0 row1\" >Y</th>\n",
       "      <td id=\"T_912a0_row1_col0\" class=\"data row1 col0\" >0</td>\n",
       "      <td id=\"T_912a0_row1_col1\" class=\"data row1 col1\" >1</td>\n",
       "      <td id=\"T_912a0_row1_col2\" class=\"data row1 col2\" >0</td>\n",
       "      <td id=\"T_912a0_row1_col3\" class=\"data row1 col3\" >-1</td>\n",
       "      <td id=\"T_912a0_row1_col4\" class=\"data row1 col4\" >0</td>\n",
       "      <td id=\"T_912a0_row1_col5\" class=\"data row1 col5\" >1</td>\n",
       "      <td id=\"T_912a0_row1_col6\" class=\"data row1 col6\" >0</td>\n",
       "      <td id=\"T_912a0_row1_col7\" class=\"data row1 col7\" >-1</td>\n",
       "      <td id=\"T_912a0_row1_col8\" class=\"data row1 col8\" >0</td>\n",
       "      <td id=\"T_912a0_row1_col9\" class=\"data row1 col9\" >-1</td>\n",
       "      <td id=\"T_912a0_row1_col10\" class=\"data row1 col10\" >0</td>\n",
       "      <td id=\"T_912a0_row1_col11\" class=\"data row1 col11\" >1</td>\n",
       "      <td id=\"T_912a0_row1_col12\" class=\"data row1 col12\" >0</td>\n",
       "      <td id=\"T_912a0_row1_col13\" class=\"data row1 col13\" >-1</td>\n",
       "      <td id=\"T_912a0_row1_col14\" class=\"data row1 col14\" >0</td>\n",
       "      <td id=\"T_912a0_row1_col15\" class=\"data row1 col15\" >1</td>\n",
       "      <td id=\"T_912a0_row1_col16\" class=\"data row1 col16\" >0</td>\n",
       "    </tr>\n",
       "    <tr>\n",
       "      <th id=\"T_912a0_level0_row2\" class=\"row_heading level0 row2\" >Z</th>\n",
       "      <td id=\"T_912a0_row2_col0\" class=\"data row2 col0\" >1</td>\n",
       "      <td id=\"T_912a0_row2_col1\" class=\"data row2 col1\" >0</td>\n",
       "      <td id=\"T_912a0_row2_col2\" class=\"data row2 col2\" >0</td>\n",
       "      <td id=\"T_912a0_row2_col3\" class=\"data row2 col3\" >0</td>\n",
       "      <td id=\"T_912a0_row2_col4\" class=\"data row2 col4\" >-1</td>\n",
       "      <td id=\"T_912a0_row2_col5\" class=\"data row2 col5\" >0</td>\n",
       "      <td id=\"T_912a0_row2_col6\" class=\"data row2 col6\" >0</td>\n",
       "      <td id=\"T_912a0_row2_col7\" class=\"data row2 col7\" >0</td>\n",
       "      <td id=\"T_912a0_row2_col8\" class=\"data row2 col8\" >1</td>\n",
       "      <td id=\"T_912a0_row2_col9\" class=\"data row2 col9\" >0</td>\n",
       "      <td id=\"T_912a0_row2_col10\" class=\"data row2 col10\" >0</td>\n",
       "      <td id=\"T_912a0_row2_col11\" class=\"data row2 col11\" >0</td>\n",
       "      <td id=\"T_912a0_row2_col12\" class=\"data row2 col12\" >-1</td>\n",
       "      <td id=\"T_912a0_row2_col13\" class=\"data row2 col13\" >0</td>\n",
       "      <td id=\"T_912a0_row2_col14\" class=\"data row2 col14\" >0</td>\n",
       "      <td id=\"T_912a0_row2_col15\" class=\"data row2 col15\" >0</td>\n",
       "      <td id=\"T_912a0_row2_col16\" class=\"data row2 col16\" >1</td>\n",
       "    </tr>\n",
       "  </tbody>\n",
       "</table>\n"
      ],
      "text/plain": [
       "<pandas.io.formats.style.Styler at 0x19ca0f697f0>"
      ]
     },
     "execution_count": 5,
     "metadata": {},
     "output_type": "execute_result"
    }
   ],
   "source": [
    "wei16.data_frame()"
   ]
  },
  {
   "cell_type": "code",
   "execution_count": 15,
   "id": "c26f7b73",
   "metadata": {},
   "outputs": [
    {
     "data": {
      "image/png": "[encoded data removed]",
      "text/plain": [
       "<Figure size 800x500 with 1 Axes>"
      ]
     },
     "metadata": {},
     "output_type": "display_data"
    }
   ],
   "source": [
    "def compute_t1(cnst1, cnst2, d3=4, p1=1.1):\n",
    "    return d3 * (1 + cnst1 + 2 * cnst2) - p1 / 2\n",
    "\n",
    "def compute_t1p(cnst1, cnst2, d3=4, p1=1.1):\n",
    "    return 2 * d3 * (1 - cnst1 + 2 * cnst2) - p1\n",
    "\n",
    "def compute_t2(cnst1, cnst2, d3=4, p1=1.1):\n",
    "    return d3 * (1 - cnst2) - p1\n",
    "\n",
    "def compute_t3(cnst1, cnst2, d3=4, p1=1.1):\n",
    "    return 2 * d3 * (1 - cnst2) - p1\n",
    "\n",
    "# Sweep c2 from 0 to 0.1\n",
    "c2_values = np.linspace(0, 0.1, 100)\n",
    "c1_val = 0\n",
    "\n",
    "t1_vals = [compute_t1(c1_val, c2) for c2 in c2_values]\n",
    "t1p_vals = [compute_t1p(c1_val, c2) for c2 in c2_values]\n",
    "t2_vals = [compute_t2(c1_val, c2) for c2 in c2_values]\n",
    "t3_vals = [compute_t3(c1_val, c2) for c2 in c2_values]\n",
    "\n",
    "plt.figure(figsize=(8, 5))\n",
    "plt.plot(c2_values, t1_vals, label='t1')\n",
    "plt.plot(c2_values, t1p_vals, label='t1p')\n",
    "plt.plot(c2_values, t2_vals, label='t2')\n",
    "plt.plot(c2_values, t3_vals, label='t3')\n",
    "plt.xlabel('c2')\n",
    "plt.ylabel('Time')\n",
    "plt.title('Pulse Times vs c2 (c1=0)')\n",
    "plt.legend()\n",
    "plt.grid(True)\n",
    "plt.show()"
   ]
  },
  {
   "cell_type": "code",
   "execution_count": 19,
   "id": "a590073a",
   "metadata": {},
   "outputs": [
    {
     "data": {
      "image/png": "[encoded data removed]",
      "text/plain": [
       "<Figure size 1000x600 with 1 Axes>"
      ]
     },
     "metadata": {},
     "output_type": "display_data"
    }
   ],
   "source": [
    "# Sweep c1 from 0 to 0.1\n",
    "c1_values = np.linspace(0, 0.1, 100)\n",
    "c2_cases = [0.01, 0.02]\n",
    "\n",
    "    \n",
    "# Plot all curves in the same figure with color coding for c2 cases\n",
    "plt.figure(figsize=(10, 6))\n",
    "\n",
    "colors = {\n",
    "    0.01: ['#ff9999', '#ff4d4d', '#b30000', '#800000'],  # light to dark reds\n",
    "    0.02: ['#99ccff', '#3399ff', '#0059b3', '#003366']   # light to dark blues\n",
    "}\n",
    "labels = ['t1', 't1p', 't2', 't3']\n",
    "\n",
    "for idx, c2_case in enumerate(c2_cases):\n",
    "    t1_vals = [compute_t1(c1, c2_case) for c1 in c1_values]\n",
    "    t1p_vals = [compute_t1p(c1, c2_case) for c1 in c1_values]\n",
    "    t2_vals = [compute_t2(c1, c2_case) for c1 in c1_values]\n",
    "    t3_vals = [compute_t3(c1, c2_case) for c1 in c1_values]\n",
    "    curve_vals = [t1_vals, t1p_vals, t2_vals, t3_vals]\n",
    "    for j, vals in enumerate(curve_vals):\n",
    "        plt.plot(\n",
    "            c1_values, vals,\n",
    "            color=colors[c2_case][j],\n",
    "            label=f'{labels[j]} (c2={c2_case})'\n",
    "        )\n",
    "\n",
    "plt.xlabel('c1')\n",
    "plt.ylabel('Time')\n",
    "plt.title('Pulse Times vs c1 for Different c2 Values')\n",
    "plt.legend()\n",
    "plt.grid(True)\n",
    "plt.show()"
   ]
  },
  {
   "cell_type": "code",
   "execution_count": 12,
   "id": "0d5079b3",
   "metadata": {},
   "outputs": [
    {
     "data": {
      "text/plain": [
       "6.66"
      ]
     },
     "execution_count": 12,
     "metadata": {},
     "output_type": "execute_result"
    }
   ],
   "source": [
    "t1p"
   ]
  },
  {
   "cell_type": "code",
   "execution_count": 13,
   "id": "7457bfd3",
   "metadata": {},
   "outputs": [
    {
     "data": {
      "text/plain": [
       "2.86"
      ]
     },
     "execution_count": 13,
     "metadata": {},
     "output_type": "execute_result"
    }
   ],
   "source": [
    "t2"
   ]
  },
  {
   "cell_type": "code",
   "execution_count": 14,
   "id": "f2933576",
   "metadata": {},
   "outputs": [
    {
     "data": {
      "text/plain": [
       "6.82"
      ]
     },
     "execution_count": 14,
     "metadata": {},
     "output_type": "execute_result"
    }
   ],
   "source": [
    "t3"
   ]
  },
  {
   "cell_type": "code",
   "execution_count": 7,
   "id": "6b437187",
   "metadata": {},
   "outputs": [
    {
     "data": {
      "text/plain": [
       "' 0.017 rZ + 0.000 Dy + 0.010 Dz'"
      ]
     },
     "execution_count": 7,
     "metadata": {},
     "output_type": "execute_result"
    }
   ],
   "source": [
    "wei16.avg_ham(tP=1.1)"
   ]
  },
  {
   "cell_type": "code",
   "execution_count": 8,
   "id": "b62f781b",
   "metadata": {},
   "outputs": [
    {
     "data": {
      "text/plain": [
       "array([[0.        ],\n",
       "       [0.        ],\n",
       "       [0.01666667]])"
      ]
     },
     "execution_count": 8,
     "metadata": {},
     "output_type": "execute_result"
    }
   ],
   "source": [
    "wei16.k_vector()\n",
    "wei16.k_vector(tP=1.1)"
   ]
  },
  {
   "cell_type": "code",
   "execution_count": 9,
   "id": "10429342",
   "metadata": {},
   "outputs": [
    {
     "data": {
      "text/plain": [
       "array([[0.33],\n",
       "       [0.33],\n",
       "       [0.34]])"
      ]
     },
     "execution_count": 9,
     "metadata": {},
     "output_type": "execute_result"
    }
   ],
   "source": [
    "wei16.L_vector()\n",
    "wei16.L_vector(tP=1.1)"
   ]
  },
  {
   "cell_type": "code",
   "execution_count": 10,
   "id": "87b8ec60",
   "metadata": {},
   "outputs": [
    {
     "data": {
      "text/plain": [
       "array([0., 0., 0.])"
      ]
     },
     "execution_count": 10,
     "metadata": {},
     "output_type": "execute_result"
    }
   ],
   "source": [
    "wei16.chirality_operator1()"
   ]
  },
  {
   "cell_type": "code",
   "execution_count": 11,
   "id": "2fe1a512",
   "metadata": {},
   "outputs": [
    {
     "data": {
      "text/plain": [
       "array([0., 0., 0.])"
      ]
     },
     "execution_count": 11,
     "metadata": {},
     "output_type": "execute_result"
    }
   ],
   "source": [
    "wei16.parity_operator1()"
   ]
  },
  {
   "cell_type": "code",
   "execution_count": null,
   "id": "983ada3c",
   "metadata": {},
   "outputs": [],
   "source": []
  },
  {
   "cell_type": "code",
   "execution_count": null,
   "id": "c51a7df8",
   "metadata": {},
   "outputs": [],
   "source": []
  }
 ],
 "metadata": {
  "kernelspec": {
   "display_name": "qeg-env",
   "language": "python",
   "name": "python3"
  },
  "language_info": {
   "codemirror_mode": {
    "name": "ipython",
    "version": 3
   },
   "file_extension": ".py",
   "mimetype": "text/x-python",
   "name": "python",
   "nbconvert_exporter": "python",
   "pygments_lexer": "ipython3",
   "version": "3.13.2"
  }
 },
 "nbformat": 4,
 "nbformat_minor": 5
}
