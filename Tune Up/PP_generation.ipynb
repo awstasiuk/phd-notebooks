{
 "cells": [
  {
   "cell_type": "code",
   "execution_count": 1,
   "id": "d029af1a-b21f-4c63-87d8-097e2050e0f9",
   "metadata": {},
   "outputs": [],
   "source": [
    "import numpy as np\n",
    "import nmresearch as nmr"
   ]
  },
  {
   "cell_type": "code",
   "execution_count": null,
   "id": "3171a2b9",
   "metadata": {},
   "outputs": [],
   "source": []
  },
  {
   "cell_type": "code",
   "execution_count": 2,
   "id": "ad1c5d67",
   "metadata": {},
   "outputs": [
    {
     "data": {
      "text/plain": [
       "2.58"
      ]
     },
     "execution_count": 2,
     "metadata": {},
     "output_type": "execute_result"
    }
   ],
   "source": [
    "4*(1-.08)-1.1"
   ]
  },
  {
   "cell_type": "code",
   "execution_count": 6,
   "id": "1cc6600b-6dc7-4e0a-b50d-aea5ed2310ab",
   "metadata": {
    "scrolled": true
   },
   "outputs": [
    {
     "name": "stdout",
     "output_type": "stream",
     "text": [
      "; delay definitions\n",
      "define delay delay0\n",
      "\"delay0=(d20-p1)/2\"\n",
      "define delay delay1\n",
      "\"delay1=d20-p1\"\n",
      "define delay tau1\n",
      "\"tau1=d3*(1+cnst1+2*cnst2)-p1/2\"\n",
      "define delay tau2\n",
      "\"tau2=d3*(1-cnst2)-p1\"\n",
      "define delay tau3 \n",
      "\"tau3 = 2*d3*(1-cnst2)-p1\"\n",
      "define delay tau1p \n",
      "\"tau1p = d3*2*(1-cnst1+2*cnst2)-p1\"\n",
      "\"l1=6\"  ; start the evolution counter at 3\n",
      "\n",
      "1   ze\n",
      "\n",
      "2\n",
      "d1 rpp1 rpp2 rpp3 rpp4 rpp6 rpp7 rpp8 rpp9 rpp11 rpp12 rpp13 rpp14\n",
      "100u pl2:f2\n",
      "\n",
      "(p1 ph0):f2\n",
      "1.5u\n",
      "\n",
      "3\n",
      "delay0\n",
      "(p1 ph1^):f2\n",
      "delay1\n",
      "(p1 ph2^):f2\n",
      "delay1\n",
      "(p1 ph3^):f2\n",
      "delay1\n",
      "(p1 ph4^):f2\n",
      "delay0\n",
      "\n",
      "lo to 3 times 15\n",
      "\n",
      "(p1 ph5):f2\n",
      "1.5u\n",
      "\n",
      "4\n",
      "tau1\n",
      "(p1 ph6^):f2\n",
      "tau2\n",
      "(p1 ph7^):f2\n",
      "tau3\n",
      "(p1 ph8^):f2\n",
      "tau2\n",
      "(p1 ph9^):f2\n",
      "tau1p\n",
      "(p1 ph6^):f2\n",
      "tau2\n",
      "(p1 ph7^):f2\n",
      "tau3\n",
      "(p1 ph8^):f2\n",
      "tau2\n",
      "(p1 ph9^):f2\n",
      "tau1\n",
      "\n",
      "lo to 4 times l1\n",
      "\n",
      "(p1 ph10):f2\n",
      "1.5u\n",
      "\n",
      "5\n",
      "delay0\n",
      "(p1 ph11^):f2\n",
      "delay1\n",
      "(p1 ph12^):f2\n",
      "delay1\n",
      "(p1 ph13^):f2\n",
      "delay1\n",
      "(p1 ph14^):f2\n",
      "delay0\n",
      "\n",
      "lo to 5 times 15\n",
      "\n",
      "(p1 ph15):f2\n",
      "1.5u\n",
      "\n",
      "1m\n",
      "(p1 ph30):f2\n",
      "\n",
      "go=2 ph31\n",
      "1m wr #0 if #0\n",
      "\n",
      "iu1\n",
      "iu1\n",
      "\n",
      "25m ip10*192\n",
      "25m ip11*192\n",
      "25m ip12*192\n",
      "25m ip13*192\n",
      "25m ip14*192\n",
      "25m ip15*192\n",
      "\n",
      "lo to 2 times td1\n",
      "\n",
      "exit\n",
      "\n",
      "ph0 = (360) 90 90 270 270 0 0 180 180\n",
      "\n",
      "ph1 = (360) 102 60 198 246 204 342 30 348 126 174 132 270 318 276 54\n",
      "ph2 = (360) 24 72 300 168 216 84 312 0 228 96 144 12 240 288 156\n",
      "ph3 = (360) 36 264 312 180 48 96 324 192 240 108 336 24 252 120 168\n",
      "ph4 = (360) 318 276 54 102 60 198 246 204 342 30 348 126 174 132 270\n",
      "\n",
      "ph5 = (360) 12 12 192 192 282 282 102 102\n",
      "\n",
      "ph6 = (360) 24 72 300 348 216 264 132 180 48 96 324 12 240 288 156 204 72 120 348 36 264 312 180 228 96 144 12 60 288 336 204 252 120 168 36 84 312 0 228 276 144 192 60 108 336 24 252 300 168 216 84 132 0 48 276 324 192 240 108 156 24 72 300 348 216 264 132 180 48 96 324 12 240 288 156 204 72 120 348 36\n",
      "ph7 = (360) 126 174 42 90 318 6 234 282 150 198 66 114 342 30 258 306 174 222 90 138 6 54 282 330 198 246 114 162 30 78 306 354 222 270 138 186 54 102 330 18 246 294 162 210 78 126 354 42 270 318 186 234 102 150 18 66 294 342 210 258 126 174 42 90 318 6 234 282 150 198 66 114 342 30 258 306 174 222 90 138\n",
      "ph8 = (360) 138 186 54 102 330 18 246 294 162 210 78 126 354 42 270 318 186 234 102 150 18 66 294 342 210 258 126 174 42 90 318 6 234 282 150 198 66 114 342 30 258 306 174 222 90 138 6 54 282 330 198 246 114 162 30 78 306 354 222 270 138 186 54 102 330 18 246 294 162 210 78 126 354 42 270 318 186 234 102 150\n",
      "ph9 = (360) 60 108 336 24 252 300 168 216 84 132 0 48 276 324 192 240 108 156 24 72 300 348 216 264 132 180 48 96 324 12 240 288 156 204 72 120 348 36 264 312 180 228 96 144 12 60 288 336 204 252 120 168 36 84 312 0 228 276 144 192 60 108 336 24 252 300 168 216 84 132 0 48 276 324 192 240 108 156 24 72\n",
      "\n",
      "ph10 = (360) 240 240 240 240 240 240 240 240 60 60 60 60 60 60 60 60\n",
      "\n",
      "ph11 = (360) 342 300 78 126 84 222 270 228 6 54 12 150 198 156 294\n",
      "ph12 = (360) 264 312 180 48 96 324 192 240 108 336 24 252 120 168 36\n",
      "ph13 = (360) 276 144 192 60 288 336 204 72 120 348 216 264 132 0 48\n",
      "ph14 = (360) 198 156 294 342 300 78 126 84 222 270 228 6 54 12 150\n",
      "\n",
      "ph15 = (360) 162 162 162 162 162 162 162 162 342 342 342 342 342 342 342 342\n",
      "\n",
      "ph30 = (360) 90 270\n",
      "ph31 = 0 2\n"
     ]
    }
   ],
   "source": [
    "d0 = \"delay0\"\n",
    "d0_def = \"delay0=(d20-p1)/2\"\n",
    "d1 = \"delay1\"\n",
    "d1_def = \"delay1=d20-p1\"\n",
    "t1 = \"tau1\"\n",
    "t1_def = \"tau1=d3*(1+cnst1+2*cnst2)-p1/2\"\n",
    "t2 = \"tau2\"\n",
    "t2_def = \"tau2=d3*(1-cnst2)-p1\"\n",
    "t3 = \"tau3\"\n",
    "t3_def = \"tau3 = 2*d3*(1-cnst2)-p1\"\n",
    "t1p = \"tau1p\"\n",
    "t1p_def = \"tau1p = d3*2*(1-cnst1+2*cnst2)-p1\"\n",
    "\n",
    "\n",
    "pp = nmr.TwoPointCorrelator(use_magic=False)\n",
    "\n",
    "pp.set_disorder_state(\"rZ\", seq=pp.STABERYXX, cycles=5)\n",
    "pp.set_prep_pattern([d0, d1, d1, d1, d0], [d0_def, d1_def])\n",
    "\n",
    "pp.set_evolution(pp.WEI16)\n",
    "pp.set_evo_pattern(\n",
    "    [t1, t2, t3, t2, t1p, t2, t3, t2, t1], [t1_def, t2_def, t3_def, t1p_def]\n",
    ")\n",
    "\n",
    "pp.set_disorder_observable(\"rZ\", seq=pp.STABERYXX, cycles=5)\n",
    "pp.set_obs_pattern([d0, d1, d1, d1, d0], [d0_def, d1_def])\n",
    "\n",
    "pp.generate_pulse_program(fc=12, T0=3, Tf=20)"
   ]
  },
  {
   "cell_type": "code",
   "execution_count": 16,
   "id": "428c227f",
   "metadata": {},
   "outputs": [
    {
     "data": {
      "text/plain": [
       "200"
      ]
     },
     "execution_count": 16,
     "metadata": {},
     "output_type": "execute_result"
    }
   ],
   "source": [
    "90+62+3*16"
   ]
  },
  {
   "cell_type": "code",
   "execution_count": 4,
   "id": "b45bdd34-d66d-4ad2-ae9c-9f4caa875551",
   "metadata": {},
   "outputs": [],
   "source": [
    "c2 = 0.05\n",
    "c1_lst = [0.01, 0.02, 0.03, 0.04, 0.05, 0.06]\n",
    "p1 = 1.02\n",
    "d3 = 4\n",
    "\n",
    "tau1 = (\n",
    "    \"{\"\n",
    "    + \" \".join(\n",
    "        [\"{0:.8f}\".format(1e-6 * (d3 * (1 + c1 + c2 * 2) - p1 / 2)) for c1 in c1_lst]\n",
    "    )\n",
    "    + \"}\"\n",
    ")\n",
    "tau2 = (\n",
    "    \"{\"\n",
    "    + \" \".join([\"{0:.8f}\".format(1e-6 * (d3 * (1 - c2) - p1)) for c1 in c1_lst])\n",
    "    + \"}\"\n",
    ")\n",
    "tau3 = (\n",
    "    \"{\"\n",
    "    + \" \".join([\"{0:.8f}\".format(1e-6 * (2 * d3 * (1 - c2) - p1)) for c1 in c1_lst])\n",
    "    + \"}\"\n",
    ")\n",
    "tau1p = (\n",
    "    \"{\"\n",
    "    + \" \".join(\n",
    "        [\"{0:.8f}\".format(1e-6 * (d3 * 2 * (1 - c1 + 2 * c2) - p1)) for c1 in c1_lst]\n",
    "    )\n",
    "    + \"}\"\n",
    ")"
   ]
  },
  {
   "cell_type": "code",
   "execution_count": 5,
   "id": "0438f4c5-f675-4482-9d99-3c698d18a033",
   "metadata": {
    "scrolled": true
   },
   "outputs": [
    {
     "name": "stdout",
     "output_type": "stream",
     "text": [
      "define list<delay> tau1 = {0.00000393 0.00000397 0.00000401 0.00000405 0.00000409 0.00000413}\n",
      "define list<delay> tau2 = {0.00000278 0.00000278 0.00000278 0.00000278 0.00000278 0.00000278}\n",
      "define list<delay> tau3 = {0.00000658 0.00000658 0.00000658 0.00000658 0.00000658 0.00000658}\n",
      "define list<delay> tau1p = {0.00000770 0.00000762 0.00000754 0.00000746 0.00000738 0.00000730}\n"
     ]
    }
   ],
   "source": [
    "print(\"define list<delay> tau1 = \" + tau1)\n",
    "print(\"define list<delay> tau2 = \" + tau2)\n",
    "print(\"define list<delay> tau3 = \" + tau3)\n",
    "print(\"define list<delay> tau1p = \" + tau1p)"
   ]
  },
  {
   "cell_type": "code",
   "execution_count": 6,
   "id": "7557b271",
   "metadata": {},
   "outputs": [],
   "source": [
    "d0 = \"delay0\"\n",
    "d0_def = \"delay0=(d20-p1)/2\"\n",
    "d1 = \"delay1\"\n",
    "d1_def = \"delay1=d20-p1\"\n",
    "t1 = \"tau1\"\n",
    "t1_def = \"tau1=d3*(1+cnst1+2*cnst2)-p1/2\"\n",
    "t2 = \"tau2\"\n",
    "t2_def = \"tau2=d3*(1-cnst2)-p1\"\n",
    "t3 = \"tau3\"\n",
    "t3_def = \"tau3 = 2*d3*(1-cnst2)-p1\"\n",
    "t1p = \"tau1p\"\n",
    "t1p_def = \"tau1p = d3*2*(1-cnst1+2*cnst2)-p1\""
   ]
  },
  {
   "cell_type": "code",
   "execution_count": 7,
   "id": "fcb05336",
   "metadata": {},
   "outputs": [],
   "source": [
    "def valid_config(c1,c2,p1,d3):\n",
    "    return (2*d3*(1+c1+2*c2)-p1/2 > p1+1.5) and (d3*(1-c2)-p1 > p1+1.5) and (2*d3*(1-c2)-p1 > p1+1.5) and (d3*2*(1-c1+2*c2)-p1 > p1+1.5)"
   ]
  },
  {
   "cell_type": "code",
   "execution_count": 19,
   "id": "2abff413",
   "metadata": {},
   "outputs": [
    {
     "data": {
      "image/png": "[encoded data removed]",
      "text/plain": [
       "<Figure size 800x600 with 2 Axes>"
      ]
     },
     "metadata": {},
     "output_type": "display_data"
    }
   ],
   "source": [
    "import numpy as np\n",
    "\n",
    "import matplotlib.pyplot as plt\n",
    "\n",
    "# Define the range of c1 and c2 values\n",
    "c1_values = np.linspace(0, 1, 100)\n",
    "c2_values = np.linspace(0, .4, 100)\n",
    "\n",
    "# Create a 2D grid for c1 and c2\n",
    "c1_grid, c2_grid = np.meshgrid(c1_values, c2_values)\n",
    "\n",
    "# Evaluate valid_config for each combination of c1 and c2\n",
    "valid_grid = np.vectorize(valid_config)(c1_grid, c2_grid, 1.1, 4)\n",
    "\n",
    "# Plot the heatmap\n",
    "plt.figure(figsize=(8, 6))\n",
    "plt.imshow(valid_grid, extent=(0, 1, 0, .4), origin='lower', aspect='auto', cmap='viridis')\n",
    "plt.colorbar(label='Valid Configuration (1=True, 0=False)')\n",
    "plt.xlabel('c1')\n",
    "plt.ylabel('c2')\n",
    "plt.title('Heatmap of Valid Configurations')\n",
    "plt.show()"
   ]
  },
  {
   "cell_type": "code",
   "execution_count": null,
   "id": "b515d5c9",
   "metadata": {},
   "outputs": [],
   "source": []
  },
  {
   "cell_type": "code",
   "execution_count": null,
   "id": "c4b710a1",
   "metadata": {},
   "outputs": [],
   "source": []
  },
  {
   "cell_type": "code",
   "execution_count": 9,
   "id": "cec17ea7",
   "metadata": {},
   "outputs": [
    {
     "name": "stdout",
     "output_type": "stream",
     "text": [
      "State is already defined\n"
     ]
    },
    {
     "ename": "NameError",
     "evalue": "name 'susp' is not defined",
     "output_type": "error",
     "traceback": [
      "\u001b[31m---------------------------------------------------------------------------\u001b[39m",
      "\u001b[31mNameError\u001b[39m                                 Traceback (most recent call last)",
      "\u001b[36mCell\u001b[39m\u001b[36m \u001b[39m\u001b[32mIn[9]\u001b[39m\u001b[32m, line 13\u001b[39m\n\u001b[32m      8\u001b[39m t1p_def = \u001b[33m\"\u001b[39m\u001b[33mtau1p = d3*2*(1-cnst1+2*cnst2)-p1\u001b[39m\u001b[33m\"\u001b[39m\n\u001b[32m     11\u001b[39m pp.set_global_state(\u001b[33m\"\u001b[39m\u001b[33mZ\u001b[39m\u001b[33m\"\u001b[39m)\n\u001b[32m---> \u001b[39m\u001b[32m13\u001b[39m pp.set_evolution(\u001b[43msusp\u001b[49m)\n\u001b[32m     14\u001b[39m pp.set_evo_pattern(\n\u001b[32m     15\u001b[39m     [t1, t2, t3, t2, t1p, t2, t3, t2, t1], [t1_def, t2_def, t3_def, t1p_def]\n\u001b[32m     16\u001b[39m )\n\u001b[32m     18\u001b[39m pp.set_global_observable(\u001b[33m\"\u001b[39m\u001b[33mZ\u001b[39m\u001b[33m\"\u001b[39m)\n",
      "\u001b[31mNameError\u001b[39m: name 'susp' is not defined"
     ]
    }
   ],
   "source": [
    "t1 = \"tau1\"\n",
    "t1_def = \"tau1=d3*(1+cnst1+2*cnst2)-p1/2\"\n",
    "t2 = \"tau2\"\n",
    "t2_def = \"tau2=d3*(1-cnst2)-p1\"\n",
    "t3 = \"tau3\"\n",
    "t3_def = \"tau3 = 2*d3*(1-cnst2)-p1\"\n",
    "t1p = \"tau1p\"\n",
    "t1p_def = \"tau1p = d3*2*(1-cnst1+2*cnst2)-p1\"\n",
    "\n",
    "\n",
    "pp.set_global_state(\"Z\")\n",
    "\n",
    "pp.set_evolution(susp)\n",
    "pp.set_evo_pattern(\n",
    "    [t1, t2, t3, t2, t1p, t2, t3, t2, t1], [t1_def, t2_def, t3_def, t1p_def]\n",
    ")\n",
    "\n",
    "pp.set_global_observable(\"Z\")\n",
    "\n",
    "pp.generate_pulse_program(fc=14, evo_max=50)"
   ]
  },
  {
   "cell_type": "code",
   "execution_count": null,
   "id": "22271437",
   "metadata": {},
   "outputs": [],
   "source": []
  }
 ],
 "metadata": {
  "kernelspec": {
   "display_name": "qeg-env",
   "language": "python",
   "name": "python3"
  },
  "language_info": {
   "codemirror_mode": {
    "name": "ipython",
    "version": 3
   },
   "file_extension": ".py",
   "mimetype": "text/x-python",
   "name": "python",
   "nbconvert_exporter": "python",
   "pygments_lexer": "ipython3",
   "version": "3.13.2"
  }
 },
 "nbformat": 4,
 "nbformat_minor": 5
}
