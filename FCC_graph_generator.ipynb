{
 "cells": [
  {
   "cell_type": "code",
   "execution_count": 1,
   "id": "daff48c3",
   "metadata": {},
   "outputs": [],
   "source": [
    "import numpy as np"
   ]
  },
  {
   "cell_type": "code",
   "execution_count": 36,
   "id": "3707b647",
   "metadata": {},
   "outputs": [],
   "source": [
    "L=20 #we make a fcc structure with 0<=i,j,k<L\n",
    "size_lattice = L**3\n",
    "size_face_type = (L**3 -2*L**2 + L)\n",
    "size_face = 3*size_face_type\n",
    "total_size = size_lattice+size_face\n",
    "lattice_moves = [[-2, 0,0], [2, 0, 0], [0, -2,0], [0, 2, 0], [0,0,-2], [0,0,2]]\n",
    "face_moves= [[1, 1,0], [1,-1, 0], [-1, 1, 0], [-1, -1, 0], [1, 0, 1], [1, 0, -1], [-1, 0, 1], [-1, 0, -1], [0, 1,1], [0, 1, -1], [0, -1, 1], [0, -1, -1]]\n",
    "\n",
    "nn_adjacency = np.zeros((total_size, total_size))"
   ]
  },
  {
   "cell_type": "code",
   "execution_count": 37,
   "id": "deef8386",
   "metadata": {},
   "outputs": [],
   "source": [
    "def lattice_to_index(i, j, k):\n",
    "    return L**2*(i//2) + (j//2)*L + (k//2)\n",
    "def index_to_lattice(index):\n",
    "    #stipulate (index < L**3)\n",
    "    k = index % L\n",
    "    j = (index//L)%L\n",
    "    i = (index//(L**2))\n",
    "    return (2*i, 2*j, 2*k)\n",
    "def face_to_index(i, j, k):\n",
    "    if k%2 ==0:\n",
    "        return L**3 + (k//2) + L*(j//2) + L*(L-1)*(i//2)\n",
    "    if j%2==0:\n",
    "        return L**3 + size_face_type + (k//2) + (L-1)*(j//2) + L*(L-1) *(i//2)\n",
    "    if i%2 ==0:\n",
    "        return L**3 + 2*size_face_type+ (k//2) + (L-1)*(j//2) + (L-1)*(L-1)*(i//2)\n",
    "def any_to_index(i, j, k):\n",
    "    if i%2==0 and j%2==0 and k%2 ==0:\n",
    "        return lattice_to_index(i, j, k)\n",
    "    else:\n",
    "        return face_to_index(i, j, k)"
   ]
  },
  {
   "cell_type": "code",
   "execution_count": 66,
   "id": "e70d4d92",
   "metadata": {},
   "outputs": [
    {
     "name": "stdout",
     "output_type": "stream",
     "text": [
      "[[0. 1. 0. ... 0. 0. 0.]\n",
      " [1. 0. 1. ... 0. 0. 0.]\n",
      " [0. 1. 0. ... 0. 0. 0.]\n",
      " ...\n",
      " [0. 0. 0. ... 0. 0. 0.]\n",
      " [0. 0. 0. ... 0. 0. 0.]\n",
      " [0. 0. 0. ... 0. 0. 0.]]\n"
     ]
    }
   ],
   "source": [
    "for index in range(total_size):\n",
    "    i, j, k = index_to_lattice(index)\n",
    "    # for lm in lattice_moves:\n",
    "    #     new_i = lm[0] +i\n",
    "    #     new_j = lm[1] +j\n",
    "    #     new_k = lm[2] +k\n",
    "    #     if 0<=new_i< 2*L-1 and 0<= new_j<2*L-1 and 0<=new_k<2*L-1:\n",
    "    #         secondary_index = lattice_to_index(new_i, new_j, new_k)\n",
    "    #         nn_adjacency[index][secondary_index]=1\n",
    "    #         nn_adjacency[secondary_index][index] =1\n",
    "    for fm in face_moves:\n",
    "        new_i = fm[0] +i\n",
    "        new_j = fm[1] +j\n",
    "        new_k = fm[2] +k\n",
    "        if 0<=new_i< 2*L-1 and 0<= new_j<2*L-1 and 0<=new_k<2*L-1:\n",
    "            secondary_index = face_to_index(new_i, new_j, new_k)\n",
    "            nn_adjacency[index][secondary_index]=1\n",
    "            nn_adjacency[secondary_index][index] =1\n",
    "print(nn_adjacency)\n",
    "        \n",
    "    "
   ]
  },
  {
   "cell_type": "code",
   "execution_count": 64,
   "id": "4ec2f942",
   "metadata": {},
   "outputs": [
    {
     "data": {
      "text/plain": [
       "np.float64(6.0)"
      ]
     },
     "execution_count": 64,
     "metadata": {},
     "output_type": "execute_result"
    }
   ],
   "source": [
    "sum(nn_adjacency[0])"
   ]
  },
  {
   "cell_type": "code",
   "execution_count": 55,
   "id": "40335065",
   "metadata": {},
   "outputs": [],
   "source": [
    "import rustworkx as rx\n",
    "from rustworkx.visualization import mpl_draw"
   ]
  },
  {
   "cell_type": "code",
   "execution_count": 58,
   "id": "b7be6ab3",
   "metadata": {},
   "outputs": [],
   "source": [
    "G=rx.PyGraph.from_adjacency_matrix(nn_adjacency)"
   ]
  },
  {
   "cell_type": "code",
   "execution_count": 59,
   "id": "0302b527",
   "metadata": {},
   "outputs": [
    {
     "data": {
      "image/png": "[encoded data removed]",
      "text/plain": [
       "<Figure size 640x480 with 1 Axes>"
      ]
     },
     "metadata": {},
     "output_type": "display_data"
    }
   ],
   "source": [
    "import matplotlib.pyplot as plt\n",
    "\n",
    "# Get the degree of each node\n",
    "degrees = [G.degree(node) for node in G.node_indices()]\n",
    "\n",
    "# Plot the histogram\n",
    "plt.hist(degrees, bins=range(min(degrees), max(degrees) + 2), align='left', rwidth=0.8)\n",
    "plt.xlabel('Number of Edges')\n",
    "plt.ylabel('Frequency')\n",
    "plt.title('Histogram of the Number of Edges of Each Node')\n",
    "plt.show()"
   ]
  },
  {
   "cell_type": "code",
   "execution_count": null,
   "id": "e1e5e21c",
   "metadata": {},
   "outputs": [],
   "source": []
  },
  {
   "cell_type": "code",
   "execution_count": null,
   "id": "61d1a09c",
   "metadata": {},
   "outputs": [],
   "source": []
  }
 ],
 "metadata": {
  "kernelspec": {
   "display_name": "qeg-env",
   "language": "python",
   "name": "python3"
  },
  "language_info": {
   "codemirror_mode": {
    "name": "ipython",
    "version": 3
   },
   "file_extension": ".py",
   "mimetype": "text/x-python",
   "name": "python",
   "nbconvert_exporter": "python",
   "pygments_lexer": "ipython3",
   "version": "3.12.3"
  }
 },
 "nbformat": 4,
 "nbformat_minor": 5
}
