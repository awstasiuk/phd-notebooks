{
 "cells": [
  {
   "cell_type": "code",
   "execution_count": 1,
   "id": "63b2fc30",
   "metadata": {},
   "outputs": [],
   "source": [
    "import numpy as np"
   ]
  },
  {
   "cell_type": "code",
   "execution_count": 4,
   "id": "8ce633a1",
   "metadata": {},
   "outputs": [],
   "source": [
    "x=np.array([1,0,0])\n",
    "y=np.array([0,1,0])\n",
    "z=np.array([0,0,1])"
   ]
  },
  {
   "cell_type": "code",
   "execution_count": 60,
   "id": "298e2287",
   "metadata": {},
   "outputs": [],
   "source": [
    "#F = np.array([z,y,-x,-x,y,z]).T\n",
    "F = np.array([x,y,x,z,-y,-z,-x,y,-x,-z,-y,z,-x,-y,-x,z,y,-z,x,-y,x,-z,y,z]).T"
   ]
  },
  {
   "cell_type": "code",
   "execution_count": 62,
   "id": "d1657ee1",
   "metadata": {},
   "outputs": [
    {
     "data": {
      "text/plain": [
       "array([[ 1,  0,  1,  0,  0,  0, -1,  0, -1,  0,  0,  0, -1,  0, -1,  0,\n",
       "         0,  0,  1,  0,  1,  0,  0,  0],\n",
       "       [ 0,  1,  0,  0, -1,  0,  0,  1,  0,  0, -1,  0,  0, -1,  0,  0,\n",
       "         1,  0,  0, -1,  0,  0,  1,  0],\n",
       "       [ 0,  0,  0,  1,  0, -1,  0,  0,  0, -1,  0,  1,  0,  0,  0,  1,\n",
       "         0, -1,  0,  0,  0, -1,  0,  1]])"
      ]
     },
     "execution_count": 62,
     "metadata": {},
     "output_type": "execute_result"
    }
   ],
   "source": [
    "F"
   ]
  },
  {
   "cell_type": "code",
   "execution_count": 63,
   "id": "fb70c045",
   "metadata": {},
   "outputs": [
    {
     "data": {
      "text/plain": [
       "array([0, 0, 0])"
      ]
     },
     "execution_count": 63,
     "metadata": {},
     "output_type": "execute_result"
    }
   ],
   "source": [
    "sum(F.T)"
   ]
  },
  {
   "cell_type": "code",
   "execution_count": 64,
   "id": "959a3106",
   "metadata": {},
   "outputs": [
    {
     "data": {
      "text/plain": [
       "array([8, 8, 8])"
      ]
     },
     "execution_count": 64,
     "metadata": {},
     "output_type": "execute_result"
    }
   ],
   "source": [
    "sum(abs(F.T))"
   ]
  },
  {
   "cell_type": "code",
   "execution_count": 65,
   "id": "69ea822a",
   "metadata": {},
   "outputs": [],
   "source": [
    "def beta_mat(F):\n",
    "    Ft = F.T\n",
    "    return np.array([np.cross(Ft[i],Ft[i+1]) for i in range(len(Ft)-1)]).T"
   ]
  },
  {
   "cell_type": "code",
   "execution_count": 66,
   "id": "66595b33",
   "metadata": {},
   "outputs": [],
   "source": [
    "beta = beta_mat(F)"
   ]
  },
  {
   "cell_type": "code",
   "execution_count": 67,
   "id": "965392d9",
   "metadata": {},
   "outputs": [
    {
     "data": {
      "text/plain": [
       "array([ 0, -1,  0])"
      ]
     },
     "execution_count": 67,
     "metadata": {},
     "output_type": "execute_result"
    }
   ],
   "source": [
    "sum(beta.T)"
   ]
  },
  {
   "cell_type": "code",
   "execution_count": 68,
   "id": "68fc9f71",
   "metadata": {},
   "outputs": [],
   "source": [
    "def Pmat(vec1,vec2):\n",
    "    return np.kron(vec1,vec2).reshape((3,3))+np.kron(vec2,vec1).reshape((3,3))"
   ]
  },
  {
   "cell_type": "code",
   "execution_count": 69,
   "id": "82b7b016",
   "metadata": {},
   "outputs": [],
   "source": [
    "def P(F):\n",
    "    Ft = F.T\n",
    "    return np.array([Pmat(Ft[i],Ft[i+1]) for i in range(len(Ft)-1)])"
   ]
  },
  {
   "cell_type": "code",
   "execution_count": 70,
   "id": "cd93ff5a",
   "metadata": {},
   "outputs": [
    {
     "data": {
      "text/plain": [
       "array([[ 0,  0, -1],\n",
       "       [ 0,  0,  0],\n",
       "       [-1,  0,  0]])"
      ]
     },
     "execution_count": 70,
     "metadata": {},
     "output_type": "execute_result"
    }
   ],
   "source": [
    "sum(P(F))"
   ]
  },
  {
   "cell_type": "code",
   "execution_count": null,
   "id": "2754f420",
   "metadata": {},
   "outputs": [],
   "source": []
  },
  {
   "cell_type": "code",
   "execution_count": null,
   "id": "8a18cf08",
   "metadata": {},
   "outputs": [],
   "source": []
  }
 ],
 "metadata": {
  "kernelspec": {
   "display_name": "Python 3 (ipykernel)",
   "language": "python",
   "name": "python3"
  },
  "language_info": {
   "codemirror_mode": {
    "name": "ipython",
    "version": 3
   },
   "file_extension": ".py",
   "mimetype": "text/x-python",
   "name": "python",
   "nbconvert_exporter": "python",
   "pygments_lexer": "ipython3",
   "version": "3.9.7"
  }
 },
 "nbformat": 4,
 "nbformat_minor": 5
}
