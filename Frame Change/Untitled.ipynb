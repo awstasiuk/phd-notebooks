{
 "cells": [
  {
   "cell_type": "code",
   "execution_count": 1,
   "id": "044ad53f",
   "metadata": {},
   "outputs": [],
   "source": [
    "import numpy as np\n",
    "\n",
    "import matplotlib.pyplot as plt\n",
    "\n",
    "from timeit import default_timer as timer\n",
    "\n",
    "from nmresearch import Crystal\n",
    "from nmresearch import Disorder\n",
    "from nmresearch import Atom, AtomPos\n",
    "from sklearn.mixture import GaussianMixture\n",
    "\n",
    "\n",
    "# generate the FaP crystal\n",
    "d1 = 0.36853\n",
    "d2 = 0.39785\n",
    "fl = Atom(dim_s=2, gamma=251.662 * 10**6, name=\"flourine\")\n",
    "ph = Atom(dim_s=2, gamma=108.291 * 10**6, name=\"phosphorous\")\n",
    "\n",
    "unit_cell = {\n",
    "    fl: np.array([[0, 0, 1 / 4], [0, 0, 3 / 4]]),\n",
    "    ph: np.array(\n",
    "        [\n",
    "            [d1, d2, 0.25],\n",
    "            [-d2, d1 - d2, 0.25],\n",
    "            [d2 - d1, -d1, 0.25],\n",
    "            [-d1, -d2, 0.75],\n",
    "            [d2, d2 - d1, 0.75],\n",
    "            [d1 - d2, d1, 0.75],\n",
    "        ]\n",
    "    ),\n",
    "}\n",
    "\n",
    "fp_lat = np.array(\n",
    "    [\n",
    "        [9.375, 9.375 * np.cos(120 * np.pi / 180), 0],\n",
    "        [0, 9.375 * np.sin(120 * np.pi / 180), 0],\n",
    "        [0, 0, 6.887],\n",
    "    ]\n",
    ")\n",
    "# crystal object\n",
    "fp_xtal = Crystal(unit_cell, fp_lat)\n"
   ]
  },
  {
   "cell_type": "code",
   "execution_count": 2,
   "id": "06c44767",
   "metadata": {},
   "outputs": [],
   "source": [
    "# disorder computation vehicle, with 5 unitcell shells\n",
    "mycalc_5shell = Disorder(fp_xtal, 5)"
   ]
  },
  {
   "cell_type": "code",
   "execution_count": 3,
   "id": "d863f200",
   "metadata": {},
   "outputs": [],
   "source": [
    "# set a central \"test-spin\"\n",
    "orig_atom = AtomPos.create_from_atom(atom=fl, position=[0, 0, 0.25 * 6.887])"
   ]
  },
  {
   "cell_type": "code",
   "execution_count": 4,
   "id": "1557af06",
   "metadata": {},
   "outputs": [
    {
     "name": "stdout",
     "output_type": "stream",
     "text": [
      "Standard deviation of central spin, krad/s: 5.847497734028682\n"
     ]
    }
   ],
   "source": [
    "v = mycalc_5shell.variance_estimate(orig_atom)\n",
    "print(\"Standard deviation of central spin, krad/s: \" + str(2*v**0.5 * 1e-3))"
   ]
  },
  {
   "cell_type": "code",
   "execution_count": 5,
   "id": "9e0f8647",
   "metadata": {},
   "outputs": [
    {
     "data": {
      "text/plain": [
       "9660.480374561352"
      ]
     },
     "execution_count": 5,
     "metadata": {},
     "output_type": "execute_result"
    }
   ],
   "source": [
    "mycalc_5shell.disorder_sum(orig_atom)"
   ]
  },
  {
   "cell_type": "code",
   "execution_count": 7,
   "id": "dc29a433",
   "metadata": {},
   "outputs": [
    {
     "ename": "KeyboardInterrupt",
     "evalue": "",
     "output_type": "error",
     "traceback": [
      "\u001b[1;31m---------------------------------------------------------------------------\u001b[0m",
      "\u001b[1;31mKeyboardInterrupt\u001b[0m                         Traceback (most recent call last)",
      "Input \u001b[1;32mIn [7]\u001b[0m, in \u001b[0;36m<cell line: 2>\u001b[1;34m()\u001b[0m\n\u001b[0;32m      2\u001b[0m \u001b[38;5;28;01mfor\u001b[39;00m k \u001b[38;5;129;01min\u001b[39;00m \u001b[38;5;28mrange\u001b[39m(\u001b[38;5;241m5\u001b[39m,\u001b[38;5;241m80\u001b[39m,\u001b[38;5;241m5\u001b[39m):\n\u001b[0;32m      3\u001b[0m     mycalc_kshell \u001b[38;5;241m=\u001b[39m Disorder(fp_xtal, k)\n\u001b[1;32m----> 4\u001b[0m     temp\u001b[38;5;241m.\u001b[39mappend([k,\u001b[43mmycalc_kshell\u001b[49m\u001b[38;5;241;43m.\u001b[39;49m\u001b[43mdisorder_sum\u001b[49m\u001b[43m(\u001b[49m\u001b[43morig_atom\u001b[49m\u001b[43m)\u001b[49m])\n",
      "File \u001b[1;32mc:\\users\\awsta\\documents\\workspace\\mit\\mit-phd\\nmresearch\\crystal\\disorder.py:589\u001b[0m, in \u001b[0;36mDisorder.disorder_sum\u001b[1;34m(self, origin, zeta)\u001b[0m\n\u001b[0;32m    584\u001b[0m \u001b[38;5;28;01mdef\u001b[39;00m \u001b[38;5;21mdisorder_sum\u001b[39m(\u001b[38;5;28mself\u001b[39m, origin, zeta\u001b[38;5;241m=\u001b[39m\u001b[38;5;241m1\u001b[39m):\n\u001b[0;32m    585\u001b[0m     \u001b[38;5;124mr\u001b[39m\u001b[38;5;124;03m\"\"\"\u001b[39;00m\n\u001b[0;32m    586\u001b[0m \u001b[38;5;124;03m    Estimate the average disorder strength for dimensionless temperature zeta = beta*hbar*omega/2\u001b[39;00m\n\u001b[0;32m    587\u001b[0m \u001b[38;5;124;03m    with linear approximation tanh(zeta)=zeta\u001b[39;00m\n\u001b[0;32m    588\u001b[0m \u001b[38;5;124;03m    \"\"\"\u001b[39;00m\n\u001b[1;32m--> 589\u001b[0m     crystal \u001b[38;5;241m=\u001b[39m \u001b[38;5;28;43mself\u001b[39;49m\u001b[38;5;241;43m.\u001b[39;49m\u001b[43mget_network\u001b[49m\u001b[43m(\u001b[49m\u001b[43morigin\u001b[49m\u001b[43m)\u001b[49m\n\u001b[0;32m    590\u001b[0m     \u001b[38;5;28;01mreturn\u001b[39;00m zeta\u001b[38;5;241m*\u001b[39m\u001b[38;5;28msum\u001b[39m([spin\u001b[38;5;241m.\u001b[39mcoupling \u001b[38;5;28;01mfor\u001b[39;00m spin \u001b[38;5;129;01min\u001b[39;00m crystal])\n",
      "File \u001b[1;32mc:\\users\\awsta\\documents\\workspace\\mit\\mit-phd\\nmresearch\\crystal\\disorder.py:259\u001b[0m, in \u001b[0;36mDisorder.get_network\u001b[1;34m(self, origin)\u001b[0m\n\u001b[0;32m    257\u001b[0m \u001b[38;5;28;01mif\u001b[39;00m origin \u001b[38;5;129;01min\u001b[39;00m \u001b[38;5;28mself\u001b[39m\u001b[38;5;241m.\u001b[39m_network\u001b[38;5;241m.\u001b[39mkeys():\n\u001b[0;32m    258\u001b[0m     \u001b[38;5;28;01mreturn\u001b[39;00m \u001b[38;5;28mself\u001b[39m\u001b[38;5;241m.\u001b[39m_network[origin]\n\u001b[1;32m--> 259\u001b[0m \u001b[38;5;28;01mreturn\u001b[39;00m \u001b[38;5;28;43mself\u001b[39;49m\u001b[38;5;241;43m.\u001b[39;49m\u001b[43mgenerate_network\u001b[49m\u001b[43m(\u001b[49m\u001b[43morigin\u001b[49m\u001b[43m)\u001b[49m\n",
      "File \u001b[1;32mc:\\users\\awsta\\documents\\workspace\\mit\\mit-phd\\nmresearch\\crystal\\disorder.py:270\u001b[0m, in \u001b[0;36mDisorder.generate_network\u001b[1;34m(self, origin)\u001b[0m\n\u001b[0;32m    268\u001b[0m \u001b[38;5;28;01mfor\u001b[39;00m atompos \u001b[38;5;129;01min\u001b[39;00m lattice:\n\u001b[0;32m    269\u001b[0m     \u001b[38;5;28;01mif\u001b[39;00m \u001b[38;5;129;01mnot\u001b[39;00m atompos\u001b[38;5;241m.\u001b[39mname \u001b[38;5;241m==\u001b[39m origin\u001b[38;5;241m.\u001b[39mname:\n\u001b[1;32m--> 270\u001b[0m         atompos\u001b[38;5;241m.\u001b[39mcoupling \u001b[38;5;241m=\u001b[39m \u001b[43mDisorder\u001b[49m\u001b[38;5;241;43m.\u001b[39;49m\u001b[43mheteronuclear_coupling\u001b[49m\u001b[43m(\u001b[49m\n\u001b[0;32m    271\u001b[0m \u001b[43m            \u001b[49m\u001b[43morigin\u001b[49m\u001b[43m,\u001b[49m\u001b[43m \u001b[49m\u001b[43matompos\u001b[49m\n\u001b[0;32m    272\u001b[0m \u001b[43m        \u001b[49m\u001b[43m)\u001b[49m\n\u001b[0;32m    273\u001b[0m     network\u001b[38;5;241m.\u001b[39mappend(atompos)\n\u001b[0;32m    275\u001b[0m \u001b[38;5;28mself\u001b[39m\u001b[38;5;241m.\u001b[39m_network[origin] \u001b[38;5;241m=\u001b[39m network\n",
      "File \u001b[1;32mc:\\users\\awsta\\documents\\workspace\\mit\\mit-phd\\nmresearch\\crystal\\disorder.py:34\u001b[0m, in \u001b[0;36mDisorder.heteronuclear_coupling\u001b[1;34m(origin, source)\u001b[0m\n\u001b[0;32m     32\u001b[0m hbar \u001b[38;5;241m=\u001b[39m \u001b[38;5;241m1.05457\u001b[39m \u001b[38;5;241m*\u001b[39m \u001b[38;5;241m10\u001b[39m \u001b[38;5;241m*\u001b[39m\u001b[38;5;241m*\u001b[39m (\u001b[38;5;241m-\u001b[39m\u001b[38;5;241m34\u001b[39m)  \u001b[38;5;66;03m# J s / rad\u001b[39;00m\n\u001b[0;32m     33\u001b[0m r \u001b[38;5;241m=\u001b[39m (p2 \u001b[38;5;241m-\u001b[39m p1) \u001b[38;5;241m*\u001b[39m \u001b[38;5;241m10\u001b[39m \u001b[38;5;241m*\u001b[39m\u001b[38;5;241m*\u001b[39m (\u001b[38;5;241m-\u001b[39m\u001b[38;5;241m10\u001b[39m)\n\u001b[1;32m---> 34\u001b[0m dx \u001b[38;5;241m=\u001b[39m \u001b[43mnorm\u001b[49m\u001b[43m(\u001b[49m\u001b[43mr\u001b[49m\u001b[43m)\u001b[49m\n\u001b[0;32m     35\u001b[0m rhat \u001b[38;5;241m=\u001b[39m r \u001b[38;5;241m/\u001b[39m dx\n\u001b[0;32m     36\u001b[0m cos \u001b[38;5;241m=\u001b[39m rhat[\u001b[38;5;241m2\u001b[39m]\n",
      "File \u001b[1;32m<__array_function__ internals>:180\u001b[0m, in \u001b[0;36mnorm\u001b[1;34m(*args, **kwargs)\u001b[0m\n",
      "File \u001b[1;32m~\\Documents\\workspace\\qeg-env\\lib\\site-packages\\numpy\\linalg\\linalg.py:2516\u001b[0m, in \u001b[0;36mnorm\u001b[1;34m(x, ord, axis, keepdims)\u001b[0m\n\u001b[0;32m   2514\u001b[0m     sqnorm \u001b[38;5;241m=\u001b[39m dot(x\u001b[38;5;241m.\u001b[39mreal, x\u001b[38;5;241m.\u001b[39mreal) \u001b[38;5;241m+\u001b[39m dot(x\u001b[38;5;241m.\u001b[39mimag, x\u001b[38;5;241m.\u001b[39mimag)\n\u001b[0;32m   2515\u001b[0m \u001b[38;5;28;01melse\u001b[39;00m:\n\u001b[1;32m-> 2516\u001b[0m     sqnorm \u001b[38;5;241m=\u001b[39m \u001b[43mdot\u001b[49m\u001b[43m(\u001b[49m\u001b[43mx\u001b[49m\u001b[43m,\u001b[49m\u001b[43m \u001b[49m\u001b[43mx\u001b[49m\u001b[43m)\u001b[49m\n\u001b[0;32m   2517\u001b[0m ret \u001b[38;5;241m=\u001b[39m sqrt(sqnorm)\n\u001b[0;32m   2518\u001b[0m \u001b[38;5;28;01mif\u001b[39;00m keepdims:\n",
      "File \u001b[1;32m<__array_function__ internals>:180\u001b[0m, in \u001b[0;36mdot\u001b[1;34m(*args, **kwargs)\u001b[0m\n",
      "\u001b[1;31mKeyboardInterrupt\u001b[0m: "
     ]
    }
   ],
   "source": [
    "temp = []\n",
    "for k in range(5,80,5):\n",
    "    mycalc_kshell = Disorder(fp_xtal, k)\n",
    "    temp.append([k,mycalc_kshell.disorder_sum(orig_atom)])"
   ]
  },
  {
   "cell_type": "code",
   "execution_count": 10,
   "id": "8ca90123",
   "metadata": {},
   "outputs": [],
   "source": [
    "vals = np.array(temp)"
   ]
  },
  {
   "cell_type": "code",
   "execution_count": 17,
   "id": "d1418291",
   "metadata": {},
   "outputs": [
    {
     "data": {
      "text/plain": [
       "Text(0, 0.5, 'interaction sum (rad / s)')"
      ]
     },
     "execution_count": 17,
     "metadata": {},
     "output_type": "execute_result"
    },
    {
     "data": {
      "image/png": "[encoded data removed]",
      "text/plain": [
       "<Figure size 432x288 with 1 Axes>"
      ]
     },
     "metadata": {
      "needs_background": "light"
     },
     "output_type": "display_data"
    }
   ],
   "source": [
    "plt.plot(vals.transpose()[0],vals.transpose()[1])\n",
    "plt.xlabel(\"shell radius\")\n",
    "plt.ylabel(\"interaction sum (rad / s)\")"
   ]
  },
  {
   "cell_type": "code",
   "execution_count": 21,
   "id": "832f9f86",
   "metadata": {},
   "outputs": [
    {
     "data": {
      "image/png": "[encoded data removed]",
      "text/plain": [
       "<Figure size 432x288 with 1 Axes>"
      ]
     },
     "metadata": {
      "needs_background": "light"
     },
     "output_type": "display_data"
    }
   ],
   "source": [
    "plt.loglog(vals.transpose()[0],vals.transpose()[1])\n",
    "plt.xlabel(\"shell radius\")\n",
    "plt.ylabel(\"interaction sum (rad / s)\")\n",
    "plt.show()"
   ]
  },
  {
   "cell_type": "code",
   "execution_count": null,
   "id": "eba61a66",
   "metadata": {},
   "outputs": [],
   "source": [
    "temp = []\n",
    "for k in [50,100,150,200,500,1000]:\n",
    "    mycalc_kshell = Disorder(fp_xtal, k)\n",
    "    temp.append([k,mycalc_kshell.disorder_sum(orig_atom)])"
   ]
  },
  {
   "cell_type": "code",
   "execution_count": 1,
   "id": "509f2438",
   "metadata": {},
   "outputs": [
    {
     "data": {
      "text/plain": [
       "19312"
      ]
     },
     "execution_count": 1,
     "metadata": {},
     "output_type": "execute_result"
    }
   ],
   "source": [
    "9656*2"
   ]
  },
  {
   "cell_type": "code",
   "execution_count": 3,
   "id": "bd56d05e",
   "metadata": {},
   "outputs": [
    {
     "data": {
      "text/plain": [
       "0.014483999999999999"
      ]
     },
     "execution_count": 3,
     "metadata": {},
     "output_type": "execute_result"
    }
   ],
   "source": [
    ".5*19312*1.5*10**-6"
   ]
  },
  {
   "cell_type": "code",
   "execution_count": null,
   "id": "d91eb7d5",
   "metadata": {},
   "outputs": [],
   "source": []
  }
 ],
 "metadata": {
  "kernelspec": {
   "display_name": "Python 3 (ipykernel)",
   "language": "python",
   "name": "python3"
  },
  "language_info": {
   "codemirror_mode": {
    "name": "ipython",
    "version": 3
   },
   "file_extension": ".py",
   "mimetype": "text/x-python",
   "name": "python",
   "nbconvert_exporter": "python",
   "pygments_lexer": "ipython3",
   "version": "3.9.7"
  }
 },
 "nbformat": 4,
 "nbformat_minor": 5
}
