{
 "cells": [
  {
   "cell_type": "code",
   "execution_count": null,
   "id": "b7c3e6cc",
   "metadata": {},
   "outputs": [],
   "source": [
    "import nmresearch as nmr\n",
    "import pickle # this loads data from saved numpy arrays\n",
    "\n",
    "import numpy as np\n",
    "import scipy as sp\n",
    "\n",
    "import matplotlib.pyplot as plt\n",
    "\n",
    "from scipy.optimize import curve_fit\n",
    "from scipy.interpolate import CubicSpline\n",
    "from scipy.linalg import expm"
   ]
  },
  {
   "cell_type": "code",
   "execution_count": null,
   "id": "2a02961f",
   "metadata": {},
   "outputs": [],
   "source": [
    "def func(x, a, b, c, d):\n",
    "    return d * np.exp(- (x / a) ** b ) + c\n",
    "def fancy_fit(vals, T, title=None, real_time=True, save=None, ylabel=None):\n",
    "    decay=abs(vals)\n",
    "    x = np.arange(0,len(decay))\n",
    "    guess=25\n",
    "    if real_time:\n",
    "        x = x*T\n",
    "        guess=2000\n",
    "    \n",
    "    popt, pcov = curve_fit(func, x, decay, p0=[guess, 4/5, 0, 1])\n",
    "    perr = np.sqrt(np.diag(pcov))\n",
    "\n",
    "    plt.plot(x, func(x, *popt), 'r-',label=r'Fit: $\\tau_F$=%5.3f, b=%5.3f' % tuple(popt[0:2]))\n",
    "    plt.scatter(x, vals,label=\"Data\")\n",
    "    if real_time:\n",
    "        plt.xlabel(\"Experimental Time (us)\")\n",
    "    else:\n",
    "        plt.xlabel(\"Floquet Kicking Periods\")\n",
    "        \n",
    "    if title is not None:\n",
    "        plt.title(title)\n",
    "    \n",
    "    plt.ylabel(\"Signal (a.u.)\") if ylabel is None else plt.ylabel(ylabel)\n",
    "    \n",
    "    plt.yticks(np.arange(0, 1.5, .5))\n",
    "\n",
    "    plt.legend()\n",
    "    if save is not None:\n",
    "        plt.savefig(save+\".pdf\", format='pdf', dpi=900,bbox_inches='tight')\n",
    "    plt.show()\n",
    "    return perr"
   ]
  },
  {
   "cell_type": "code",
   "execution_count": null,
   "id": "efb6b002",
   "metadata": {},
   "outputs": [],
   "source": [
    "cory_zz = nmr.Experiment(87).tpc(cycle=24*3*5,)\n",
    "t = np.arange(0,24*3*5*50, 24*3*5)\n",
    "#tau = exp_fit(cory_zz,gauss=False)\n",
    "fancy_fit(cory_zz,24*3*5,title=\"Cory48 <Z(t)Z>, No FC\")"
   ]
  },
  {
   "cell_type": "code",
   "execution_count": null,
   "id": "c129c718",
   "metadata": {},
   "outputs": [],
   "source": [
    "cory_zz_fc = nmr.Experiment(88).tpc(cycle=24*3*5,title=\"Cory48 <Z(t)Z>, w. FC\")\n",
    "fancy_fit(cory_zz_fc,24*3*5,title=\"Cory48 <Z(t)Z>, w. FC\")"
   ]
  },
  {
   "cell_type": "code",
   "execution_count": null,
   "id": "e952cc6d",
   "metadata": {},
   "outputs": [],
   "source": [
    "plt.plot(cory_zz)\n",
    "plt.plot(cory_zz_fc)\n",
    "plt.show()"
   ]
  },
  {
   "cell_type": "code",
   "execution_count": null,
   "id": "026923f6",
   "metadata": {},
   "outputs": [],
   "source": [
    "cory_xx = nmr.Experiment(89).tpc(cycle=24*3*5,title=\"Cory48 <X(t)X>, No FC\")\n",
    "t = np.arange(0,24*3*5*50, 24*3*5)\n",
    "#tau = exp_fit(cory_xx,gauss=False)\n",
    "fancy_fit(cory_xx,24*3*5,title=\"Cory48 <X(t)X>, No FC\")"
   ]
  },
  {
   "cell_type": "code",
   "execution_count": null,
   "id": "a36da654",
   "metadata": {},
   "outputs": [],
   "source": [
    "cory_xx_fc = nmr.Experiment(90).tpc(cycle=24*3*5,title=\"Cory48 <X(t)X>, w/ FC\")\n",
    "t = np.arange(0,24*3*5*50, 24*3*5)\n",
    "#tau = exp_fit(cory_xx,gauss=False)\n",
    "fancy_fit(cory_xx_fc,24*3*5,title=\"Cory48 <X(t)X>,w/No FC\")"
   ]
  },
  {
   "cell_type": "code",
   "execution_count": null,
   "id": "8fcc3a8a",
   "metadata": {},
   "outputs": [],
   "source": [
    "plt.plot(cory_xx,label=\"no FC\")\n",
    "plt.plot(cory_xx_fc,label=\"with FC\")\n",
    "plt.legend()\n",
    "plt.show()"
   ]
  },
  {
   "cell_type": "code",
   "execution_count": null,
   "id": "a5c20a17",
   "metadata": {},
   "outputs": [],
   "source": [
    "mrev_zz = nmr.Experiment(91).tpc(cycle=60,title=\"MREV-8 ZZ, no FC\")\n",
    "t = np.arange(0,60*100, 60)\n",
    "fancy_fit(mrev_zz,60,title=\"MREV-8 <Z(t)Z>, No FC\")"
   ]
  },
  {
   "cell_type": "code",
   "execution_count": null,
   "id": "7cfb5089",
   "metadata": {},
   "outputs": [],
   "source": [
    "mrev_zz_fc = nmr.Experiment(92).tpc(cycle=60,title=\"MREV-8 ZZ, w/ FC\")\n",
    "t = np.arange(0,60*100, 60)\n",
    "fancy_fit(mrev_zz_fc,60,title=\"MREV-8 <Z(t)Z>, w/ FC\")"
   ]
  },
  {
   "cell_type": "code",
   "execution_count": null,
   "id": "5729b55f",
   "metadata": {},
   "outputs": [],
   "source": [
    "mrev_zz_fc3 = nmr.Experiment(101).tpc(cycle=60,title=\"MREV-8 ZZ, w/ FC\")\n",
    "t = np.arange(0,60*100, 60)\n",
    "fancy_fit(mrev_zz_fc,60,title=\"MREV-8 <Z(t)Z>, w/ FC=3\")"
   ]
  },
  {
   "cell_type": "code",
   "execution_count": null,
   "id": "4900654f",
   "metadata": {},
   "outputs": [],
   "source": [
    "plt.plot(mrev_zz, label=\"no FC\")\n",
    "plt.plot(mrev_zz_fc, label=\"with FC=9\")\n",
    "plt.plot(mrev_zz_fc3, label=\"with FC=3\")\n",
    "plt.legend()\n",
    "plt.show()"
   ]
  },
  {
   "cell_type": "code",
   "execution_count": null,
   "id": "bf082e09",
   "metadata": {},
   "outputs": [],
   "source": [
    "plt.plot(-np.log(mrev_zz), label=\"no FC\")\n",
    "plt.plot(-np.log(mrev_zz_fc), label=\"with FC=9\")\n",
    "plt.plot(-np.log(mrev_zz_fc3), label=\"with FC=3\")\n",
    "plt.legend()\n",
    "plt.show()"
   ]
  },
  {
   "cell_type": "code",
   "execution_count": null,
   "id": "6e61000d",
   "metadata": {},
   "outputs": [],
   "source": [
    "mrev_xx = nmr.Experiment(97).tpc(cycle=60,title=\"MREV-8 XX, no FC\")\n",
    "t = np.arange(0,60*50, 60)\n",
    "fancy_fit(mrev_xx,60,title=\"MREV-8 <X(t)X>, No FC\")"
   ]
  },
  {
   "cell_type": "code",
   "execution_count": null,
   "id": "645f2ce4",
   "metadata": {},
   "outputs": [],
   "source": [
    "mrev_xx_fc = nmr.Experiment(98).tpc(cycle=60,title=\"MREV-8 XX,w/ FC\")\n",
    "t = np.arange(0,60*50, 60)\n",
    "fancy_fit(mrev_xx_fc,60,title=\"MREV-8 <X(t)X>, w/ FC\")"
   ]
  },
  {
   "cell_type": "code",
   "execution_count": null,
   "id": "5741daee",
   "metadata": {},
   "outputs": [],
   "source": [
    "peng_zz = nmr.Experiment(99).tpc(cycle=120,title=\"Pen24 ZZ, no FC\")\n",
    "t = np.arange(0,120*50, 120)\n",
    "fancy_fit(peng_zz,120,title=\"Peng24 <Z(t)Z>, No FC\")"
   ]
  },
  {
   "cell_type": "code",
   "execution_count": null,
   "id": "69d7a250",
   "metadata": {},
   "outputs": [],
   "source": [
    "peng_zz_fc = nmr.Experiment(100).tpc(cycle=120,title=\"Pen24 ZZ, w/ FC\")\n",
    "t = np.arange(0,120*50, 120)\n",
    "fancy_fit(peng_zz_fc,120,title=\"Peng24 <Z(t)Z>, w/ FC\")"
   ]
  },
  {
   "cell_type": "code",
   "execution_count": null,
   "id": "ff9f5f79",
   "metadata": {},
   "outputs": [],
   "source": [
    "plt.plot(peng_zz,label=\"no FC\")\n",
    "plt.plot(peng_zz_fc,label=\"with FC\")\n",
    "plt.ylim([0,1.1])\n",
    "plt.legend()\n",
    "plt.show()"
   ]
  },
  {
   "cell_type": "code",
   "execution_count": null,
   "id": "f857d235",
   "metadata": {},
   "outputs": [],
   "source": [
    "peng_xx = nmr.Experiment(126).tpc(cycle=120,title=\"Pen24 XX, no FC\")\n",
    "t = np.arange(0,120*50, 120)\n",
    "fancy_fit(peng_xx,120,title=\"Peng24 <X(t)X>, No FC\")"
   ]
  },
  {
   "cell_type": "code",
   "execution_count": null,
   "id": "a201a6d1",
   "metadata": {},
   "outputs": [],
   "source": [
    "peng_xx_fc = nmr.Experiment(127).tpc(cycle=120,title=\"Pen24 XX, w/ FC\")\n",
    "t = np.arange(0,120*50, 120)\n",
    "fancy_fit(peng_xx,120,title=\"Peng24 <X(t)X>, w/ FC\")"
   ]
  },
  {
   "cell_type": "code",
   "execution_count": null,
   "id": "9adbf783",
   "metadata": {},
   "outputs": [],
   "source": [
    "plt.plot(peng_xx,label=\"no FC\")\n",
    "plt.plot(peng_xx_fc,label=\"with FC\")\n",
    "plt.ylim([0,1.1])\n",
    "plt.legend()\n",
    "plt.show()"
   ]
  },
  {
   "cell_type": "code",
   "execution_count": null,
   "id": "cdb8bbbf",
   "metadata": {},
   "outputs": [],
   "source": [
    "ang12_zz = nmr.Experiment(276).tpc(cycle=60,title=\"Angle12 <ZZ> no FC\")"
   ]
  },
  {
   "cell_type": "code",
   "execution_count": null,
   "id": "bda0c477",
   "metadata": {},
   "outputs": [],
   "source": [
    "ang12_zz_fc = nmr.Experiment(277).tpc(cycle=60,title=\"Angle12 <ZZ> w/ FC\")"
   ]
  },
  {
   "cell_type": "code",
   "execution_count": null,
   "id": "f852bcde",
   "metadata": {},
   "outputs": [],
   "source": []
  }
 ],
 "metadata": {
  "kernelspec": {
   "display_name": "Python 3 (ipykernel)",
   "language": "python",
   "name": "python3"
  },
  "language_info": {
   "codemirror_mode": {
    "name": "ipython",
    "version": 3
   },
   "file_extension": ".py",
   "mimetype": "text/x-python",
   "name": "python",
   "nbconvert_exporter": "python",
   "pygments_lexer": "ipython3",
   "version": "3.9.7"
  }
 },
 "nbformat": 4,
 "nbformat_minor": 5
}
