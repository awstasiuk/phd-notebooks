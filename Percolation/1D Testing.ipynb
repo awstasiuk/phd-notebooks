{
 "cells": [
  {
   "cell_type": "code",
   "execution_count": 1,
   "id": "25694d56-e058-4490-be1d-87f0b77458d2",
   "metadata": {},
   "outputs": [],
   "source": [
    "import numpy as np\n",
    "import scipy as sp\n",
    "from numpy.random import rand\n",
    "import matplotlib.pyplot as plt"
   ]
  },
  {
   "cell_type": "code",
   "execution_count": 2,
   "id": "73afe04b-bd93-40cd-9c03-cc308c10f38a",
   "metadata": {},
   "outputs": [],
   "source": [
    "# 1D Nearest neighbor connectivity\n",
    "connectivity = [-1, 1]\n",
    "\n",
    "def out_of_bounds(site,N):\n",
    "    return site < 0 or site > N-1\n",
    "        \n",
    "def neighbors(idx,N):\n",
    "    hold = []\n",
    "    for i, bond in enumerate(connectivity):\n",
    "        site=idx+bond\n",
    "        if not out_of_bounds(site,N):\n",
    "            hold.append(site)\n",
    "    return hold"
   ]
  },
  {
   "cell_type": "code",
   "execution_count": 3,
   "id": "a0d9904d-99d0-4809-a46d-0a5843e9b335",
   "metadata": {},
   "outputs": [],
   "source": [
    "def generate_cluster(p, R, lbl=1,lattice=None):\n",
    "    if lattice is not None:\n",
    "        N = len(lattice)\n",
    "        \n",
    "    else:\n",
    "        N = 2*R+1\n",
    "        lattice = np.zeros((N,),dtype=np.int32)\n",
    "        lattice[R] = lbl\n",
    "        perimeter = [R]\n",
    "\n",
    "    while True:\n",
    "        next_perimeter=[]\n",
    "        for idx in perimeter:\n",
    "            for site in neighbors(idx,N):\n",
    "                if abs(lattice[site]) != lbl:\n",
    "                    val = (p<rand())*(lbl+1)-1\n",
    "                    lattice[site] = val\n",
    "                    if val == lbl:\n",
    "                        next_perimeter.append(site)\n",
    "        if len(next_perimeter)==0:\n",
    "            break\n",
    "        perimeter = next_perimeter\n",
    "    return lattice\n",
    "\n",
    "\n",
    "def generate_dense_cluster(p,R,lbl=1,lattice=None):\n",
    "    if lattice is not None:\n",
    "        starts = np.where(lattice < 0)[0]\n",
    "        if not starts.size:\n",
    "            return lattice\n",
    "        N=len(lattice)\n",
    "        lattice[starts[0]]=lbl\n",
    "        perimeter = [starts[0]]\n",
    "        \n",
    "    else:\n",
    "        N = 2*R+1\n",
    "        lattice = np.zeros((N,),dtype=np.int32)\n",
    "        lattice[R] = lbl\n",
    "        perimeter = [R]\n",
    "        \n",
    "        \n",
    "    while True:\n",
    "        next_perimeter=[]\n",
    "        for idx in perimeter:\n",
    "            for site in neighbors(idx,N):\n",
    "                if lattice[site] <=0 and lattice[site] != -1*lbl:\n",
    "                    val = lbl*(2*(p<rand())-1)\n",
    "                    lattice[site] = val\n",
    "                    if val == lbl:\n",
    "                        next_perimeter.append(site)\n",
    "        if len(next_perimeter)==0:\n",
    "            break\n",
    "        perimeter = next_perimeter\n",
    "    return lattice\n",
    "\n",
    "def generate_network(p,R,max_iter=50):\n",
    "    lbl=1\n",
    "    lattice=generate_dense_cluster(p,R)\n",
    "    while lbl in lattice:\n",
    "        lbl+=1\n",
    "        lattice = generate_dense_cluster(p,R,lbl,lattice)\n",
    "        if lbl >= max_iter:\n",
    "            break\n",
    "    return lattice\n",
    "        "
   ]
  },
  {
   "cell_type": "code",
   "execution_count": 4,
   "id": "b649bb6a-cc7a-4cb0-9dfd-73bc0e91bfa9",
   "metadata": {},
   "outputs": [
    {
     "data": {
      "text/plain": [
       "<matplotlib.image.AxesImage at 0x7f24f219fe00>"
      ]
     },
     "execution_count": 4,
     "metadata": {},
     "output_type": "execute_result"
    },
    {
     "data": {
      "image/png": "[encoded data removed]",
      "text/plain": [
       "<Figure size 1600x200 with 1 Axes>"
      ]
     },
     "metadata": {},
     "output_type": "display_data"
    }
   ],
   "source": [
    "p=.1\n",
    "R=50\n",
    "\n",
    "lattice=generate_network(p,R)\n",
    "\n",
    "plt.matshow([lattice])"
   ]
  },
  {
   "cell_type": "code",
   "execution_count": 5,
   "id": "9f1ed6f2-dd94-4274-865a-8cc83e3edb5b",
   "metadata": {},
   "outputs": [
    {
     "data": {
      "text/plain": [
       "array([ 8,  7,  7,  7,  7,  7,  7,  7,  7,  7,  6,  6,  5,  5,  5,  5,  5,\n",
       "        5,  5,  5,  5,  5,  5,  5,  5,  5,  5,  5,  5,  5,  5,  4,  4,  4,\n",
       "        4,  4,  3,  3,  3,  3,  3,  3,  2,  2,  2,  2,  2,  2,  2,  1,  1,\n",
       "        1,  9,  9,  9,  9,  9,  9,  9, 10, 10, 10, 10, 10, 10, 10, 10, 10,\n",
       "       10, 10, 11, 11, 11, 11, 11, 11, 11, 11, 12, 12, 12, 12, 12, 12, 13,\n",
       "       13, 13, 13, 13, 13, 13, 13, 13, 13, 13, 13, 13, 13, 13, 13, 13],\n",
       "      dtype=int32)"
      ]
     },
     "execution_count": 5,
     "metadata": {},
     "output_type": "execute_result"
    }
   ],
   "source": [
    "lattice"
   ]
  },
  {
   "cell_type": "code",
   "execution_count": 14,
   "id": "1aa0f144-b485-4aa0-8537-acf9c93b955c",
   "metadata": {},
   "outputs": [
    {
     "data": {
      "text/plain": [
       "'test=12'"
      ]
     },
     "execution_count": 14,
     "metadata": {},
     "output_type": "execute_result"
    }
   ],
   "source": [
    "f\"test={12}\""
   ]
  },
  {
   "cell_type": "code",
   "execution_count": 6,
   "id": "635558e5-a6d0-4b62-91ff-ec70420d7351",
   "metadata": {},
   "outputs": [],
   "source": [
    "pvals = np.arange(.01,1,.05)\n",
    "trials=1000\n",
    "R=50\n",
    "avg_cluster_size = np.zeros(len(pvals))\n",
    "errs = np.zeros(len(pvals))\n",
    "for idx, p in enumerate(pvals):\n",
    "    data=[np.count_nonzero(generate_cluster(p,R)>0) for _ in range(trials)]\n",
    "    avg_cluster_size[idx] = np.mean(data)\n",
    "    errs[idx] = np.std(data)"
   ]
  },
  {
   "cell_type": "code",
   "execution_count": null,
   "id": "b60b44b1-0b01-4b34-9ebe-802ff75f0bc3",
   "metadata": {},
   "outputs": [
    {
     "data": {
      "image/png": "[encoded data removed]",
      "text/plain": [
       "<Figure size 640x480 with 1 Axes>"
      ]
     },
     "metadata": {},
     "output_type": "display_data"
    }
   ],
   "source": [
    "ax=plt.axes()\n",
    "ax.scatter(pvals, avg_cluster_size, yerr=errs,linestyle='',marker='o')\n",
    "ax.set_xscale(\"log\")\n",
    "ax.set_yscale(\"log\")\n",
    "plt.xlabel(\"Bond \")\n",
    "plt.show()"
   ]
  },
  {
   "cell_type": "code",
   "execution_count": 8,
   "id": "379c284a-979e-4190-b5e3-8d2f74d82fb6",
   "metadata": {},
   "outputs": [
    {
     "data": {
      "image/png": "[encoded data removed]",
      "text/plain": [
       "<Figure size 640x480 with 1 Axes>"
      ]
     },
     "metadata": {},
     "output_type": "display_data"
    }
   ],
   "source": [
    "plt.scatter(pvals, avg_cluster_size, linestyle='',marker='o')\n",
    "plt.xlabel(\"Bond Cutting Probability\")\n",
    "plt.ylabel(\"Average Cluster Size\")\n",
    "plt.show()"
   ]
  },
  {
   "cell_type": "code",
   "execution_count": null,
   "id": "fe60f0aa-15af-4ce0-8ec6-1500fdbb433a",
   "metadata": {},
   "outputs": [],
   "source": []
  },
  {
   "cell_type": "code",
   "execution_count": 9,
   "id": "13925ae1-ee1b-4d4e-a6ea-32dc2aa1054d",
   "metadata": {},
   "outputs": [
    {
     "data": {
      "text/plain": [
       "<matplotlib.image.AxesImage at 0x1fc91b8c3a0>"
      ]
     },
     "execution_count": 9,
     "metadata": {},
     "output_type": "execute_result"
    },
    {
     "data": {
      "image/png": "[encoded data removed]",
      "text/plain": [
       "<Figure size 1600x200 with 1 Axes>"
      ]
     },
     "metadata": {},
     "output_type": "display_data"
    }
   ],
   "source": [
    "plt.matshow([lattice])"
   ]
  },
  {
   "cell_type": "code",
   "execution_count": null,
   "id": "a351a0a8-e2e6-4f16-991d-98309357bc60",
   "metadata": {},
   "outputs": [],
   "source": []
  },
  {
   "cell_type": "code",
   "execution_count": null,
   "id": "6b95dfb3-f4a6-431d-8a0b-54c1e445298d",
   "metadata": {},
   "outputs": [],
   "source": []
  }
 ],
 "metadata": {
  "kernelspec": {
   "display_name": "qeg-env",
   "language": "python",
   "name": "python3"
  },
  "language_info": {
   "codemirror_mode": {
    "name": "ipython",
    "version": 3
   },
   "file_extension": ".py",
   "mimetype": "text/x-python",
   "name": "python",
   "nbconvert_exporter": "python",
   "pygments_lexer": "ipython3",
   "version": "3.12.3"
  }
 },
 "nbformat": 4,
 "nbformat_minor": 5
}
