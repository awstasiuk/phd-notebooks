{
 "cells": [
  {
   "cell_type": "code",
   "execution_count": 1,
   "id": "27be6227",
   "metadata": {},
   "outputs": [],
   "source": [
    "import numpy as np\n",
    "import nmresearch as nmr\n",
    "import matplotlib.pyplot as plt\n",
    "from pfapack import pfaffian as pfa\n",
    "import scipy as sp\n",
    "import pickle\n",
    "\n",
    "from timeit import default_timer as timer"
   ]
  },
  {
   "cell_type": "code",
   "execution_count": 2,
   "id": "07c88fd6",
   "metadata": {},
   "outputs": [],
   "source": [
    "n=30"
   ]
  },
  {
   "cell_type": "code",
   "execution_count": 4,
   "id": "26b0e311",
   "metadata": {},
   "outputs": [],
   "source": [
    "dq = nmr.Operator.double_quantum(n)\n",
    "Z = nmr.Operator.global_Z(n)\n",
    "time_evo = nmr.Unitary(dq,.05, 2.05)"
   ]
  },
  {
   "cell_type": "code",
   "execution_count": 5,
   "id": "0f8ad931",
   "metadata": {},
   "outputs": [],
   "source": [
    "center = int(n/2)\n",
    "pauli_pairs = [[\"X\",\"X\"], [\"Y\",\"Y\"], [\"Z\",\"Z\"]]"
   ]
  },
  {
   "cell_type": "code",
   "execution_count": 6,
   "id": "fba5d996",
   "metadata": {},
   "outputs": [],
   "source": [
    "def d_weight(pauli):\n",
    "    weight = 1\n",
    "    if pauli[0] != \"Z\":\n",
    "        weight *= -.5\n",
    "    if pauli[2] != \"Z\":\n",
    "        weight *= -.5\n",
    "    return weight"
   ]
  },
  {
   "cell_type": "code",
   "execution_count": 8,
   "id": "e7a384fc",
   "metadata": {},
   "outputs": [
    {
     "name": "stdout",
     "output_type": "stream",
     "text": [
      "6648.1795228\n"
     ]
    }
   ],
   "source": [
    "start = timer()\n",
    "dip_corr_nn = np.zeros(len(time_evo.t))\n",
    "for a in range(n-1):\n",
    "    for c in range(n-1):\n",
    "        val = np.zeros(len(time_evo.t),dtype=np.complex128)\n",
    "        for pair1 in pauli_pairs:\n",
    "            for pair2 in pauli_pairs:\n",
    "                term = pair1+pair2\n",
    "                pstring = nmr.PauliString(term, [a,a+1,c,c+1], [True,True,False,False])\n",
    "                val = val +  (d_weight(term) * time_evo.pauli_string_expectation(pstring))\n",
    "        dip_corr_nn = dip_corr_nn + (2/(1**3)) * (2/(1**3)) * val\n",
    "end = timer()\n",
    "print(end-start)"
   ]
  },
  {
   "cell_type": "code",
   "execution_count": 9,
   "id": "56f45883",
   "metadata": {
    "scrolled": true
   },
   "outputs": [
    {
     "name": "stderr",
     "output_type": "stream",
     "text": [
      "C:\\Users\\awsta\\Documents\\workspace\\qeg-env\\lib\\site-packages\\matplotlib\\cbook\\__init__.py:1298: ComplexWarning: Casting complex values to real discards the imaginary part\n",
      "  return np.asarray(x, float)\n"
     ]
    },
    {
     "data": {
      "image/png": "[encoded data removed]",
      "text/plain": [
       "<Figure size 432x288 with 1 Axes>"
      ]
     },
     "metadata": {
      "needs_background": "light"
     },
     "output_type": "display_data"
    }
   ],
   "source": [
    "fig, ax = plt.subplots()\n",
    "ax.set_title('<Dz(t)Dz>, H=DQ, N=30 (Nearest Neighbor)')\n",
    "c = ax.plot(time_evo.t, [sig/n for sig in dip_corr_nn],'b', time_evo.t, [0 for _ in dip_corr_nn], 'g')\n",
    "ax.legend(['<Dz(t)Dz>', '0'])\n",
    "ax.set_xlabel('J t')\n",
    "plt.savefig(\"DzDz_tpc.png\")\n",
    "plt.show()"
   ]
  },
  {
   "cell_type": "code",
   "execution_count": 10,
   "id": "bc136439",
   "metadata": {},
   "outputs": [],
   "source": [
    "with open('dzdz_nn_tpc.dat', 'wb') as fi:\n",
    "    pickle.dump(dip_corr_nn, fi)"
   ]
  },
  {
   "cell_type": "code",
   "execution_count": 16,
   "id": "583c897d",
   "metadata": {},
   "outputs": [
    {
     "name": "stdout",
     "output_type": "stream",
     "text": [
      "3435.230947799999\n"
     ]
    }
   ],
   "source": [
    "start = timer()\n",
    "dip_corr_nnn = np.zeros(len(time_evo.t))\n",
    "for a in range(n-2):\n",
    "    for c in range(n-2):\n",
    "        val = np.zeros(len(time_evo.t),dtype=np.complex128)\n",
    "        for pair1 in pauli_pairs:\n",
    "            for pair2 in pauli_pairs:\n",
    "                term = pair1+pair2\n",
    "                pstring = f.PauliString(term, [a,a+2,c,c+2], [True,True,False,False])\n",
    "                val = val +  (d_weight(term) * time_evo.pauli_string_expectation(pstring))\n",
    "        dip_corr_nnn = dip_corr_nnn + (2/(2**3)) * (2/(2**3)) * val\n",
    "end = timer()\n",
    "print(end-start)"
   ]
  },
  {
   "cell_type": "code",
   "execution_count": 18,
   "id": "81c8a453",
   "metadata": {},
   "outputs": [],
   "source": [
    "with open('dzdz_nnn_tpc.dat', 'wb') as fi:\n",
    "    pickle.dump(dip_corr_nnn, fi)"
   ]
  },
  {
   "cell_type": "code",
   "execution_count": 6,
   "id": "a1eba1e8",
   "metadata": {},
   "outputs": [
    {
     "name": "stdout",
     "output_type": "stream",
     "text": [
      "3650.7571033\n"
     ]
    }
   ],
   "source": [
    "start = timer()\n",
    "dip_corr_snn1 = np.zeros(len(time_evo.t))\n",
    "for a in range(n-2):\n",
    "    for c in range(n-1):\n",
    "        val = np.zeros(len(time_evo.t),dtype=np.complex128)\n",
    "        for pair1 in pauli_pairs:\n",
    "            for pair2 in pauli_pairs:\n",
    "                term = pair1+pair2\n",
    "                pstring = f.PauliString(term, [a,a+2,c,c+1], [True,True,False,False])\n",
    "                val = val +  (d_weight(term) * time_evo.pauli_string_expectation(pstring))\n",
    "        dip_corr_snn1 = dip_corr_snn1 + (2/(1**3)) * (2/(2**3)) * val\n",
    "end = timer()\n",
    "print(end-start)"
   ]
  },
  {
   "cell_type": "code",
   "execution_count": 7,
   "id": "d6317358",
   "metadata": {},
   "outputs": [
    {
     "name": "stdout",
     "output_type": "stream",
     "text": [
      "3539.1046917999997\n"
     ]
    }
   ],
   "source": [
    "start = timer()\n",
    "dip_corr_snn2 = np.zeros(len(time_evo.t))\n",
    "for a in range(n-1):\n",
    "    for c in range(n-2):\n",
    "        val = np.zeros(len(time_evo.t),dtype=np.complex128)\n",
    "        for pair1 in pauli_pairs:\n",
    "            for pair2 in pauli_pairs:\n",
    "                term = pair1+pair2\n",
    "                pstring = f.PauliString(term, [a,a+1,c,c+2], [True,True,False,False])\n",
    "                val = val +  (d_weight(term) * time_evo.pauli_string_expectation(pstring))\n",
    "        dip_corr_snn2 = dip_corr_snn2 + (2/(1**3)) * (2/(2**3)) * val\n",
    "end = timer()\n",
    "print(end-start)"
   ]
  },
  {
   "cell_type": "code",
   "execution_count": 8,
   "id": "7ba6fe14",
   "metadata": {},
   "outputs": [],
   "source": [
    "dip_corr_snn = [val1+val2 for val1,val2 in zip(dip_corr_snn1, dip_corr_snn2)]"
   ]
  },
  {
   "cell_type": "code",
   "execution_count": 11,
   "id": "b13519ec",
   "metadata": {},
   "outputs": [],
   "source": [
    "with open('dzdz_snn_tpc.dat', 'wb') as fi:\n",
    "    pickle.dump(dip_corr_snn, fi)"
   ]
  },
  {
   "cell_type": "code",
   "execution_count": null,
   "id": "9ac3c1e6",
   "metadata": {},
   "outputs": [],
   "source": [
    "with open('dzdz_nn_tpc.dat', 'rb') as fi:\n",
    "    dip_corr_nn = pickle.load(fi)"
   ]
  },
  {
   "cell_type": "code",
   "execution_count": 26,
   "id": "9180b703",
   "metadata": {},
   "outputs": [],
   "source": [
    "with open('dzdz_nnn_tpc.dat', 'rb') as fi:\n",
    "    dip_corr_nnn = pickle.load(fi)"
   ]
  },
  {
   "cell_type": "code",
   "execution_count": null,
   "id": "7475cfe1",
   "metadata": {},
   "outputs": [],
   "source": [
    "with open('dzdz_snn_tpc.dat', 'rb') as fi:\n",
    "    dip_corr_snn = pickle.load(fi)"
   ]
  },
  {
   "cell_type": "code",
   "execution_count": null,
   "id": "88826d2e",
   "metadata": {},
   "outputs": [],
   "source": []
  },
  {
   "cell_type": "code",
   "execution_count": 27,
   "id": "b85fe8d4",
   "metadata": {},
   "outputs": [
    {
     "data": {
      "image/png": "[encoded data removed]",
      "text/plain": [
       "<Figure size 432x288 with 1 Axes>"
      ]
     },
     "metadata": {
      "needs_background": "light"
     },
     "output_type": "display_data"
    }
   ],
   "source": [
    "fig, ax = plt.subplots()\n",
    "ax.set_title('<Dz(t)Dz>, H=DQ, N=30 (Nearest & Next-Nearest Neighbor)')\n",
    "c = ax.plot(time_evo.t, [(v1+v2+v3)/n for v1,v2,v3 in zip(dip_corr_nn, dip_corr_nnn, dip_corr_snn)],'b', time_evo.t, [0 for _ in dip_corr_nn], 'g')\n",
    "ax.legend(['<Dz(t)Dz>', '0'])\n",
    "ax.set_xlabel('J t')\n",
    "plt.savefig(\"DzDz_tpc.png\")\n",
    "plt.show()"
   ]
  },
  {
   "cell_type": "code",
   "execution_count": 28,
   "id": "05d9e438",
   "metadata": {},
   "outputs": [
    {
     "data": {
      "image/png": "[encoded data removed]",
      "text/plain": [
       "<Figure size 432x288 with 1 Axes>"
      ]
     },
     "metadata": {
      "needs_background": "light"
     },
     "output_type": "display_data"
    }
   ],
   "source": [
    "fig, ax = plt.subplots()\n",
    "ax.set_title('<Dz(t)Dz>, H=DQ, N=30 (Next-Nearest Neighbor Only)')\n",
    "c = ax.plot(time_evo.t, [(v1+v2)/n for v1,v2 in zip(dip_corr_nnn, dip_corr_snn)],'b', time_evo.t, [0 for _ in dip_corr_nn], 'g')\n",
    "ax.legend(['<Dz(t)Dz>', '0'])\n",
    "ax.set_xlabel('J t')\n",
    "plt.savefig(\"DzDz_tpc_nnn.png\")\n",
    "plt.show()"
   ]
  },
  {
   "cell_type": "code",
   "execution_count": 13,
   "id": "c7ebeb32",
   "metadata": {},
   "outputs": [],
   "source": [
    "a = int(n/2)\n",
    "c = int(n/2)\n",
    "test = np.zeros(len(time_evo.t),dtype=np.complex128)\n",
    "for c in range(n-1):\n",
    "    val = np.zeros(len(time_evo.t),dtype=np.complex128)\n",
    "    for pair1 in pauli_pairs:\n",
    "        for pair2 in pauli_pairs:\n",
    "            term = pair1+pair2\n",
    "            pstring = nmr.PauliString(term, [a,a+1,c,c+1], [True,True,False,False])\n",
    "            val = val +  (d_weight(term) * time_evo.pauli_string_expectation(pstring))\n",
    "    test = test + (2/(1**3)) * (2/(1**3)) * val"
   ]
  },
  {
   "cell_type": "code",
   "execution_count": 14,
   "id": "a17a9c41",
   "metadata": {},
   "outputs": [
    {
     "data": {
      "image/png": "[encoded data removed]",
      "text/plain": [
       "<Figure size 432x288 with 1 Axes>"
      ]
     },
     "metadata": {
      "needs_background": "light"
     },
     "output_type": "display_data"
    }
   ],
   "source": [
    "fig, ax = plt.subplots()\n",
    "ax.set_title('<Dz(t)Dz>, H=DQ, N=30 (Symmetry Enhanced)')\n",
    "c = ax.plot(time_evo.t, test,'b', time_evo.t, [0 for _ in dip_corr_nn], 'g')\n",
    "ax.legend(['<Dz(t)Dz>', '0'])\n",
    "ax.set_xlabel('J t')\n",
    "plt.savefig(\"DzDz_tpc_sym.png\")\n",
    "plt.show()"
   ]
  },
  {
   "cell_type": "code",
   "execution_count": null,
   "id": "1340eaaf",
   "metadata": {},
   "outputs": [],
   "source": []
  }
 ],
 "metadata": {
  "kernelspec": {
   "display_name": "Python 3 (ipykernel)",
   "language": "python",
   "name": "python3"
  },
  "language_info": {
   "codemirror_mode": {
    "name": "ipython",
    "version": 3
   },
   "file_extension": ".py",
   "mimetype": "text/x-python",
   "name": "python",
   "nbconvert_exporter": "python",
   "pygments_lexer": "ipython3",
   "version": "3.9.7"
  }
 },
 "nbformat": 4,
 "nbformat_minor": 5
}
