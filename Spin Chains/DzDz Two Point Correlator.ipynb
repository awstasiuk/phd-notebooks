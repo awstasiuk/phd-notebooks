{
 "cells": [
  {
   "cell_type": "code",
   "execution_count": 1,
   "id": "27be6227",
   "metadata": {},
   "outputs": [],
   "source": [
    "import numpy as np\n",
    "import fermion as f\n",
    "import matplotlib.pyplot as plt\n",
    "from fermion import Math as fm\n",
    "from pfapack import pfaffian as pfa\n",
    "import scipy as sp\n",
    "\n",
    "from timeit import default_timer as timer"
   ]
  },
  {
   "cell_type": "code",
   "execution_count": 2,
   "id": "07c88fd6",
   "metadata": {},
   "outputs": [],
   "source": [
    "n=30"
   ]
  },
  {
   "cell_type": "code",
   "execution_count": 3,
   "id": "26b0e311",
   "metadata": {},
   "outputs": [],
   "source": [
    "dq = f.Operator.double_quantum(n)\n",
    "Z = f.Operator.global_Z(n)\n",
    "time_evo = f.Unitary(dq,.05, 2.05)"
   ]
  },
  {
   "cell_type": "code",
   "execution_count": 4,
   "id": "0f8ad931",
   "metadata": {},
   "outputs": [],
   "source": [
    "center = int(n/2)\n",
    "pauli_pairs = [[\"X\",\"X\"], [\"Y\",\"Y\"], [\"Z\",\"Z\"]]"
   ]
  },
  {
   "cell_type": "code",
   "execution_count": 5,
   "id": "fba5d996",
   "metadata": {},
   "outputs": [],
   "source": [
    "def d_weight(pauli):\n",
    "    weight = 1\n",
    "    if pauli[0] != \"Z\":\n",
    "        weight *= -.5\n",
    "    if pauli[2] != \"Z\":\n",
    "        weight *= -.5\n",
    "    return weight"
   ]
  },
  {
   "cell_type": "code",
   "execution_count": 6,
   "id": "e7a384fc",
   "metadata": {},
   "outputs": [
    {
     "name": "stderr",
     "output_type": "stream",
     "text": [
      "C:\\Users\\awsta\\Documents\\workspace\\qeg-env\\lib\\site-packages\\pfapack\\pfaffian.py:301: RuntimeWarning: invalid value encountered in true_divide\n",
      "  tau = tau / A[k, k + 1]\n",
      "C:\\Users\\awsta\\Documents\\workspace\\qeg-env\\lib\\site-packages\\pfapack\\pfaffian.py:301: RuntimeWarning: divide by zero encountered in true_divide\n",
      "  tau = tau / A[k, k + 1]\n",
      "C:\\Users\\awsta\\Documents\\workspace\\qeg-env\\lib\\site-packages\\numpy\\core\\numeric.py:936: RuntimeWarning: invalid value encountered in multiply\n",
      "  return multiply(a.ravel()[:, newaxis], b.ravel()[newaxis, :], out)\n",
      "C:\\Users\\awsta\\Documents\\workspace\\qeg-env\\lib\\site-packages\\pfapack\\pfaffian.py:310: RuntimeWarning: invalid value encountered in subtract\n",
      "  A[k + 2 :, k + 2 :] = A[k + 2 :, k + 2 :] - np.outer(\n"
     ]
    },
    {
     "ename": "KeyboardInterrupt",
     "evalue": "",
     "output_type": "error",
     "traceback": [
      "\u001b[1;31m---------------------------------------------------------------------------\u001b[0m",
      "\u001b[1;31mKeyboardInterrupt\u001b[0m                         Traceback (most recent call last)",
      "Input \u001b[1;32mIn [6]\u001b[0m, in \u001b[0;36m<cell line: 3>\u001b[1;34m()\u001b[0m\n\u001b[0;32m     10\u001b[0m                         term \u001b[38;5;241m=\u001b[39m pair1\u001b[38;5;241m+\u001b[39mpair2\n\u001b[0;32m     11\u001b[0m                         pstring \u001b[38;5;241m=\u001b[39m f\u001b[38;5;241m.\u001b[39mPauliString(term, [a,b,c,d], [\u001b[38;5;28;01mTrue\u001b[39;00m,\u001b[38;5;28;01mTrue\u001b[39;00m,\u001b[38;5;28;01mFalse\u001b[39;00m,\u001b[38;5;28;01mFalse\u001b[39;00m])\n\u001b[1;32m---> 12\u001b[0m                         val \u001b[38;5;241m=\u001b[39m val \u001b[38;5;241m+\u001b[39m  (d_weight(term) \u001b[38;5;241m*\u001b[39m \u001b[43mtime_evo\u001b[49m\u001b[38;5;241;43m.\u001b[39;49m\u001b[43mpauli_string_expectation\u001b[49m\u001b[43m(\u001b[49m\u001b[43mpstring\u001b[49m\u001b[43m)\u001b[49m)\n\u001b[0;32m     13\u001b[0m                 dip_corr \u001b[38;5;241m=\u001b[39m dip_corr \u001b[38;5;241m+\u001b[39m (\u001b[38;5;241m2\u001b[39m\u001b[38;5;241m/\u001b[39m(\u001b[38;5;28mabs\u001b[39m(a\u001b[38;5;241m-\u001b[39mb)\u001b[38;5;241m*\u001b[39m\u001b[38;5;241m*\u001b[39m\u001b[38;5;241m3\u001b[39m)) \u001b[38;5;241m*\u001b[39m (\u001b[38;5;241m2\u001b[39m\u001b[38;5;241m/\u001b[39m(\u001b[38;5;28mabs\u001b[39m(c\u001b[38;5;241m-\u001b[39md)\u001b[38;5;241m*\u001b[39m\u001b[38;5;241m*\u001b[39m\u001b[38;5;241m3\u001b[39m)) \u001b[38;5;241m*\u001b[39m val\n\u001b[0;32m     14\u001b[0m end \u001b[38;5;241m=\u001b[39m timer()\n",
      "File \u001b[1;32mc:\\users\\awsta\\documents\\workspace\\mit\\mit-phd\\fermion\\unitary.py:237\u001b[0m, in \u001b[0;36mUnitary.pauli_string_expectation\u001b[1;34m(self, pauli_string)\u001b[0m\n\u001b[0;32m    228\u001b[0m \u001b[38;5;28;01mdef\u001b[39;00m \u001b[38;5;21mpauli_string_expectation\u001b[39m(\u001b[38;5;28mself\u001b[39m, pauli_string):\n\u001b[0;32m    229\u001b[0m     \u001b[38;5;124mr\u001b[39m\u001b[38;5;124;03m\"\"\"\u001b[39;00m\n\u001b[0;32m    230\u001b[0m \u001b[38;5;124;03m    Compute the infinite temperature expectation value for the (possibly) out of time\u001b[39;00m\n\u001b[0;32m    231\u001b[0m \u001b[38;5;124;03m    order local pauli string of operators in ``pauli_string'', on this instance's time mesh.\u001b[39;00m\n\u001b[1;32m   (...)\u001b[0m\n\u001b[0;32m    234\u001b[0m \u001b[38;5;124;03m    so only a submatrix of two body correlations within the many-body string need to be computed.\u001b[39;00m\n\u001b[0;32m    235\u001b[0m \u001b[38;5;124;03m    \"\"\"\u001b[39;00m\n\u001b[0;32m    236\u001b[0m     \u001b[38;5;28;01mreturn\u001b[39;00m np\u001b[38;5;241m.\u001b[39marray(\n\u001b[1;32m--> 237\u001b[0m         [\u001b[38;5;28mself\u001b[39m\u001b[38;5;241m.\u001b[39m_pfaffian_helper(pauli_string, t) \u001b[38;5;28;01mfor\u001b[39;00m t \u001b[38;5;129;01min\u001b[39;00m \u001b[38;5;28mself\u001b[39m\u001b[38;5;241m.\u001b[39mt],\n\u001b[0;32m    238\u001b[0m         dtype\u001b[38;5;241m=\u001b[39mnp\u001b[38;5;241m.\u001b[39mcomplex128,\n\u001b[0;32m    239\u001b[0m     )\n",
      "File \u001b[1;32mc:\\users\\awsta\\documents\\workspace\\mit\\mit-phd\\fermion\\unitary.py:237\u001b[0m, in \u001b[0;36m<listcomp>\u001b[1;34m(.0)\u001b[0m\n\u001b[0;32m    228\u001b[0m \u001b[38;5;28;01mdef\u001b[39;00m \u001b[38;5;21mpauli_string_expectation\u001b[39m(\u001b[38;5;28mself\u001b[39m, pauli_string):\n\u001b[0;32m    229\u001b[0m     \u001b[38;5;124mr\u001b[39m\u001b[38;5;124;03m\"\"\"\u001b[39;00m\n\u001b[0;32m    230\u001b[0m \u001b[38;5;124;03m    Compute the infinite temperature expectation value for the (possibly) out of time\u001b[39;00m\n\u001b[0;32m    231\u001b[0m \u001b[38;5;124;03m    order local pauli string of operators in ``pauli_string'', on this instance's time mesh.\u001b[39;00m\n\u001b[1;32m   (...)\u001b[0m\n\u001b[0;32m    234\u001b[0m \u001b[38;5;124;03m    so only a submatrix of two body correlations within the many-body string need to be computed.\u001b[39;00m\n\u001b[0;32m    235\u001b[0m \u001b[38;5;124;03m    \"\"\"\u001b[39;00m\n\u001b[0;32m    236\u001b[0m     \u001b[38;5;28;01mreturn\u001b[39;00m np\u001b[38;5;241m.\u001b[39marray(\n\u001b[1;32m--> 237\u001b[0m         [\u001b[38;5;28;43mself\u001b[39;49m\u001b[38;5;241;43m.\u001b[39;49m\u001b[43m_pfaffian_helper\u001b[49m\u001b[43m(\u001b[49m\u001b[43mpauli_string\u001b[49m\u001b[43m,\u001b[49m\u001b[43m \u001b[49m\u001b[43mt\u001b[49m\u001b[43m)\u001b[49m \u001b[38;5;28;01mfor\u001b[39;00m t \u001b[38;5;129;01min\u001b[39;00m \u001b[38;5;28mself\u001b[39m\u001b[38;5;241m.\u001b[39mt],\n\u001b[0;32m    238\u001b[0m         dtype\u001b[38;5;241m=\u001b[39mnp\u001b[38;5;241m.\u001b[39mcomplex128,\n\u001b[0;32m    239\u001b[0m     )\n",
      "File \u001b[1;32mc:\\users\\awsta\\documents\\workspace\\mit\\mit-phd\\fermion\\unitary.py:270\u001b[0m, in \u001b[0;36mUnitary._pfaffian_helper\u001b[1;34m(self, pauli_string, t)\u001b[0m\n\u001b[0;32m    264\u001b[0m idx2 \u001b[38;5;241m=\u001b[39m maj_str\u001b[38;5;241m.\u001b[39msites[j] \u001b[38;5;241m+\u001b[39m \u001b[38;5;28mself\u001b[39m\u001b[38;5;241m.\u001b[39mn_fermion \u001b[38;5;241m*\u001b[39m \u001b[38;5;28mint\u001b[39m(\n\u001b[0;32m    265\u001b[0m     maj_str\u001b[38;5;241m.\u001b[39mmajoranas[j] \u001b[38;5;241m==\u001b[39m \u001b[38;5;124m\"\u001b[39m\u001b[38;5;124mB\u001b[39m\u001b[38;5;124m\"\u001b[39m\n\u001b[0;32m    266\u001b[0m )\n\u001b[0;32m    268\u001b[0m \u001b[38;5;28;01mif\u001b[39;00m maj_str\u001b[38;5;241m.\u001b[39mevo_bools[i] \u001b[38;5;241m==\u001b[39m maj_str\u001b[38;5;241m.\u001b[39mevo_bools[j]:\n\u001b[0;32m    269\u001b[0m     \u001b[38;5;66;03m# Case where both operators are evolved or neither are evolved (static case)\u001b[39;00m\n\u001b[1;32m--> 270\u001b[0m     pf_mat[i, j] \u001b[38;5;241m=\u001b[39m \u001b[38;5;241m0.5\u001b[39m \u001b[38;5;241m*\u001b[39m \u001b[38;5;28;43mint\u001b[39;49m\u001b[43m(\u001b[49m\u001b[43midx1\u001b[49m\u001b[43m \u001b[49m\u001b[38;5;241;43m==\u001b[39;49m\u001b[43m \u001b[49m\u001b[43midx2\u001b[49m\u001b[43m)\u001b[49m\n\u001b[0;32m    271\u001b[0m \u001b[38;5;28;01melse\u001b[39;00m:\n\u001b[0;32m    272\u001b[0m     \u001b[38;5;66;03m# case where one only one operator is evolved (dynamic case)\u001b[39;00m\n\u001b[0;32m    273\u001b[0m     \u001b[38;5;28;01mif\u001b[39;00m maj_str\u001b[38;5;241m.\u001b[39mevo_bools[i]:\n\u001b[0;32m    274\u001b[0m         \u001b[38;5;66;03m# subcase where the first operator is evolved\u001b[39;00m\n",
      "\u001b[1;31mKeyboardInterrupt\u001b[0m: "
     ]
    }
   ],
   "source": [
    "start = timer()\n",
    "dip_corr = np.zeros(len(time_evo.t))\n",
    "for a in range(n):\n",
    "    for b in range(a):\n",
    "        for c in range(n):\n",
    "            for d in range(c):\n",
    "                val = np.zeros(len(time_evo.t),dtype=np.complex128)\n",
    "                for pair1 in pauli_pairs:\n",
    "                    for pair2 in pauli_pairs:\n",
    "                        term = pair1+pair2\n",
    "                        pstring = f.PauliString(term, [a,b,c,d], [True,True,False,False])\n",
    "                        val = val +  (d_weight(term) * time_evo.pauli_string_expectation(pstring))\n",
    "                dip_corr = dip_corr + (2/(abs(a-b)**3)) * (2/(abs(c-d)**3)) * val\n",
    "end = timer()\n",
    "print(end-start)"
   ]
  },
  {
   "cell_type": "code",
   "execution_count": null,
   "id": "56f45883",
   "metadata": {
    "scrolled": true
   },
   "outputs": [],
   "source": [
    "fig, ax = plt.subplots()\n",
    "ax.set_title('<Dz(t)Dz>, H=DQ, N=30')\n",
    "c = ax.plot(time_evo.t, [sig/n for sig in dip_corr],'b', time_evo.t, [0 for _ in dip_corr], 'g')\n",
    "ax.legend(['<Dz(t)Dz>', '0'])\n",
    "ax.set_xlabel('J t')\n",
    "plt.savefig(\"DzDz_tpc.png\")\n",
    "plt.show()"
   ]
  },
  {
   "cell_type": "code",
   "execution_count": null,
   "id": "4f52af1a",
   "metadata": {},
   "outputs": [],
   "source": []
  },
  {
   "cell_type": "code",
   "execution_count": null,
   "id": "4b413d1d",
   "metadata": {},
   "outputs": [],
   "source": [
    "import pickle"
   ]
  },
  {
   "cell_type": "code",
   "execution_count": null,
   "id": "bc136439",
   "metadata": {},
   "outputs": [],
   "source": [
    "with open('dzdz_tpc.dat', 'wb') as f:\n",
    "    pickle.dump(dip_corr, f)"
   ]
  },
  {
   "cell_type": "code",
   "execution_count": null,
   "id": "dc409d6e",
   "metadata": {},
   "outputs": [],
   "source": []
  }
 ],
 "metadata": {
  "kernelspec": {
   "display_name": "Python 3 (ipykernel)",
   "language": "python",
   "name": "python3"
  },
  "language_info": {
   "codemirror_mode": {
    "name": "ipython",
    "version": 3
   },
   "file_extension": ".py",
   "mimetype": "text/x-python",
   "name": "python",
   "nbconvert_exporter": "python",
   "pygments_lexer": "ipython3",
   "version": "3.9.7"
  }
 },
 "nbformat": 4,
 "nbformat_minor": 5
}
