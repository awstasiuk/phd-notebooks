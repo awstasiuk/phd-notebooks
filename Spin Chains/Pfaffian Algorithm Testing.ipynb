{
 "cells": [
  {
   "cell_type": "code",
   "execution_count": 1,
   "id": "05627497",
   "metadata": {},
   "outputs": [],
   "source": [
    "from pfapack import pfaffian as pf"
   ]
  },
  {
   "cell_type": "code",
   "execution_count": 2,
   "id": "84695d91",
   "metadata": {},
   "outputs": [],
   "source": [
    "import numpy as np"
   ]
  },
  {
   "cell_type": "code",
   "execution_count": 3,
   "id": "a2672bba",
   "metadata": {},
   "outputs": [],
   "source": [
    "from scipy import linalg as la"
   ]
  },
  {
   "cell_type": "code",
   "execution_count": 4,
   "id": "32f4bee9",
   "metadata": {},
   "outputs": [],
   "source": [
    "from timeit import default_timer as timer\n"
   ]
  },
  {
   "cell_type": "code",
   "execution_count": 26,
   "id": "04cd2faf",
   "metadata": {},
   "outputs": [],
   "source": [
    "n = 102"
   ]
  },
  {
   "cell_type": "code",
   "execution_count": 32,
   "id": "2d828e05",
   "metadata": {},
   "outputs": [],
   "source": [
    "def pfaffian_real(mat):\n",
    "    pre = 1 if (n/2) % 2 == 0 else 1j\n",
    "    sigy_id = np.kron([[0, -1j], [1j, 0]], np.eye(int(n/2)))\n",
    "    arg = np.sum(np.log(np.linalg.eigvals(sigy_id.transpose() @ mat)))\n",
    "    return pre * np.exp(0.5 * arg)"
   ]
  },
  {
   "cell_type": "code",
   "execution_count": 33,
   "id": "7968ce23",
   "metadata": {},
   "outputs": [
    {
     "name": "stdout",
     "output_type": "stream",
     "text": [
      "3.72002636557551e+19 3.7200263655755325e+19 3.720026365575783e+19 (3.720026365575485e+19-120772.58959142094j)\n"
     ]
    }
   ],
   "source": [
    "A = np.random.rand(n,n)\n",
    "A = A - A.T\n",
    "pfa1 = pf.pfaffian(A)\n",
    "pfa2 = pf.pfaffian(A, method=\"H\")\n",
    "pfa3 = pf.pfaffian_schur(A)\n",
    "pfa4 = pfaffian_real(A)\n",
    "\n",
    "print(pfa1, pfa2, pfa3, pfa4)"
   ]
  },
  {
   "cell_type": "code",
   "execution_count": 35,
   "id": "f0404aa8",
   "metadata": {},
   "outputs": [
    {
     "data": {
      "text/plain": [
       "14.488577639451291"
      ]
     },
     "execution_count": 35,
     "metadata": {},
     "output_type": "execute_result"
    }
   ],
   "source": [
    "np.log10(-np.real(pfa4)/np.imag(pfa4))"
   ]
  },
  {
   "cell_type": "code",
   "execution_count": 8,
   "id": "7d093005",
   "metadata": {},
   "outputs": [],
   "source": [
    "iters=1000"
   ]
  },
  {
   "cell_type": "code",
   "execution_count": 9,
   "id": "566a54eb",
   "metadata": {},
   "outputs": [
    {
     "name": "stdout",
     "output_type": "stream",
     "text": [
      "16.149542699999998\n"
     ]
    }
   ],
   "source": [
    "start = timer()\n",
    "for _ in range(iters): \n",
    "    A = np.random.rand(100,100)\n",
    "    A = A - A.T\n",
    "    test(A)\n",
    "end = timer()\n",
    "print(end-start)"
   ]
  },
  {
   "cell_type": "code",
   "execution_count": 10,
   "id": "79263b1d",
   "metadata": {},
   "outputs": [
    {
     "name": "stdout",
     "output_type": "stream",
     "text": [
      "2.0957985999999984\n"
     ]
    }
   ],
   "source": [
    "start = timer()\n",
    "for _ in range(iters): \n",
    "    A = np.random.rand(100,100)\n",
    "    A = A - A.T\n",
    "    pf.pfaffian(A)\n",
    "end = timer()\n",
    "print(end-start)"
   ]
  },
  {
   "cell_type": "code",
   "execution_count": 11,
   "id": "7e000714",
   "metadata": {},
   "outputs": [
    {
     "name": "stdout",
     "output_type": "stream",
     "text": [
      "5.5860772999999995\n"
     ]
    }
   ],
   "source": [
    "start = timer()\n",
    "for _ in range(iters): \n",
    "    A = np.random.rand(100,100)\n",
    "    A = A - A.T\n",
    "    pf.pfaffian(A, method=\"H\")\n",
    "end = timer()\n",
    "print(end-start)"
   ]
  },
  {
   "cell_type": "code",
   "execution_count": 12,
   "id": "135146db",
   "metadata": {},
   "outputs": [
    {
     "name": "stdout",
     "output_type": "stream",
     "text": [
      "49.2867369\n"
     ]
    }
   ],
   "source": [
    "start = timer()\n",
    "for _ in range(iters): \n",
    "    A = np.random.rand(100,100)\n",
    "    A = A - A.T\n",
    "    pf.pfaffian_schur(A)\n",
    "end = timer()\n",
    "print(end-start)"
   ]
  },
  {
   "cell_type": "code",
   "execution_count": 17,
   "id": "622332a4",
   "metadata": {},
   "outputs": [
    {
     "data": {
      "text/plain": [
       "(86.02895923061199-6.283185307179584j)"
      ]
     },
     "execution_count": 17,
     "metadata": {},
     "output_type": "execute_result"
    }
   ],
   "source": [
    "sum(np.log(np.linalg.eigvals(sigy_id.transpose() @ A)))"
   ]
  },
  {
   "cell_type": "code",
   "execution_count": null,
   "id": "5ffb154f",
   "metadata": {},
   "outputs": [],
   "source": [
    "with open('data.dat', 'wb') as f:\n",
    "    pickle.dump(data, f)"
   ]
  }
 ],
 "metadata": {
  "kernelspec": {
   "display_name": "Python 3 (ipykernel)",
   "language": "python",
   "name": "python3"
  },
  "language_info": {
   "codemirror_mode": {
    "name": "ipython",
    "version": 3
   },
   "file_extension": ".py",
   "mimetype": "text/x-python",
   "name": "python",
   "nbconvert_exporter": "python",
   "pygments_lexer": "ipython3",
   "version": "3.9.7"
  }
 },
 "nbformat": 4,
 "nbformat_minor": 5
}
