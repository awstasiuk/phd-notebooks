{
 "cells": [
  {
   "cell_type": "code",
   "execution_count": 1,
   "id": "801140c7",
   "metadata": {},
   "outputs": [],
   "source": [
    "import numpy as np\n",
    "import fermion as f\n",
    "import matplotlib.pyplot as plt\n",
    "from pandas import DataFrame\n",
    "from fermion import Math as fm\n",
    "from timeit import default_timer as timer\n",
    "\n",
    "import tensorflow as tf"
   ]
  },
  {
   "cell_type": "code",
   "execution_count": 2,
   "id": "a81e867a",
   "metadata": {},
   "outputs": [],
   "source": [
    "n_spin=2\n",
    "n = 2*n_spin"
   ]
  },
  {
   "cell_type": "code",
   "execution_count": 3,
   "id": "5ba97220",
   "metadata": {},
   "outputs": [
    {
     "data": {
      "text/plain": [
       "28"
      ]
     },
     "execution_count": 3,
     "metadata": {},
     "output_type": "execute_result"
    }
   ],
   "source": [
    "3*n**2-5*n"
   ]
  },
  {
   "cell_type": "code",
   "execution_count": null,
   "id": "aca5e91b",
   "metadata": {},
   "outputs": [],
   "source": []
  },
  {
   "cell_type": "code",
   "execution_count": 4,
   "id": "71af4e74",
   "metadata": {},
   "outputs": [],
   "source": [
    "dq = f.Operator.double_quantum(n_spin)\n",
    "Z = f.Operator.global_Z(n_spin)\n",
    "time_evo = f.Unitary(dq,.05,2.05)\n",
    "Z1 = time_evo.evolve_op(Z,0.05)"
   ]
  },
  {
   "cell_type": "code",
   "execution_count": 5,
   "id": "aa01abe5",
   "metadata": {},
   "outputs": [],
   "source": [
    "other = (Z1 * Z)"
   ]
  },
  {
   "cell_type": "code",
   "execution_count": 6,
   "id": "0b72f09d",
   "metadata": {},
   "outputs": [],
   "source": [
    "a=[f.Operator.annihilation_op(i,n) for i in range(n_spin)]\n",
    "adag=[f.Operator.creation_op(i,n) for i in range(n_spin)]"
   ]
  },
  {
   "cell_type": "code",
   "execution_count": 7,
   "id": "dfa5aa78",
   "metadata": {},
   "outputs": [
    {
     "data": {
      "text/plain": [
       "(0.25+0j)"
      ]
     },
     "execution_count": 7,
     "metadata": {},
     "output_type": "execute_result"
    }
   ],
   "source": [
    "(adag[0]*adag[1]*a[1]*a[0]).trace()"
   ]
  },
  {
   "cell_type": "code",
   "execution_count": 8,
   "id": "00e6a9b9",
   "metadata": {},
   "outputs": [
    {
     "data": {
      "text/plain": [
       "(0.25+0j)"
      ]
     },
     "execution_count": 8,
     "metadata": {},
     "output_type": "execute_result"
    }
   ],
   "source": [
    "(adag[1]*adag[0]*a[0]*a[1]).trace()"
   ]
  },
  {
   "cell_type": "code",
   "execution_count": 9,
   "id": "0007c059",
   "metadata": {},
   "outputs": [],
   "source": [
    "Zt = [time_evo.evolve_op(Z,t) for t in time_evo.t]"
   ]
  },
  {
   "cell_type": "code",
   "execution_count": 10,
   "id": "2f17f6da",
   "metadata": {},
   "outputs": [],
   "source": [
    "comm_ham = [Zt[i].commutator(dq) for i in range(len(Zt))]\n",
    "sig_ham = [(comm_ham[i].adj()*comm_ham[i]).trace()/Z.n_fermion for i in range(len(Zt))]"
   ]
  },
  {
   "cell_type": "code",
   "execution_count": 11,
   "id": "cc3ca00d",
   "metadata": {},
   "outputs": [
    {
     "name": "stderr",
     "output_type": "stream",
     "text": [
      "C:\\Users\\awsta\\Documents\\workspace\\tqd-env\\lib\\site-packages\\matplotlib\\cbook\\__init__.py:1298: ComplexWarning: Casting complex values to real discards the imaginary part\n",
      "  return np.asarray(x, float)\n"
     ]
    },
    {
     "data": {
      "image/png": "[encoded data removed]",
      "text/plain": [
       "<Figure size 432x288 with 1 Axes>"
      ]
     },
     "metadata": {
      "needs_background": "light"
     },
     "output_type": "display_data"
    }
   ],
   "source": [
    "fig, ax = plt.subplots()\n",
    "ax.set_title('Global Z-H OTOC, N=2')\n",
    "c=ax.plot(time_evo.t, sig_ham)\n",
    "ax.set_xlabel('J t')\n",
    "plt.savefig(\"zH_otoc.png\")\n",
    "plt.show()"
   ]
  },
  {
   "cell_type": "code",
   "execution_count": 12,
   "id": "e46b706e",
   "metadata": {},
   "outputs": [
    {
     "name": "stdout",
     "output_type": "stream",
     "text": [
      "(-2+0j)*c0a0 + (-2+0j)*c1a1 + (2+0j)*I\n"
     ]
    }
   ],
   "source": [
    "print(Zt[0])"
   ]
  },
  {
   "cell_type": "code",
   "execution_count": 13,
   "id": "35548948",
   "metadata": {},
   "outputs": [
    {
     "name": "stdout",
     "output_type": "stream",
     "text": [
      "(-1.1083735778830495e-17-0.19866933079506113j)*a0a1 + (1.1083735778830495e-17+0.19866933079506113j)*a1a0 + (-1.9601331556824835+0j)*c0a0 + (1.1083735778830495e-17-0.19866933079506113j)*c0c1 + (-1.9601331556824835+0j)*c1a1 + (-1.1083735778830495e-17+0.19866933079506113j)*c1c0 + (1.9601331556824835+0j)*I\n"
     ]
    }
   ],
   "source": [
    "print(Zt[1])"
   ]
  },
  {
   "cell_type": "code",
   "execution_count": 14,
   "id": "2ddfd0fe",
   "metadata": {},
   "outputs": [
    {
     "name": "stdout",
     "output_type": "stream",
     "text": [
      "1.0*a0a1 + -1.0*a1a0 + -1.0*c0c1 + 1.0*c1c0\n"
     ]
    }
   ],
   "source": [
    "print(dq)"
   ]
  },
  {
   "cell_type": "code",
   "execution_count": 15,
   "id": "71bd641d",
   "metadata": {},
   "outputs": [],
   "source": [
    "temp = Zt[0].commutator(dq)"
   ]
  },
  {
   "cell_type": "code",
   "execution_count": 16,
   "id": "0d1eb5e7",
   "metadata": {},
   "outputs": [
    {
     "name": "stdout",
     "output_type": "stream",
     "text": [
      "(4+0j)*a0a1 + (-4+0j)*a1a0 + (4+0j)*c0c1 + (-4+0j)*c1c0\n"
     ]
    }
   ],
   "source": [
    "print(temp)"
   ]
  },
  {
   "cell_type": "code",
   "execution_count": 17,
   "id": "e2d88b4c",
   "metadata": {},
   "outputs": [
    {
     "name": "stdout",
     "output_type": "stream",
     "text": [
      "(-16+0j)*a0a1a0a1 + (16+0j)*a0a1a1a0 + (-16+0j)*a0a1c0c1 + (16+0j)*a0a1c1c0 + (16+0j)*a1a0a0a1 + (-16+0j)*a1a0a1a0 + (16+0j)*a1a0c0c1 + (-16+0j)*a1a0c1c0 + (-16+0j)*c0c1a0a1 + (16+0j)*c0c1a1a0 + (-16+0j)*c0c1c0c1 + (16+0j)*c0c1c1c0 + (16+0j)*c1c0a0a1 + (-16+0j)*c1c0a1a0 + (16+0j)*c1c0c0c1 + (-16+0j)*c1c0c1c0\n"
     ]
    }
   ],
   "source": [
    "print(temp.adj()*temp)"
   ]
  },
  {
   "cell_type": "code",
   "execution_count": 18,
   "id": "08b10733",
   "metadata": {},
   "outputs": [
    {
     "data": {
      "text/plain": [
       "(16+0j)"
      ]
     },
     "execution_count": 18,
     "metadata": {},
     "output_type": "execute_result"
    }
   ],
   "source": [
    "(temp.adj()*temp).trace()/2"
   ]
  },
  {
   "cell_type": "code",
   "execution_count": 19,
   "id": "568f5366",
   "metadata": {},
   "outputs": [
    {
     "data": {
      "text/plain": [
       "-1j*c1"
      ]
     },
     "execution_count": 19,
     "metadata": {},
     "output_type": "execute_result"
    }
   ],
   "source": [
    "(a[1]*1j).adj()"
   ]
  },
  {
   "cell_type": "code",
   "execution_count": 20,
   "id": "ae486659",
   "metadata": {},
   "outputs": [
    {
     "data": {
      "text/plain": [
       "(1-0j)*c0a0"
      ]
     },
     "execution_count": 20,
     "metadata": {},
     "output_type": "execute_result"
    }
   ],
   "source": [
    "(adag[0]*a[0]).adj()"
   ]
  },
  {
   "cell_type": "code",
   "execution_count": 21,
   "id": "0ca1074a",
   "metadata": {},
   "outputs": [
    {
     "data": {
      "text/plain": [
       "(-1.1083735778830495e-17-0.19866933079506113j)*a0a1 + (1.1083735778830495e-17+0.19866933079506113j)*a1a0 + (-1.9601331556824835+0j)*c0a0 + (1.1083735778830495e-17-0.19866933079506113j)*c0c1 + (-1.9601331556824835+0j)*c1a1 + (-1.1083735778830495e-17+0.19866933079506113j)*c1c0 + (1.9601331556824835+0j)*I"
      ]
     },
     "execution_count": 21,
     "metadata": {},
     "output_type": "execute_result"
    }
   ],
   "source": [
    "Zt[1].normal_order()"
   ]
  },
  {
   "cell_type": "code",
   "execution_count": 22,
   "id": "b96137aa",
   "metadata": {},
   "outputs": [
    {
     "data": {
      "text/plain": [
       "(-2.5260481919076754+0j)*I + -12.461386953876811j*a0a1 + 12.461386953876811j*a1a0 + (5.052096383815351+0j)*c0a0 + -12.461386953876811j*c0c1 + (5.052096383815351+0j)*c1a1 + 12.461386953876811j*c1c0 + (15.368487952023084+0j)*a0a1a0a1 + (-15.368487952023084+0j)*a0a1a1a0 + 6.230693476938406j*a0a1c0a0 + (15.368487952023084+0j)*a0a1c0c1 + 6.230693476938406j*a0a1c1a1 + (-15.368487952023084+0j)*a0a1c1c0 + (-15.368487952023084+0j)*a1a0a0a1 + (15.368487952023084+0j)*a1a0a1a0 + -6.230693476938406j*a1a0c0a0 + (-15.368487952023084+0j)*a1a0c0c1 + -6.230693476938406j*a1a0c1a1 + (15.368487952023084+0j)*a1a0c1c0 + 6.230693476938406j*c0a0a0a1 + -6.230693476938406j*c0a0a1a0 + (-2.5260481919076754+0j)*c0a0c0a0 + 6.230693476938406j*c0a0c0c1 + (-2.5260481919076754+0j)*c0a0c1a1 + -6.230693476938406j*c0a0c1c0 + (15.368487952023084+0j)*c0c1a0a1 + (-15.368487952023084+0j)*c0c1a1a0 + 6.230693476938406j*c0c1c0a0 + (15.368487952023084+0j)*c0c1c0c1 + 6.230693476938406j*c0c1c1a1 + (-15.368487952023084+0j)*c0c1c1c0 + 6.230693476938406j*c1a1a0a1 + -6.230693476938406j*c1a1a1a0 + (-2.5260481919076754+0j)*c1a1c0a0 + 6.230693476938406j*c1a1c0c1 + (-2.5260481919076754+0j)*c1a1c1a1 + -6.230693476938406j*c1a1c1c0 + (-15.368487952023084+0j)*c1c0a0a1 + (15.368487952023084+0j)*c1c0a1a0 + -6.230693476938406j*c1c0c0a0 + (-15.368487952023084+0j)*c1c0c0c1 + -6.230693476938406j*c1c0c1a1 + (15.368487952023084+0j)*c1c0c1c0"
      ]
     },
     "execution_count": 22,
     "metadata": {},
     "output_type": "execute_result"
    }
   ],
   "source": [
    "Zt[1].commutator(dq)**2"
   ]
  },
  {
   "cell_type": "code",
   "execution_count": 23,
   "id": "4bc1d9c7",
   "metadata": {},
   "outputs": [],
   "source": [
    "temp = Zt[2].commutator(dq,use_speedup=False)"
   ]
  },
  {
   "cell_type": "code",
   "execution_count": 24,
   "id": "244b57ac",
   "metadata": {},
   "outputs": [
    {
     "data": {
      "text/plain": [
       "(-32.00000000000001+0j)"
      ]
     },
     "execution_count": 24,
     "metadata": {},
     "output_type": "execute_result"
    }
   ],
   "source": [
    "(temp.normal_order()**2).trace()"
   ]
  },
  {
   "cell_type": "code",
   "execution_count": 25,
   "id": "32331938",
   "metadata": {},
   "outputs": [
    {
     "data": {
      "text/plain": [
       "(-32.00000000000001+0j)"
      ]
     },
     "execution_count": 25,
     "metadata": {},
     "output_type": "execute_result"
    }
   ],
   "source": [
    "(Zt[2].commutator(dq)**2).trace()"
   ]
  },
  {
   "cell_type": "code",
   "execution_count": 26,
   "id": "55d304b1",
   "metadata": {},
   "outputs": [
    {
     "data": {
      "text/plain": [
       "-3.1153467384692073j*I + (-7.36848795202308+0j)*a1a0 + 3.1153467384692073j*c0a0 + 3.1153467384692073j*c1a1 + (-7.36848795202308+0j)*c1c0 + 2.220446049250313e-16j*c1c0a1a0"
      ]
     },
     "execution_count": 26,
     "metadata": {},
     "output_type": "execute_result"
    }
   ],
   "source": [
    "temp.normal_order()"
   ]
  },
  {
   "cell_type": "code",
   "execution_count": 34,
   "id": "7110ab49",
   "metadata": {},
   "outputs": [
    {
     "data": {
      "text/plain": [
       "(-32.00000000000001+0j)"
      ]
     },
     "execution_count": 34,
     "metadata": {},
     "output_type": "execute_result"
    }
   ],
   "source": [
    "Zt[2].commutator(dq).square_trace()"
   ]
  },
  {
   "cell_type": "code",
   "execution_count": null,
   "id": "355babda",
   "metadata": {},
   "outputs": [],
   "source": []
  }
 ],
 "metadata": {
  "kernelspec": {
   "display_name": "Python 3 (ipykernel)",
   "language": "python",
   "name": "python3"
  },
  "language_info": {
   "codemirror_mode": {
    "name": "ipython",
    "version": 3
   },
   "file_extension": ".py",
   "mimetype": "text/x-python",
   "name": "python",
   "nbconvert_exporter": "python",
   "pygments_lexer": "ipython3",
   "version": "3.9.7"
  }
 },
 "nbformat": 4,
 "nbformat_minor": 5
}
