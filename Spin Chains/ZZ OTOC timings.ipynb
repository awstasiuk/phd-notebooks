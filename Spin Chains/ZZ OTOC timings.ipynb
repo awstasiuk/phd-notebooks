{
 "cells": [
  {
   "cell_type": "code",
   "execution_count": 1,
   "id": "90134a6d",
   "metadata": {},
   "outputs": [],
   "source": [
    "import numpy as np\n",
    "import fermion as f\n",
    "import matplotlib.pyplot as plt\n",
    "from pandas import DataFrame\n",
    "from fermion import Math as fm\n",
    "from timeit import default_timer as timer"
   ]
  },
  {
   "cell_type": "code",
   "execution_count": 2,
   "id": "e9a965dd",
   "metadata": {},
   "outputs": [],
   "source": [
    "dq = f.Operator.double_quantum(50)\n",
    "Z = f.Operator.global_Z(50)"
   ]
  },
  {
   "cell_type": "code",
   "execution_count": 3,
   "id": "eecde4f8",
   "metadata": {},
   "outputs": [],
   "source": [
    "time_evo = f.Unitary(dq,.05,2.05)"
   ]
  },
  {
   "cell_type": "code",
   "execution_count": 4,
   "id": "d30e0526",
   "metadata": {},
   "outputs": [
    {
     "name": "stdout",
     "output_type": "stream",
     "text": [
      "0.010232099999999633\n"
     ]
    }
   ],
   "source": [
    "start = timer()\n",
    "Z1 = time_evo.evolve_op(Z,0.05)\n",
    "end = timer()\n",
    "print(end - start)"
   ]
  },
  {
   "cell_type": "code",
   "execution_count": 5,
   "id": "710ccd21",
   "metadata": {},
   "outputs": [
    {
     "name": "stdout",
     "output_type": "stream",
     "text": [
      "103.3548038\n"
     ]
    }
   ],
   "source": [
    "start = timer()\n",
    "comm = Z1.commutator(Z).normal_order().compactify() ** 2\n",
    "end = timer()\n",
    "print(end - start)"
   ]
  },
  {
   "cell_type": "code",
   "execution_count": 6,
   "id": "f78f916f",
   "metadata": {},
   "outputs": [
    {
     "name": "stdout",
     "output_type": "stream",
     "text": [
      "39.6503129\n"
     ]
    }
   ],
   "source": [
    "start = timer()\n",
    "tr1 = comm.trace()\n",
    "end = timer()\n",
    "print(end - start)"
   ]
  },
  {
   "cell_type": "code",
   "execution_count": 7,
   "id": "2431b0df",
   "metadata": {},
   "outputs": [
    {
     "name": "stdout",
     "output_type": "stream",
     "text": [
      "205.1364052\n"
     ]
    }
   ],
   "source": [
    "start = timer()\n",
    "tr2 = (Z1.commutator(Z).normal_order().compactify() ** 2).trace()\n",
    "end = timer()\n",
    "print(end - start)"
   ]
  },
  {
   "cell_type": "code",
   "execution_count": 8,
   "id": "c7ada4b9",
   "metadata": {},
   "outputs": [
    {
     "data": {
      "text/plain": [
       "2.460166666666667"
      ]
     },
     "execution_count": 8,
     "metadata": {},
     "output_type": "execute_result"
    }
   ],
   "source": [
    "147.61/60"
   ]
  },
  {
   "cell_type": "code",
   "execution_count": 9,
   "id": "3be729c5",
   "metadata": {},
   "outputs": [
    {
     "data": {
      "text/plain": [
       "40.0"
      ]
     },
     "execution_count": 9,
     "metadata": {},
     "output_type": "execute_result"
    }
   ],
   "source": [
    "2/0.05"
   ]
  },
  {
   "cell_type": "code",
   "execution_count": 10,
   "id": "4129a157",
   "metadata": {},
   "outputs": [
    {
     "data": {
      "text/plain": [
       "1.6666666666666667"
      ]
     },
     "execution_count": 10,
     "metadata": {},
     "output_type": "execute_result"
    }
   ],
   "source": [
    "40*2.5/60"
   ]
  },
  {
   "cell_type": "code",
   "execution_count": 11,
   "id": "9b749a81",
   "metadata": {},
   "outputs": [],
   "source": [
    "_,T = dq.jordan_wigner()"
   ]
  },
  {
   "cell_type": "code",
   "execution_count": 12,
   "id": "943f3aa6",
   "metadata": {},
   "outputs": [
    {
     "name": "stdout",
     "output_type": "stream",
     "text": [
      "0.0004136000000016793\n"
     ]
    }
   ],
   "source": [
    "start = timer()\n",
    "fm.adj(T) @ Z.coef[2] @ T\n",
    "end = timer()\n",
    "print(end-start)"
   ]
  },
  {
   "cell_type": "code",
   "execution_count": 13,
   "id": "d52ec396",
   "metadata": {},
   "outputs": [
    {
     "name": "stdout",
     "output_type": "stream",
     "text": [
      "0.003799899999989975\n"
     ]
    }
   ],
   "source": [
    "start = timer()\n",
    "temp = fm.tensor_change_of_basis(Z.coef[2], T)\n",
    "end = timer()\n",
    "print(end-start)"
   ]
  },
  {
   "cell_type": "code",
   "execution_count": 14,
   "id": "f672c371",
   "metadata": {},
   "outputs": [],
   "source": [
    "import tensorflow as tf"
   ]
  },
  {
   "cell_type": "code",
   "execution_count": 15,
   "id": "5c272bff",
   "metadata": {},
   "outputs": [],
   "source": [
    "z_tf = tf.constant(Z.coef[2])"
   ]
  },
  {
   "cell_type": "code",
   "execution_count": 16,
   "id": "7d8d3a1e",
   "metadata": {},
   "outputs": [],
   "source": [
    "t_tf = tf.constant(T)"
   ]
  },
  {
   "cell_type": "code",
   "execution_count": 17,
   "id": "df6fa16e",
   "metadata": {},
   "outputs": [
    {
     "name": "stdout",
     "output_type": "stream",
     "text": [
      "0.0070797999999854255\n"
     ]
    }
   ],
   "source": [
    "start = timer()\n",
    "hold = tf.einsum(\"ij,ik,jl -> kl\", z_tf,t_tf,t_tf)\n",
    "end = timer()\n",
    "print(end-start)"
   ]
  },
  {
   "cell_type": "code",
   "execution_count": 18,
   "id": "29135240",
   "metadata": {},
   "outputs": [
    {
     "data": {
      "text/plain": [
       "True"
      ]
     },
     "execution_count": 18,
     "metadata": {},
     "output_type": "execute_result"
    }
   ],
   "source": [
    "np.allclose(hold.numpy(),temp)"
   ]
  },
  {
   "cell_type": "code",
   "execution_count": 98,
   "id": "d9edf73a",
   "metadata": {},
   "outputs": [],
   "source": [
    "dq = f.Operator.double_quantum(10)\n",
    "Z = f.Operator.global_Z(10)\n",
    "time_evo = f.Unitary(dq,.05,2.05)\n",
    "Z1 = time_evo.evolve_op(Z,0.05)"
   ]
  },
  {
   "cell_type": "code",
   "execution_count": 99,
   "id": "050b7434",
   "metadata": {},
   "outputs": [
    {
     "data": {
      "text/plain": [
       "<fermion.operator.Operator at 0x19a995f2ee0>"
      ]
     },
     "execution_count": 99,
     "metadata": {},
     "output_type": "execute_result"
    }
   ],
   "source": [
    "other = (Z1 * Z)\n",
    "other"
   ]
  },
  {
   "cell_type": "code",
   "execution_count": 116,
   "id": "205d504d",
   "metadata": {},
   "outputs": [],
   "source": [
    "def tr_alt(op):\n",
    "    tr = 0\n",
    "    if 0 in op.components:\n",
    "        tr += op.coef[0]\n",
    "    if 2 in op.components:\n",
    "        tr += 0.5 * (np.sum(np.diagonal(op.coef[2],op.n_fermion))+np.sum(np.diagonal(op.coef[2],-op.n_fermion)))\n",
    "    if 4 in op.components:\n",
    "        spr = tf.sparse.from_dense(op.coef[4])\n",
    "        for idx, val in zip(spr.indices.numpy(), spr.values):\n",
    "            if fm.fermion_weight(idx, op.n_fermion) == 0:\n",
    "                tr += val * fm.trace_weight(idx, op.n_fermion)\n",
    "    return tr"
   ]
  },
  {
   "cell_type": "code",
   "execution_count": 117,
   "id": "4debd14d",
   "metadata": {},
   "outputs": [
    {
     "name": "stdout",
     "output_type": "stream",
     "text": [
      "0.8771942000021227\n"
     ]
    }
   ],
   "source": [
    "start = timer()\n",
    "for i in range(10):\n",
    "    other.trace()\n",
    "end = timer()\n",
    "print(end-start)"
   ]
  },
  {
   "cell_type": "code",
   "execution_count": 118,
   "id": "dc50cf3d",
   "metadata": {},
   "outputs": [
    {
     "name": "stdout",
     "output_type": "stream",
     "text": [
      "13.501828199980082\n"
     ]
    }
   ],
   "source": [
    "start = timer()\n",
    "for i in range(10):\n",
    "    tr_alt(other)\n",
    "end = timer()\n",
    "print(end-start)"
   ]
  },
  {
   "cell_type": "code",
   "execution_count": 120,
   "id": "a37d4fd7",
   "metadata": {},
   "outputs": [
    {
     "data": {
      "text/plain": [
       "[4]"
      ]
     },
     "execution_count": 120,
     "metadata": {},
     "output_type": "execute_result"
    }
   ],
   "source": [
    "other.components"
   ]
  },
  {
   "cell_type": "code",
   "execution_count": 123,
   "id": "1cedbe55",
   "metadata": {},
   "outputs": [
    {
     "data": {
      "text/plain": [
       "<tf.Tensor: shape=(100, 100), dtype=float64, numpy=\n",
       "array([[-1.45012041e-18, -8.49229289e-01,  1.57209315e-18, ...,\n",
       "         1.30300501e-14,  1.32814766e-18,  1.38492326e-14],\n",
       "       [ 8.49229289e-01,  2.71050543e-19, -5.08891820e-01, ...,\n",
       "         7.04731412e-19,  3.93077498e-16,  5.96311195e-19],\n",
       "       [ 1.57209315e-18,  5.08891820e-01,  1.73472348e-18, ...,\n",
       "         8.96721933e-15, -1.08420217e-19,  9.11933289e-15],\n",
       "       ...,\n",
       "       [-1.30300501e-14,  7.04731412e-19, -8.96721933e-15, ...,\n",
       "         4.33680869e-18,  5.08891820e-01, -2.71050543e-19],\n",
       "       [ 1.32814766e-18, -3.93077498e-16, -1.08420217e-19, ...,\n",
       "        -5.08891820e-01, -2.11419424e-18,  8.49229289e-01],\n",
       "       [-1.38492326e-14,  5.96311195e-19, -9.11933289e-15, ...,\n",
       "        -2.71050543e-19, -8.49229289e-01,  1.35525272e-18]])>"
      ]
     },
     "execution_count": 123,
     "metadata": {},
     "output_type": "execute_result"
    }
   ],
   "source": [
    "hold"
   ]
  },
  {
   "cell_type": "code",
   "execution_count": 76,
   "id": "de5d5f7f",
   "metadata": {},
   "outputs": [
    {
     "data": {
      "text/plain": [
       "(-77.14655599401775+0j)"
      ]
     },
     "execution_count": 76,
     "metadata": {},
     "output_type": "execute_result"
    }
   ],
   "source": [
    "tr_alt(other)"
   ]
  },
  {
   "cell_type": "code",
   "execution_count": 79,
   "id": "655651b0",
   "metadata": {},
   "outputs": [],
   "source": [
    "spr = tf.sparse.from_dense(hold)"
   ]
  },
  {
   "cell_type": "code",
   "execution_count": 80,
   "id": "83350468",
   "metadata": {},
   "outputs": [
    {
     "data": {
      "text/plain": [
       "<tensorflow.python.framework.sparse_tensor.SparseTensor at 0x19a989e77c0>"
      ]
     },
     "execution_count": 80,
     "metadata": {},
     "output_type": "execute_result"
    }
   ],
   "source": [
    "spr"
   ]
  },
  {
   "cell_type": "code",
   "execution_count": 82,
   "id": "63311343",
   "metadata": {},
   "outputs": [
    {
     "data": {
      "text/plain": [
       "<tf.Tensor: shape=(8928, 2), dtype=int64, numpy=\n",
       "array([[ 0,  0],\n",
       "       [ 0,  1],\n",
       "       [ 0,  2],\n",
       "       ...,\n",
       "       [99, 97],\n",
       "       [99, 98],\n",
       "       [99, 99]], dtype=int64)>"
      ]
     },
     "execution_count": 82,
     "metadata": {},
     "output_type": "execute_result"
    }
   ],
   "source": [
    "spr.indices"
   ]
  },
  {
   "cell_type": "code",
   "execution_count": 86,
   "id": "4ad67a7b",
   "metadata": {},
   "outputs": [],
   "source": [
    "test = tf.sparse.from_dense(fm.chop(hold))"
   ]
  },
  {
   "cell_type": "code",
   "execution_count": 112,
   "id": "2b36d5f9",
   "metadata": {},
   "outputs": [
    {
     "data": {
      "text/plain": [
       "array([0, 5], dtype=int64)"
      ]
     },
     "execution_count": 112,
     "metadata": {},
     "output_type": "execute_result"
    }
   ],
   "source": [
    "test.indices.numpy()[2]"
   ]
  },
  {
   "cell_type": "code",
   "execution_count": null,
   "id": "c79d446b",
   "metadata": {},
   "outputs": [],
   "source": []
  }
 ],
 "metadata": {
  "kernelspec": {
   "display_name": "Python 3 (ipykernel)",
   "language": "python",
   "name": "python3"
  },
  "language_info": {
   "codemirror_mode": {
    "name": "ipython",
    "version": 3
   },
   "file_extension": ".py",
   "mimetype": "text/x-python",
   "name": "python",
   "nbconvert_exporter": "python",
   "pygments_lexer": "ipython3",
   "version": "3.9.12"
  }
 },
 "nbformat": 4,
 "nbformat_minor": 5
}
