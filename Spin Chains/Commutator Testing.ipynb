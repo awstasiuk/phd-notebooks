{
 "cells": [
  {
   "cell_type": "code",
   "execution_count": 1,
   "id": "3ef0f394",
   "metadata": {},
   "outputs": [],
   "source": [
    "import numpy as np\n",
    "import fermion as f\n",
    "import matplotlib.pyplot as plt\n",
    "from pandas import DataFrame\n",
    "from fermion import Math as fm\n",
    "from timeit import default_timer as timer\n",
    "\n",
    "import tensorflow as tf"
   ]
  },
  {
   "cell_type": "code",
   "execution_count": 2,
   "id": "1355b08c",
   "metadata": {},
   "outputs": [],
   "source": [
    "n_spin=2\n",
    "n = 2*n_spin"
   ]
  },
  {
   "cell_type": "code",
   "execution_count": 3,
   "id": "9ae76596",
   "metadata": {},
   "outputs": [],
   "source": [
    "dq = f.Operator.double_quantum(n_spin)\n",
    "Z = f.Operator.global_Z(n_spin)"
   ]
  },
  {
   "cell_type": "code",
   "execution_count": 6,
   "id": "a67233eb",
   "metadata": {},
   "outputs": [
    {
     "data": {
      "text/plain": [
       "<fermion.operator.Operator at 0x1a708b46040>"
      ]
     },
     "execution_count": 6,
     "metadata": {},
     "output_type": "execute_result"
    }
   ],
   "source": [
    "com2.normal_order().compactify()"
   ]
  },
  {
   "cell_type": "code",
   "execution_count": 7,
   "id": "dd7fdf5b",
   "metadata": {},
   "outputs": [
    {
     "data": {
      "text/html": [
       "<div>\n",
       "<style scoped>\n",
       "    .dataframe tbody tr th:only-of-type {\n",
       "        vertical-align: middle;\n",
       "    }\n",
       "\n",
       "    .dataframe tbody tr th {\n",
       "        vertical-align: top;\n",
       "    }\n",
       "\n",
       "    .dataframe thead th {\n",
       "        text-align: right;\n",
       "    }\n",
       "</style>\n",
       "<table border=\"1\" class=\"dataframe\">\n",
       "  <thead>\n",
       "    <tr style=\"text-align: right;\">\n",
       "      <th></th>\n",
       "      <th>0</th>\n",
       "      <th>1</th>\n",
       "      <th>2</th>\n",
       "      <th>3</th>\n",
       "      <th>4</th>\n",
       "      <th>5</th>\n",
       "      <th>6</th>\n",
       "      <th>7</th>\n",
       "      <th>8</th>\n",
       "      <th>9</th>\n",
       "    </tr>\n",
       "  </thead>\n",
       "  <tbody>\n",
       "    <tr>\n",
       "      <th>0</th>\n",
       "      <td>0.0+0.0j</td>\n",
       "      <td>0.0+0.0j</td>\n",
       "      <td>0.0+0.0j</td>\n",
       "      <td>0.0+0.0j</td>\n",
       "      <td>0.0+0.0j</td>\n",
       "      <td>0.0+0.0j</td>\n",
       "      <td>0.0+0.0j</td>\n",
       "      <td>0.0+0.0j</td>\n",
       "      <td>0.0+0.0j</td>\n",
       "      <td>0.0+0.0j</td>\n",
       "    </tr>\n",
       "    <tr>\n",
       "      <th>1</th>\n",
       "      <td>8.0+0.0j</td>\n",
       "      <td>0.0+0.0j</td>\n",
       "      <td>0.0+0.0j</td>\n",
       "      <td>0.0+0.0j</td>\n",
       "      <td>0.0+0.0j</td>\n",
       "      <td>0.0+0.0j</td>\n",
       "      <td>0.0+0.0j</td>\n",
       "      <td>0.0+0.0j</td>\n",
       "      <td>0.0+0.0j</td>\n",
       "      <td>0.0+0.0j</td>\n",
       "    </tr>\n",
       "    <tr>\n",
       "      <th>2</th>\n",
       "      <td>0.0+0.0j</td>\n",
       "      <td>8.0+0.0j</td>\n",
       "      <td>0.0+0.0j</td>\n",
       "      <td>0.0+0.0j</td>\n",
       "      <td>0.0+0.0j</td>\n",
       "      <td>0.0+0.0j</td>\n",
       "      <td>0.0+0.0j</td>\n",
       "      <td>0.0+0.0j</td>\n",
       "      <td>0.0+0.0j</td>\n",
       "      <td>0.0+0.0j</td>\n",
       "    </tr>\n",
       "    <tr>\n",
       "      <th>3</th>\n",
       "      <td>0.0+0.0j</td>\n",
       "      <td>0.0+0.0j</td>\n",
       "      <td>8.0+0.0j</td>\n",
       "      <td>0.0+0.0j</td>\n",
       "      <td>0.0+0.0j</td>\n",
       "      <td>0.0+0.0j</td>\n",
       "      <td>0.0+0.0j</td>\n",
       "      <td>0.0+0.0j</td>\n",
       "      <td>0.0+0.0j</td>\n",
       "      <td>0.0+0.0j</td>\n",
       "    </tr>\n",
       "    <tr>\n",
       "      <th>4</th>\n",
       "      <td>0.0+0.0j</td>\n",
       "      <td>0.0+0.0j</td>\n",
       "      <td>0.0+0.0j</td>\n",
       "      <td>8.0+0.0j</td>\n",
       "      <td>0.0+0.0j</td>\n",
       "      <td>0.0+0.0j</td>\n",
       "      <td>0.0+0.0j</td>\n",
       "      <td>0.0+0.0j</td>\n",
       "      <td>0.0+0.0j</td>\n",
       "      <td>0.0+0.0j</td>\n",
       "    </tr>\n",
       "    <tr>\n",
       "      <th>5</th>\n",
       "      <td>0.0+0.0j</td>\n",
       "      <td>0.0+0.0j</td>\n",
       "      <td>0.0+0.0j</td>\n",
       "      <td>0.0+0.0j</td>\n",
       "      <td>0.0+0.0j</td>\n",
       "      <td>0.0+0.0j</td>\n",
       "      <td>0.0+0.0j</td>\n",
       "      <td>0.0+0.0j</td>\n",
       "      <td>0.0+0.0j</td>\n",
       "      <td>0.0+0.0j</td>\n",
       "    </tr>\n",
       "    <tr>\n",
       "      <th>6</th>\n",
       "      <td>0.0+0.0j</td>\n",
       "      <td>0.0+0.0j</td>\n",
       "      <td>0.0+0.0j</td>\n",
       "      <td>0.0+0.0j</td>\n",
       "      <td>0.0+0.0j</td>\n",
       "      <td>8.0+0.0j</td>\n",
       "      <td>0.0+0.0j</td>\n",
       "      <td>0.0+0.0j</td>\n",
       "      <td>0.0+0.0j</td>\n",
       "      <td>0.0+0.0j</td>\n",
       "    </tr>\n",
       "    <tr>\n",
       "      <th>7</th>\n",
       "      <td>0.0+0.0j</td>\n",
       "      <td>0.0+0.0j</td>\n",
       "      <td>0.0+0.0j</td>\n",
       "      <td>0.0+0.0j</td>\n",
       "      <td>0.0+0.0j</td>\n",
       "      <td>0.0+0.0j</td>\n",
       "      <td>8.0+0.0j</td>\n",
       "      <td>0.0+0.0j</td>\n",
       "      <td>0.0+0.0j</td>\n",
       "      <td>0.0+0.0j</td>\n",
       "    </tr>\n",
       "    <tr>\n",
       "      <th>8</th>\n",
       "      <td>0.0+0.0j</td>\n",
       "      <td>0.0+0.0j</td>\n",
       "      <td>0.0+0.0j</td>\n",
       "      <td>0.0+0.0j</td>\n",
       "      <td>0.0+0.0j</td>\n",
       "      <td>0.0+0.0j</td>\n",
       "      <td>0.0+0.0j</td>\n",
       "      <td>8.0+0.0j</td>\n",
       "      <td>0.0+0.0j</td>\n",
       "      <td>0.0+0.0j</td>\n",
       "    </tr>\n",
       "    <tr>\n",
       "      <th>9</th>\n",
       "      <td>0.0+0.0j</td>\n",
       "      <td>0.0+0.0j</td>\n",
       "      <td>0.0+0.0j</td>\n",
       "      <td>0.0+0.0j</td>\n",
       "      <td>0.0+0.0j</td>\n",
       "      <td>0.0+0.0j</td>\n",
       "      <td>0.0+0.0j</td>\n",
       "      <td>0.0+0.0j</td>\n",
       "      <td>8.0+0.0j</td>\n",
       "      <td>0.0+0.0j</td>\n",
       "    </tr>\n",
       "  </tbody>\n",
       "</table>\n",
       "</div>"
      ],
      "text/plain": [
       "          0         1         2         3         4         5         6  \\\n",
       "0  0.0+0.0j  0.0+0.0j  0.0+0.0j  0.0+0.0j  0.0+0.0j  0.0+0.0j  0.0+0.0j   \n",
       "1  8.0+0.0j  0.0+0.0j  0.0+0.0j  0.0+0.0j  0.0+0.0j  0.0+0.0j  0.0+0.0j   \n",
       "2  0.0+0.0j  8.0+0.0j  0.0+0.0j  0.0+0.0j  0.0+0.0j  0.0+0.0j  0.0+0.0j   \n",
       "3  0.0+0.0j  0.0+0.0j  8.0+0.0j  0.0+0.0j  0.0+0.0j  0.0+0.0j  0.0+0.0j   \n",
       "4  0.0+0.0j  0.0+0.0j  0.0+0.0j  8.0+0.0j  0.0+0.0j  0.0+0.0j  0.0+0.0j   \n",
       "5  0.0+0.0j  0.0+0.0j  0.0+0.0j  0.0+0.0j  0.0+0.0j  0.0+0.0j  0.0+0.0j   \n",
       "6  0.0+0.0j  0.0+0.0j  0.0+0.0j  0.0+0.0j  0.0+0.0j  8.0+0.0j  0.0+0.0j   \n",
       "7  0.0+0.0j  0.0+0.0j  0.0+0.0j  0.0+0.0j  0.0+0.0j  0.0+0.0j  8.0+0.0j   \n",
       "8  0.0+0.0j  0.0+0.0j  0.0+0.0j  0.0+0.0j  0.0+0.0j  0.0+0.0j  0.0+0.0j   \n",
       "9  0.0+0.0j  0.0+0.0j  0.0+0.0j  0.0+0.0j  0.0+0.0j  0.0+0.0j  0.0+0.0j   \n",
       "\n",
       "          7         8         9  \n",
       "0  0.0+0.0j  0.0+0.0j  0.0+0.0j  \n",
       "1  0.0+0.0j  0.0+0.0j  0.0+0.0j  \n",
       "2  0.0+0.0j  0.0+0.0j  0.0+0.0j  \n",
       "3  0.0+0.0j  0.0+0.0j  0.0+0.0j  \n",
       "4  0.0+0.0j  0.0+0.0j  0.0+0.0j  \n",
       "5  0.0+0.0j  0.0+0.0j  0.0+0.0j  \n",
       "6  0.0+0.0j  0.0+0.0j  0.0+0.0j  \n",
       "7  0.0+0.0j  0.0+0.0j  0.0+0.0j  \n",
       "8  8.0+0.0j  0.0+0.0j  0.0+0.0j  \n",
       "9  0.0+0.0j  8.0+0.0j  0.0+0.0j  "
      ]
     },
     "execution_count": 7,
     "metadata": {},
     "output_type": "execute_result"
    }
   ],
   "source": [
    "DataFrame(com2.coef[2])"
   ]
  },
  {
   "cell_type": "code",
   "execution_count": 8,
   "id": "2f7c1fb7",
   "metadata": {
    "scrolled": false
   },
   "outputs": [
    {
     "name": "stdout",
     "output_type": "stream",
     "text": [
      "(-4+0j)*a0a1 + (4+0j)*a1a0 + (-4+0j)*a1a2 + (4+0j)*a2a1 + (-4+0j)*a2a3 + (4+0j)*a3a2 + (-4+0j)*a3a4 + (4+0j)*a4a3 + (-4+0j)*c0c1 + (4+0j)*c1c0 + (-4+0j)*c1c2 + (4+0j)*c2c1 + (-4+0j)*c2c3 + (4+0j)*c3c2 + (-4+0j)*c3c4 + (4+0j)*c4c3\n"
     ]
    }
   ],
   "source": [
    "print(com1)"
   ]
  },
  {
   "cell_type": "code",
   "execution_count": 9,
   "id": "8e8585de",
   "metadata": {},
   "outputs": [
    {
     "name": "stdout",
     "output_type": "stream",
     "text": [
      "(8+0j)*a1a0 + (8+0j)*a2a1 + (8+0j)*a3a2 + (8+0j)*a4a3 + (8+0j)*c1c0 + (8+0j)*c2c1 + (8+0j)*c3c2 + (8+0j)*c4c3\n"
     ]
    }
   ],
   "source": [
    "print(com2)"
   ]
  },
  {
   "cell_type": "code",
   "execution_count": 10,
   "id": "042b9ab1",
   "metadata": {},
   "outputs": [
    {
     "data": {
      "text/plain": [
       "False"
      ]
     },
     "execution_count": 10,
     "metadata": {},
     "output_type": "execute_result"
    }
   ],
   "source": [
    "np.allclose(com1.coef[2], com2.coef[2])"
   ]
  },
  {
   "cell_type": "code",
   "execution_count": 11,
   "id": "1058c89b",
   "metadata": {},
   "outputs": [],
   "source": [
    "a=[f.Operator.annihilation_op(i,n) for i in range(n)]\n",
    "adag=[f.Operator.creation_op(i,n) for i in range(n)]"
   ]
  },
  {
   "cell_type": "code",
   "execution_count": null,
   "id": "38526d44",
   "metadata": {},
   "outputs": [],
   "source": []
  },
  {
   "cell_type": "code",
   "execution_count": 17,
   "id": "1ecfedda",
   "metadata": {},
   "outputs": [],
   "source": [
    "test = adag[0]*a[1]\n",
    "other = a[2]*a[0]"
   ]
  },
  {
   "cell_type": "code",
   "execution_count": 18,
   "id": "9017623a",
   "metadata": {},
   "outputs": [
    {
     "name": "stdout",
     "output_type": "stream",
     "text": [
      "(-1+0j)*a2a1\n"
     ]
    }
   ],
   "source": [
    "print(test.commutator(other, False).normal_order())"
   ]
  },
  {
   "cell_type": "code",
   "execution_count": 19,
   "id": "9e572738",
   "metadata": {},
   "outputs": [
    {
     "name": "stdout",
     "output_type": "stream",
     "text": [
      "(1+0j)*a1a2\n"
     ]
    }
   ],
   "source": [
    "print(test.commutator(other))"
   ]
  },
  {
   "cell_type": "code",
   "execution_count": 20,
   "id": "8bff64e9",
   "metadata": {},
   "outputs": [
    {
     "name": "stdout",
     "output_type": "stream",
     "text": [
      "(-1+0j)*a1a2\n"
     ]
    }
   ],
   "source": [
    "print(other.commutator(test))"
   ]
  },
  {
   "cell_type": "code",
   "execution_count": 21,
   "id": "47724a45",
   "metadata": {},
   "outputs": [
    {
     "name": "stdout",
     "output_type": "stream",
     "text": [
      "(1+0j)*a2a1\n"
     ]
    }
   ],
   "source": [
    "print(other.commutator(test, False).normal_order())"
   ]
  },
  {
   "cell_type": "code",
   "execution_count": null,
   "id": "7ab9db38",
   "metadata": {},
   "outputs": [],
   "source": []
  },
  {
   "cell_type": "code",
   "execution_count": null,
   "id": "d7afffe8",
   "metadata": {},
   "outputs": [],
   "source": []
  }
 ],
 "metadata": {
  "kernelspec": {
   "display_name": "Python 3 (ipykernel)",
   "language": "python",
   "name": "python3"
  },
  "language_info": {
   "codemirror_mode": {
    "name": "ipython",
    "version": 3
   },
   "file_extension": ".py",
   "mimetype": "text/x-python",
   "name": "python",
   "nbconvert_exporter": "python",
   "pygments_lexer": "ipython3",
   "version": "3.9.7"
  }
 },
 "nbformat": 4,
 "nbformat_minor": 5
}
