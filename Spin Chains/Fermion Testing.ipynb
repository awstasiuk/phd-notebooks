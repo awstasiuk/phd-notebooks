{
 "cells": [
  {
   "cell_type": "code",
   "execution_count": 2,
   "id": "37ba05d3",
   "metadata": {},
   "outputs": [],
   "source": [
    "import numpy as np\n",
    "from math import pi,e\n",
    "from nmresearch import Math as fm"
   ]
  },
  {
   "cell_type": "code",
   "execution_count": 3,
   "id": "fa7f68f1",
   "metadata": {},
   "outputs": [],
   "source": [
    "import nmresearch as nmr"
   ]
  },
  {
   "cell_type": "code",
   "execution_count": 4,
   "id": "5741b206",
   "metadata": {
    "scrolled": true
   },
   "outputs": [],
   "source": [
    "dq = nmr.Operator.double_quantum(4,periodic=False)"
   ]
  },
  {
   "cell_type": "code",
   "execution_count": 5,
   "id": "1c402ab5",
   "metadata": {},
   "outputs": [],
   "source": [
    "op, mat = dq.jordan_wigner()"
   ]
  },
  {
   "cell_type": "code",
   "execution_count": 6,
   "id": "fe11be82",
   "metadata": {},
   "outputs": [],
   "source": [
    "G = mat[0:4,0:4]\n",
    "H = mat[0:4,4:8]"
   ]
  },
  {
   "cell_type": "code",
   "execution_count": 7,
   "id": "1e024b7c",
   "metadata": {},
   "outputs": [
    {
     "data": {
      "text/plain": [
       "True"
      ]
     },
     "execution_count": 7,
     "metadata": {},
     "output_type": "execute_result"
    }
   ],
   "source": [
    "np.allclose(G@G.T + H@H.T,np.identity(4))"
   ]
  },
  {
   "cell_type": "code",
   "execution_count": 8,
   "id": "a8697c85",
   "metadata": {},
   "outputs": [
    {
     "data": {
      "text/plain": [
       "True"
      ]
     },
     "execution_count": 8,
     "metadata": {},
     "output_type": "execute_result"
    }
   ],
   "source": [
    "np.allclose(G@H.T + H@G.T,np.zeros((4,4)))"
   ]
  },
  {
   "cell_type": "code",
   "execution_count": 9,
   "id": "10ff0ef3",
   "metadata": {},
   "outputs": [
    {
     "data": {
      "text/plain": [
       "True"
      ]
     },
     "execution_count": 9,
     "metadata": {},
     "output_type": "execute_result"
    }
   ],
   "source": [
    "np.allclose(np.conj(mat.T) @ mat, np.identity(8))"
   ]
  },
  {
   "cell_type": "code",
   "execution_count": null,
   "id": "950b6bdb",
   "metadata": {},
   "outputs": [],
   "source": [
    "a=[f.Operator.annihilation_op(i,n) for i in range(n)]\n",
    "adag=[f.Operator.creation_op(i,n) for i in range(n)]"
   ]
  }
 ],
 "metadata": {
  "kernelspec": {
   "display_name": "Python 3 (ipykernel)",
   "language": "python",
   "name": "python3"
  },
  "language_info": {
   "codemirror_mode": {
    "name": "ipython",
    "version": 3
   },
   "file_extension": ".py",
   "mimetype": "text/x-python",
   "name": "python",
   "nbconvert_exporter": "python",
   "pygments_lexer": "ipython3",
   "version": "3.9.7"
  }
 },
 "nbformat": 4,
 "nbformat_minor": 5
}
